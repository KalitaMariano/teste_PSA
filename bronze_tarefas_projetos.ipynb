{
 "cells": [
  {
   "cell_type": "code",
   "execution_count": 0,
   "metadata": {
    "application/vnd.databricks.v1+cell": {
     "cellMetadata": {
      "byteLimit": 2048000,
      "rowLimit": 10000
     },
     "inputWidgets": {},
     "nuid": "147c19d8-e0c7-4e0e-9805-63110c77a1aa",
     "showTitle": false,
     "tableResultSettingsMap": {},
     "title": ""
    }
   },
   "outputs": [],
   "source": [
    "%python\n",
    "#import o controle de de data\n",
    "from pyspark.sql.functions import current_date,current_timestamp, expr"
   ]
  },
  {
   "cell_type": "code",
   "execution_count": 0,
   "metadata": {
    "application/vnd.databricks.v1+cell": {
     "cellMetadata": {
      "byteLimit": 2048000,
      "rowLimit": 10000
     },
     "inputWidgets": {},
     "nuid": "d456fb41-4834-496a-b84b-79f6f9777c66",
     "showTitle": false,
     "tableResultSettingsMap": {},
     "title": ""
    }
   },
   "outputs": [],
   "source": [
    " #criação de variavel \n",
    " database =\"bronze\"\n",
    " tabela = \"tarefas_projetos\""
   ]
  },
  {
   "cell_type": "code",
   "execution_count": 0,
   "metadata": {
    "application/vnd.databricks.v1+cell": {
     "cellMetadata": {
      "byteLimit": 2048000,
      "rowLimit": 10000
     },
     "inputWidgets": {},
     "nuid": "ace18d0d-15be-409c-bc18-ca2db87e6685",
     "showTitle": false,
     "tableResultSettingsMap": {},
     "title": ""
    }
   },
   "outputs": [],
   "source": [
    "#ESTABELECENDO DATAFRAME \n",
    "df = spark.table('psa.bronze.tarefas_projetos')"
   ]
  },
  {
   "cell_type": "code",
   "execution_count": 0,
   "metadata": {
    "application/vnd.databricks.v1+cell": {
     "cellMetadata": {
      "byteLimit": 2048000,
      "rowLimit": 10000
     },
     "inputWidgets": {},
     "nuid": "286cb54a-3b16-4fc2-9b09-134471cb4e88",
     "showTitle": false,
     "tableResultSettingsMap": {
      "0": {
       "dataGridStateBlob": "{\"version\":1,\"tableState\":{\"columnPinning\":{\"left\":[\"#row_number#\"],\"right\":[]},\"columnSizing\":{},\"columnVisibility\":{}},\"settings\":{\"columns\":{}},\"syncTimestamp\":1761706749069}",
       "filterBlob": null,
       "queryPlanFiltersBlob": null,
       "tableResultIndex": 0
      }
     },
     "title": ""
    }
   },
   "outputs": [
    {
     "output_type": "display_data",
     "data": {
      "text/html": [
       "<style scoped>\n",
       "  .table-result-container {\n",
       "    max-height: 300px;\n",
       "    overflow: auto;\n",
       "  }\n",
       "  table, th, td {\n",
       "    border: 1px solid black;\n",
       "    border-collapse: collapse;\n",
       "  }\n",
       "  th, td {\n",
       "    padding: 5px;\n",
       "  }\n",
       "  th {\n",
       "    text-align: left;\n",
       "  }\n",
       "</style><div class='table-result-container'><table class='table-result'><thead style='background-color: white'><tr><th>projetos</th></tr></thead><tbody><tr><td>List(List(CLI0031, 2024-08-21T00:00:00.000Z, 2024-10-24T00:00:00.000Z, 125, 125, PROJ0001, Auditoria Fiscal Preventiva, Carlos Eduardo Santos, Pausado, List(List(2024-09-02T00:00:00.000Z, 2024-09-05T00:00:00.000Z, Análise preliminar dos dados, 25, 8, TSK00001, Ana Paula Silva, Concluída), List(2024-09-07T00:00:00.000Z, 2024-09-19T00:00:00.000Z, Cálculo de créditos tributários, 4, 44, TSK00002, Pedro Henrique, Em Andamento), List(2024-08-24T00:00:00.000Z, 2024-08-30T00:00:00.000Z, Finalização e entrega, 12, 34, TSK00003, Roberto Ferreira, Atrasada), List(2024-09-01T00:00:00.000Z, 2024-09-07T00:00:00.000Z, Análise preliminar dos dados, 11, 4, TSK00004, Carlos Eduardo Santos, Concluída), List(2024-08-28T00:00:00.000Z, 2024-09-07T00:00:00.000Z, Revisão de declarações, 35, 27, TSK00005, Roberto Ferreira, Concluída), List(2024-09-22T00:00:00.000Z, 2024-09-27T00:00:00.000Z, Preparação de defesa administrativa, 38, 8, TSK00006, Ana Paula Silva, Em Andamento)), 83231.45), List(CLI0018, 2024-07-29T00:00:00.000Z, 2024-10-25T00:00:00.000Z, 84, 133, PROJ0002, Análise ICMS Diferencial de Alíquota, Mariana Costa, Pausado, List(List(2024-08-30T00:00:00.000Z, 2024-09-02T00:00:00.000Z, Coleta de documentação fiscal, 33, 26, TSK00011, Carlos Eduardo Santos, Concluída), List(2024-08-07T00:00:00.000Z, 2024-08-10T00:00:00.000Z, Finalização e entrega, 8, 44, TSK00012, Carlos Eduardo Santos, Atrasada), List(2024-08-29T00:00:00.000Z, 2024-09-07T00:00:00.000Z, Revisão de declarações, 31, 33, TSK00013, Pedro Henrique, Pendente), List(2024-08-21T00:00:00.000Z, 2024-08-31T00:00:00.000Z, Elaboração de relatório técnico, 12, 30, TSK00014, Pedro Henrique, Concluída)), 77407.93), List(CLI0027, 2024-05-07T00:00:00.000Z, 2024-06-19T00:00:00.000Z, 116, 220, PROJ0003, Análise ICMS Diferencial de Alíquota, Roberto Ferreira, Em Planejamento, List(List(2024-05-13T00:00:00.000Z, 2024-05-25T00:00:00.000Z, Preparação de defesa administrativa, 39, 48, TSK00021, Mariana Costa, Atrasada), List(2024-05-23T00:00:00.000Z, 2024-06-03T00:00:00.000Z, Cálculo de créditos tributários, 18, 20, TSK00022, Ana Paula Silva, Em Andamento), List(2024-05-14T00:00:00.000Z, 2024-05-17T00:00:00.000Z, Coleta de documentação fiscal, 12, 50, TSK00023, Mariana Costa, Em Andamento), List(2024-05-23T00:00:00.000Z, 2024-05-26T00:00:00.000Z, Cálculo de créditos tributários, 12, 48, TSK00024, Mariana Costa, Em Andamento), List(2024-05-19T00:00:00.000Z, 2024-06-03T00:00:00.000Z, Finalização e entrega, 14, 45, TSK00025, Carlos Eduardo Santos, Atrasada), List(2024-05-15T00:00:00.000Z, 2024-05-28T00:00:00.000Z, Cálculo de créditos tributários, 21, 9, TSK00026, Roberto Ferreira, Em Andamento)), 79690.92), List(CLI0021, 2024-06-20T00:00:00.000Z, 2024-09-17T00:00:00.000Z, 170, 192, PROJ0004, Análise ICMS Diferencial de Alíquota, Carlos Eduardo Santos, Cancelado, List(List(2024-07-19T00:00:00.000Z, 2024-07-25T00:00:00.000Z, Análise preliminar dos dados, 35, 34, TSK00031, Pedro Henrique, Concluída), List(2024-07-21T00:00:00.000Z, 2024-08-01T00:00:00.000Z, Análise preliminar dos dados, 39, 31, TSK00032, Carlos Eduardo Santos, Concluída), List(2024-06-28T00:00:00.000Z, 2024-07-07T00:00:00.000Z, Coleta de documentação fiscal, 13, 19, TSK00033, Juliana Oliveira, Em Andamento), List(2024-07-03T00:00:00.000Z, 2024-07-17T00:00:00.000Z, Revisão de declarações, 39, 30, TSK00034, Juliana Oliveira, Em Andamento), List(2024-07-23T00:00:00.000Z, 2024-07-26T00:00:00.000Z, Finalização e entrega, 12, 13, TSK00035, Pedro Henrique, Pendente), List(2024-07-28T00:00:00.000Z, 2024-08-07T00:00:00.000Z, Elaboração de relatório técnico, 18, 23, TSK00036, Juliana Oliveira, Em Andamento), List(2024-07-25T00:00:00.000Z, 2024-08-01T00:00:00.000Z, Análise preliminar dos dados, 14, 42, TSK00037, Roberto Ferreira, Em Andamento)), 105524.16), List(CLI0009, 2024-01-22T00:00:00.000Z, 2024-04-03T00:00:00.000Z, 131, 125, PROJ0005, Revisão ISS Serviços, Mariana Costa, Em Andamento, List(List(2024-02-09T00:00:00.000Z, 2024-02-15T00:00:00.000Z, Análise preliminar dos dados, 11, 22, TSK00041, Mariana Costa, Concluída), List(2024-02-26T00:00:00.000Z, 2024-03-05T00:00:00.000Z, Validação com cliente, 28, 4, TSK00042, Mariana Costa, Concluída), List(2024-02-22T00:00:00.000Z, 2024-02-29T00:00:00.000Z, Elaboração de relatório técnico, 21, 30, TSK00043, Mariana Costa, Atrasada), List(2024-02-20T00:00:00.000Z, 2024-03-01T00:00:00.000Z, Validação com cliente, 5, 14, TSK00044, Carlos Eduardo Santos, Pendente), List(2024-02-19T00:00:00.000Z, 2024-02-24T00:00:00.000Z, Cálculo de créditos tributários, 7, 36, TSK00045, Roberto Ferreira, Atrasada), List(2024-02-25T00:00:00.000Z, 2024-03-05T00:00:00.000Z, Revisão de declarações, 25, 13, TSK00046, Ana Paula Silva, Concluída), List(2024-01-28T00:00:00.000Z, 2024-02-03T00:00:00.000Z, Análise preliminar dos dados, 34, 6, TSK00047, Juliana Oliveira, Pendente)), 64211.68), List(CLI0043, 2024-01-19T00:00:00.000Z, 2024-02-19T00:00:00.000Z, 141, 235, PROJ0006, Implementação de Compliance Fiscal, Carlos Eduardo Santos, Em Andamento, List(List(2024-01-21T00:00:00.000Z, 2024-02-02T00:00:00.000Z, Validação com cliente, 40, 41, TSK00051, Carlos Eduardo Santos, Concluída), List(2024-01-29T00:00:00.000Z, 2024-02-04T00:00:00.000Z, Coleta de documentação fiscal, 10, 50, TSK00052, Pedro Henrique, Pendente), List(2024-01-30T00:00:00.000Z, 2024-02-04T00:00:00.000Z, Validação com cliente, 36, 32, TSK00053, Carlos Eduardo Santos, Concluída), List(2024-02-02T00:00:00.000Z, 2024-02-07T00:00:00.000Z, Coleta de documentação fiscal, 10, 38, TSK00054, Roberto Ferreira, Concluída), List(2024-01-23T00:00:00.000Z, 2024-01-29T00:00:00.000Z, Análise preliminar dos dados, 17, 29, TSK00055, Juliana Oliveira, Concluída), List(2024-01-31T00:00:00.000Z, 2024-02-06T00:00:00.000Z, Validação com cliente, 13, 35, TSK00056, Juliana Oliveira, Em Andamento), List(2024-01-21T00:00:00.000Z, 2024-01-30T00:00:00.000Z, Análise preliminar dos dados, 15, 10, TSK00057, Roberto Ferreira, Concluída)), 40971.38), List(CLI0035, 2024-02-01T00:00:00.000Z, 2024-04-14T00:00:00.000Z, 110, 110, PROJ0007, Análise ICMS Diferencial de Alíquota, Mariana Costa, Em Planejamento, List(List(2024-02-18T00:00:00.000Z, 2024-03-04T00:00:00.000Z, Coleta de documentação fiscal, 28, 15, TSK00061, Pedro Henrique, Atrasada), List(2024-02-10T00:00:00.000Z, 2024-02-15T00:00:00.000Z, Cálculo de créditos tributários, 18, 48, TSK00062, Pedro Henrique, Atrasada), List(2024-02-27T00:00:00.000Z, 2024-03-03T00:00:00.000Z, Análise preliminar dos dados, 6, 13, TSK00063, Pedro Henrique, Atrasada), List(2024-02-17T00:00:00.000Z, 2024-02-23T00:00:00.000Z, Validação com cliente, 32, 18, TSK00064, Mariana Costa, Em Andamento), List(2024-02-23T00:00:00.000Z, 2024-03-04T00:00:00.000Z, Preparação de defesa administrativa, 22, 2, TSK00065, Mariana Costa, Pendente), List(2024-02-21T00:00:00.000Z, 2024-03-03T00:00:00.000Z, Coleta de documentação fiscal, 4, 14, TSK00066, Juliana Oliveira, Pendente)), 102470.9), List(CLI0013, 2024-06-02T00:00:00.000Z, 2024-06-18T00:00:00.000Z, 124, 90, PROJ0008, Recuperação de Crédito PIS/COFINS, Carlos Eduardo Santos, Pausado, List(List(2024-06-06T00:00:00.000Z, 2024-06-11T00:00:00.000Z, Análise preliminar dos dados, 28, 48, TSK00071, Roberto Ferreira, Concluída), List(2024-06-08T00:00:00.000Z, 2024-06-22T00:00:00.000Z, Cálculo de créditos tributários, 40, 27, TSK00072, Mariana Costa, Pendente), List(2024-06-03T00:00:00.000Z, 2024-06-14T00:00:00.000Z, Cálculo de créditos tributários, 29, 3, TSK00073, Roberto Ferreira, Atrasada), List(2024-06-09T00:00:00.000Z, 2024-06-18T00:00:00.000Z, Finalização e entrega, 27, 12, TSK00074, Ana Paula Silva, Pendente)), 54302.01), List(CLI0028, 2024-03-29T00:00:00.000Z, 2024-06-03T00:00:00.000Z, 141, 78, PROJ0009, Planejamento Tributário Anual, Juliana Oliveira, Concluído, List(List(2024-04-13T00:00:00.000Z, 2024-04-24T00:00:00.000Z, Finalização e entrega, 21, 11, TSK00081, Carlos Eduardo Santos, Atrasada), List(2024-04-19T00:00:00.000Z, 2024-04-29T00:00:00.000Z, Finalização e entrega, 34, 35, TSK00082, Pedro Henrique, Concluída), List(2024-04-04T00:00:00.000Z, 2024-04-11T00:00:00.000Z, Análise preliminar dos dados, 31, 12, TSK00083, Juliana Oliveira, Concluída), List(2024-04-29T00:00:00.000Z, 2024-05-04T00:00:00.000Z, Preparação de defesa administrativa, 23, 19, TSK00084, Carlos Eduardo Santos, Em Andamento), List(2024-03-29T00:00:00.000Z, 2024-04-05T00:00:00.000Z, Análise preliminar dos dados, 32, 1, TSK00085, Juliana Oliveira, Pendente)), 68981.15), List(CLI0027, 2024-05-31T00:00:00.000Z, 2024-08-09T00:00:00.000Z, 149, 214, PROJ0010, Auditoria Fiscal Preventiva, Ana Paula Silva, Em Planejamento, List(List(2024-06-25T00:00:00.000Z, 2024-07-05T00:00:00.000Z, Elaboração de relatório técnico, 17, 40, TSK00091, Carlos Eduardo Santos, Atrasada), List(2024-06-16T00:00:00.000Z, 2024-06-20T00:00:00.000Z, Elaboração de relatório técnico, 16, 10, TSK00092, Mariana Costa, Em Andamento), List(2024-06-11T00:00:00.000Z, 2024-06-20T00:00:00.000Z, Análise preliminar dos dados, 16, 11, TSK00093, Carlos Eduardo Santos, Pendente), List(2024-06-30T00:00:00.000Z, 2024-07-06T00:00:00.000Z, Cálculo de créditos tributários, 30, 50, TSK00094, Pedro Henrique, Atrasada), List(2024-06-16T00:00:00.000Z, 2024-06-29T00:00:00.000Z, Cálculo de créditos tributários, 18, 49, TSK00095, Pedro Henrique, Em Andamento), List(2024-06-21T00:00:00.000Z, 2024-06-27T00:00:00.000Z, Revisão de declarações, 33, 4, TSK00096, Mariana Costa, Atrasada), List(2024-06-16T00:00:00.000Z, 2024-06-29T00:00:00.000Z, Análise preliminar dos dados, 19, 50, TSK00097, Ana Paula Silva, Concluída)), 16738.77), List(CLI0033, 2024-03-11T00:00:00.000Z, 2024-05-30T00:00:00.000Z, 151, 194, PROJ0011, Análise ICMS Diferencial de Alíquota, Carlos Eduardo Santos, Cancelado, List(List(2024-03-27T00:00:00.000Z, 2024-04-04T00:00:00.000Z, Análise preliminar dos dados, 4, 31, TSK00101, Ana Paula Silva, Pendente), List(2024-04-02T00:00:00.000Z, 2024-04-10T00:00:00.000Z, Validação com cliente, 39, 35, TSK00102, Roberto Ferreira, Pendente), List(2024-03-24T00:00:00.000Z, 2024-03-31T00:00:00.000Z, Elaboração de relatório técnico, 32, 43, TSK00103, Juliana Oliveira, Pendente), List(2024-04-06T00:00:00.000Z, 2024-04-21T00:00:00.000Z, Validação com cliente, 7, 6, TSK00104, Juliana Oliveira, Em Andamento), List(2024-03-13T00:00:00.000Z, 2024-03-21T00:00:00.000Z, Elaboração de relatório técnico, 11, 44, TSK00105, Juliana Oliveira, Atrasada), List(2024-03-26T00:00:00.000Z, 2024-04-01T00:00:00.000Z, Cálculo de créditos tributários, 21, 17, TSK00106, Carlos Eduardo Santos, Em Andamento), List(2024-03-14T00:00:00.000Z, 2024-03-24T00:00:00.000Z, Validação com cliente, 37, 18, TSK00107, Mariana Costa, Pendente)), 46239.63), List(CLI0038, 2024-09-24T00:00:00.000Z, 2024-12-23T00:00:00.000Z, 162, 103, PROJ0012, Análise ICMS Diferencial de Alíquota, Pedro Henrique, Concluído, List(List(2024-11-08T00:00:00.000Z, 2024-11-16T00:00:00.000Z, Elaboração de relatório técnico, 20, 26, TSK00111, Pedro Henrique, Pendente), List(2024-10-08T00:00:00.000Z, 2024-10-17T00:00:00.000Z, Preparação de defesa administrativa, 28, 0, TSK00112, Pedro Henrique, Pendente), List(2024-10-12T00:00:00.000Z, 2024-10-18T00:00:00.000Z, Cálculo de créditos tributários, 35, 23, TSK00113, Mariana Costa, Pendente), List(2024-11-02T00:00:00.000Z, 2024-11-11T00:00:00.000Z, Validação com cliente, 33, 23, TSK00114, Juliana Oliveira, Atrasada), List(2024-11-05T00:00:00.000Z, 2024-11-14T00:00:00.000Z, Elaboração de relatório técnico, 26, 29, TSK00115, Ana Paula Silva, Atrasada), List(2024-10-23T00:00:00.000Z, 2024-10-29T00:00:00.000Z, Preparação de defesa administrativa, 20, 2, TSK00116, Ana Paula Silva, Atrasada)), 68467.27), List(CLI0048, 2024-08-01T00:00:00.000Z, 2024-09-08T00:00:00.000Z, 73, 145, PROJ0013, Planejamento Tributário Anual, Juliana Oliveira, Cancelado, List(List(2024-08-12T00:00:00.000Z, 2024-08-23T00:00:00.000Z, Coleta de documentação fiscal, 15, 12, TSK00121, Pedro Henrique, Concluída), List(2024-08-18T00:00:00.000Z, 2024-08-30T00:00:00.000Z, Coleta de documentação fiscal, 20, 50, TSK00122, Roberto Ferreira, Em Andamento), List(2024-08-11T00:00:00.000Z, 2024-08-19T00:00:00.000Z, Coleta de documentação fiscal, 17, 13, TSK00123, Roberto Ferreira, Em Andamento), List(2024-08-01T00:00:00.000Z, 2024-08-12T00:00:00.000Z, Validação com cliente, 8, 22, TSK00124, Pedro Henrique, Em Andamento), List(2024-08-16T00:00:00.000Z, 2024-08-19T00:00:00.000Z, Preparação de defesa administrativa, 13, 48, TSK00125, Mariana Costa, Atrasada)), 91074.86), List(CLI0008, 2024-10-04T00:00:00.000Z, 2024-11-27T00:00:00.000Z, 158, 147, PROJ0014, Revisão ISS Serviços, Mariana Costa, Em Planejamento, List(List(2024-10-07T00:00:00.000Z, 2024-10-21T00:00:00.000Z, Revisão de declarações, 29, 39, TSK00131, Juliana Oliveira, Em Andamento), List(2024-10-29T00:00:00.000Z, 2024-11-01T00:00:00.000Z, Finalização e entrega, 16, 3, TSK00132, Carlos Eduardo Santos, Pendente), List(2024-10-10T00:00:00.000Z, 2024-10-22T00:00:00.000Z, Coleta de documentação fiscal, 36, 0, TSK00133, Ana Paula Silva, Pendente), List(2024-10-23T00:00:00.000Z, 2024-10-30T00:00:00.000Z, Análise preliminar dos dados, 16, 37, TSK00134, Pedro Henrique, Concluída), List(2024-10-29T00:00:00.000Z, 2024-11-10T00:00:00.000Z, Análise preliminar dos dados, 24, 17, TSK00135, Mariana Costa, Pendente), List(2024-10-05T00:00:00.000Z, 2024-10-19T00:00:00.000Z, Cálculo de créditos tributários, 32, 18, TSK00136, Ana Paula Silva, Concluída), List(2024-10-25T00:00:00.000Z, 2024-11-03T00:00:00.000Z, Preparação de defesa administrativa, 5, 33, TSK00137, Ana Paula Silva, Em Andamento)), 143387.16), List(CLI0040, 2024-01-08T00:00:00.000Z, 2024-03-01T00:00:00.000Z, 106, 96, PROJ0015, Revisão ISS Serviços, Mariana Costa, Cancelado, List(List(2024-01-20T00:00:00.000Z, 2024-02-03T00:00:00.000Z, Análise preliminar dos dados, 32, 50, TSK00141, Juliana Oliveira, Concluída), List(2024-01-14T00:00:00.000Z, 2024-01-18T00:00:00.000Z, Revisão de declarações, 35, 10, TSK00142, Roberto Ferreira, Em Andamento), List(2024-01-09T00:00:00.000Z, 2024-01-22T00:00:00.000Z, Análise preliminar dos dados, 39, 36, TSK00143, Ana Paula Silva, Em Andamento)), 97129.3), List(CLI0048, 2024-06-30T00:00:00.000Z, 2024-08-18T00:00:00.000Z, 202, 223, PROJ0016, Revisão ISS Serviços, Ana Paula Silva, Em Planejamento, List(List(2024-07-06T00:00:00.000Z, 2024-07-09T00:00:00.000Z, Cálculo de créditos tributários, 16, 21, TSK00151, Roberto Ferreira, Pendente), List(2024-07-02T00:00:00.000Z, 2024-07-10T00:00:00.000Z, Finalização e entrega, 36, 27, TSK00152, Roberto Ferreira, Pendente), List(2024-07-13T00:00:00.000Z, 2024-07-17T00:00:00.000Z, Coleta de documentação fiscal, 6, 30, TSK00153, Mariana Costa, Pendente), List(2024-07-20T00:00:00.000Z, 2024-07-29T00:00:00.000Z, Validação com cliente, 20, 13, TSK00154, Pedro Henrique, Concluída), List(2024-07-18T00:00:00.000Z, 2024-07-24T00:00:00.000Z, Preparação de defesa administrativa, 35, 41, TSK00155, Pedro Henrique, Em Andamento), List(2024-07-21T00:00:00.000Z, 2024-08-05T00:00:00.000Z, Finalização e entrega, 26, 28, TSK00156, Roberto Ferreira, Atrasada), List(2024-07-08T00:00:00.000Z, 2024-07-12T00:00:00.000Z, Validação com cliente, 30, 27, TSK00157, Pedro Henrique, Atrasada), List(2024-07-07T00:00:00.000Z, 2024-07-12T00:00:00.000Z, Cálculo de créditos tributários, 33, 36, TSK00158, Pedro Henrique, Atrasada)), 65049.14), List(CLI0038, 2024-07-16T00:00:00.000Z, 2024-08-14T00:00:00.000Z, 195, 170, PROJ0017, Auditoria Fiscal Preventiva, Carlos Eduardo Santos, Pausado, List(List(2024-07-26T00:00:00.000Z, 2024-08-02T00:00:00.000Z, Validação com cliente, 18, 7, TSK00161, Mariana Costa, Atrasada), List(2024-07-19T00:00:00.000Z, 2024-07-26T00:00:00.000Z, Cálculo de créditos tributários, 27, 26, TSK00162, Pedro Henrique, Concluída), List(2024-07-29T00:00:00.000Z, 2024-08-10T00:00:00.000Z, Cálculo de créditos tributários, 28, 32, TSK00163, Carlos Eduardo Santos, Pendente), List(2024-07-28T00:00:00.000Z, 2024-08-11T00:00:00.000Z, Coleta de documentação fiscal, 34, 10, TSK00164, Juliana Oliveira, Pendente), List(2024-07-29T00:00:00.000Z, 2024-08-11T00:00:00.000Z, Preparação de defesa administrativa, 23, 50, TSK00165, Mariana Costa, Pendente), List(2024-07-26T00:00:00.000Z, 2024-07-30T00:00:00.000Z, Preparação de defesa administrativa, 25, 0, TSK00166, Juliana Oliveira, Em Andamento), List(2024-07-23T00:00:00.000Z, 2024-08-07T00:00:00.000Z, Validação com cliente, 40, 45, TSK00167, Mariana Costa, Atrasada)), 37858.2), List(CLI0021, 2024-06-10T00:00:00.000Z, 2024-08-05T00:00:00.000Z, 108, 166, PROJ0018, Implementação de Compliance Fiscal, Ana Paula Silva, Pausado, List(List(2024-06-25T00:00:00.000Z, 2024-07-10T00:00:00.000Z, Coleta de documentação fiscal, 19, 29, TSK00171, Carlos Eduardo Santos, Em Andamento), List(2024-06-14T00:00:00.000Z, 2024-06-25T00:00:00.000Z, Revisão de declarações, 9, 30, TSK00172, Carlos Eduardo Santos, Em Andamento), List(2024-06-21T00:00:00.000Z, 2024-07-06T00:00:00.000Z, Elaboração de relatório técnico, 28, 48, TSK00173, Roberto Ferreira, Atrasada), List(2024-06-22T00:00:00.000Z, 2024-06-26T00:00:00.000Z, Coleta de documentação fiscal, 12, 34, TSK00174, Pedro Henrique, Em Andamento), List(2024-06-27T00:00:00.000Z, 2024-07-12T00:00:00.000Z, Elaboração de relatório técnico, 40, 25, TSK00175, Juliana Oliveira, Atrasada)), 19384.21), List(CLI0028, 2024-05-30T00:00:00.000Z, 2024-06-24T00:00:00.000Z, 171, 244, PROJ0019, Implementação de Compliance Fiscal, Pedro Henrique, Cancelado, List(List(2024-06-02T00:00:00.000Z, 2024-06-12T00:00:00.000Z, Elaboração de relatório técnico, 20, 21, TSK00181, Carlos Eduardo Santos, Concluída), List(2024-06-07T00:00:00.000Z, 2024-06-20T00:00:00.000Z, Coleta de documentação fiscal, 12, 18, TSK00182, Ana Paula Silva, Em Andamento), List(2024-06-01T00:00:00.000Z, 2024-06-05T00:00:00.000Z, Preparação de defesa administrativa, 18, 33, TSK00183, Roberto Ferreira, Em Andamento), List(2024-06-02T00:00:00.000Z, 2024-06-07T00:00:00.000Z, Preparação de defesa administrativa, 29, 43, TSK00184, Ana Paula Silva, Concluída), List(2024-06-04T00:00:00.000Z, 2024-06-16T00:00:00.000Z, Elaboração de relatório técnico, 32, 23, TSK00185, Mariana Costa, Pendente), List(2024-06-06T00:00:00.000Z, 2024-06-17T00:00:00.000Z, Análise preliminar dos dados, 16, 44, TSK00186, Pedro Henrique, Atrasada), List(2024-06-04T00:00:00.000Z, 2024-06-13T00:00:00.000Z, Finalização e entrega, 5, 43, TSK00187, Juliana Oliveira, Em Andamento), List(2024-06-10T00:00:00.000Z, 2024-06-13T00:00:00.000Z, Análise preliminar dos dados, 39, 19, TSK00188, Roberto Ferreira, Em Andamento)), 72255.55), List(CLI0001, 2024-07-28T00:00:00.000Z, 2024-10-17T00:00:00.000Z, 146, 174, PROJ0020, Revisão ISS Serviços, Carlos Eduardo Santos, Em Planejamento, List(List(2024-08-13T00:00:00.000Z, 2024-08-17T00:00:00.000Z, Preparação de defesa administrativa, 32, 16, TSK00191, Juliana Oliveira, Em Andamento), List(2024-09-03T00:00:00.000Z, 2024-09-13T00:00:00.000Z, Elaboração de relatório técnico, 4, 10, TSK00192, Carlos Eduardo Santos, Atrasada), List(2024-08-30T00:00:00.000Z, 2024-09-02T00:00:00.000Z, Coleta de documentação fiscal, 21, 17, TSK00193, Roberto Ferreira, Pendente), List(2024-09-03T00:00:00.000Z, 2024-09-10T00:00:00.000Z, Elaboração de relatório técnico, 21, 37, TSK00194, Pedro Henrique, Concluída), List(2024-08-09T00:00:00.000Z, 2024-08-23T00:00:00.000Z, Cálculo de créditos tributários, 37, 26, TSK00195, Pedro Henrique, Concluída), List(2024-08-24T00:00:00.000Z, 2024-09-02T00:00:00.000Z, Coleta de documentação fiscal, 14, 42, TSK00196, Juliana Oliveira, Concluída), List(2024-08-24T00:00:00.000Z, 2024-09-05T00:00:00.000Z, Análise preliminar dos dados, 17, 26, TSK00197, Mariana Costa, Em Andamento)), 143641.55), List(CLI0018, 2024-03-31T00:00:00.000Z, 2024-05-31T00:00:00.000Z, 148, 136, PROJ0021, Revisão ISS Serviços, Mariana Costa, Em Andamento, List(List(2024-04-22T00:00:00.000Z, 2024-05-03T00:00:00.000Z, Elaboração de relatório técnico, 21, 34, TSK00201, Pedro Henrique, Pendente), List(2024-04-20T00:00:00.000Z, 2024-04-27T00:00:00.000Z, Revisão de declarações, 23, 0, TSK00202, Ana Paula Silva, Concluída), List(2024-04-26T00:00:00.000Z, 2024-05-10T00:00:00.000Z, Cálculo de créditos tributários, 4, 19, TSK00203, Juliana Oliveira, Pendente), List(2024-04-04T00:00:00.000Z, 2024-04-17T00:00:00.000Z, Cálculo de créditos tributários, 7, 19, TSK00204, Juliana Oliveira, Em Andamento), List(2024-04-21T00:00:00.000Z, 2024-04-25T00:00:00.000Z, Preparação de defesa administrativa, 30, 29, TSK00205, Roberto Ferreira, Concluída), List(2024-04-22T00:00:00.000Z, 2024-04-30T00:00:00.000Z, Revisão de declarações, 36, 6, TSK00206, Mariana Costa, Em Andamento), List(2024-04-16T00:00:00.000Z, 2024-04-22T00:00:00.000Z, Análise preliminar dos dados, 14, 26, TSK00207, Roberto Ferreira, Concluída), List(2024-04-21T00:00:00.000Z, 2024-05-06T00:00:00.000Z, Revisão de declarações, 13, 3, TSK00208, Ana Paula Silva, Concluída)), 71557.44), List(CLI0038, 2024-04-18T00:00:00.000Z, 2024-07-06T00:00:00.000Z, 88, 46, PROJ0022, Implementação de Compliance Fiscal, Mariana Costa, Pausado, List(List(2024-04-29T00:00:00.000Z, 2024-05-11T00:00:00.000Z, Preparação de defesa administrativa, 39, 10, TSK00211, Carlos Eduardo Santos, Atrasada), List(2024-04-20T00:00:00.000Z, 2024-04-28T00:00:00.000Z, Revisão de declarações, 23, 0, TSK00212, Roberto Ferreira, Pendente), List(2024-05-12T00:00:00.000Z, 2024-05-15T00:00:00.000Z, Cálculo de créditos tributários, 26, 36, TSK00213, Juliana Oliveira, Concluída)), 91528.04), List(CLI0006, 2024-08-06T00:00:00.000Z, 2024-08-29T00:00:00.000Z, 52, 66, PROJ0023, Análise ICMS Diferencial de Alíquota, Pedro Henrique, Concluído, List(List(2024-08-07T00:00:00.000Z, 2024-08-10T00:00:00.000Z, Revisão de declarações, 13, 7, TSK00221, Carlos Eduardo Santos, Em Andamento), List(2024-08-06T00:00:00.000Z, 2024-08-20T00:00:00.000Z, Elaboração de relatório técnico, 27, 44, TSK00222, Carlos Eduardo Santos, Pendente), List(2024-08-11T00:00:00.000Z, 2024-08-24T00:00:00.000Z, Cálculo de créditos tributários, 12, 15, TSK00223, Mariana Costa, Pendente)), 103570.72), List(CLI0031, 2024-08-03T00:00:00.000Z, 2024-09-09T00:00:00.000Z, 46, 74, PROJ0024, Implementação de Compliance Fiscal, Juliana Oliveira, Cancelado, List(List(2024-08-18T00:00:00.000Z, 2024-08-22T00:00:00.000Z, Preparação de defesa administrativa, 9, 0, TSK00231, Roberto Ferreira, Concluída), List(2024-08-05T00:00:00.000Z, 2024-08-11T00:00:00.000Z, Cálculo de créditos tributários, 20, 42, TSK00232, Roberto Ferreira, Em Andamento), List(2024-08-20T00:00:00.000Z, 2024-08-25T00:00:00.000Z, Análise preliminar dos dados, 17, 32, TSK00233, Juliana Oliveira, Concluída)), 118124.47), List(CLI0006, 2024-05-18T00:00:00.000Z, 2024-06-20T00:00:00.000Z, 87, 182, PROJ0025, Auditoria Fiscal Preventiva, Juliana Oliveira, Pausado, List(List(2024-05-20T00:00:00.000Z, 2024-05-29T00:00:00.000Z, Coleta de documentação fiscal, 16, 42, TSK00241, Ana Paula Silva, Atrasada), List(2024-05-24T00:00:00.000Z, 2024-05-29T00:00:00.000Z, Revisão de declarações, 33, 40, TSK00242, Mariana Costa, Atrasada), List(2024-05-24T00:00:00.000Z, 2024-06-03T00:00:00.000Z, Coleta de documentação fiscal, 5, 44, TSK00243, Ana Paula Silva, Pendente), List(2024-05-24T00:00:00.000Z, 2024-06-01T00:00:00.000Z, Validação com cliente, 16, 25, TSK00244, Carlos Eduardo Santos, Atrasada), List(2024-06-02T00:00:00.000Z, 2024-06-07T00:00:00.000Z, Finalização e entrega, 17, 31, TSK00245, Roberto Ferreira, Concluída)), 37102.83), List(CLI0044, 2024-06-09T00:00:00.000Z, 2024-08-26T00:00:00.000Z, 131, 137, PROJ0026, Análise ICMS Diferencial de Alíquota, Pedro Henrique, Em Andamento, List(List(2024-07-18T00:00:00.000Z, 2024-07-30T00:00:00.000Z, Coleta de documentação fiscal, 33, 18, TSK00251, Carlos Eduardo Santos, Concluída), List(2024-06-17T00:00:00.000Z, 2024-06-25T00:00:00.000Z, Coleta de documentação fiscal, 16, 5, TSK00252, Mariana Costa, Pendente), List(2024-06-12T00:00:00.000Z, 2024-06-26T00:00:00.000Z, Revisão de declarações, 21, 29, TSK00253, Pedro Henrique, Concluída), List(2024-06-23T00:00:00.000Z, 2024-07-04T00:00:00.000Z, Revisão de declarações, 28, 44, TSK00254, Carlos Eduardo Santos, Em Andamento), List(2024-07-14T00:00:00.000Z, 2024-07-25T00:00:00.000Z, Coleta de documentação fiscal, 33, 41, TSK00255, Roberto Ferreira, Pendente)), 95910.64), List(CLI0040, 2024-08-17T00:00:00.000Z, 2024-10-04T00:00:00.000Z, 141, 151, PROJ0027, Recuperação de Crédito PIS/COFINS, Ana Paula Silva, Concluído, List(List(2024-08-18T00:00:00.000Z, 2024-08-30T00:00:00.000Z, Cálculo de créditos tributários, 21, 13, TSK00261, Ana Paula Silva, Atrasada), List(2024-08-19T00:00:00.000Z, 2024-08-25T00:00:00.000Z, Elaboração de relatório técnico, 37, 8, TSK00262, Roberto Ferreira, Atrasada), List(2024-09-04T00:00:00.000Z, 2024-09-12T00:00:00.000Z, Cálculo de créditos tributários, 26, 7, TSK00263, Carlos Eduardo Santos, Em Andamento), List(2024-08-28T00:00:00.000Z, 2024-09-04T00:00:00.000Z, Preparação de defesa administrativa, 37, 39, TSK00264, Mariana Costa, Pendente), List(2024-08-28T00:00:00.000Z, 2024-09-04T00:00:00.000Z, Preparação de defesa administrativa, 5, 18, TSK00265, Roberto Ferreira, Atrasada), List(2024-08-29T00:00:00.000Z, 2024-09-06T00:00:00.000Z, Elaboração de relatório técnico, 9, 38, TSK00266, Mariana Costa, Concluída), List(2024-09-06T00:00:00.000Z, 2024-09-21T00:00:00.000Z, Validação com cliente, 6, 28, TSK00267, Mariana Costa, Pendente)), 115232.06), List(CLI0048, 2024-06-07T00:00:00.000Z, 2024-08-29T00:00:00.000Z, 162, 100, PROJ0028, Revisão ISS Serviços, Mariana Costa, Cancelado, List(List(2024-06-29T00:00:00.000Z, 2024-07-02T00:00:00.000Z, Validação com cliente, 35, 32, TSK00271, Mariana Costa, Em Andamento), List(2024-07-14T00:00:00.000Z, 2024-07-19T00:00:00.000Z, Análise preliminar dos dados, 34, 19, TSK00272, Mariana Costa, Atrasada), List(2024-06-14T00:00:00.000Z, 2024-06-18T00:00:00.000Z, Elaboração de relatório técnico, 28, 21, TSK00273, Juliana Oliveira, Em Andamento), List(2024-07-13T00:00:00.000Z, 2024-07-20T00:00:00.000Z, Análise preliminar dos dados, 14, 20, TSK00274, Mariana Costa, Em Andamento), List(2024-06-16T00:00:00.000Z, 2024-06-24T00:00:00.000Z, Validação com cliente, 12, 6, TSK00275, Mariana Costa, Pendente), List(2024-06-20T00:00:00.000Z, 2024-06-28T00:00:00.000Z, Elaboração de relatório técnico, 39, 2, TSK00276, Pedro Henrique, Em Andamento)), 101531.6), List(CLI0027, 2024-05-24T00:00:00.000Z, 2024-06-10T00:00:00.000Z, 55, 77, PROJ0029, Recuperação de Crédito PIS/COFINS, Carlos Eduardo Santos, Cancelado, List(List(2024-05-25T00:00:00.000Z, 2024-06-07T00:00:00.000Z, Validação com cliente, 9, 24, TSK00281, Roberto Ferreira, Em Andamento), List(2024-06-01T00:00:00.000Z, 2024-06-11T00:00:00.000Z, Validação com cliente, 24, 27, TSK00282, Ana Paula Silva, Em Andamento), List(2024-05-30T00:00:00.000Z, 2024-06-10T00:00:00.000Z, Elaboração de relatório técnico, 18, 1, TSK00283, Pedro Henrique, Concluída), List(2024-05-30T00:00:00.000Z, 2024-06-05T00:00:00.000Z, Finalização e entrega, 4, 25, TSK00284, Roberto Ferreira, Atrasada)), 116127.29), List(CLI0037, 2024-08-06T00:00:00.000Z, 2024-09-10T00:00:00.000Z, 107, 174, PROJ0030, Análise ICMS Diferencial de Alíquota, Mariana Costa, Em Planejamento, List(List(2024-08-17T00:00:00.000Z, 2024-08-25T00:00:00.000Z, Finalização e entrega, 17, 45, TSK00291, Juliana Oliveira, Em Andamento), List(2024-08-15T00:00:00.000Z, 2024-08-18T00:00:00.000Z, Análise preliminar dos dados, 37, 26, TSK00292, Roberto Ferreira, Atrasada), List(2024-08-21T00:00:00.000Z, 2024-09-02T00:00:00.000Z, Elaboração de relatório técnico, 28, 43, TSK00293, Juliana Oliveira, Atrasada), List(2024-08-07T00:00:00.000Z, 2024-08-11T00:00:00.000Z, Revisão de declarações, 5, 35, TSK00294, Roberto Ferreira, Pendente), List(2024-08-16T00:00:00.000Z, 2024-08-19T00:00:00.000Z, Análise preliminar dos dados, 20, 25, TSK00295, Juliana Oliveira, Atrasada)), 52413.29), List(CLI0002, 2024-03-30T00:00:00.000Z, 2024-04-20T00:00:00.000Z, 142, 166, PROJ0031, Revisão ISS Serviços, Juliana Oliveira, Em Andamento, List(List(2024-03-31T00:00:00.000Z, 2024-04-10T00:00:00.000Z, Análise preliminar dos dados, 17, 45, TSK00301, Juliana Oliveira, Atrasada), List(2024-04-07T00:00:00.000Z, 2024-04-15T00:00:00.000Z, Preparação de defesa administrativa, 9, 21, TSK00302, Roberto Ferreira, Atrasada), List(2024-04-09T00:00:00.000Z, 2024-04-20T00:00:00.000Z, Revisão de declarações, 22, 26, TSK00303, Ana Paula Silva, Pendente), List(2024-04-04T00:00:00.000Z, 2024-04-13T00:00:00.000Z, Análise preliminar dos dados, 25, 22, TSK00304, Mariana Costa, Concluída), List(2024-04-04T00:00:00.000Z, 2024-04-09T00:00:00.000Z, Revisão de declarações, 35, 50, TSK00305, Ana Paula Silva, Pendente), List(2024-04-01T00:00:00.000Z, 2024-04-11T00:00:00.000Z, Análise preliminar dos dados, 7, 2, TSK00306, Pedro Henrique, Pendente), List(2024-03-30T00:00:00.000Z, 2024-04-13T00:00:00.000Z, Elaboração de relatório técnico, 27, 0, TSK00307, Carlos Eduardo Santos, Em Andamento)), 134306.28), List(CLI0050, 2024-10-05T00:00:00.000Z, 2025-01-01T00:00:00.000Z, 157, 160, PROJ0032, Recuperação de Crédito PIS/COFINS, Juliana Oliveira, Cancelado, List(List(2024-10-22T00:00:00.000Z, 2024-10-25T00:00:00.000Z, Preparação de defesa administrativa, 30, 36, TSK00311, Mariana Costa, Concluída), List(2024-11-07T00:00:00.000Z, 2024-11-16T00:00:00.000Z, Preparação de defesa administrativa, 40, 5, TSK00312, Juliana Oliveira, Pendente), List(2024-10-13T00:00:00.000Z, 2024-10-20T00:00:00.000Z, Cálculo de créditos tributários, 29, 43, TSK00313, Ana Paula Silva, Atrasada), List(2024-11-02T00:00:00.000Z, 2024-11-13T00:00:00.000Z, Coleta de documentação fiscal, 31, 25, TSK00314, Carlos Eduardo Santos, Pendente), List(2024-10-15T00:00:00.000Z, 2024-10-28T00:00:00.000Z, Elaboração de relatório técnico, 12, 38, TSK00315, Mariana Costa, Concluída), List(2024-10-25T00:00:00.000Z, 2024-11-09T00:00:00.000Z, Revisão de declarações, 15, 13, TSK00316, Pedro Henrique, Concluída)), 91839.06), List(CLI0029, 2024-04-15T00:00:00.000Z, 2024-06-13T00:00:00.000Z, 58, 97, PROJ0033, Análise ICMS Diferencial de Alíquota, Roberto Ferreira, Em Andamento, List(List(2024-05-10T00:00:00.000Z, 2024-05-14T00:00:00.000Z, Análise preliminar dos dados, 26, 47, TSK00321, Mariana Costa, Pendente), List(2024-04-15T00:00:00.000Z, 2024-04-23T00:00:00.000Z, Finalização e entrega, 20, 37, TSK00322, Carlos Eduardo Santos, Pendente), List(2024-05-10T00:00:00.000Z, 2024-05-17T00:00:00.000Z, Análise preliminar dos dados, 12, 13, TSK00323, Roberto Ferreira, Pendente)), 18425.6), List(CLI0022, 2024-02-07T00:00:00.000Z, 2024-04-13T00:00:00.000Z, 99, 72, PROJ0034, Implementação de Compliance Fiscal, Juliana Oliveira, Cancelado, List(List(2024-03-09T00:00:00.000Z, 2024-03-19T00:00:00.000Z, Elaboração de relatório técnico, 36, 21, TSK00331, Pedro Henrique, Pendente), List(2024-02-15T00:00:00.000Z, 2024-02-25T00:00:00.000Z, Revisão de declarações, 12, 41, TSK00332, Carlos Eduardo Santos, Em Andamento), List(2024-03-01T00:00:00.000Z, 2024-03-13T00:00:00.000Z, Cálculo de créditos tributários, 36, 2, TSK00333, Ana Paula Silva, Em Andamento), List(2024-02-23T00:00:00.000Z, 2024-03-03T00:00:00.000Z, Coleta de documentação fiscal, 15, 8, TSK00334, Mariana Costa, Em Andamento)), 46241.36), List(CLI0032, 2024-02-03T00:00:00.000Z, 2024-04-16T00:00:00.000Z, 140, 134, PROJ0035, Implementação de Compliance Fiscal, Carlos Eduardo Santos, Em Planejamento, List(List(2024-02-04T00:00:00.000Z, 2024-02-16T00:00:00.000Z, Validação com cliente, 11, 32, TSK00341, Mariana Costa, Concluída), List(2024-03-06T00:00:00.000Z, 2024-03-13T00:00:00.000Z, Cálculo de créditos tributários, 16, 11, TSK00342, Roberto Ferreira, Atrasada), List(2024-02-16T00:00:00.000Z, 2024-02-29T00:00:00.000Z, Análise preliminar dos dados, 9, 21, TSK00343, Ana Paula Silva, Em Andamento), List(2024-02-08T00:00:00.000Z, 2024-02-12T00:00:00.000Z, Análise preliminar dos dados, 38, 5, TSK00344, Roberto Ferreira, Pendente), List(2024-03-01T00:00:00.000Z, 2024-03-06T00:00:00.000Z, Finalização e entrega, 14, 30, TSK00345, Carlos Eduardo Santos, Pendente), List(2024-03-02T00:00:00.000Z, 2024-03-14T00:00:00.000Z, Cálculo de créditos tributários, 6, 0, TSK00346, Ana Paula Silva, Em Andamento), List(2024-02-04T00:00:00.000Z, 2024-02-18T00:00:00.000Z, Elaboração de relatório técnico, 25, 16, TSK00347, Ana Paula Silva, Pendente), List(2024-02-24T00:00:00.000Z, 2024-03-10T00:00:00.000Z, Coleta de documentação fiscal, 21, 19, TSK00348, Carlos Eduardo Santos, Pendente)), 123861.3), List(CLI0046, 2024-08-26T00:00:00.000Z, 2024-10-08T00:00:00.000Z, 126, 131, PROJ0036, Recuperação de Crédito PIS/COFINS, Roberto Ferreira, Concluído, List(List(2024-09-10T00:00:00.000Z, 2024-09-21T00:00:00.000Z, Preparação de defesa administrativa, 23, 36, TSK00351, Roberto Ferreira, Concluída), List(2024-08-31T00:00:00.000Z, 2024-09-08T00:00:00.000Z, Preparação de defesa administrativa, 7, 21, TSK00352, Carlos Eduardo Santos, Concluída), List(2024-09-09T00:00:00.000Z, 2024-09-16T00:00:00.000Z, Cálculo de créditos tributários, 13, 24, TSK00353, Carlos Eduardo Santos, Pendente), List(2024-08-28T00:00:00.000Z, 2024-09-10T00:00:00.000Z, Preparação de defesa administrativa, 25, 4, TSK00354, Ana Paula Silva, Pendente), List(2024-09-11T00:00:00.000Z, 2024-09-17T00:00:00.000Z, Coleta de documentação fiscal, 37, 24, TSK00355, Pedro Henrique, Em Andamento), List(2024-09-16T00:00:00.000Z, 2024-09-20T00:00:00.000Z, Validação com cliente, 21, 22, TSK00356, Roberto Ferreira, Em Andamento)), 33450.47), List(CLI0045, 2024-02-09T00:00:00.000Z, 2024-03-22T00:00:00.000Z, 87, 85, PROJ0037, Planejamento Tributário Anual, Juliana Oliveira, Concluído, List(List(2024-02-28T00:00:00.000Z, 2024-03-09T00:00:00.000Z, Preparação de defesa administrativa, 9, 46, TSK00361, Roberto Ferreira, Pendente), List(2024-02-11T00:00:00.000Z, 2024-02-23T00:00:00.000Z, Elaboração de relatório técnico, 39, 1, TSK00362, Ana Paula Silva, Concluída), List(2024-03-01T00:00:00.000Z, 2024-03-16T00:00:00.000Z, Elaboração de relatório técnico, 39, 38, TSK00363, Juliana Oliveira, Concluída)), 78468.55), List(CLI0013, 2024-03-03T00:00:00.000Z, 2024-05-09T00:00:00.000Z, 90, 114, PROJ0038, Planejamento Tributário Anual, Carlos Eduardo Santos, Concluído, List(List(2024-04-05T00:00:00.000Z, 2024-04-18T00:00:00.000Z, Validação com cliente, 34, 38, TSK00371, Ana Paula Silva, Em Andamento), List(2024-03-17T00:00:00.000Z, 2024-03-25T00:00:00.000Z, Análise preliminar dos dados, 14, 46, TSK00372, Mariana Costa, Concluída), List(2024-04-01T00:00:00.000Z, 2024-04-15T00:00:00.000Z, Revisão de declarações, 19, 28, TSK00373, Ana Paula Silva, Em Andamento), List(2024-03-14T00:00:00.000Z, 2024-03-28T00:00:00.000Z, Elaboração de relatório técnico, 23, 2, TSK00374, Roberto Ferreira, Em Andamento)), 133804.88), List(CLI0012, 2024-07-02T00:00:00.000Z, 2024-09-08T00:00:00.000Z, 123, 213, PROJ0039, Auditoria Fiscal Preventiva, Pedro Henrique, Em Planejamento, List(List(2024-08-02T00:00:00.000Z, 2024-08-14T00:00:00.000Z, Validação com cliente, 7, 28, TSK00381, Pedro Henrique, Concluída), List(2024-07-09T00:00:00.000Z, 2024-07-14T00:00:00.000Z, Finalização e entrega, 30, 10, TSK00382, Juliana Oliveira, Atrasada), List(2024-07-24T00:00:00.000Z, 2024-08-02T00:00:00.000Z, Revisão de declarações, 15, 44, TSK00383, Mariana Costa, Atrasada), List(2024-07-10T00:00:00.000Z, 2024-07-19T00:00:00.000Z, Preparação de defesa administrativa, 13, 46, TSK00384, Juliana Oliveira, Em Andamento), List(2024-07-31T00:00:00.000Z, 2024-08-03T00:00:00.000Z, Cálculo de créditos tributários, 31, 50, TSK00385, Mariana Costa, Pendente), List(2024-07-07T00:00:00.000Z, 2024-07-13T00:00:00.000Z, Elaboração de relatório técnico, 27, 35, TSK00386, Carlos Eduardo Santos, Pendente)), 95970.47), List(CLI0022, 2024-07-29T00:00:00.000Z, 2024-08-14T00:00:00.000Z, 101, 143, PROJ0040, Planejamento Tributário Anual, Carlos Eduardo Santos, Concluído, List(List(2024-08-06T00:00:00.000Z, 2024-08-15T00:00:00.000Z, Coleta de documentação fiscal, 23, 20, TSK00391, Ana Paula Silva, Pendente), List(2024-08-04T00:00:00.000Z, 2024-08-07T00:00:00.000Z, Finalização e entrega, 17, 28, TSK00392, Pedro Henrique, Pendente), List(2024-07-29T00:00:00.000Z, 2024-08-13T00:00:00.000Z, Coleta de documentação fiscal, 17, 15, TSK00393, Pedro Henrique, Concluída), List(2024-07-30T00:00:00.000Z, 2024-08-11T00:00:00.000Z, Revisão de declarações, 7, 37, TSK00394, Ana Paula Silva, Atrasada), List(2024-08-05T00:00:00.000Z, 2024-08-16T00:00:00.000Z, Elaboração de relatório técnico, 37, 43, TSK00395, Juliana Oliveira, Concluída)), 36771.83), List(CLI0036, 2024-03-04T00:00:00.000Z, 2024-05-23T00:00:00.000Z, 155, 179, PROJ0041, Análise ICMS Diferencial de Alíquota, Mariana Costa, Concluído, List(List(2024-03-14T00:00:00.000Z, 2024-03-20T00:00:00.000Z, Cálculo de créditos tributários, 9, 1, TSK00401, Carlos Eduardo Santos, Pendente), List(2024-04-12T00:00:00.000Z, 2024-04-27T00:00:00.000Z, Preparação de defesa administrativa, 23, 3, TSK00402, Mariana Costa, Concluída), List(2024-04-02T00:00:00.000Z, 2024-04-17T00:00:00.000Z, Elaboração de relatório técnico, 13, 33, TSK00403, Carlos Eduardo Santos, Atrasada), List(2024-04-05T00:00:00.000Z, 2024-04-17T00:00:00.000Z, Preparação de defesa administrativa, 11, 43, TSK00404, Mariana Costa, Atrasada), List(2024-03-19T00:00:00.000Z, 2024-04-02T00:00:00.000Z, Finalização e entrega, 36, 36, TSK00405, Pedro Henrique, Atrasada), List(2024-04-12T00:00:00.000Z, 2024-04-27T00:00:00.000Z, Revisão de declarações, 35, 36, TSK00406, Roberto Ferreira, Atrasada), List(2024-03-31T00:00:00.000Z, 2024-04-15T00:00:00.000Z, Finalização e entrega, 28, 27, TSK00407, Pedro Henrique, Atrasada)), 84785.53), List(CLI0022, 2024-10-07T00:00:00.000Z, 2024-12-18T00:00:00.000Z, 63, 65, PROJ0042, Revisão ISS Serviços, Pedro Henrique, Cancelado, List(List(2024-10-16T00:00:00.000Z, 2024-10-24T00:00:00.000Z, Coleta de documentação fiscal, 29, 28, TSK00411, Ana Paula Silva, Pendente), List(2024-11-11T00:00:00.000Z, 2024-11-25T00:00:00.000Z, Cálculo de créditos tributários, 20, 20, TSK00412, Roberto Ferreira, Concluída), List(2024-10-25T00:00:00.000Z, 2024-10-31T00:00:00.000Z, Elaboração de relatório técnico, 14, 17, TSK00413, Carlos Eduardo Santos, Atrasada)), 66952.39), List(CLI0028, 2024-07-18T00:00:00.000Z, 2024-08-09T00:00:00.000Z, 116, 100, PROJ0043, Auditoria Fiscal Preventiva, Roberto Ferreira, Em Andamento, List(List(2024-07-26T00:00:00.000Z, 2024-08-08T00:00:00.000Z, Coleta de documentação fiscal, 32, 18, TSK00421, Ana Paula Silva, Em Andamento), List(2024-07-26T00:00:00.000Z, 2024-08-08T00:00:00.000Z, Elaboração de relatório técnico, 40, 46, TSK00422, Roberto Ferreira, Concluída), List(2024-07-21T00:00:00.000Z, 2024-07-30T00:00:00.000Z, Revisão de declarações, 34, 29, TSK00423, Ana Paula Silva, Pendente), List(2024-07-29T00:00:00.000Z, 2024-08-06T00:00:00.000Z, Coleta de documentação fiscal, 10, 7, TSK00424, Ana Paula Silva, Atrasada)), 29581.3), List(CLI0028, 2024-09-29T00:00:00.000Z, 2024-12-10T00:00:00.000Z, 152, 155, PROJ0044, Revisão ISS Serviços, Carlos Eduardo Santos, Concluído, List(List(2024-10-10T00:00:00.000Z, 2024-10-17T00:00:00.000Z, Preparação de defesa administrativa, 27, 6, TSK00431, Carlos Eduardo Santos, Atrasada), List(2024-10-01T00:00:00.000Z, 2024-10-04T00:00:00.000Z, Coleta de documentação fiscal, 26, 35, TSK00432, Carlos Eduardo Santos, Concluída), List(2024-10-19T00:00:00.000Z, 2024-11-03T00:00:00.000Z, Finalização e entrega, 23, 49, TSK00433, Ana Paula Silva, Atrasada), List(2024-09-30T00:00:00.000Z, 2024-10-15T00:00:00.000Z, Validação com cliente, 7, 12, TSK00434, Roberto Ferreira, Concluída), List(2024-10-26T00:00:00.000Z, 2024-10-31T00:00:00.000Z, Coleta de documentação fiscal, 39, 18, TSK00435, Mariana Costa, Atrasada), List(2024-10-12T00:00:00.000Z, 2024-10-22T00:00:00.000Z, Validação com cliente, 30, 35, TSK00436, Juliana Oliveira, Em Andamento)), 28262.14), List(CLI0012, 2024-04-15T00:00:00.000Z, 2024-05-13T00:00:00.000Z, 160, 105, PROJ0045, Implementação de Compliance Fiscal, Ana Paula Silva, Pausado, List(List(2024-04-26T00:00:00.000Z, 2024-05-08T00:00:00.000Z, Cálculo de créditos tributários, 19, 6, TSK00441, Ana Paula Silva, Concluída), List(2024-04-24T00:00:00.000Z, 2024-05-03T00:00:00.000Z, Finalização e entrega, 26, 38, TSK00442, Carlos Eduardo Santos, Atrasada), List(2024-04-18T00:00:00.000Z, 2024-04-28T00:00:00.000Z, Coleta de documentação fiscal, 40, 34, TSK00443, Carlos Eduardo Santos, Concluída), List(2024-04-23T00:00:00.000Z, 2024-04-30T00:00:00.000Z, Cálculo de créditos tributários, 35, 19, TSK00444, Juliana Oliveira, Atrasada), List(2024-04-21T00:00:00.000Z, 2024-05-02T00:00:00.000Z, Coleta de documentação fiscal, 40, 8, TSK00445, Carlos Eduardo Santos, Em Andamento)), 15093.62), List(CLI0008, 2024-04-06T00:00:00.000Z, 2024-05-04T00:00:00.000Z, 81, 95, PROJ0046, Análise ICMS Diferencial de Alíquota, Juliana Oliveira, Pausado, List(List(2024-04-10T00:00:00.000Z, 2024-04-25T00:00:00.000Z, Coleta de documentação fiscal, 40, 28, TSK00451, Pedro Henrique, Atrasada), List(2024-04-20T00:00:00.000Z, 2024-05-01T00:00:00.000Z, Análise preliminar dos dados, 11, 45, TSK00452, Juliana Oliveira, Pendente), List(2024-04-19T00:00:00.000Z, 2024-05-03T00:00:00.000Z, Finalização e entrega, 30, 22, TSK00453, Juliana Oliveira, Concluída)), 133727.78), List(CLI0015, 2024-06-21T00:00:00.000Z, 2024-09-01T00:00:00.000Z, 185, 168, PROJ0047, Implementação de Compliance Fiscal, Mariana Costa, Em Planejamento, List(List(2024-07-06T00:00:00.000Z, 2024-07-15T00:00:00.000Z, Coleta de documentação fiscal, 5, 15, TSK00461, Roberto Ferreira, Concluída), List(2024-07-19T00:00:00.000Z, 2024-07-24T00:00:00.000Z, Cálculo de créditos tributários, 12, 22, TSK00462, Mariana Costa, Concluída), List(2024-07-20T00:00:00.000Z, 2024-07-29T00:00:00.000Z, Revisão de declarações, 39, 1, TSK00463, Pedro Henrique, Pendente), List(2024-06-21T00:00:00.000Z, 2024-06-27T00:00:00.000Z, Cálculo de créditos tributários, 28, 21, TSK00464, Roberto Ferreira, Em Andamento), List(2024-06-22T00:00:00.000Z, 2024-06-30T00:00:00.000Z, Elaboração de relatório técnico, 16, 41, TSK00465, Ana Paula Silva, Em Andamento), List(2024-07-12T00:00:00.000Z, 2024-07-25T00:00:00.000Z, Preparação de defesa administrativa, 37, 37, TSK00466, Roberto Ferreira, Em Andamento), List(2024-07-16T00:00:00.000Z, 2024-07-27T00:00:00.000Z, Elaboração de relatório técnico, 37, 29, TSK00467, Mariana Costa, Concluída), List(2024-07-14T00:00:00.000Z, 2024-07-23T00:00:00.000Z, Análise preliminar dos dados, 11, 2, TSK00468, Ana Paula Silva, Atrasada)), 116420.6), List(CLI0033, 2024-06-22T00:00:00.000Z, 2024-08-02T00:00:00.000Z, 74, 123, PROJ0048, Revisão ISS Serviços, Carlos Eduardo Santos, Em Andamento, List(List(2024-07-09T00:00:00.000Z, 2024-07-20T00:00:00.000Z, Validação com cliente, 26, 21, TSK00471, Carlos Eduardo Santos, Concluída), List(2024-07-07T00:00:00.000Z, 2024-07-21T00:00:00.000Z, Coleta de documentação fiscal, 20, 31, TSK00472, Juliana Oliveira, Concluída), List(2024-07-02T00:00:00.000Z, 2024-07-16T00:00:00.000Z, Cálculo de créditos tributários, 4, 35, TSK00473, Ana Paula Silva, Atrasada), List(2024-06-28T00:00:00.000Z, 2024-07-08T00:00:00.000Z, Análise preliminar dos dados, 24, 36, TSK00474, Pedro Henrique, Atrasada)), 44518.49), List(CLI0014, 2024-07-13T00:00:00.000Z, 2024-09-30T00:00:00.000Z, 78, 125, PROJ0049, Recuperação de Crédito PIS/COFINS, Ana Paula Silva, Cancelado, List(List(2024-07-15T00:00:00.000Z, 2024-07-25T00:00:00.000Z, Análise preliminar dos dados, 22, 40, TSK00481, Carlos Eduardo Santos, Em Andamento), List(2024-07-16T00:00:00.000Z, 2024-07-30T00:00:00.000Z, Preparação de defesa administrativa, 20, 39, TSK00482, Pedro Henrique, Pendente), List(2024-07-28T00:00:00.000Z, 2024-07-31T00:00:00.000Z, Elaboração de relatório técnico, 36, 46, TSK00483, Pedro Henrique, Concluída)), 70880.58), List(CLI0016, 2024-09-30T00:00:00.000Z, 2024-10-28T00:00:00.000Z, 140, 196, PROJ0050, Análise ICMS Diferencial de Alíquota, Roberto Ferreira, Em Planejamento, List(List(2024-10-05T00:00:00.000Z, 2024-10-16T00:00:00.000Z, Finalização e entrega, 12, 20, TSK00491, Juliana Oliveira, Pendente), List(2024-10-04T00:00:00.000Z, 2024-10-12T00:00:00.000Z, Análise preliminar dos dados, 18, 44, TSK00492, Carlos Eduardo Santos, Pendente), List(2024-10-03T00:00:00.000Z, 2024-10-18T00:00:00.000Z, Finalização e entrega, 9, 28, TSK00493, Juliana Oliveira, Atrasada), List(2024-10-08T00:00:00.000Z, 2024-10-15T00:00:00.000Z, Análise preliminar dos dados, 20, 50, TSK00494, Roberto Ferreira, Pendente), List(2024-09-30T00:00:00.000Z, 2024-10-08T00:00:00.000Z, Revisão de declarações, 38, 6, TSK00495, Ana Paula Silva, Atrasada), List(2024-10-10T00:00:00.000Z, 2024-10-21T00:00:00.000Z, Elaboração de relatório técnico, 36, 0, TSK00496, Roberto Ferreira, Concluída), List(2024-10-08T00:00:00.000Z, 2024-10-16T00:00:00.000Z, Finalização e entrega, 7, 48, TSK00497, Roberto Ferreira, Pendente)), 42928.26), List(CLI0013, 2024-03-13T00:00:00.000Z, 2024-06-08T00:00:00.000Z, 162, 181, PROJ0051, Auditoria Fiscal Preventiva, Carlos Eduardo Santos, Cancelado, List(List(2024-04-10T00:00:00.000Z, 2024-04-18T00:00:00.000Z, Preparação de defesa administrativa, 24, 29, TSK00501, Juliana Oliveira, Pendente), List(2024-04-16T00:00:00.000Z, 2024-04-22T00:00:00.000Z, Elaboração de relatório técnico, 13, 21, TSK00502, Carlos Eduardo Santos, Atrasada), List(2024-04-25T00:00:00.000Z, 2024-05-10T00:00:00.000Z, Coleta de documentação fiscal, 36, 7, TSK00503, Carlos Eduardo Santos, Atrasada), List(2024-04-19T00:00:00.000Z, 2024-04-27T00:00:00.000Z, Coleta de documentação fiscal, 40, 35, TSK00504, Carlos Eduardo Santos, Em Andamento), List(2024-04-09T00:00:00.000Z, 2024-04-19T00:00:00.000Z, Finalização e entrega, 20, 47, TSK00505, Roberto Ferreira, Concluída), List(2024-03-19T00:00:00.000Z, 2024-03-23T00:00:00.000Z, Finalização e entrega, 29, 42, TSK00506, Ana Paula Silva, Pendente)), 54236.81), List(CLI0009, 2024-04-15T00:00:00.000Z, 2024-05-23T00:00:00.000Z, 43, 77, PROJ0052, Auditoria Fiscal Preventiva, Pedro Henrique, Pausado, List(List(2024-04-21T00:00:00.000Z, 2024-05-02T00:00:00.000Z, Análise preliminar dos dados, 33, 16, TSK00511, Mariana Costa, Pendente), List(2024-04-20T00:00:00.000Z, 2024-05-01T00:00:00.000Z, Validação com cliente, 6, 15, TSK00512, Ana Paula Silva, Concluída), List(2024-04-29T00:00:00.000Z, 2024-05-08T00:00:00.000Z, Finalização e entrega, 4, 46, TSK00513, Juliana Oliveira, Concluída)), 97438.52), List(CLI0035, 2024-02-18T00:00:00.000Z, 2024-04-26T00:00:00.000Z, 88, 63, PROJ0053, Planejamento Tributário Anual, Pedro Henrique, Pausado, List(List(2024-02-18T00:00:00.000Z, 2024-02-22T00:00:00.000Z, Cálculo de créditos tributários, 33, 8, TSK00521, Pedro Henrique, Concluída), List(2024-03-02T00:00:00.000Z, 2024-03-13T00:00:00.000Z, Elaboração de relatório técnico, 34, 22, TSK00522, Carlos Eduardo Santos, Concluída), List(2024-03-21T00:00:00.000Z, 2024-03-31T00:00:00.000Z, Revisão de declarações, 21, 33, TSK00523, Mariana Costa, Atrasada)), 103408.76), List(CLI0032, 2024-05-24T00:00:00.000Z, 2024-06-10T00:00:00.000Z, 123, 55, PROJ0054, Revisão ISS Serviços, Juliana Oliveira, Em Planejamento, List(List(2024-05-26T00:00:00.000Z, 2024-06-08T00:00:00.000Z, Coleta de documentação fiscal, 9, 7, TSK00531, Ana Paula Silva, Atrasada), List(2024-05-27T00:00:00.000Z, 2024-06-11T00:00:00.000Z, Cálculo de créditos tributários, 29, 23, TSK00532, Roberto Ferreira, Concluída), List(2024-05-31T00:00:00.000Z, 2024-06-13T00:00:00.000Z, Análise preliminar dos dados, 33, 2, TSK00533, Mariana Costa, Concluída), List(2024-05-27T00:00:00.000Z, 2024-06-07T00:00:00.000Z, Elaboração de relatório técnico, 29, 5, TSK00534, Mariana Costa, Em Andamento), List(2024-05-25T00:00:00.000Z, 2024-05-30T00:00:00.000Z, Revisão de declarações, 23, 18, TSK00535, Ana Paula Silva, Atrasada)), 146287.67), List(CLI0035, 2024-06-01T00:00:00.000Z, 2024-08-30T00:00:00.000Z, 79, 110, PROJ0055, Recuperação de Crédito PIS/COFINS, Carlos Eduardo Santos, Cancelado, List(List(2024-06-25T00:00:00.000Z, 2024-06-28T00:00:00.000Z, Revisão de declarações, 31, 43, TSK00541, Juliana Oliveira, Atrasada), List(2024-07-08T00:00:00.000Z, 2024-07-15T00:00:00.000Z, Cálculo de créditos tributários, 17, 39, TSK00542, Mariana Costa, Em Andamento), List(2024-06-06T00:00:00.000Z, 2024-06-21T00:00:00.000Z, Finalização e entrega, 25, 10, TSK00543, Roberto Ferreira, Em Andamento), List(2024-07-16T00:00:00.000Z, 2024-07-24T00:00:00.000Z, Análise preliminar dos dados, 6, 18, TSK00544, Mariana Costa, Atrasada)), 106868.93), List(CLI0008, 2024-03-22T00:00:00.000Z, 2024-06-10T00:00:00.000Z, 113, 45, PROJ0056, Planejamento Tributário Anual, Mariana Costa, Cancelado, List(List(2024-04-24T00:00:00.000Z, 2024-05-06T00:00:00.000Z, Validação com cliente, 15, 4, TSK00551, Ana Paula Silva, Em Andamento), List(2024-03-23T00:00:00.000Z, 2024-04-07T00:00:00.000Z, Finalização e entrega, 28, 17, TSK00552, Juliana Oliveira, Atrasada), List(2024-04-23T00:00:00.000Z, 2024-04-30T00:00:00.000Z, Preparação de defesa administrativa, 30, 12, TSK00553, Mariana Costa, Atrasada), List(2024-04-08T00:00:00.000Z, 2024-04-22T00:00:00.000Z, Preparação de defesa administrativa, 40, 12, TSK00554, Roberto Ferreira, Concluída)), 48427.4), List(CLI0016, 2024-02-26T00:00:00.000Z, 2024-04-23T00:00:00.000Z, 141, 122, PROJ0057, Implementação de Compliance Fiscal, Mariana Costa, Pausado, List(List(2024-03-17T00:00:00.000Z, 2024-03-21T00:00:00.000Z, Coleta de documentação fiscal, 38, 18, TSK00561, Pedro Henrique, Em Andamento), List(2024-03-08T00:00:00.000Z, 2024-03-18T00:00:00.000Z, Coleta de documentação fiscal, 15, 9, TSK00562, Pedro Henrique, Atrasada), List(2024-03-06T00:00:00.000Z, 2024-03-18T00:00:00.000Z, Elaboração de relatório técnico, 13, 7, TSK00563, Carlos Eduardo Santos, Pendente), List(2024-03-18T00:00:00.000Z, 2024-03-27T00:00:00.000Z, Finalização e entrega, 12, 9, TSK00564, Ana Paula Silva, Em Andamento), List(2024-03-18T00:00:00.000Z, 2024-03-25T00:00:00.000Z, Preparação de defesa administrativa, 31, 41, TSK00565, Carlos Eduardo Santos, Pendente), List(2024-03-03T00:00:00.000Z, 2024-03-13T00:00:00.000Z, Cálculo de créditos tributários, 32, 38, TSK00566, Mariana Costa, Atrasada)), 38981.17), List(CLI0029, 2024-01-19T00:00:00.000Z, 2024-02-19T00:00:00.000Z, 177, 149, PROJ0058, Análise ICMS Diferencial de Alíquota, Juliana Oliveira, Em Planejamento, List(List(2024-02-01T00:00:00.000Z, 2024-02-04T00:00:00.000Z, Validação com cliente, 33, 32, TSK00571, Juliana Oliveira, Em Andamento), List(2024-02-01T00:00:00.000Z, 2024-02-13T00:00:00.000Z, Preparação de defesa administrativa, 33, 30, TSK00572, Pedro Henrique, Em Andamento), List(2024-01-26T00:00:00.000Z, 2024-01-29T00:00:00.000Z, Coleta de documentação fiscal, 13, 12, TSK00573, Pedro Henrique, Em Andamento), List(2024-02-03T00:00:00.000Z, 2024-02-11T00:00:00.000Z, Validação com cliente, 40, 15, TSK00574, Juliana Oliveira, Pendente), List(2024-01-28T00:00:00.000Z, 2024-02-06T00:00:00.000Z, Finalização e entrega, 31, 7, TSK00575, Ana Paula Silva, Concluída), List(2024-01-22T00:00:00.000Z, 2024-02-04T00:00:00.000Z, Validação com cliente, 4, 48, TSK00576, Roberto Ferreira, Atrasada), List(2024-01-25T00:00:00.000Z, 2024-01-29T00:00:00.000Z, Cálculo de créditos tributários, 17, 2, TSK00577, Roberto Ferreira, Atrasada), List(2024-01-20T00:00:00.000Z, 2024-01-24T00:00:00.000Z, Revisão de declarações, 6, 3, TSK00578, Mariana Costa, Pendente)), 71868.53), List(CLI0025, 2024-01-04T00:00:00.000Z, 2024-01-23T00:00:00.000Z, 71, 40, PROJ0059, Implementação de Compliance Fiscal, Roberto Ferreira, Pausado, List(List(2024-01-09T00:00:00.000Z, 2024-01-14T00:00:00.000Z, Finalização e entrega, 29, 22, TSK00581, Pedro Henrique, Em Andamento), List(2024-01-12T00:00:00.000Z, 2024-01-17T00:00:00.000Z, Elaboração de relatório técnico, 21, 5, TSK00582, Juliana Oliveira, Concluída), List(2024-01-08T00:00:00.000Z, 2024-01-18T00:00:00.000Z, Validação com cliente, 21, 13, TSK00583, Carlos Eduardo Santos, Concluída)), 124750.04), List(CLI0011, 2024-05-28T00:00:00.000Z, 2024-07-18T00:00:00.000Z, 118, 192, PROJ0060, Revisão ISS Serviços, Carlos Eduardo Santos, Pausado, List(List(2024-06-13T00:00:00.000Z, 2024-06-20T00:00:00.000Z, Revisão de declarações, 12, 50, TSK00591, Roberto Ferreira, Pendente), List(2024-06-05T00:00:00.000Z, 2024-06-19T00:00:00.000Z, Revisão de declarações, 25, 35, TSK00592, Pedro Henrique, Em Andamento), List(2024-05-28T00:00:00.000Z, 2024-06-04T00:00:00.000Z, Validação com cliente, 8, 28, TSK00593, Juliana Oliveira, Em Andamento), List(2024-06-05T00:00:00.000Z, 2024-06-09T00:00:00.000Z, Preparação de defesa administrativa, 14, 38, TSK00594, Mariana Costa, Atrasada), List(2024-06-20T00:00:00.000Z, 2024-07-02T00:00:00.000Z, Elaboração de relatório técnico, 39, 7, TSK00595, Roberto Ferreira, Concluída), List(2024-06-14T00:00:00.000Z, 2024-06-22T00:00:00.000Z, Elaboração de relatório técnico, 20, 34, TSK00596, Pedro Henrique, Concluída)), 60865.43))</td></tr></tbody></table></div>"
      ]
     },
     "metadata": {
      "application/vnd.databricks.v1+output": {
       "addedWidgets": {},
       "aggData": [],
       "aggError": "",
       "aggOverflow": false,
       "aggSchema": [],
       "aggSeriesLimitReached": false,
       "aggType": "",
       "arguments": {},
       "columnCustomDisplayInfos": {},
       "data": [
        [
         [
          [
           "CLI0031",
           "2024-08-21T00:00:00.000Z",
           "2024-10-24T00:00:00.000Z",
           125,
           125,
           "PROJ0001",
           "Auditoria Fiscal Preventiva",
           "Carlos Eduardo Santos",
           "Pausado",
           [
            [
             "2024-09-02T00:00:00.000Z",
             "2024-09-05T00:00:00.000Z",
             "Análise preliminar dos dados",
             25,
             8,
             "TSK00001",
             "Ana Paula Silva",
             "Concluída"
            ],
            [
             "2024-09-07T00:00:00.000Z",
             "2024-09-19T00:00:00.000Z",
             "Cálculo de créditos tributários",
             4,
             44,
             "TSK00002",
             "Pedro Henrique",
             "Em Andamento"
            ],
            [
             "2024-08-24T00:00:00.000Z",
             "2024-08-30T00:00:00.000Z",
             "Finalização e entrega",
             12,
             34,
             "TSK00003",
             "Roberto Ferreira",
             "Atrasada"
            ],
            [
             "2024-09-01T00:00:00.000Z",
             "2024-09-07T00:00:00.000Z",
             "Análise preliminar dos dados",
             11,
             4,
             "TSK00004",
             "Carlos Eduardo Santos",
             "Concluída"
            ],
            [
             "2024-08-28T00:00:00.000Z",
             "2024-09-07T00:00:00.000Z",
             "Revisão de declarações",
             35,
             27,
             "TSK00005",
             "Roberto Ferreira",
             "Concluída"
            ],
            [
             "2024-09-22T00:00:00.000Z",
             "2024-09-27T00:00:00.000Z",
             "Preparação de defesa administrativa",
             38,
             8,
             "TSK00006",
             "Ana Paula Silva",
             "Em Andamento"
            ]
           ],
           83231.45
          ],
          [
           "CLI0018",
           "2024-07-29T00:00:00.000Z",
           "2024-10-25T00:00:00.000Z",
           84,
           133,
           "PROJ0002",
           "Análise ICMS Diferencial de Alíquota",
           "Mariana Costa",
           "Pausado",
           [
            [
             "2024-08-30T00:00:00.000Z",
             "2024-09-02T00:00:00.000Z",
             "Coleta de documentação fiscal",
             33,
             26,
             "TSK00011",
             "Carlos Eduardo Santos",
             "Concluída"
            ],
            [
             "2024-08-07T00:00:00.000Z",
             "2024-08-10T00:00:00.000Z",
             "Finalização e entrega",
             8,
             44,
             "TSK00012",
             "Carlos Eduardo Santos",
             "Atrasada"
            ],
            [
             "2024-08-29T00:00:00.000Z",
             "2024-09-07T00:00:00.000Z",
             "Revisão de declarações",
             31,
             33,
             "TSK00013",
             "Pedro Henrique",
             "Pendente"
            ],
            [
             "2024-08-21T00:00:00.000Z",
             "2024-08-31T00:00:00.000Z",
             "Elaboração de relatório técnico",
             12,
             30,
             "TSK00014",
             "Pedro Henrique",
             "Concluída"
            ]
           ],
           77407.93
          ],
          [
           "CLI0027",
           "2024-05-07T00:00:00.000Z",
           "2024-06-19T00:00:00.000Z",
           116,
           220,
           "PROJ0003",
           "Análise ICMS Diferencial de Alíquota",
           "Roberto Ferreira",
           "Em Planejamento",
           [
            [
             "2024-05-13T00:00:00.000Z",
             "2024-05-25T00:00:00.000Z",
             "Preparação de defesa administrativa",
             39,
             48,
             "TSK00021",
             "Mariana Costa",
             "Atrasada"
            ],
            [
             "2024-05-23T00:00:00.000Z",
             "2024-06-03T00:00:00.000Z",
             "Cálculo de créditos tributários",
             18,
             20,
             "TSK00022",
             "Ana Paula Silva",
             "Em Andamento"
            ],
            [
             "2024-05-14T00:00:00.000Z",
             "2024-05-17T00:00:00.000Z",
             "Coleta de documentação fiscal",
             12,
             50,
             "TSK00023",
             "Mariana Costa",
             "Em Andamento"
            ],
            [
             "2024-05-23T00:00:00.000Z",
             "2024-05-26T00:00:00.000Z",
             "Cálculo de créditos tributários",
             12,
             48,
             "TSK00024",
             "Mariana Costa",
             "Em Andamento"
            ],
            [
             "2024-05-19T00:00:00.000Z",
             "2024-06-03T00:00:00.000Z",
             "Finalização e entrega",
             14,
             45,
             "TSK00025",
             "Carlos Eduardo Santos",
             "Atrasada"
            ],
            [
             "2024-05-15T00:00:00.000Z",
             "2024-05-28T00:00:00.000Z",
             "Cálculo de créditos tributários",
             21,
             9,
             "TSK00026",
             "Roberto Ferreira",
             "Em Andamento"
            ]
           ],
           79690.92
          ],
          [
           "CLI0021",
           "2024-06-20T00:00:00.000Z",
           "2024-09-17T00:00:00.000Z",
           170,
           192,
           "PROJ0004",
           "Análise ICMS Diferencial de Alíquota",
           "Carlos Eduardo Santos",
           "Cancelado",
           [
            [
             "2024-07-19T00:00:00.000Z",
             "2024-07-25T00:00:00.000Z",
             "Análise preliminar dos dados",
             35,
             34,
             "TSK00031",
             "Pedro Henrique",
             "Concluída"
            ],
            [
             "2024-07-21T00:00:00.000Z",
             "2024-08-01T00:00:00.000Z",
             "Análise preliminar dos dados",
             39,
             31,
             "TSK00032",
             "Carlos Eduardo Santos",
             "Concluída"
            ],
            [
             "2024-06-28T00:00:00.000Z",
             "2024-07-07T00:00:00.000Z",
             "Coleta de documentação fiscal",
             13,
             19,
             "TSK00033",
             "Juliana Oliveira",
             "Em Andamento"
            ],
            [
             "2024-07-03T00:00:00.000Z",
             "2024-07-17T00:00:00.000Z",
             "Revisão de declarações",
             39,
             30,
             "TSK00034",
             "Juliana Oliveira",
             "Em Andamento"
            ],
            [
             "2024-07-23T00:00:00.000Z",
             "2024-07-26T00:00:00.000Z",
             "Finalização e entrega",
             12,
             13,
             "TSK00035",
             "Pedro Henrique",
             "Pendente"
            ],
            [
             "2024-07-28T00:00:00.000Z",
             "2024-08-07T00:00:00.000Z",
             "Elaboração de relatório técnico",
             18,
             23,
             "TSK00036",
             "Juliana Oliveira",
             "Em Andamento"
            ],
            [
             "2024-07-25T00:00:00.000Z",
             "2024-08-01T00:00:00.000Z",
             "Análise preliminar dos dados",
             14,
             42,
             "TSK00037",
             "Roberto Ferreira",
             "Em Andamento"
            ]
           ],
           105524.16
          ],
          [
           "CLI0009",
           "2024-01-22T00:00:00.000Z",
           "2024-04-03T00:00:00.000Z",
           131,
           125,
           "PROJ0005",
           "Revisão ISS Serviços",
           "Mariana Costa",
           "Em Andamento",
           [
            [
             "2024-02-09T00:00:00.000Z",
             "2024-02-15T00:00:00.000Z",
             "Análise preliminar dos dados",
             11,
             22,
             "TSK00041",
             "Mariana Costa",
             "Concluída"
            ],
            [
             "2024-02-26T00:00:00.000Z",
             "2024-03-05T00:00:00.000Z",
             "Validação com cliente",
             28,
             4,
             "TSK00042",
             "Mariana Costa",
             "Concluída"
            ],
            [
             "2024-02-22T00:00:00.000Z",
             "2024-02-29T00:00:00.000Z",
             "Elaboração de relatório técnico",
             21,
             30,
             "TSK00043",
             "Mariana Costa",
             "Atrasada"
            ],
            [
             "2024-02-20T00:00:00.000Z",
             "2024-03-01T00:00:00.000Z",
             "Validação com cliente",
             5,
             14,
             "TSK00044",
             "Carlos Eduardo Santos",
             "Pendente"
            ],
            [
             "2024-02-19T00:00:00.000Z",
             "2024-02-24T00:00:00.000Z",
             "Cálculo de créditos tributários",
             7,
             36,
             "TSK00045",
             "Roberto Ferreira",
             "Atrasada"
            ],
            [
             "2024-02-25T00:00:00.000Z",
             "2024-03-05T00:00:00.000Z",
             "Revisão de declarações",
             25,
             13,
             "TSK00046",
             "Ana Paula Silva",
             "Concluída"
            ],
            [
             "2024-01-28T00:00:00.000Z",
             "2024-02-03T00:00:00.000Z",
             "Análise preliminar dos dados",
             34,
             6,
             "TSK00047",
             "Juliana Oliveira",
             "Pendente"
            ]
           ],
           64211.68
          ],
          [
           "CLI0043",
           "2024-01-19T00:00:00.000Z",
           "2024-02-19T00:00:00.000Z",
           141,
           235,
           "PROJ0006",
           "Implementação de Compliance Fiscal",
           "Carlos Eduardo Santos",
           "Em Andamento",
           [
            [
             "2024-01-21T00:00:00.000Z",
             "2024-02-02T00:00:00.000Z",
             "Validação com cliente",
             40,
             41,
             "TSK00051",
             "Carlos Eduardo Santos",
             "Concluída"
            ],
            [
             "2024-01-29T00:00:00.000Z",
             "2024-02-04T00:00:00.000Z",
             "Coleta de documentação fiscal",
             10,
             50,
             "TSK00052",
             "Pedro Henrique",
             "Pendente"
            ],
            [
             "2024-01-30T00:00:00.000Z",
             "2024-02-04T00:00:00.000Z",
             "Validação com cliente",
             36,
             32,
             "TSK00053",
             "Carlos Eduardo Santos",
             "Concluída"
            ],
            [
             "2024-02-02T00:00:00.000Z",
             "2024-02-07T00:00:00.000Z",
             "Coleta de documentação fiscal",
             10,
             38,
             "TSK00054",
             "Roberto Ferreira",
             "Concluída"
            ],
            [
             "2024-01-23T00:00:00.000Z",
             "2024-01-29T00:00:00.000Z",
             "Análise preliminar dos dados",
             17,
             29,
             "TSK00055",
             "Juliana Oliveira",
             "Concluída"
            ],
            [
             "2024-01-31T00:00:00.000Z",
             "2024-02-06T00:00:00.000Z",
             "Validação com cliente",
             13,
             35,
             "TSK00056",
             "Juliana Oliveira",
             "Em Andamento"
            ],
            [
             "2024-01-21T00:00:00.000Z",
             "2024-01-30T00:00:00.000Z",
             "Análise preliminar dos dados",
             15,
             10,
             "TSK00057",
             "Roberto Ferreira",
             "Concluída"
            ]
           ],
           40971.38
          ],
          [
           "CLI0035",
           "2024-02-01T00:00:00.000Z",
           "2024-04-14T00:00:00.000Z",
           110,
           110,
           "PROJ0007",
           "Análise ICMS Diferencial de Alíquota",
           "Mariana Costa",
           "Em Planejamento",
           [
            [
             "2024-02-18T00:00:00.000Z",
             "2024-03-04T00:00:00.000Z",
             "Coleta de documentação fiscal",
             28,
             15,
             "TSK00061",
             "Pedro Henrique",
             "Atrasada"
            ],
            [
             "2024-02-10T00:00:00.000Z",
             "2024-02-15T00:00:00.000Z",
             "Cálculo de créditos tributários",
             18,
             48,
             "TSK00062",
             "Pedro Henrique",
             "Atrasada"
            ],
            [
             "2024-02-27T00:00:00.000Z",
             "2024-03-03T00:00:00.000Z",
             "Análise preliminar dos dados",
             6,
             13,
             "TSK00063",
             "Pedro Henrique",
             "Atrasada"
            ],
            [
             "2024-02-17T00:00:00.000Z",
             "2024-02-23T00:00:00.000Z",
             "Validação com cliente",
             32,
             18,
             "TSK00064",
             "Mariana Costa",
             "Em Andamento"
            ],
            [
             "2024-02-23T00:00:00.000Z",
             "2024-03-04T00:00:00.000Z",
             "Preparação de defesa administrativa",
             22,
             2,
             "TSK00065",
             "Mariana Costa",
             "Pendente"
            ],
            [
             "2024-02-21T00:00:00.000Z",
             "2024-03-03T00:00:00.000Z",
             "Coleta de documentação fiscal",
             4,
             14,
             "TSK00066",
             "Juliana Oliveira",
             "Pendente"
            ]
           ],
           102470.9
          ],
          [
           "CLI0013",
           "2024-06-02T00:00:00.000Z",
           "2024-06-18T00:00:00.000Z",
           124,
           90,
           "PROJ0008",
           "Recuperação de Crédito PIS/COFINS",
           "Carlos Eduardo Santos",
           "Pausado",
           [
            [
             "2024-06-06T00:00:00.000Z",
             "2024-06-11T00:00:00.000Z",
             "Análise preliminar dos dados",
             28,
             48,
             "TSK00071",
             "Roberto Ferreira",
             "Concluída"
            ],
            [
             "2024-06-08T00:00:00.000Z",
             "2024-06-22T00:00:00.000Z",
             "Cálculo de créditos tributários",
             40,
             27,
             "TSK00072",
             "Mariana Costa",
             "Pendente"
            ],
            [
             "2024-06-03T00:00:00.000Z",
             "2024-06-14T00:00:00.000Z",
             "Cálculo de créditos tributários",
             29,
             3,
             "TSK00073",
             "Roberto Ferreira",
             "Atrasada"
            ],
            [
             "2024-06-09T00:00:00.000Z",
             "2024-06-18T00:00:00.000Z",
             "Finalização e entrega",
             27,
             12,
             "TSK00074",
             "Ana Paula Silva",
             "Pendente"
            ]
           ],
           54302.01
          ],
          [
           "CLI0028",
           "2024-03-29T00:00:00.000Z",
           "2024-06-03T00:00:00.000Z",
           141,
           78,
           "PROJ0009",
           "Planejamento Tributário Anual",
           "Juliana Oliveira",
           "Concluído",
           [
            [
             "2024-04-13T00:00:00.000Z",
             "2024-04-24T00:00:00.000Z",
             "Finalização e entrega",
             21,
             11,
             "TSK00081",
             "Carlos Eduardo Santos",
             "Atrasada"
            ],
            [
             "2024-04-19T00:00:00.000Z",
             "2024-04-29T00:00:00.000Z",
             "Finalização e entrega",
             34,
             35,
             "TSK00082",
             "Pedro Henrique",
             "Concluída"
            ],
            [
             "2024-04-04T00:00:00.000Z",
             "2024-04-11T00:00:00.000Z",
             "Análise preliminar dos dados",
             31,
             12,
             "TSK00083",
             "Juliana Oliveira",
             "Concluída"
            ],
            [
             "2024-04-29T00:00:00.000Z",
             "2024-05-04T00:00:00.000Z",
             "Preparação de defesa administrativa",
             23,
             19,
             "TSK00084",
             "Carlos Eduardo Santos",
             "Em Andamento"
            ],
            [
             "2024-03-29T00:00:00.000Z",
             "2024-04-05T00:00:00.000Z",
             "Análise preliminar dos dados",
             32,
             1,
             "TSK00085",
             "Juliana Oliveira",
             "Pendente"
            ]
           ],
           68981.15
          ],
          [
           "CLI0027",
           "2024-05-31T00:00:00.000Z",
           "2024-08-09T00:00:00.000Z",
           149,
           214,
           "PROJ0010",
           "Auditoria Fiscal Preventiva",
           "Ana Paula Silva",
           "Em Planejamento",
           [
            [
             "2024-06-25T00:00:00.000Z",
             "2024-07-05T00:00:00.000Z",
             "Elaboração de relatório técnico",
             17,
             40,
             "TSK00091",
             "Carlos Eduardo Santos",
             "Atrasada"
            ],
            [
             "2024-06-16T00:00:00.000Z",
             "2024-06-20T00:00:00.000Z",
             "Elaboração de relatório técnico",
             16,
             10,
             "TSK00092",
             "Mariana Costa",
             "Em Andamento"
            ],
            [
             "2024-06-11T00:00:00.000Z",
             "2024-06-20T00:00:00.000Z",
             "Análise preliminar dos dados",
             16,
             11,
             "TSK00093",
             "Carlos Eduardo Santos",
             "Pendente"
            ],
            [
             "2024-06-30T00:00:00.000Z",
             "2024-07-06T00:00:00.000Z",
             "Cálculo de créditos tributários",
             30,
             50,
             "TSK00094",
             "Pedro Henrique",
             "Atrasada"
            ],
            [
             "2024-06-16T00:00:00.000Z",
             "2024-06-29T00:00:00.000Z",
             "Cálculo de créditos tributários",
             18,
             49,
             "TSK00095",
             "Pedro Henrique",
             "Em Andamento"
            ],
            [
             "2024-06-21T00:00:00.000Z",
             "2024-06-27T00:00:00.000Z",
             "Revisão de declarações",
             33,
             4,
             "TSK00096",
             "Mariana Costa",
             "Atrasada"
            ],
            [
             "2024-06-16T00:00:00.000Z",
             "2024-06-29T00:00:00.000Z",
             "Análise preliminar dos dados",
             19,
             50,
             "TSK00097",
             "Ana Paula Silva",
             "Concluída"
            ]
           ],
           16738.77
          ],
          [
           "CLI0033",
           "2024-03-11T00:00:00.000Z",
           "2024-05-30T00:00:00.000Z",
           151,
           194,
           "PROJ0011",
           "Análise ICMS Diferencial de Alíquota",
           "Carlos Eduardo Santos",
           "Cancelado",
           [
            [
             "2024-03-27T00:00:00.000Z",
             "2024-04-04T00:00:00.000Z",
             "Análise preliminar dos dados",
             4,
             31,
             "TSK00101",
             "Ana Paula Silva",
             "Pendente"
            ],
            [
             "2024-04-02T00:00:00.000Z",
             "2024-04-10T00:00:00.000Z",
             "Validação com cliente",
             39,
             35,
             "TSK00102",
             "Roberto Ferreira",
             "Pendente"
            ],
            [
             "2024-03-24T00:00:00.000Z",
             "2024-03-31T00:00:00.000Z",
             "Elaboração de relatório técnico",
             32,
             43,
             "TSK00103",
             "Juliana Oliveira",
             "Pendente"
            ],
            [
             "2024-04-06T00:00:00.000Z",
             "2024-04-21T00:00:00.000Z",
             "Validação com cliente",
             7,
             6,
             "TSK00104",
             "Juliana Oliveira",
             "Em Andamento"
            ],
            [
             "2024-03-13T00:00:00.000Z",
             "2024-03-21T00:00:00.000Z",
             "Elaboração de relatório técnico",
             11,
             44,
             "TSK00105",
             "Juliana Oliveira",
             "Atrasada"
            ],
            [
             "2024-03-26T00:00:00.000Z",
             "2024-04-01T00:00:00.000Z",
             "Cálculo de créditos tributários",
             21,
             17,
             "TSK00106",
             "Carlos Eduardo Santos",
             "Em Andamento"
            ],
            [
             "2024-03-14T00:00:00.000Z",
             "2024-03-24T00:00:00.000Z",
             "Validação com cliente",
             37,
             18,
             "TSK00107",
             "Mariana Costa",
             "Pendente"
            ]
           ],
           46239.63
          ],
          [
           "CLI0038",
           "2024-09-24T00:00:00.000Z",
           "2024-12-23T00:00:00.000Z",
           162,
           103,
           "PROJ0012",
           "Análise ICMS Diferencial de Alíquota",
           "Pedro Henrique",
           "Concluído",
           [
            [
             "2024-11-08T00:00:00.000Z",
             "2024-11-16T00:00:00.000Z",
             "Elaboração de relatório técnico",
             20,
             26,
             "TSK00111",
             "Pedro Henrique",
             "Pendente"
            ],
            [
             "2024-10-08T00:00:00.000Z",
             "2024-10-17T00:00:00.000Z",
             "Preparação de defesa administrativa",
             28,
             0,
             "TSK00112",
             "Pedro Henrique",
             "Pendente"
            ],
            [
             "2024-10-12T00:00:00.000Z",
             "2024-10-18T00:00:00.000Z",
             "Cálculo de créditos tributários",
             35,
             23,
             "TSK00113",
             "Mariana Costa",
             "Pendente"
            ],
            [
             "2024-11-02T00:00:00.000Z",
             "2024-11-11T00:00:00.000Z",
             "Validação com cliente",
             33,
             23,
             "TSK00114",
             "Juliana Oliveira",
             "Atrasada"
            ],
            [
             "2024-11-05T00:00:00.000Z",
             "2024-11-14T00:00:00.000Z",
             "Elaboração de relatório técnico",
             26,
             29,
             "TSK00115",
             "Ana Paula Silva",
             "Atrasada"
            ],
            [
             "2024-10-23T00:00:00.000Z",
             "2024-10-29T00:00:00.000Z",
             "Preparação de defesa administrativa",
             20,
             2,
             "TSK00116",
             "Ana Paula Silva",
             "Atrasada"
            ]
           ],
           68467.27
          ],
          [
           "CLI0048",
           "2024-08-01T00:00:00.000Z",
           "2024-09-08T00:00:00.000Z",
           73,
           145,
           "PROJ0013",
           "Planejamento Tributário Anual",
           "Juliana Oliveira",
           "Cancelado",
           [
            [
             "2024-08-12T00:00:00.000Z",
             "2024-08-23T00:00:00.000Z",
             "Coleta de documentação fiscal",
             15,
             12,
             "TSK00121",
             "Pedro Henrique",
             "Concluída"
            ],
            [
             "2024-08-18T00:00:00.000Z",
             "2024-08-30T00:00:00.000Z",
             "Coleta de documentação fiscal",
             20,
             50,
             "TSK00122",
             "Roberto Ferreira",
             "Em Andamento"
            ],
            [
             "2024-08-11T00:00:00.000Z",
             "2024-08-19T00:00:00.000Z",
             "Coleta de documentação fiscal",
             17,
             13,
             "TSK00123",
             "Roberto Ferreira",
             "Em Andamento"
            ],
            [
             "2024-08-01T00:00:00.000Z",
             "2024-08-12T00:00:00.000Z",
             "Validação com cliente",
             8,
             22,
             "TSK00124",
             "Pedro Henrique",
             "Em Andamento"
            ],
            [
             "2024-08-16T00:00:00.000Z",
             "2024-08-19T00:00:00.000Z",
             "Preparação de defesa administrativa",
             13,
             48,
             "TSK00125",
             "Mariana Costa",
             "Atrasada"
            ]
           ],
           91074.86
          ],
          [
           "CLI0008",
           "2024-10-04T00:00:00.000Z",
           "2024-11-27T00:00:00.000Z",
           158,
           147,
           "PROJ0014",
           "Revisão ISS Serviços",
           "Mariana Costa",
           "Em Planejamento",
           [
            [
             "2024-10-07T00:00:00.000Z",
             "2024-10-21T00:00:00.000Z",
             "Revisão de declarações",
             29,
             39,
             "TSK00131",
             "Juliana Oliveira",
             "Em Andamento"
            ],
            [
             "2024-10-29T00:00:00.000Z",
             "2024-11-01T00:00:00.000Z",
             "Finalização e entrega",
             16,
             3,
             "TSK00132",
             "Carlos Eduardo Santos",
             "Pendente"
            ],
            [
             "2024-10-10T00:00:00.000Z",
             "2024-10-22T00:00:00.000Z",
             "Coleta de documentação fiscal",
             36,
             0,
             "TSK00133",
             "Ana Paula Silva",
             "Pendente"
            ],
            [
             "2024-10-23T00:00:00.000Z",
             "2024-10-30T00:00:00.000Z",
             "Análise preliminar dos dados",
             16,
             37,
             "TSK00134",
             "Pedro Henrique",
             "Concluída"
            ],
            [
             "2024-10-29T00:00:00.000Z",
             "2024-11-10T00:00:00.000Z",
             "Análise preliminar dos dados",
             24,
             17,
             "TSK00135",
             "Mariana Costa",
             "Pendente"
            ],
            [
             "2024-10-05T00:00:00.000Z",
             "2024-10-19T00:00:00.000Z",
             "Cálculo de créditos tributários",
             32,
             18,
             "TSK00136",
             "Ana Paula Silva",
             "Concluída"
            ],
            [
             "2024-10-25T00:00:00.000Z",
             "2024-11-03T00:00:00.000Z",
             "Preparação de defesa administrativa",
             5,
             33,
             "TSK00137",
             "Ana Paula Silva",
             "Em Andamento"
            ]
           ],
           143387.16
          ],
          [
           "CLI0040",
           "2024-01-08T00:00:00.000Z",
           "2024-03-01T00:00:00.000Z",
           106,
           96,
           "PROJ0015",
           "Revisão ISS Serviços",
           "Mariana Costa",
           "Cancelado",
           [
            [
             "2024-01-20T00:00:00.000Z",
             "2024-02-03T00:00:00.000Z",
             "Análise preliminar dos dados",
             32,
             50,
             "TSK00141",
             "Juliana Oliveira",
             "Concluída"
            ],
            [
             "2024-01-14T00:00:00.000Z",
             "2024-01-18T00:00:00.000Z",
             "Revisão de declarações",
             35,
             10,
             "TSK00142",
             "Roberto Ferreira",
             "Em Andamento"
            ],
            [
             "2024-01-09T00:00:00.000Z",
             "2024-01-22T00:00:00.000Z",
             "Análise preliminar dos dados",
             39,
             36,
             "TSK00143",
             "Ana Paula Silva",
             "Em Andamento"
            ]
           ],
           97129.3
          ],
          [
           "CLI0048",
           "2024-06-30T00:00:00.000Z",
           "2024-08-18T00:00:00.000Z",
           202,
           223,
           "PROJ0016",
           "Revisão ISS Serviços",
           "Ana Paula Silva",
           "Em Planejamento",
           [
            [
             "2024-07-06T00:00:00.000Z",
             "2024-07-09T00:00:00.000Z",
             "Cálculo de créditos tributários",
             16,
             21,
             "TSK00151",
             "Roberto Ferreira",
             "Pendente"
            ],
            [
             "2024-07-02T00:00:00.000Z",
             "2024-07-10T00:00:00.000Z",
             "Finalização e entrega",
             36,
             27,
             "TSK00152",
             "Roberto Ferreira",
             "Pendente"
            ],
            [
             "2024-07-13T00:00:00.000Z",
             "2024-07-17T00:00:00.000Z",
             "Coleta de documentação fiscal",
             6,
             30,
             "TSK00153",
             "Mariana Costa",
             "Pendente"
            ],
            [
             "2024-07-20T00:00:00.000Z",
             "2024-07-29T00:00:00.000Z",
             "Validação com cliente",
             20,
             13,
             "TSK00154",
             "Pedro Henrique",
             "Concluída"
            ],
            [
             "2024-07-18T00:00:00.000Z",
             "2024-07-24T00:00:00.000Z",
             "Preparação de defesa administrativa",
             35,
             41,
             "TSK00155",
             "Pedro Henrique",
             "Em Andamento"
            ],
            [
             "2024-07-21T00:00:00.000Z",
             "2024-08-05T00:00:00.000Z",
             "Finalização e entrega",
             26,
             28,
             "TSK00156",
             "Roberto Ferreira",
             "Atrasada"
            ],
            [
             "2024-07-08T00:00:00.000Z",
             "2024-07-12T00:00:00.000Z",
             "Validação com cliente",
             30,
             27,
             "TSK00157",
             "Pedro Henrique",
             "Atrasada"
            ],
            [
             "2024-07-07T00:00:00.000Z",
             "2024-07-12T00:00:00.000Z",
             "Cálculo de créditos tributários",
             33,
             36,
             "TSK00158",
             "Pedro Henrique",
             "Atrasada"
            ]
           ],
           65049.14
          ],
          [
           "CLI0038",
           "2024-07-16T00:00:00.000Z",
           "2024-08-14T00:00:00.000Z",
           195,
           170,
           "PROJ0017",
           "Auditoria Fiscal Preventiva",
           "Carlos Eduardo Santos",
           "Pausado",
           [
            [
             "2024-07-26T00:00:00.000Z",
             "2024-08-02T00:00:00.000Z",
             "Validação com cliente",
             18,
             7,
             "TSK00161",
             "Mariana Costa",
             "Atrasada"
            ],
            [
             "2024-07-19T00:00:00.000Z",
             "2024-07-26T00:00:00.000Z",
             "Cálculo de créditos tributários",
             27,
             26,
             "TSK00162",
             "Pedro Henrique",
             "Concluída"
            ],
            [
             "2024-07-29T00:00:00.000Z",
             "2024-08-10T00:00:00.000Z",
             "Cálculo de créditos tributários",
             28,
             32,
             "TSK00163",
             "Carlos Eduardo Santos",
             "Pendente"
            ],
            [
             "2024-07-28T00:00:00.000Z",
             "2024-08-11T00:00:00.000Z",
             "Coleta de documentação fiscal",
             34,
             10,
             "TSK00164",
             "Juliana Oliveira",
             "Pendente"
            ],
            [
             "2024-07-29T00:00:00.000Z",
             "2024-08-11T00:00:00.000Z",
             "Preparação de defesa administrativa",
             23,
             50,
             "TSK00165",
             "Mariana Costa",
             "Pendente"
            ],
            [
             "2024-07-26T00:00:00.000Z",
             "2024-07-30T00:00:00.000Z",
             "Preparação de defesa administrativa",
             25,
             0,
             "TSK00166",
             "Juliana Oliveira",
             "Em Andamento"
            ],
            [
             "2024-07-23T00:00:00.000Z",
             "2024-08-07T00:00:00.000Z",
             "Validação com cliente",
             40,
             45,
             "TSK00167",
             "Mariana Costa",
             "Atrasada"
            ]
           ],
           37858.2
          ],
          [
           "CLI0021",
           "2024-06-10T00:00:00.000Z",
           "2024-08-05T00:00:00.000Z",
           108,
           166,
           "PROJ0018",
           "Implementação de Compliance Fiscal",
           "Ana Paula Silva",
           "Pausado",
           [
            [
             "2024-06-25T00:00:00.000Z",
             "2024-07-10T00:00:00.000Z",
             "Coleta de documentação fiscal",
             19,
             29,
             "TSK00171",
             "Carlos Eduardo Santos",
             "Em Andamento"
            ],
            [
             "2024-06-14T00:00:00.000Z",
             "2024-06-25T00:00:00.000Z",
             "Revisão de declarações",
             9,
             30,
             "TSK00172",
             "Carlos Eduardo Santos",
             "Em Andamento"
            ],
            [
             "2024-06-21T00:00:00.000Z",
             "2024-07-06T00:00:00.000Z",
             "Elaboração de relatório técnico",
             28,
             48,
             "TSK00173",
             "Roberto Ferreira",
             "Atrasada"
            ],
            [
             "2024-06-22T00:00:00.000Z",
             "2024-06-26T00:00:00.000Z",
             "Coleta de documentação fiscal",
             12,
             34,
             "TSK00174",
             "Pedro Henrique",
             "Em Andamento"
            ],
            [
             "2024-06-27T00:00:00.000Z",
             "2024-07-12T00:00:00.000Z",
             "Elaboração de relatório técnico",
             40,
             25,
             "TSK00175",
             "Juliana Oliveira",
             "Atrasada"
            ]
           ],
           19384.21
          ],
          [
           "CLI0028",
           "2024-05-30T00:00:00.000Z",
           "2024-06-24T00:00:00.000Z",
           171,
           244,
           "PROJ0019",
           "Implementação de Compliance Fiscal",
           "Pedro Henrique",
           "Cancelado",
           [
            [
             "2024-06-02T00:00:00.000Z",
             "2024-06-12T00:00:00.000Z",
             "Elaboração de relatório técnico",
             20,
             21,
             "TSK00181",
             "Carlos Eduardo Santos",
             "Concluída"
            ],
            [
             "2024-06-07T00:00:00.000Z",
             "2024-06-20T00:00:00.000Z",
             "Coleta de documentação fiscal",
             12,
             18,
             "TSK00182",
             "Ana Paula Silva",
             "Em Andamento"
            ],
            [
             "2024-06-01T00:00:00.000Z",
             "2024-06-05T00:00:00.000Z",
             "Preparação de defesa administrativa",
             18,
             33,
             "TSK00183",
             "Roberto Ferreira",
             "Em Andamento"
            ],
            [
             "2024-06-02T00:00:00.000Z",
             "2024-06-07T00:00:00.000Z",
             "Preparação de defesa administrativa",
             29,
             43,
             "TSK00184",
             "Ana Paula Silva",
             "Concluída"
            ],
            [
             "2024-06-04T00:00:00.000Z",
             "2024-06-16T00:00:00.000Z",
             "Elaboração de relatório técnico",
             32,
             23,
             "TSK00185",
             "Mariana Costa",
             "Pendente"
            ],
            [
             "2024-06-06T00:00:00.000Z",
             "2024-06-17T00:00:00.000Z",
             "Análise preliminar dos dados",
             16,
             44,
             "TSK00186",
             "Pedro Henrique",
             "Atrasada"
            ],
            [
             "2024-06-04T00:00:00.000Z",
             "2024-06-13T00:00:00.000Z",
             "Finalização e entrega",
             5,
             43,
             "TSK00187",
             "Juliana Oliveira",
             "Em Andamento"
            ],
            [
             "2024-06-10T00:00:00.000Z",
             "2024-06-13T00:00:00.000Z",
             "Análise preliminar dos dados",
             39,
             19,
             "TSK00188",
             "Roberto Ferreira",
             "Em Andamento"
            ]
           ],
           72255.55
          ],
          [
           "CLI0001",
           "2024-07-28T00:00:00.000Z",
           "2024-10-17T00:00:00.000Z",
           146,
           174,
           "PROJ0020",
           "Revisão ISS Serviços",
           "Carlos Eduardo Santos",
           "Em Planejamento",
           [
            [
             "2024-08-13T00:00:00.000Z",
             "2024-08-17T00:00:00.000Z",
             "Preparação de defesa administrativa",
             32,
             16,
             "TSK00191",
             "Juliana Oliveira",
             "Em Andamento"
            ],
            [
             "2024-09-03T00:00:00.000Z",
             "2024-09-13T00:00:00.000Z",
             "Elaboração de relatório técnico",
             4,
             10,
             "TSK00192",
             "Carlos Eduardo Santos",
             "Atrasada"
            ],
            [
             "2024-08-30T00:00:00.000Z",
             "2024-09-02T00:00:00.000Z",
             "Coleta de documentação fiscal",
             21,
             17,
             "TSK00193",
             "Roberto Ferreira",
             "Pendente"
            ],
            [
             "2024-09-03T00:00:00.000Z",
             "2024-09-10T00:00:00.000Z",
             "Elaboração de relatório técnico",
             21,
             37,
             "TSK00194",
             "Pedro Henrique",
             "Concluída"
            ],
            [
             "2024-08-09T00:00:00.000Z",
             "2024-08-23T00:00:00.000Z",
             "Cálculo de créditos tributários",
             37,
             26,
             "TSK00195",
             "Pedro Henrique",
             "Concluída"
            ],
            [
             "2024-08-24T00:00:00.000Z",
             "2024-09-02T00:00:00.000Z",
             "Coleta de documentação fiscal",
             14,
             42,
             "TSK00196",
             "Juliana Oliveira",
             "Concluída"
            ],
            [
             "2024-08-24T00:00:00.000Z",
             "2024-09-05T00:00:00.000Z",
             "Análise preliminar dos dados",
             17,
             26,
             "TSK00197",
             "Mariana Costa",
             "Em Andamento"
            ]
           ],
           143641.55
          ],
          [
           "CLI0018",
           "2024-03-31T00:00:00.000Z",
           "2024-05-31T00:00:00.000Z",
           148,
           136,
           "PROJ0021",
           "Revisão ISS Serviços",
           "Mariana Costa",
           "Em Andamento",
           [
            [
             "2024-04-22T00:00:00.000Z",
             "2024-05-03T00:00:00.000Z",
             "Elaboração de relatório técnico",
             21,
             34,
             "TSK00201",
             "Pedro Henrique",
             "Pendente"
            ],
            [
             "2024-04-20T00:00:00.000Z",
             "2024-04-27T00:00:00.000Z",
             "Revisão de declarações",
             23,
             0,
             "TSK00202",
             "Ana Paula Silva",
             "Concluída"
            ],
            [
             "2024-04-26T00:00:00.000Z",
             "2024-05-10T00:00:00.000Z",
             "Cálculo de créditos tributários",
             4,
             19,
             "TSK00203",
             "Juliana Oliveira",
             "Pendente"
            ],
            [
             "2024-04-04T00:00:00.000Z",
             "2024-04-17T00:00:00.000Z",
             "Cálculo de créditos tributários",
             7,
             19,
             "TSK00204",
             "Juliana Oliveira",
             "Em Andamento"
            ],
            [
             "2024-04-21T00:00:00.000Z",
             "2024-04-25T00:00:00.000Z",
             "Preparação de defesa administrativa",
             30,
             29,
             "TSK00205",
             "Roberto Ferreira",
             "Concluída"
            ],
            [
             "2024-04-22T00:00:00.000Z",
             "2024-04-30T00:00:00.000Z",
             "Revisão de declarações",
             36,
             6,
             "TSK00206",
             "Mariana Costa",
             "Em Andamento"
            ],
            [
             "2024-04-16T00:00:00.000Z",
             "2024-04-22T00:00:00.000Z",
             "Análise preliminar dos dados",
             14,
             26,
             "TSK00207",
             "Roberto Ferreira",
             "Concluída"
            ],
            [
             "2024-04-21T00:00:00.000Z",
             "2024-05-06T00:00:00.000Z",
             "Revisão de declarações",
             13,
             3,
             "TSK00208",
             "Ana Paula Silva",
             "Concluída"
            ]
           ],
           71557.44
          ],
          [
           "CLI0038",
           "2024-04-18T00:00:00.000Z",
           "2024-07-06T00:00:00.000Z",
           88,
           46,
           "PROJ0022",
           "Implementação de Compliance Fiscal",
           "Mariana Costa",
           "Pausado",
           [
            [
             "2024-04-29T00:00:00.000Z",
             "2024-05-11T00:00:00.000Z",
             "Preparação de defesa administrativa",
             39,
             10,
             "TSK00211",
             "Carlos Eduardo Santos",
             "Atrasada"
            ],
            [
             "2024-04-20T00:00:00.000Z",
             "2024-04-28T00:00:00.000Z",
             "Revisão de declarações",
             23,
             0,
             "TSK00212",
             "Roberto Ferreira",
             "Pendente"
            ],
            [
             "2024-05-12T00:00:00.000Z",
             "2024-05-15T00:00:00.000Z",
             "Cálculo de créditos tributários",
             26,
             36,
             "TSK00213",
             "Juliana Oliveira",
             "Concluída"
            ]
           ],
           91528.04
          ],
          [
           "CLI0006",
           "2024-08-06T00:00:00.000Z",
           "2024-08-29T00:00:00.000Z",
           52,
           66,
           "PROJ0023",
           "Análise ICMS Diferencial de Alíquota",
           "Pedro Henrique",
           "Concluído",
           [
            [
             "2024-08-07T00:00:00.000Z",
             "2024-08-10T00:00:00.000Z",
             "Revisão de declarações",
             13,
             7,
             "TSK00221",
             "Carlos Eduardo Santos",
             "Em Andamento"
            ],
            [
             "2024-08-06T00:00:00.000Z",
             "2024-08-20T00:00:00.000Z",
             "Elaboração de relatório técnico",
             27,
             44,
             "TSK00222",
             "Carlos Eduardo Santos",
             "Pendente"
            ],
            [
             "2024-08-11T00:00:00.000Z",
             "2024-08-24T00:00:00.000Z",
             "Cálculo de créditos tributários",
             12,
             15,
             "TSK00223",
             "Mariana Costa",
             "Pendente"
            ]
           ],
           103570.72
          ],
          [
           "CLI0031",
           "2024-08-03T00:00:00.000Z",
           "2024-09-09T00:00:00.000Z",
           46,
           74,
           "PROJ0024",
           "Implementação de Compliance Fiscal",
           "Juliana Oliveira",
           "Cancelado",
           [
            [
             "2024-08-18T00:00:00.000Z",
             "2024-08-22T00:00:00.000Z",
             "Preparação de defesa administrativa",
             9,
             0,
             "TSK00231",
             "Roberto Ferreira",
             "Concluída"
            ],
            [
             "2024-08-05T00:00:00.000Z",
             "2024-08-11T00:00:00.000Z",
             "Cálculo de créditos tributários",
             20,
             42,
             "TSK00232",
             "Roberto Ferreira",
             "Em Andamento"
            ],
            [
             "2024-08-20T00:00:00.000Z",
             "2024-08-25T00:00:00.000Z",
             "Análise preliminar dos dados",
             17,
             32,
             "TSK00233",
             "Juliana Oliveira",
             "Concluída"
            ]
           ],
           118124.47
          ],
          [
           "CLI0006",
           "2024-05-18T00:00:00.000Z",
           "2024-06-20T00:00:00.000Z",
           87,
           182,
           "PROJ0025",
           "Auditoria Fiscal Preventiva",
           "Juliana Oliveira",
           "Pausado",
           [
            [
             "2024-05-20T00:00:00.000Z",
             "2024-05-29T00:00:00.000Z",
             "Coleta de documentação fiscal",
             16,
             42,
             "TSK00241",
             "Ana Paula Silva",
             "Atrasada"
            ],
            [
             "2024-05-24T00:00:00.000Z",
             "2024-05-29T00:00:00.000Z",
             "Revisão de declarações",
             33,
             40,
             "TSK00242",
             "Mariana Costa",
             "Atrasada"
            ],
            [
             "2024-05-24T00:00:00.000Z",
             "2024-06-03T00:00:00.000Z",
             "Coleta de documentação fiscal",
             5,
             44,
             "TSK00243",
             "Ana Paula Silva",
             "Pendente"
            ],
            [
             "2024-05-24T00:00:00.000Z",
             "2024-06-01T00:00:00.000Z",
             "Validação com cliente",
             16,
             25,
             "TSK00244",
             "Carlos Eduardo Santos",
             "Atrasada"
            ],
            [
             "2024-06-02T00:00:00.000Z",
             "2024-06-07T00:00:00.000Z",
             "Finalização e entrega",
             17,
             31,
             "TSK00245",
             "Roberto Ferreira",
             "Concluída"
            ]
           ],
           37102.83
          ],
          [
           "CLI0044",
           "2024-06-09T00:00:00.000Z",
           "2024-08-26T00:00:00.000Z",
           131,
           137,
           "PROJ0026",
           "Análise ICMS Diferencial de Alíquota",
           "Pedro Henrique",
           "Em Andamento",
           [
            [
             "2024-07-18T00:00:00.000Z",
             "2024-07-30T00:00:00.000Z",
             "Coleta de documentação fiscal",
             33,
             18,
             "TSK00251",
             "Carlos Eduardo Santos",
             "Concluída"
            ],
            [
             "2024-06-17T00:00:00.000Z",
             "2024-06-25T00:00:00.000Z",
             "Coleta de documentação fiscal",
             16,
             5,
             "TSK00252",
             "Mariana Costa",
             "Pendente"
            ],
            [
             "2024-06-12T00:00:00.000Z",
             "2024-06-26T00:00:00.000Z",
             "Revisão de declarações",
             21,
             29,
             "TSK00253",
             "Pedro Henrique",
             "Concluída"
            ],
            [
             "2024-06-23T00:00:00.000Z",
             "2024-07-04T00:00:00.000Z",
             "Revisão de declarações",
             28,
             44,
             "TSK00254",
             "Carlos Eduardo Santos",
             "Em Andamento"
            ],
            [
             "2024-07-14T00:00:00.000Z",
             "2024-07-25T00:00:00.000Z",
             "Coleta de documentação fiscal",
             33,
             41,
             "TSK00255",
             "Roberto Ferreira",
             "Pendente"
            ]
           ],
           95910.64
          ],
          [
           "CLI0040",
           "2024-08-17T00:00:00.000Z",
           "2024-10-04T00:00:00.000Z",
           141,
           151,
           "PROJ0027",
           "Recuperação de Crédito PIS/COFINS",
           "Ana Paula Silva",
           "Concluído",
           [
            [
             "2024-08-18T00:00:00.000Z",
             "2024-08-30T00:00:00.000Z",
             "Cálculo de créditos tributários",
             21,
             13,
             "TSK00261",
             "Ana Paula Silva",
             "Atrasada"
            ],
            [
             "2024-08-19T00:00:00.000Z",
             "2024-08-25T00:00:00.000Z",
             "Elaboração de relatório técnico",
             37,
             8,
             "TSK00262",
             "Roberto Ferreira",
             "Atrasada"
            ],
            [
             "2024-09-04T00:00:00.000Z",
             "2024-09-12T00:00:00.000Z",
             "Cálculo de créditos tributários",
             26,
             7,
             "TSK00263",
             "Carlos Eduardo Santos",
             "Em Andamento"
            ],
            [
             "2024-08-28T00:00:00.000Z",
             "2024-09-04T00:00:00.000Z",
             "Preparação de defesa administrativa",
             37,
             39,
             "TSK00264",
             "Mariana Costa",
             "Pendente"
            ],
            [
             "2024-08-28T00:00:00.000Z",
             "2024-09-04T00:00:00.000Z",
             "Preparação de defesa administrativa",
             5,
             18,
             "TSK00265",
             "Roberto Ferreira",
             "Atrasada"
            ],
            [
             "2024-08-29T00:00:00.000Z",
             "2024-09-06T00:00:00.000Z",
             "Elaboração de relatório técnico",
             9,
             38,
             "TSK00266",
             "Mariana Costa",
             "Concluída"
            ],
            [
             "2024-09-06T00:00:00.000Z",
             "2024-09-21T00:00:00.000Z",
             "Validação com cliente",
             6,
             28,
             "TSK00267",
             "Mariana Costa",
             "Pendente"
            ]
           ],
           115232.06
          ],
          [
           "CLI0048",
           "2024-06-07T00:00:00.000Z",
           "2024-08-29T00:00:00.000Z",
           162,
           100,
           "PROJ0028",
           "Revisão ISS Serviços",
           "Mariana Costa",
           "Cancelado",
           [
            [
             "2024-06-29T00:00:00.000Z",
             "2024-07-02T00:00:00.000Z",
             "Validação com cliente",
             35,
             32,
             "TSK00271",
             "Mariana Costa",
             "Em Andamento"
            ],
            [
             "2024-07-14T00:00:00.000Z",
             "2024-07-19T00:00:00.000Z",
             "Análise preliminar dos dados",
             34,
             19,
             "TSK00272",
             "Mariana Costa",
             "Atrasada"
            ],
            [
             "2024-06-14T00:00:00.000Z",
             "2024-06-18T00:00:00.000Z",
             "Elaboração de relatório técnico",
             28,
             21,
             "TSK00273",
             "Juliana Oliveira",
             "Em Andamento"
            ],
            [
             "2024-07-13T00:00:00.000Z",
             "2024-07-20T00:00:00.000Z",
             "Análise preliminar dos dados",
             14,
             20,
             "TSK00274",
             "Mariana Costa",
             "Em Andamento"
            ],
            [
             "2024-06-16T00:00:00.000Z",
             "2024-06-24T00:00:00.000Z",
             "Validação com cliente",
             12,
             6,
             "TSK00275",
             "Mariana Costa",
             "Pendente"
            ],
            [
             "2024-06-20T00:00:00.000Z",
             "2024-06-28T00:00:00.000Z",
             "Elaboração de relatório técnico",
             39,
             2,
             "TSK00276",
             "Pedro Henrique",
             "Em Andamento"
            ]
           ],
           101531.6
          ],
          [
           "CLI0027",
           "2024-05-24T00:00:00.000Z",
           "2024-06-10T00:00:00.000Z",
           55,
           77,
           "PROJ0029",
           "Recuperação de Crédito PIS/COFINS",
           "Carlos Eduardo Santos",
           "Cancelado",
           [
            [
             "2024-05-25T00:00:00.000Z",
             "2024-06-07T00:00:00.000Z",
             "Validação com cliente",
             9,
             24,
             "TSK00281",
             "Roberto Ferreira",
             "Em Andamento"
            ],
            [
             "2024-06-01T00:00:00.000Z",
             "2024-06-11T00:00:00.000Z",
             "Validação com cliente",
             24,
             27,
             "TSK00282",
             "Ana Paula Silva",
             "Em Andamento"
            ],
            [
             "2024-05-30T00:00:00.000Z",
             "2024-06-10T00:00:00.000Z",
             "Elaboração de relatório técnico",
             18,
             1,
             "TSK00283",
             "Pedro Henrique",
             "Concluída"
            ],
            [
             "2024-05-30T00:00:00.000Z",
             "2024-06-05T00:00:00.000Z",
             "Finalização e entrega",
             4,
             25,
             "TSK00284",
             "Roberto Ferreira",
             "Atrasada"
            ]
           ],
           116127.29
          ],
          [
           "CLI0037",
           "2024-08-06T00:00:00.000Z",
           "2024-09-10T00:00:00.000Z",
           107,
           174,
           "PROJ0030",
           "Análise ICMS Diferencial de Alíquota",
           "Mariana Costa",
           "Em Planejamento",
           [
            [
             "2024-08-17T00:00:00.000Z",
             "2024-08-25T00:00:00.000Z",
             "Finalização e entrega",
             17,
             45,
             "TSK00291",
             "Juliana Oliveira",
             "Em Andamento"
            ],
            [
             "2024-08-15T00:00:00.000Z",
             "2024-08-18T00:00:00.000Z",
             "Análise preliminar dos dados",
             37,
             26,
             "TSK00292",
             "Roberto Ferreira",
             "Atrasada"
            ],
            [
             "2024-08-21T00:00:00.000Z",
             "2024-09-02T00:00:00.000Z",
             "Elaboração de relatório técnico",
             28,
             43,
             "TSK00293",
             "Juliana Oliveira",
             "Atrasada"
            ],
            [
             "2024-08-07T00:00:00.000Z",
             "2024-08-11T00:00:00.000Z",
             "Revisão de declarações",
             5,
             35,
             "TSK00294",
             "Roberto Ferreira",
             "Pendente"
            ],
            [
             "2024-08-16T00:00:00.000Z",
             "2024-08-19T00:00:00.000Z",
             "Análise preliminar dos dados",
             20,
             25,
             "TSK00295",
             "Juliana Oliveira",
             "Atrasada"
            ]
           ],
           52413.29
          ],
          [
           "CLI0002",
           "2024-03-30T00:00:00.000Z",
           "2024-04-20T00:00:00.000Z",
           142,
           166,
           "PROJ0031",
           "Revisão ISS Serviços",
           "Juliana Oliveira",
           "Em Andamento",
           [
            [
             "2024-03-31T00:00:00.000Z",
             "2024-04-10T00:00:00.000Z",
             "Análise preliminar dos dados",
             17,
             45,
             "TSK00301",
             "Juliana Oliveira",
             "Atrasada"
            ],
            [
             "2024-04-07T00:00:00.000Z",
             "2024-04-15T00:00:00.000Z",
             "Preparação de defesa administrativa",
             9,
             21,
             "TSK00302",
             "Roberto Ferreira",
             "Atrasada"
            ],
            [
             "2024-04-09T00:00:00.000Z",
             "2024-04-20T00:00:00.000Z",
             "Revisão de declarações",
             22,
             26,
             "TSK00303",
             "Ana Paula Silva",
             "Pendente"
            ],
            [
             "2024-04-04T00:00:00.000Z",
             "2024-04-13T00:00:00.000Z",
             "Análise preliminar dos dados",
             25,
             22,
             "TSK00304",
             "Mariana Costa",
             "Concluída"
            ],
            [
             "2024-04-04T00:00:00.000Z",
             "2024-04-09T00:00:00.000Z",
             "Revisão de declarações",
             35,
             50,
             "TSK00305",
             "Ana Paula Silva",
             "Pendente"
            ],
            [
             "2024-04-01T00:00:00.000Z",
             "2024-04-11T00:00:00.000Z",
             "Análise preliminar dos dados",
             7,
             2,
             "TSK00306",
             "Pedro Henrique",
             "Pendente"
            ],
            [
             "2024-03-30T00:00:00.000Z",
             "2024-04-13T00:00:00.000Z",
             "Elaboração de relatório técnico",
             27,
             0,
             "TSK00307",
             "Carlos Eduardo Santos",
             "Em Andamento"
            ]
           ],
           134306.28
          ],
          [
           "CLI0050",
           "2024-10-05T00:00:00.000Z",
           "2025-01-01T00:00:00.000Z",
           157,
           160,
           "PROJ0032",
           "Recuperação de Crédito PIS/COFINS",
           "Juliana Oliveira",
           "Cancelado",
           [
            [
             "2024-10-22T00:00:00.000Z",
             "2024-10-25T00:00:00.000Z",
             "Preparação de defesa administrativa",
             30,
             36,
             "TSK00311",
             "Mariana Costa",
             "Concluída"
            ],
            [
             "2024-11-07T00:00:00.000Z",
             "2024-11-16T00:00:00.000Z",
             "Preparação de defesa administrativa",
             40,
             5,
             "TSK00312",
             "Juliana Oliveira",
             "Pendente"
            ],
            [
             "2024-10-13T00:00:00.000Z",
             "2024-10-20T00:00:00.000Z",
             "Cálculo de créditos tributários",
             29,
             43,
             "TSK00313",
             "Ana Paula Silva",
             "Atrasada"
            ],
            [
             "2024-11-02T00:00:00.000Z",
             "2024-11-13T00:00:00.000Z",
             "Coleta de documentação fiscal",
             31,
             25,
             "TSK00314",
             "Carlos Eduardo Santos",
             "Pendente"
            ],
            [
             "2024-10-15T00:00:00.000Z",
             "2024-10-28T00:00:00.000Z",
             "Elaboração de relatório técnico",
             12,
             38,
             "TSK00315",
             "Mariana Costa",
             "Concluída"
            ],
            [
             "2024-10-25T00:00:00.000Z",
             "2024-11-09T00:00:00.000Z",
             "Revisão de declarações",
             15,
             13,
             "TSK00316",
             "Pedro Henrique",
             "Concluída"
            ]
           ],
           91839.06
          ],
          [
           "CLI0029",
           "2024-04-15T00:00:00.000Z",
           "2024-06-13T00:00:00.000Z",
           58,
           97,
           "PROJ0033",
           "Análise ICMS Diferencial de Alíquota",
           "Roberto Ferreira",
           "Em Andamento",
           [
            [
             "2024-05-10T00:00:00.000Z",
             "2024-05-14T00:00:00.000Z",
             "Análise preliminar dos dados",
             26,
             47,
             "TSK00321",
             "Mariana Costa",
             "Pendente"
            ],
            [
             "2024-04-15T00:00:00.000Z",
             "2024-04-23T00:00:00.000Z",
             "Finalização e entrega",
             20,
             37,
             "TSK00322",
             "Carlos Eduardo Santos",
             "Pendente"
            ],
            [
             "2024-05-10T00:00:00.000Z",
             "2024-05-17T00:00:00.000Z",
             "Análise preliminar dos dados",
             12,
             13,
             "TSK00323",
             "Roberto Ferreira",
             "Pendente"
            ]
           ],
           18425.6
          ],
          [
           "CLI0022",
           "2024-02-07T00:00:00.000Z",
           "2024-04-13T00:00:00.000Z",
           99,
           72,
           "PROJ0034",
           "Implementação de Compliance Fiscal",
           "Juliana Oliveira",
           "Cancelado",
           [
            [
             "2024-03-09T00:00:00.000Z",
             "2024-03-19T00:00:00.000Z",
             "Elaboração de relatório técnico",
             36,
             21,
             "TSK00331",
             "Pedro Henrique",
             "Pendente"
            ],
            [
             "2024-02-15T00:00:00.000Z",
             "2024-02-25T00:00:00.000Z",
             "Revisão de declarações",
             12,
             41,
             "TSK00332",
             "Carlos Eduardo Santos",
             "Em Andamento"
            ],
            [
             "2024-03-01T00:00:00.000Z",
             "2024-03-13T00:00:00.000Z",
             "Cálculo de créditos tributários",
             36,
             2,
             "TSK00333",
             "Ana Paula Silva",
             "Em Andamento"
            ],
            [
             "2024-02-23T00:00:00.000Z",
             "2024-03-03T00:00:00.000Z",
             "Coleta de documentação fiscal",
             15,
             8,
             "TSK00334",
             "Mariana Costa",
             "Em Andamento"
            ]
           ],
           46241.36
          ],
          [
           "CLI0032",
           "2024-02-03T00:00:00.000Z",
           "2024-04-16T00:00:00.000Z",
           140,
           134,
           "PROJ0035",
           "Implementação de Compliance Fiscal",
           "Carlos Eduardo Santos",
           "Em Planejamento",
           [
            [
             "2024-02-04T00:00:00.000Z",
             "2024-02-16T00:00:00.000Z",
             "Validação com cliente",
             11,
             32,
             "TSK00341",
             "Mariana Costa",
             "Concluída"
            ],
            [
             "2024-03-06T00:00:00.000Z",
             "2024-03-13T00:00:00.000Z",
             "Cálculo de créditos tributários",
             16,
             11,
             "TSK00342",
             "Roberto Ferreira",
             "Atrasada"
            ],
            [
             "2024-02-16T00:00:00.000Z",
             "2024-02-29T00:00:00.000Z",
             "Análise preliminar dos dados",
             9,
             21,
             "TSK00343",
             "Ana Paula Silva",
             "Em Andamento"
            ],
            [
             "2024-02-08T00:00:00.000Z",
             "2024-02-12T00:00:00.000Z",
             "Análise preliminar dos dados",
             38,
             5,
             "TSK00344",
             "Roberto Ferreira",
             "Pendente"
            ],
            [
             "2024-03-01T00:00:00.000Z",
             "2024-03-06T00:00:00.000Z",
             "Finalização e entrega",
             14,
             30,
             "TSK00345",
             "Carlos Eduardo Santos",
             "Pendente"
            ],
            [
             "2024-03-02T00:00:00.000Z",
             "2024-03-14T00:00:00.000Z",
             "Cálculo de créditos tributários",
             6,
             0,
             "TSK00346",
             "Ana Paula Silva",
             "Em Andamento"
            ],
            [
             "2024-02-04T00:00:00.000Z",
             "2024-02-18T00:00:00.000Z",
             "Elaboração de relatório técnico",
             25,
             16,
             "TSK00347",
             "Ana Paula Silva",
             "Pendente"
            ],
            [
             "2024-02-24T00:00:00.000Z",
             "2024-03-10T00:00:00.000Z",
             "Coleta de documentação fiscal",
             21,
             19,
             "TSK00348",
             "Carlos Eduardo Santos",
             "Pendente"
            ]
           ],
           123861.3
          ],
          [
           "CLI0046",
           "2024-08-26T00:00:00.000Z",
           "2024-10-08T00:00:00.000Z",
           126,
           131,
           "PROJ0036",
           "Recuperação de Crédito PIS/COFINS",
           "Roberto Ferreira",
           "Concluído",
           [
            [
             "2024-09-10T00:00:00.000Z",
             "2024-09-21T00:00:00.000Z",
             "Preparação de defesa administrativa",
             23,
             36,
             "TSK00351",
             "Roberto Ferreira",
             "Concluída"
            ],
            [
             "2024-08-31T00:00:00.000Z",
             "2024-09-08T00:00:00.000Z",
             "Preparação de defesa administrativa",
             7,
             21,
             "TSK00352",
             "Carlos Eduardo Santos",
             "Concluída"
            ],
            [
             "2024-09-09T00:00:00.000Z",
             "2024-09-16T00:00:00.000Z",
             "Cálculo de créditos tributários",
             13,
             24,
             "TSK00353",
             "Carlos Eduardo Santos",
             "Pendente"
            ],
            [
             "2024-08-28T00:00:00.000Z",
             "2024-09-10T00:00:00.000Z",
             "Preparação de defesa administrativa",
             25,
             4,
             "TSK00354",
             "Ana Paula Silva",
             "Pendente"
            ],
            [
             "2024-09-11T00:00:00.000Z",
             "2024-09-17T00:00:00.000Z",
             "Coleta de documentação fiscal",
             37,
             24,
             "TSK00355",
             "Pedro Henrique",
             "Em Andamento"
            ],
            [
             "2024-09-16T00:00:00.000Z",
             "2024-09-20T00:00:00.000Z",
             "Validação com cliente",
             21,
             22,
             "TSK00356",
             "Roberto Ferreira",
             "Em Andamento"
            ]
           ],
           33450.47
          ],
          [
           "CLI0045",
           "2024-02-09T00:00:00.000Z",
           "2024-03-22T00:00:00.000Z",
           87,
           85,
           "PROJ0037",
           "Planejamento Tributário Anual",
           "Juliana Oliveira",
           "Concluído",
           [
            [
             "2024-02-28T00:00:00.000Z",
             "2024-03-09T00:00:00.000Z",
             "Preparação de defesa administrativa",
             9,
             46,
             "TSK00361",
             "Roberto Ferreira",
             "Pendente"
            ],
            [
             "2024-02-11T00:00:00.000Z",
             "2024-02-23T00:00:00.000Z",
             "Elaboração de relatório técnico",
             39,
             1,
             "TSK00362",
             "Ana Paula Silva",
             "Concluída"
            ],
            [
             "2024-03-01T00:00:00.000Z",
             "2024-03-16T00:00:00.000Z",
             "Elaboração de relatório técnico",
             39,
             38,
             "TSK00363",
             "Juliana Oliveira",
             "Concluída"
            ]
           ],
           78468.55
          ],
          [
           "CLI0013",
           "2024-03-03T00:00:00.000Z",
           "2024-05-09T00:00:00.000Z",
           90,
           114,
           "PROJ0038",
           "Planejamento Tributário Anual",
           "Carlos Eduardo Santos",
           "Concluído",
           [
            [
             "2024-04-05T00:00:00.000Z",
             "2024-04-18T00:00:00.000Z",
             "Validação com cliente",
             34,
             38,
             "TSK00371",
             "Ana Paula Silva",
             "Em Andamento"
            ],
            [
             "2024-03-17T00:00:00.000Z",
             "2024-03-25T00:00:00.000Z",
             "Análise preliminar dos dados",
             14,
             46,
             "TSK00372",
             "Mariana Costa",
             "Concluída"
            ],
            [
             "2024-04-01T00:00:00.000Z",
             "2024-04-15T00:00:00.000Z",
             "Revisão de declarações",
             19,
             28,
             "TSK00373",
             "Ana Paula Silva",
             "Em Andamento"
            ],
            [
             "2024-03-14T00:00:00.000Z",
             "2024-03-28T00:00:00.000Z",
             "Elaboração de relatório técnico",
             23,
             2,
             "TSK00374",
             "Roberto Ferreira",
             "Em Andamento"
            ]
           ],
           133804.88
          ],
          [
           "CLI0012",
           "2024-07-02T00:00:00.000Z",
           "2024-09-08T00:00:00.000Z",
           123,
           213,
           "PROJ0039",
           "Auditoria Fiscal Preventiva",
           "Pedro Henrique",
           "Em Planejamento",
           [
            [
             "2024-08-02T00:00:00.000Z",
             "2024-08-14T00:00:00.000Z",
             "Validação com cliente",
             7,
             28,
             "TSK00381",
             "Pedro Henrique",
             "Concluída"
            ],
            [
             "2024-07-09T00:00:00.000Z",
             "2024-07-14T00:00:00.000Z",
             "Finalização e entrega",
             30,
             10,
             "TSK00382",
             "Juliana Oliveira",
             "Atrasada"
            ],
            [
             "2024-07-24T00:00:00.000Z",
             "2024-08-02T00:00:00.000Z",
             "Revisão de declarações",
             15,
             44,
             "TSK00383",
             "Mariana Costa",
             "Atrasada"
            ],
            [
             "2024-07-10T00:00:00.000Z",
             "2024-07-19T00:00:00.000Z",
             "Preparação de defesa administrativa",
             13,
             46,
             "TSK00384",
             "Juliana Oliveira",
             "Em Andamento"
            ],
            [
             "2024-07-31T00:00:00.000Z",
             "2024-08-03T00:00:00.000Z",
             "Cálculo de créditos tributários",
             31,
             50,
             "TSK00385",
             "Mariana Costa",
             "Pendente"
            ],
            [
             "2024-07-07T00:00:00.000Z",
             "2024-07-13T00:00:00.000Z",
             "Elaboração de relatório técnico",
             27,
             35,
             "TSK00386",
             "Carlos Eduardo Santos",
             "Pendente"
            ]
           ],
           95970.47
          ],
          [
           "CLI0022",
           "2024-07-29T00:00:00.000Z",
           "2024-08-14T00:00:00.000Z",
           101,
           143,
           "PROJ0040",
           "Planejamento Tributário Anual",
           "Carlos Eduardo Santos",
           "Concluído",
           [
            [
             "2024-08-06T00:00:00.000Z",
             "2024-08-15T00:00:00.000Z",
             "Coleta de documentação fiscal",
             23,
             20,
             "TSK00391",
             "Ana Paula Silva",
             "Pendente"
            ],
            [
             "2024-08-04T00:00:00.000Z",
             "2024-08-07T00:00:00.000Z",
             "Finalização e entrega",
             17,
             28,
             "TSK00392",
             "Pedro Henrique",
             "Pendente"
            ],
            [
             "2024-07-29T00:00:00.000Z",
             "2024-08-13T00:00:00.000Z",
             "Coleta de documentação fiscal",
             17,
             15,
             "TSK00393",
             "Pedro Henrique",
             "Concluída"
            ],
            [
             "2024-07-30T00:00:00.000Z",
             "2024-08-11T00:00:00.000Z",
             "Revisão de declarações",
             7,
             37,
             "TSK00394",
             "Ana Paula Silva",
             "Atrasada"
            ],
            [
             "2024-08-05T00:00:00.000Z",
             "2024-08-16T00:00:00.000Z",
             "Elaboração de relatório técnico",
             37,
             43,
             "TSK00395",
             "Juliana Oliveira",
             "Concluída"
            ]
           ],
           36771.83
          ],
          [
           "CLI0036",
           "2024-03-04T00:00:00.000Z",
           "2024-05-23T00:00:00.000Z",
           155,
           179,
           "PROJ0041",
           "Análise ICMS Diferencial de Alíquota",
           "Mariana Costa",
           "Concluído",
           [
            [
             "2024-03-14T00:00:00.000Z",
             "2024-03-20T00:00:00.000Z",
             "Cálculo de créditos tributários",
             9,
             1,
             "TSK00401",
             "Carlos Eduardo Santos",
             "Pendente"
            ],
            [
             "2024-04-12T00:00:00.000Z",
             "2024-04-27T00:00:00.000Z",
             "Preparação de defesa administrativa",
             23,
             3,
             "TSK00402",
             "Mariana Costa",
             "Concluída"
            ],
            [
             "2024-04-02T00:00:00.000Z",
             "2024-04-17T00:00:00.000Z",
             "Elaboração de relatório técnico",
             13,
             33,
             "TSK00403",
             "Carlos Eduardo Santos",
             "Atrasada"
            ],
            [
             "2024-04-05T00:00:00.000Z",
             "2024-04-17T00:00:00.000Z",
             "Preparação de defesa administrativa",
             11,
             43,
             "TSK00404",
             "Mariana Costa",
             "Atrasada"
            ],
            [
             "2024-03-19T00:00:00.000Z",
             "2024-04-02T00:00:00.000Z",
             "Finalização e entrega",
             36,
             36,
             "TSK00405",
             "Pedro Henrique",
             "Atrasada"
            ],
            [
             "2024-04-12T00:00:00.000Z",
             "2024-04-27T00:00:00.000Z",
             "Revisão de declarações",
             35,
             36,
             "TSK00406",
             "Roberto Ferreira",
             "Atrasada"
            ],
            [
             "2024-03-31T00:00:00.000Z",
             "2024-04-15T00:00:00.000Z",
             "Finalização e entrega",
             28,
             27,
             "TSK00407",
             "Pedro Henrique",
             "Atrasada"
            ]
           ],
           84785.53
          ],
          [
           "CLI0022",
           "2024-10-07T00:00:00.000Z",
           "2024-12-18T00:00:00.000Z",
           63,
           65,
           "PROJ0042",
           "Revisão ISS Serviços",
           "Pedro Henrique",
           "Cancelado",
           [
            [
             "2024-10-16T00:00:00.000Z",
             "2024-10-24T00:00:00.000Z",
             "Coleta de documentação fiscal",
             29,
             28,
             "TSK00411",
             "Ana Paula Silva",
             "Pendente"
            ],
            [
             "2024-11-11T00:00:00.000Z",
             "2024-11-25T00:00:00.000Z",
             "Cálculo de créditos tributários",
             20,
             20,
             "TSK00412",
             "Roberto Ferreira",
             "Concluída"
            ],
            [
             "2024-10-25T00:00:00.000Z",
             "2024-10-31T00:00:00.000Z",
             "Elaboração de relatório técnico",
             14,
             17,
             "TSK00413",
             "Carlos Eduardo Santos",
             "Atrasada"
            ]
           ],
           66952.39
          ],
          [
           "CLI0028",
           "2024-07-18T00:00:00.000Z",
           "2024-08-09T00:00:00.000Z",
           116,
           100,
           "PROJ0043",
           "Auditoria Fiscal Preventiva",
           "Roberto Ferreira",
           "Em Andamento",
           [
            [
             "2024-07-26T00:00:00.000Z",
             "2024-08-08T00:00:00.000Z",
             "Coleta de documentação fiscal",
             32,
             18,
             "TSK00421",
             "Ana Paula Silva",
             "Em Andamento"
            ],
            [
             "2024-07-26T00:00:00.000Z",
             "2024-08-08T00:00:00.000Z",
             "Elaboração de relatório técnico",
             40,
             46,
             "TSK00422",
             "Roberto Ferreira",
             "Concluída"
            ],
            [
             "2024-07-21T00:00:00.000Z",
             "2024-07-30T00:00:00.000Z",
             "Revisão de declarações",
             34,
             29,
             "TSK00423",
             "Ana Paula Silva",
             "Pendente"
            ],
            [
             "2024-07-29T00:00:00.000Z",
             "2024-08-06T00:00:00.000Z",
             "Coleta de documentação fiscal",
             10,
             7,
             "TSK00424",
             "Ana Paula Silva",
             "Atrasada"
            ]
           ],
           29581.3
          ],
          [
           "CLI0028",
           "2024-09-29T00:00:00.000Z",
           "2024-12-10T00:00:00.000Z",
           152,
           155,
           "PROJ0044",
           "Revisão ISS Serviços",
           "Carlos Eduardo Santos",
           "Concluído",
           [
            [
             "2024-10-10T00:00:00.000Z",
             "2024-10-17T00:00:00.000Z",
             "Preparação de defesa administrativa",
             27,
             6,
             "TSK00431",
             "Carlos Eduardo Santos",
             "Atrasada"
            ],
            [
             "2024-10-01T00:00:00.000Z",
             "2024-10-04T00:00:00.000Z",
             "Coleta de documentação fiscal",
             26,
             35,
             "TSK00432",
             "Carlos Eduardo Santos",
             "Concluída"
            ],
            [
             "2024-10-19T00:00:00.000Z",
             "2024-11-03T00:00:00.000Z",
             "Finalização e entrega",
             23,
             49,
             "TSK00433",
             "Ana Paula Silva",
             "Atrasada"
            ],
            [
             "2024-09-30T00:00:00.000Z",
             "2024-10-15T00:00:00.000Z",
             "Validação com cliente",
             7,
             12,
             "TSK00434",
             "Roberto Ferreira",
             "Concluída"
            ],
            [
             "2024-10-26T00:00:00.000Z",
             "2024-10-31T00:00:00.000Z",
             "Coleta de documentação fiscal",
             39,
             18,
             "TSK00435",
             "Mariana Costa",
             "Atrasada"
            ],
            [
             "2024-10-12T00:00:00.000Z",
             "2024-10-22T00:00:00.000Z",
             "Validação com cliente",
             30,
             35,
             "TSK00436",
             "Juliana Oliveira",
             "Em Andamento"
            ]
           ],
           28262.14
          ],
          [
           "CLI0012",
           "2024-04-15T00:00:00.000Z",
           "2024-05-13T00:00:00.000Z",
           160,
           105,
           "PROJ0045",
           "Implementação de Compliance Fiscal",
           "Ana Paula Silva",
           "Pausado",
           [
            [
             "2024-04-26T00:00:00.000Z",
             "2024-05-08T00:00:00.000Z",
             "Cálculo de créditos tributários",
             19,
             6,
             "TSK00441",
             "Ana Paula Silva",
             "Concluída"
            ],
            [
             "2024-04-24T00:00:00.000Z",
             "2024-05-03T00:00:00.000Z",
             "Finalização e entrega",
             26,
             38,
             "TSK00442",
             "Carlos Eduardo Santos",
             "Atrasada"
            ],
            [
             "2024-04-18T00:00:00.000Z",
             "2024-04-28T00:00:00.000Z",
             "Coleta de documentação fiscal",
             40,
             34,
             "TSK00443",
             "Carlos Eduardo Santos",
             "Concluída"
            ],
            [
             "2024-04-23T00:00:00.000Z",
             "2024-04-30T00:00:00.000Z",
             "Cálculo de créditos tributários",
             35,
             19,
             "TSK00444",
             "Juliana Oliveira",
             "Atrasada"
            ],
            [
             "2024-04-21T00:00:00.000Z",
             "2024-05-02T00:00:00.000Z",
             "Coleta de documentação fiscal",
             40,
             8,
             "TSK00445",
             "Carlos Eduardo Santos",
             "Em Andamento"
            ]
           ],
           15093.62
          ],
          [
           "CLI0008",
           "2024-04-06T00:00:00.000Z",
           "2024-05-04T00:00:00.000Z",
           81,
           95,
           "PROJ0046",
           "Análise ICMS Diferencial de Alíquota",
           "Juliana Oliveira",
           "Pausado",
           [
            [
             "2024-04-10T00:00:00.000Z",
             "2024-04-25T00:00:00.000Z",
             "Coleta de documentação fiscal",
             40,
             28,
             "TSK00451",
             "Pedro Henrique",
             "Atrasada"
            ],
            [
             "2024-04-20T00:00:00.000Z",
             "2024-05-01T00:00:00.000Z",
             "Análise preliminar dos dados",
             11,
             45,
             "TSK00452",
             "Juliana Oliveira",
             "Pendente"
            ],
            [
             "2024-04-19T00:00:00.000Z",
             "2024-05-03T00:00:00.000Z",
             "Finalização e entrega",
             30,
             22,
             "TSK00453",
             "Juliana Oliveira",
             "Concluída"
            ]
           ],
           133727.78
          ],
          [
           "CLI0015",
           "2024-06-21T00:00:00.000Z",
           "2024-09-01T00:00:00.000Z",
           185,
           168,
           "PROJ0047",
           "Implementação de Compliance Fiscal",
           "Mariana Costa",
           "Em Planejamento",
           [
            [
             "2024-07-06T00:00:00.000Z",
             "2024-07-15T00:00:00.000Z",
             "Coleta de documentação fiscal",
             5,
             15,
             "TSK00461",
             "Roberto Ferreira",
             "Concluída"
            ],
            [
             "2024-07-19T00:00:00.000Z",
             "2024-07-24T00:00:00.000Z",
             "Cálculo de créditos tributários",
             12,
             22,
             "TSK00462",
             "Mariana Costa",
             "Concluída"
            ],
            [
             "2024-07-20T00:00:00.000Z",
             "2024-07-29T00:00:00.000Z",
             "Revisão de declarações",
             39,
             1,
             "TSK00463",
             "Pedro Henrique",
             "Pendente"
            ],
            [
             "2024-06-21T00:00:00.000Z",
             "2024-06-27T00:00:00.000Z",
             "Cálculo de créditos tributários",
             28,
             21,
             "TSK00464",
             "Roberto Ferreira",
             "Em Andamento"
            ],
            [
             "2024-06-22T00:00:00.000Z",
             "2024-06-30T00:00:00.000Z",
             "Elaboração de relatório técnico",
             16,
             41,
             "TSK00465",
             "Ana Paula Silva",
             "Em Andamento"
            ],
            [
             "2024-07-12T00:00:00.000Z",
             "2024-07-25T00:00:00.000Z",
             "Preparação de defesa administrativa",
             37,
             37,
             "TSK00466",
             "Roberto Ferreira",
             "Em Andamento"
            ],
            [
             "2024-07-16T00:00:00.000Z",
             "2024-07-27T00:00:00.000Z",
             "Elaboração de relatório técnico",
             37,
             29,
             "TSK00467",
             "Mariana Costa",
             "Concluída"
            ],
            [
             "2024-07-14T00:00:00.000Z",
             "2024-07-23T00:00:00.000Z",
             "Análise preliminar dos dados",
             11,
             2,
             "TSK00468",
             "Ana Paula Silva",
             "Atrasada"
            ]
           ],
           116420.6
          ],
          [
           "CLI0033",
           "2024-06-22T00:00:00.000Z",
           "2024-08-02T00:00:00.000Z",
           74,
           123,
           "PROJ0048",
           "Revisão ISS Serviços",
           "Carlos Eduardo Santos",
           "Em Andamento",
           [
            [
             "2024-07-09T00:00:00.000Z",
             "2024-07-20T00:00:00.000Z",
             "Validação com cliente",
             26,
             21,
             "TSK00471",
             "Carlos Eduardo Santos",
             "Concluída"
            ],
            [
             "2024-07-07T00:00:00.000Z",
             "2024-07-21T00:00:00.000Z",
             "Coleta de documentação fiscal",
             20,
             31,
             "TSK00472",
             "Juliana Oliveira",
             "Concluída"
            ],
            [
             "2024-07-02T00:00:00.000Z",
             "2024-07-16T00:00:00.000Z",
             "Cálculo de créditos tributários",
             4,
             35,
             "TSK00473",
             "Ana Paula Silva",
             "Atrasada"
            ],
            [
             "2024-06-28T00:00:00.000Z",
             "2024-07-08T00:00:00.000Z",
             "Análise preliminar dos dados",
             24,
             36,
             "TSK00474",
             "Pedro Henrique",
             "Atrasada"
            ]
           ],
           44518.49
          ],
          [
           "CLI0014",
           "2024-07-13T00:00:00.000Z",
           "2024-09-30T00:00:00.000Z",
           78,
           125,
           "PROJ0049",
           "Recuperação de Crédito PIS/COFINS",
           "Ana Paula Silva",
           "Cancelado",
           [
            [
             "2024-07-15T00:00:00.000Z",
             "2024-07-25T00:00:00.000Z",
             "Análise preliminar dos dados",
             22,
             40,
             "TSK00481",
             "Carlos Eduardo Santos",
             "Em Andamento"
            ],
            [
             "2024-07-16T00:00:00.000Z",
             "2024-07-30T00:00:00.000Z",
             "Preparação de defesa administrativa",
             20,
             39,
             "TSK00482",
             "Pedro Henrique",
             "Pendente"
            ],
            [
             "2024-07-28T00:00:00.000Z",
             "2024-07-31T00:00:00.000Z",
             "Elaboração de relatório técnico",
             36,
             46,
             "TSK00483",
             "Pedro Henrique",
             "Concluída"
            ]
           ],
           70880.58
          ],
          [
           "CLI0016",
           "2024-09-30T00:00:00.000Z",
           "2024-10-28T00:00:00.000Z",
           140,
           196,
           "PROJ0050",
           "Análise ICMS Diferencial de Alíquota",
           "Roberto Ferreira",
           "Em Planejamento",
           [
            [
             "2024-10-05T00:00:00.000Z",
             "2024-10-16T00:00:00.000Z",
             "Finalização e entrega",
             12,
             20,
             "TSK00491",
             "Juliana Oliveira",
             "Pendente"
            ],
            [
             "2024-10-04T00:00:00.000Z",
             "2024-10-12T00:00:00.000Z",
             "Análise preliminar dos dados",
             18,
             44,
             "TSK00492",
             "Carlos Eduardo Santos",
             "Pendente"
            ],
            [
             "2024-10-03T00:00:00.000Z",
             "2024-10-18T00:00:00.000Z",
             "Finalização e entrega",
             9,
             28,
             "TSK00493",
             "Juliana Oliveira",
             "Atrasada"
            ],
            [
             "2024-10-08T00:00:00.000Z",
             "2024-10-15T00:00:00.000Z",
             "Análise preliminar dos dados",
             20,
             50,
             "TSK00494",
             "Roberto Ferreira",
             "Pendente"
            ],
            [
             "2024-09-30T00:00:00.000Z",
             "2024-10-08T00:00:00.000Z",
             "Revisão de declarações",
             38,
             6,
             "TSK00495",
             "Ana Paula Silva",
             "Atrasada"
            ],
            [
             "2024-10-10T00:00:00.000Z",
             "2024-10-21T00:00:00.000Z",
             "Elaboração de relatório técnico",
             36,
             0,
             "TSK00496",
             "Roberto Ferreira",
             "Concluída"
            ],
            [
             "2024-10-08T00:00:00.000Z",
             "2024-10-16T00:00:00.000Z",
             "Finalização e entrega",
             7,
             48,
             "TSK00497",
             "Roberto Ferreira",
             "Pendente"
            ]
           ],
           42928.26
          ],
          [
           "CLI0013",
           "2024-03-13T00:00:00.000Z",
           "2024-06-08T00:00:00.000Z",
           162,
           181,
           "PROJ0051",
           "Auditoria Fiscal Preventiva",
           "Carlos Eduardo Santos",
           "Cancelado",
           [
            [
             "2024-04-10T00:00:00.000Z",
             "2024-04-18T00:00:00.000Z",
             "Preparação de defesa administrativa",
             24,
             29,
             "TSK00501",
             "Juliana Oliveira",
             "Pendente"
            ],
            [
             "2024-04-16T00:00:00.000Z",
             "2024-04-22T00:00:00.000Z",
             "Elaboração de relatório técnico",
             13,
             21,
             "TSK00502",
             "Carlos Eduardo Santos",
             "Atrasada"
            ],
            [
             "2024-04-25T00:00:00.000Z",
             "2024-05-10T00:00:00.000Z",
             "Coleta de documentação fiscal",
             36,
             7,
             "TSK00503",
             "Carlos Eduardo Santos",
             "Atrasada"
            ],
            [
             "2024-04-19T00:00:00.000Z",
             "2024-04-27T00:00:00.000Z",
             "Coleta de documentação fiscal",
             40,
             35,
             "TSK00504",
             "Carlos Eduardo Santos",
             "Em Andamento"
            ],
            [
             "2024-04-09T00:00:00.000Z",
             "2024-04-19T00:00:00.000Z",
             "Finalização e entrega",
             20,
             47,
             "TSK00505",
             "Roberto Ferreira",
             "Concluída"
            ],
            [
             "2024-03-19T00:00:00.000Z",
             "2024-03-23T00:00:00.000Z",
             "Finalização e entrega",
             29,
             42,
             "TSK00506",
             "Ana Paula Silva",
             "Pendente"
            ]
           ],
           54236.81
          ],
          [
           "CLI0009",
           "2024-04-15T00:00:00.000Z",
           "2024-05-23T00:00:00.000Z",
           43,
           77,
           "PROJ0052",
           "Auditoria Fiscal Preventiva",
           "Pedro Henrique",
           "Pausado",
           [
            [
             "2024-04-21T00:00:00.000Z",
             "2024-05-02T00:00:00.000Z",
             "Análise preliminar dos dados",
             33,
             16,
             "TSK00511",
             "Mariana Costa",
             "Pendente"
            ],
            [
             "2024-04-20T00:00:00.000Z",
             "2024-05-01T00:00:00.000Z",
             "Validação com cliente",
             6,
             15,
             "TSK00512",
             "Ana Paula Silva",
             "Concluída"
            ],
            [
             "2024-04-29T00:00:00.000Z",
             "2024-05-08T00:00:00.000Z",
             "Finalização e entrega",
             4,
             46,
             "TSK00513",
             "Juliana Oliveira",
             "Concluída"
            ]
           ],
           97438.52
          ],
          [
           "CLI0035",
           "2024-02-18T00:00:00.000Z",
           "2024-04-26T00:00:00.000Z",
           88,
           63,
           "PROJ0053",
           "Planejamento Tributário Anual",
           "Pedro Henrique",
           "Pausado",
           [
            [
             "2024-02-18T00:00:00.000Z",
             "2024-02-22T00:00:00.000Z",
             "Cálculo de créditos tributários",
             33,
             8,
             "TSK00521",
             "Pedro Henrique",
             "Concluída"
            ],
            [
             "2024-03-02T00:00:00.000Z",
             "2024-03-13T00:00:00.000Z",
             "Elaboração de relatório técnico",
             34,
             22,
             "TSK00522",
             "Carlos Eduardo Santos",
             "Concluída"
            ],
            [
             "2024-03-21T00:00:00.000Z",
             "2024-03-31T00:00:00.000Z",
             "Revisão de declarações",
             21,
             33,
             "TSK00523",
             "Mariana Costa",
             "Atrasada"
            ]
           ],
           103408.76
          ],
          [
           "CLI0032",
           "2024-05-24T00:00:00.000Z",
           "2024-06-10T00:00:00.000Z",
           123,
           55,
           "PROJ0054",
           "Revisão ISS Serviços",
           "Juliana Oliveira",
           "Em Planejamento",
           [
            [
             "2024-05-26T00:00:00.000Z",
             "2024-06-08T00:00:00.000Z",
             "Coleta de documentação fiscal",
             9,
             7,
             "TSK00531",
             "Ana Paula Silva",
             "Atrasada"
            ],
            [
             "2024-05-27T00:00:00.000Z",
             "2024-06-11T00:00:00.000Z",
             "Cálculo de créditos tributários",
             29,
             23,
             "TSK00532",
             "Roberto Ferreira",
             "Concluída"
            ],
            [
             "2024-05-31T00:00:00.000Z",
             "2024-06-13T00:00:00.000Z",
             "Análise preliminar dos dados",
             33,
             2,
             "TSK00533",
             "Mariana Costa",
             "Concluída"
            ],
            [
             "2024-05-27T00:00:00.000Z",
             "2024-06-07T00:00:00.000Z",
             "Elaboração de relatório técnico",
             29,
             5,
             "TSK00534",
             "Mariana Costa",
             "Em Andamento"
            ],
            [
             "2024-05-25T00:00:00.000Z",
             "2024-05-30T00:00:00.000Z",
             "Revisão de declarações",
             23,
             18,
             "TSK00535",
             "Ana Paula Silva",
             "Atrasada"
            ]
           ],
           146287.67
          ],
          [
           "CLI0035",
           "2024-06-01T00:00:00.000Z",
           "2024-08-30T00:00:00.000Z",
           79,
           110,
           "PROJ0055",
           "Recuperação de Crédito PIS/COFINS",
           "Carlos Eduardo Santos",
           "Cancelado",
           [
            [
             "2024-06-25T00:00:00.000Z",
             "2024-06-28T00:00:00.000Z",
             "Revisão de declarações",
             31,
             43,
             "TSK00541",
             "Juliana Oliveira",
             "Atrasada"
            ],
            [
             "2024-07-08T00:00:00.000Z",
             "2024-07-15T00:00:00.000Z",
             "Cálculo de créditos tributários",
             17,
             39,
             "TSK00542",
             "Mariana Costa",
             "Em Andamento"
            ],
            [
             "2024-06-06T00:00:00.000Z",
             "2024-06-21T00:00:00.000Z",
             "Finalização e entrega",
             25,
             10,
             "TSK00543",
             "Roberto Ferreira",
             "Em Andamento"
            ],
            [
             "2024-07-16T00:00:00.000Z",
             "2024-07-24T00:00:00.000Z",
             "Análise preliminar dos dados",
             6,
             18,
             "TSK00544",
             "Mariana Costa",
             "Atrasada"
            ]
           ],
           106868.93
          ],
          [
           "CLI0008",
           "2024-03-22T00:00:00.000Z",
           "2024-06-10T00:00:00.000Z",
           113,
           45,
           "PROJ0056",
           "Planejamento Tributário Anual",
           "Mariana Costa",
           "Cancelado",
           [
            [
             "2024-04-24T00:00:00.000Z",
             "2024-05-06T00:00:00.000Z",
             "Validação com cliente",
             15,
             4,
             "TSK00551",
             "Ana Paula Silva",
             "Em Andamento"
            ],
            [
             "2024-03-23T00:00:00.000Z",
             "2024-04-07T00:00:00.000Z",
             "Finalização e entrega",
             28,
             17,
             "TSK00552",
             "Juliana Oliveira",
             "Atrasada"
            ],
            [
             "2024-04-23T00:00:00.000Z",
             "2024-04-30T00:00:00.000Z",
             "Preparação de defesa administrativa",
             30,
             12,
             "TSK00553",
             "Mariana Costa",
             "Atrasada"
            ],
            [
             "2024-04-08T00:00:00.000Z",
             "2024-04-22T00:00:00.000Z",
             "Preparação de defesa administrativa",
             40,
             12,
             "TSK00554",
             "Roberto Ferreira",
             "Concluída"
            ]
           ],
           48427.4
          ],
          [
           "CLI0016",
           "2024-02-26T00:00:00.000Z",
           "2024-04-23T00:00:00.000Z",
           141,
           122,
           "PROJ0057",
           "Implementação de Compliance Fiscal",
           "Mariana Costa",
           "Pausado",
           [
            [
             "2024-03-17T00:00:00.000Z",
             "2024-03-21T00:00:00.000Z",
             "Coleta de documentação fiscal",
             38,
             18,
             "TSK00561",
             "Pedro Henrique",
             "Em Andamento"
            ],
            [
             "2024-03-08T00:00:00.000Z",
             "2024-03-18T00:00:00.000Z",
             "Coleta de documentação fiscal",
             15,
             9,
             "TSK00562",
             "Pedro Henrique",
             "Atrasada"
            ],
            [
             "2024-03-06T00:00:00.000Z",
             "2024-03-18T00:00:00.000Z",
             "Elaboração de relatório técnico",
             13,
             7,
             "TSK00563",
             "Carlos Eduardo Santos",
             "Pendente"
            ],
            [
             "2024-03-18T00:00:00.000Z",
             "2024-03-27T00:00:00.000Z",
             "Finalização e entrega",
             12,
             9,
             "TSK00564",
             "Ana Paula Silva",
             "Em Andamento"
            ],
            [
             "2024-03-18T00:00:00.000Z",
             "2024-03-25T00:00:00.000Z",
             "Preparação de defesa administrativa",
             31,
             41,
             "TSK00565",
             "Carlos Eduardo Santos",
             "Pendente"
            ],
            [
             "2024-03-03T00:00:00.000Z",
             "2024-03-13T00:00:00.000Z",
             "Cálculo de créditos tributários",
             32,
             38,
             "TSK00566",
             "Mariana Costa",
             "Atrasada"
            ]
           ],
           38981.17
          ],
          [
           "CLI0029",
           "2024-01-19T00:00:00.000Z",
           "2024-02-19T00:00:00.000Z",
           177,
           149,
           "PROJ0058",
           "Análise ICMS Diferencial de Alíquota",
           "Juliana Oliveira",
           "Em Planejamento",
           [
            [
             "2024-02-01T00:00:00.000Z",
             "2024-02-04T00:00:00.000Z",
             "Validação com cliente",
             33,
             32,
             "TSK00571",
             "Juliana Oliveira",
             "Em Andamento"
            ],
            [
             "2024-02-01T00:00:00.000Z",
             "2024-02-13T00:00:00.000Z",
             "Preparação de defesa administrativa",
             33,
             30,
             "TSK00572",
             "Pedro Henrique",
             "Em Andamento"
            ],
            [
             "2024-01-26T00:00:00.000Z",
             "2024-01-29T00:00:00.000Z",
             "Coleta de documentação fiscal",
             13,
             12,
             "TSK00573",
             "Pedro Henrique",
             "Em Andamento"
            ],
            [
             "2024-02-03T00:00:00.000Z",
             "2024-02-11T00:00:00.000Z",
             "Validação com cliente",
             40,
             15,
             "TSK00574",
             "Juliana Oliveira",
             "Pendente"
            ],
            [
             "2024-01-28T00:00:00.000Z",
             "2024-02-06T00:00:00.000Z",
             "Finalização e entrega",
             31,
             7,
             "TSK00575",
             "Ana Paula Silva",
             "Concluída"
            ],
            [
             "2024-01-22T00:00:00.000Z",
             "2024-02-04T00:00:00.000Z",
             "Validação com cliente",
             4,
             48,
             "TSK00576",
             "Roberto Ferreira",
             "Atrasada"
            ],
            [
             "2024-01-25T00:00:00.000Z",
             "2024-01-29T00:00:00.000Z",
             "Cálculo de créditos tributários",
             17,
             2,
             "TSK00577",
             "Roberto Ferreira",
             "Atrasada"
            ],
            [
             "2024-01-20T00:00:00.000Z",
             "2024-01-24T00:00:00.000Z",
             "Revisão de declarações",
             6,
             3,
             "TSK00578",
             "Mariana Costa",
             "Pendente"
            ]
           ],
           71868.53
          ],
          [
           "CLI0025",
           "2024-01-04T00:00:00.000Z",
           "2024-01-23T00:00:00.000Z",
           71,
           40,
           "PROJ0059",
           "Implementação de Compliance Fiscal",
           "Roberto Ferreira",
           "Pausado",
           [
            [
             "2024-01-09T00:00:00.000Z",
             "2024-01-14T00:00:00.000Z",
             "Finalização e entrega",
             29,
             22,
             "TSK00581",
             "Pedro Henrique",
             "Em Andamento"
            ],
            [
             "2024-01-12T00:00:00.000Z",
             "2024-01-17T00:00:00.000Z",
             "Elaboração de relatório técnico",
             21,
             5,
             "TSK00582",
             "Juliana Oliveira",
             "Concluída"
            ],
            [
             "2024-01-08T00:00:00.000Z",
             "2024-01-18T00:00:00.000Z",
             "Validação com cliente",
             21,
             13,
             "TSK00583",
             "Carlos Eduardo Santos",
             "Concluída"
            ]
           ],
           124750.04
          ],
          [
           "CLI0011",
           "2024-05-28T00:00:00.000Z",
           "2024-07-18T00:00:00.000Z",
           118,
           192,
           "PROJ0060",
           "Revisão ISS Serviços",
           "Carlos Eduardo Santos",
           "Pausado",
           [
            [
             "2024-06-13T00:00:00.000Z",
             "2024-06-20T00:00:00.000Z",
             "Revisão de declarações",
             12,
             50,
             "TSK00591",
             "Roberto Ferreira",
             "Pendente"
            ],
            [
             "2024-06-05T00:00:00.000Z",
             "2024-06-19T00:00:00.000Z",
             "Revisão de declarações",
             25,
             35,
             "TSK00592",
             "Pedro Henrique",
             "Em Andamento"
            ],
            [
             "2024-05-28T00:00:00.000Z",
             "2024-06-04T00:00:00.000Z",
             "Validação com cliente",
             8,
             28,
             "TSK00593",
             "Juliana Oliveira",
             "Em Andamento"
            ],
            [
             "2024-06-05T00:00:00.000Z",
             "2024-06-09T00:00:00.000Z",
             "Preparação de defesa administrativa",
             14,
             38,
             "TSK00594",
             "Mariana Costa",
             "Atrasada"
            ],
            [
             "2024-06-20T00:00:00.000Z",
             "2024-07-02T00:00:00.000Z",
             "Elaboração de relatório técnico",
             39,
             7,
             "TSK00595",
             "Roberto Ferreira",
             "Concluída"
            ],
            [
             "2024-06-14T00:00:00.000Z",
             "2024-06-22T00:00:00.000Z",
             "Elaboração de relatório técnico",
             20,
             34,
             "TSK00596",
             "Pedro Henrique",
             "Concluída"
            ]
           ],
           60865.43
          ]
         ]
        ]
       ],
       "datasetInfos": [],
       "dbfsResultPath": null,
       "isJsonSchema": true,
       "metadata": {},
       "overflow": false,
       "plotOptions": {
        "customPlotOptions": {},
        "displayType": "table",
        "pivotAggregation": null,
        "pivotColumns": null,
        "xColumns": null,
        "yColumns": null
       },
       "removedWidgets": [],
       "schema": [
        {
         "metadata": "{}",
         "name": "projetos",
         "type": "{\"containsNull\":true,\"elementType\":{\"fields\":[{\"metadata\":{},\"name\":\"cliente_id\",\"nullable\":true,\"type\":\"string\"},{\"metadata\":{},\"name\":\"data_inicio\",\"nullable\":true,\"type\":\"timestamp\"},{\"metadata\":{},\"name\":\"data_prevista_fim\",\"nullable\":true,\"type\":\"timestamp\"},{\"metadata\":{},\"name\":\"horas_totais_estimadas\",\"nullable\":true,\"type\":\"long\"},{\"metadata\":{},\"name\":\"horas_totais_realizadas\",\"nullable\":true,\"type\":\"long\"},{\"metadata\":{},\"name\":\"id_projeto\",\"nullable\":true,\"type\":\"string\"},{\"metadata\":{},\"name\":\"nome_projeto\",\"nullable\":true,\"type\":\"string\"},{\"metadata\":{},\"name\":\"responsavel\",\"nullable\":true,\"type\":\"string\"},{\"metadata\":{},\"name\":\"status\",\"nullable\":true,\"type\":\"string\"},{\"metadata\":{},\"name\":\"tarefas\",\"nullable\":true,\"type\":{\"containsNull\":true,\"elementType\":{\"fields\":[{\"metadata\":{},\"name\":\"data_inicio\",\"nullable\":true,\"type\":\"timestamp\"},{\"metadata\":{},\"name\":\"data_prevista_fim\",\"nullable\":true,\"type\":\"timestamp\"},{\"metadata\":{},\"name\":\"descricao\",\"nullable\":true,\"type\":\"string\"},{\"metadata\":{},\"name\":\"horas_estimadas\",\"nullable\":true,\"type\":\"long\"},{\"metadata\":{},\"name\":\"horas_realizadas\",\"nullable\":true,\"type\":\"long\"},{\"metadata\":{},\"name\":\"id_tarefa\",\"nullable\":true,\"type\":\"string\"},{\"metadata\":{},\"name\":\"responsavel_tarefa\",\"nullable\":true,\"type\":\"string\"},{\"metadata\":{},\"name\":\"status_tarefa\",\"nullable\":true,\"type\":\"string\"}],\"type\":\"struct\"},\"type\":\"array\"}},{\"metadata\":{},\"name\":\"valor_projeto\",\"nullable\":true,\"type\":\"double\"}],\"type\":\"struct\"},\"type\":\"array\"}"
        }
       ],
       "type": "table"
      }
     },
     "output_type": "display_data"
    }
   ],
   "source": [
    "display(df)"
   ]
  },
  {
   "cell_type": "code",
   "execution_count": 0,
   "metadata": {
    "application/vnd.databricks.v1+cell": {
     "cellMetadata": {
      "byteLimit": 2048000,
      "rowLimit": 10000
     },
     "inputWidgets": {},
     "nuid": "55b33455-cebb-4084-a1d4-a0c8a2ad9db5",
     "showTitle": false,
     "tableResultSettingsMap": {},
     "title": ""
    }
   },
   "outputs": [],
   "source": [
    "#incluir colunas de controle para saber a carga \n",
    "df = df.withColumn('data_carga',current_date())\n",
    "df = df.withColumn('data_hora_carga',expr('current_timestamp()- interval 3 hours'))"
   ]
  },
  {
   "cell_type": "code",
   "execution_count": 0,
   "metadata": {
    "application/vnd.databricks.v1+cell": {
     "cellMetadata": {
      "byteLimit": 2048000,
      "rowLimit": 10000
     },
     "inputWidgets": {},
     "nuid": "caf54b2e-045a-48fe-9d7e-300ecbb4dbcf",
     "showTitle": false,
     "tableResultSettingsMap": {},
     "title": ""
    }
   },
   "outputs": [
    {
     "output_type": "stream",
     "name": "stdout",
     "output_type": "stream",
     "text": [
      "Dados gravados com sucesso!\n"
     ]
    }
   ],
   "source": [
    "#gravar os dados no formato delta\n",
    "df.write \\\n",
    "    .format('delta') \\\n",
    "    .mode('overwrite') \\\n",
    "    .option('mergeSchema', 'true') \\\n",
    "    .option('overwriteSchema', 'true') \\\n",
    "    .saveAsTable(f'{database}.{tabela}')\n",
    "print('Dados gravados com sucesso!')"
   ]
  },
  {
   "cell_type": "code",
   "execution_count": 0,
   "metadata": {
    "application/vnd.databricks.v1+cell": {
     "cellMetadata": {
      "byteLimit": 2048000,
      "implicitDf": true,
      "rowLimit": 10000
     },
     "inputWidgets": {},
     "nuid": "44f0f0dc-f74a-4a64-b999-cfa89181606b",
     "showTitle": false,
     "tableResultSettingsMap": {},
     "title": ""
    }
   },
   "outputs": [
    {
     "output_type": "display_data",
     "data": {
      "text/html": [
       "<style scoped>\n",
       "  .table-result-container {\n",
       "    max-height: 300px;\n",
       "    overflow: auto;\n",
       "  }\n",
       "  table, th, td {\n",
       "    border: 1px solid black;\n",
       "    border-collapse: collapse;\n",
       "  }\n",
       "  th, td {\n",
       "    padding: 5px;\n",
       "  }\n",
       "  th {\n",
       "    text-align: left;\n",
       "  }\n",
       "</style><div class='table-result-container'><table class='table-result'><thead style='background-color: white'><tr><th>format</th><th>id</th><th>name</th><th>description</th><th>location</th><th>createdAt</th><th>lastModified</th><th>partitionColumns</th><th>clusteringColumns</th><th>numFiles</th><th>sizeInBytes</th><th>properties</th><th>minReaderVersion</th><th>minWriterVersion</th><th>tableFeatures</th><th>statistics</th><th>clusterByAuto</th></tr></thead><tbody><tr><td>delta</td><td>c65f954f-de81-47fe-b719-d68ec6fd96fb</td><td>psa.bronze.tarefas_projetos</td><td>Created by the file upload UI</td><td></td><td>2025-10-28T21:19:57.327Z</td><td>2025-10-28T21:19:59.000Z</td><td>List()</td><td>List()</td><td>1</td><td>11734</td><td>Map(delta.checkpoint.writeStatsAsJson -> false, delta.checkpoint.writeStatsAsStruct -> true, delta.parquet.compression.codec -> zstd, delta.enableDeletionVectors -> true)</td><td>3</td><td>7</td><td>List(appendOnly, deletionVectors, invariants)</td><td>Map(numRowsDeletedByDeletionVectors -> 0, numDeletionVectors -> 0)</td><td>false</td></tr></tbody></table></div>"
      ]
     },
     "metadata": {
      "application/vnd.databricks.v1+output": {
       "addedWidgets": {},
       "aggData": [],
       "aggError": "",
       "aggOverflow": false,
       "aggSchema": [],
       "aggSeriesLimitReached": false,
       "aggType": "",
       "arguments": {},
       "columnCustomDisplayInfos": {},
       "data": [
        [
         "delta",
         "c65f954f-de81-47fe-b719-d68ec6fd96fb",
         "psa.bronze.tarefas_projetos",
         "Created by the file upload UI",
         "",
         "2025-10-28T21:19:57.327Z",
         "2025-10-28T21:19:59.000Z",
         [],
         [],
         1,
         11734,
         {
          "delta.checkpoint.writeStatsAsJson": "false",
          "delta.checkpoint.writeStatsAsStruct": "true",
          "delta.enableDeletionVectors": "true",
          "delta.parquet.compression.codec": "zstd"
         },
         3,
         7,
         [
          "appendOnly",
          "deletionVectors",
          "invariants"
         ],
         {
          "numDeletionVectors": 0,
          "numRowsDeletedByDeletionVectors": 0
         },
         false
        ]
       ],
       "datasetInfos": [
        {
         "name": "_sqldf",
         "schema": {
          "fields": [
           {
            "metadata": {},
            "name": "format",
            "nullable": true,
            "type": "string"
           },
           {
            "metadata": {},
            "name": "id",
            "nullable": true,
            "type": "string"
           },
           {
            "metadata": {},
            "name": "name",
            "nullable": true,
            "type": "string"
           },
           {
            "metadata": {},
            "name": "description",
            "nullable": true,
            "type": "string"
           },
           {
            "metadata": {},
            "name": "location",
            "nullable": true,
            "type": "string"
           },
           {
            "metadata": {},
            "name": "createdAt",
            "nullable": true,
            "type": "timestamp"
           },
           {
            "metadata": {},
            "name": "lastModified",
            "nullable": true,
            "type": "timestamp"
           },
           {
            "metadata": {},
            "name": "partitionColumns",
            "nullable": true,
            "type": {
             "containsNull": true,
             "elementType": "string",
             "type": "array"
            }
           },
           {
            "metadata": {},
            "name": "clusteringColumns",
            "nullable": true,
            "type": {
             "containsNull": true,
             "elementType": "string",
             "type": "array"
            }
           },
           {
            "metadata": {},
            "name": "numFiles",
            "nullable": true,
            "type": "long"
           },
           {
            "metadata": {},
            "name": "sizeInBytes",
            "nullable": true,
            "type": "long"
           },
           {
            "metadata": {},
            "name": "properties",
            "nullable": true,
            "type": {
             "keyType": "string",
             "type": "map",
             "valueContainsNull": true,
             "valueType": "string"
            }
           },
           {
            "metadata": {},
            "name": "minReaderVersion",
            "nullable": true,
            "type": "integer"
           },
           {
            "metadata": {},
            "name": "minWriterVersion",
            "nullable": true,
            "type": "integer"
           },
           {
            "metadata": {},
            "name": "tableFeatures",
            "nullable": true,
            "type": {
             "containsNull": true,
             "elementType": "string",
             "type": "array"
            }
           },
           {
            "metadata": {},
            "name": "statistics",
            "nullable": true,
            "type": {
             "keyType": "string",
             "type": "map",
             "valueContainsNull": true,
             "valueType": "long"
            }
           },
           {
            "metadata": {},
            "name": "clusterByAuto",
            "nullable": false,
            "type": "boolean"
           }
          ],
          "type": "struct"
         },
         "tableIdentifier": null,
         "typeStr": "pyspark.sql.connect.dataframe.DataFrame"
        }
       ],
       "dbfsResultPath": null,
       "isJsonSchema": true,
       "metadata": {
        "createTempViewForImplicitDf": true,
        "dataframeName": "_sqldf",
        "executionCount": 53
       },
       "overflow": false,
       "plotOptions": {
        "customPlotOptions": {},
        "displayType": "table",
        "pivotAggregation": null,
        "pivotColumns": null,
        "xColumns": null,
        "yColumns": null
       },
       "removedWidgets": [],
       "schema": [
        {
         "metadata": "{}",
         "name": "format",
         "type": "\"string\""
        },
        {
         "metadata": "{}",
         "name": "id",
         "type": "\"string\""
        },
        {
         "metadata": "{}",
         "name": "name",
         "type": "\"string\""
        },
        {
         "metadata": "{}",
         "name": "description",
         "type": "\"string\""
        },
        {
         "metadata": "{}",
         "name": "location",
         "type": "\"string\""
        },
        {
         "metadata": "{}",
         "name": "createdAt",
         "type": "\"timestamp\""
        },
        {
         "metadata": "{}",
         "name": "lastModified",
         "type": "\"timestamp\""
        },
        {
         "metadata": "{}",
         "name": "partitionColumns",
         "type": "{\"containsNull\":true,\"elementType\":\"string\",\"type\":\"array\"}"
        },
        {
         "metadata": "{}",
         "name": "clusteringColumns",
         "type": "{\"containsNull\":true,\"elementType\":\"string\",\"type\":\"array\"}"
        },
        {
         "metadata": "{}",
         "name": "numFiles",
         "type": "\"long\""
        },
        {
         "metadata": "{}",
         "name": "sizeInBytes",
         "type": "\"long\""
        },
        {
         "metadata": "{}",
         "name": "properties",
         "type": "{\"keyType\":\"string\",\"type\":\"map\",\"valueContainsNull\":true,\"valueType\":\"string\"}"
        },
        {
         "metadata": "{}",
         "name": "minReaderVersion",
         "type": "\"integer\""
        },
        {
         "metadata": "{}",
         "name": "minWriterVersion",
         "type": "\"integer\""
        },
        {
         "metadata": "{}",
         "name": "tableFeatures",
         "type": "{\"containsNull\":true,\"elementType\":\"string\",\"type\":\"array\"}"
        },
        {
         "metadata": "{}",
         "name": "statistics",
         "type": "{\"keyType\":\"string\",\"type\":\"map\",\"valueContainsNull\":true,\"valueType\":\"long\"}"
        },
        {
         "metadata": "{}",
         "name": "clusterByAuto",
         "type": "\"boolean\""
        }
       ],
       "type": "table"
      }
     },
     "output_type": "display_data"
    }
   ],
   "source": [
    "%sql\n",
    "describe detail psa.bronze.tarefas_projetos"
   ]
  }
 ],
 "metadata": {
  "application/vnd.databricks.v1+notebook": {
   "computePreferences": null,
   "dashboards": [],
   "environmentMetadata": {
    "base_environment": "",
    "environment_version": "4"
   },
   "inputWidgetPreferences": null,
   "language": "python",
   "notebookMetadata": {
    "mostRecentlyExecutedCommandWithImplicitDF": {
     "commandId": 7392041806137384,
     "dataframes": [
      "_sqldf"
     ]
    },
    "pythonIndentUnit": 4
   },
   "notebookName": "bronze_tarefas_projetos",
   "widgets": {}
  },
  "language_info": {
   "name": "python"
  }
 },
 "nbformat": 4,
 "nbformat_minor": 0
}
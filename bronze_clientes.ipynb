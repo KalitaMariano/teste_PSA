{
 "cells": [
  {
   "cell_type": "code",
   "execution_count": 0,
   "metadata": {
    "application/vnd.databricks.v1+cell": {
     "cellMetadata": {
      "byteLimit": 2048000,
      "rowLimit": 10000
     },
     "inputWidgets": {},
     "nuid": "57359ad6-8cbc-477b-a4c8-67f016c465f1",
     "showTitle": false,
     "tableResultSettingsMap": {},
     "title": ""
    }
   },
   "outputs": [],
   "source": [
    "%python\n",
    "#import o controle de de data\n",
    "from pyspark.sql.functions import current_date,current_timestamp, expr"
   ]
  },
  {
   "cell_type": "code",
   "execution_count": 0,
   "metadata": {
    "application/vnd.databricks.v1+cell": {
     "cellMetadata": {
      "byteLimit": 2048000,
      "rowLimit": 10000
     },
     "inputWidgets": {},
     "nuid": "468ee795-f397-4370-91ed-822e1a2e10fa",
     "showTitle": false,
     "tableResultSettingsMap": {},
     "title": ""
    }
   },
   "outputs": [],
   "source": [
    " #criação de variavel \n",
    " database =\"bronze\"\n",
    " tabela = \"clientes\""
   ]
  },
  {
   "cell_type": "code",
   "execution_count": 0,
   "metadata": {
    "application/vnd.databricks.v1+cell": {
     "cellMetadata": {
      "byteLimit": 2048000,
      "implicitDf": true,
      "rowLimit": 10000
     },
     "inputWidgets": {},
     "nuid": "fb088527-6364-4bc8-96f5-843ca315169f",
     "showTitle": false,
     "tableResultSettingsMap": {},
     "title": ""
    }
   },
   "outputs": [
    {
     "output_type": "display_data",
     "data": {
      "text/html": [
       "<style scoped>\n",
       "  .table-result-container {\n",
       "    max-height: 300px;\n",
       "    overflow: auto;\n",
       "  }\n",
       "  table, th, td {\n",
       "    border: 1px solid black;\n",
       "    border-collapse: collapse;\n",
       "  }\n",
       "  th, td {\n",
       "    padding: 5px;\n",
       "  }\n",
       "  th {\n",
       "    text-align: left;\n",
       "  }\n",
       "</style><div class='table-result-container'><table class='table-result'><thead style='background-color: white'><tr><th>id_cliente</th><th>razao_social</th><th>cnpj</th><th>porte_empresa</th><th>setor</th><th>cidade</th><th>estado</th><th>data_cadastro</th></tr></thead><tbody><tr><td>CLI0001</td><td>Distribuidora Alimentos MT Ltda</td><td>71.620.270/0001-11</td><td>Médio</td><td>Construção</td><td>Tangará da Serra</td><td>MT</td><td>2023-06-17</td></tr><tr><td>CLI0002</td><td>Indústria Metalúrgica Centro-Oeste</td><td>90.616.356/0001-77</td><td>Grande</td><td>Serviços</td><td>Várzea Grande</td><td>MT</td><td>2023-11-24</td></tr><tr><td>CLI0003</td><td>Transportadora Rodoviária Nacional</td><td>90.663.735/0001-15</td><td>Grande</td><td>Serviços</td><td>Cuiabá</td><td>MT</td><td>2024-06-02</td></tr><tr><td>CLI0004</td><td>Comércio Atacadista Grãos SA</td><td>57.859.248/0001-42</td><td>MEI</td><td>Indústria</td><td>Sinop</td><td>MT</td><td>2023-08-25</td></tr><tr><td>CLI0005</td><td>Indústria Têxtil Algodão</td><td>22.260.904/0001-85</td><td>Grande</td><td>Construção</td><td>Tangará da Serra</td><td>MT</td><td>2023-01-16</td></tr><tr><td>CLI0006</td><td>Frigorífico Boi Gordo Ltda</td><td>26.591.187/0001-33</td><td>ME</td><td>Construção</td><td>Cuiabá</td><td>MT</td><td>2023-07-21</td></tr><tr><td>CLI0007</td><td>Empresa Construção Civil Premium</td><td>14.115.374/0001-24</td><td>EPP</td><td>Indústria</td><td>Várzea Grande</td><td>MT</td><td>2023-12-30</td></tr><tr><td>CLI0008</td><td>Atacado Medicamentos Saúde</td><td>55.183.997/0001-56</td><td>Médio</td><td>Agronegócio</td><td>Cuiabá</td><td>MT</td><td>2023-12-10</td></tr><tr><td>CLI0009</td><td>Indústria Móveis Madeira Nobre</td><td>17.314.790/0001-26</td><td>EPP</td><td>Agronegócio</td><td>Rondonópolis</td><td>MT</td><td>2024-03-22</td></tr><tr><td>CLI0010</td><td>Rede Supermercados Regional</td><td>57.107.247/0001-19</td><td>ME</td><td>Comércio</td><td>Várzea Grande</td><td>MT</td><td>2023-01-11</td></tr><tr><td>CLI0011</td><td>Distribuidora Bebidas MT</td><td>36.476.118/0001-92</td><td>EPP</td><td>Comércio</td><td>Tangará da Serra</td><td>MT</td><td>2023-09-30</td></tr><tr><td>CLI0012</td><td>Indústria Plásticos Recicláveis</td><td>94.561.637/0001-71</td><td>Grande</td><td>Comércio</td><td>Várzea Grande</td><td>MT</td><td>2024-04-22</td></tr><tr><td>CLI0013</td><td>Transportes Cargas Pesadas</td><td>12.496.129/0001-67</td><td>Médio</td><td>Indústria</td><td>Rondonópolis</td><td>MT</td><td>2024-07-28</td></tr><tr><td>CLI0014</td><td>Comércio Eletrônicos Varejo</td><td>15.520.842/0001-66</td><td>Grande</td><td>Construção</td><td>Rondonópolis</td><td>MT</td><td>2023-06-18</td></tr><tr><td>CLI0015</td><td>Indústria Alimentos Orgânicos</td><td>27.960.281/0001-94</td><td>ME</td><td>Agronegócio</td><td>Cuiabá</td><td>MT</td><td>2024-04-27</td></tr><tr><td>CLI0016</td><td>Atacado Material Construção</td><td>21.372.108/0001-50</td><td>Médio</td><td>Comércio</td><td>Várzea Grande</td><td>MT</td><td>2024-01-07</td></tr><tr><td>CLI0017</td><td>Empresa Tecnologia Software</td><td>32.445.428/0001-95</td><td>MEI</td><td>Agronegócio</td><td>Sinop</td><td>MT</td><td>2023-02-02</td></tr><tr><td>CLI0018</td><td>Clínica Médica Especializada</td><td>43.857.118/0001-15</td><td>Grande</td><td>Indústria</td><td>Várzea Grande</td><td>MT</td><td>2024-09-28</td></tr><tr><td>CLI0019</td><td>Indústria Cosméticos Naturais</td><td>79.163.525/0001-90</td><td>Médio</td><td>Agronegócio</td><td>Rondonópolis</td><td>MT</td><td>2024-02-05</td></tr><tr><td>CLI0020</td><td>Distribuidora Produtos Limpeza</td><td>20.983.272/0001-94</td><td>Grande</td><td>Serviços</td><td>Rondonópolis</td><td>MT</td><td>2023-03-07</td></tr><tr><td>CLI0021</td><td>Comércio Vestuário Fashion</td><td>94.563.843/0001-71</td><td>ME</td><td>Comércio</td><td>Sinop</td><td>MT</td><td>2024-03-20</td></tr><tr><td>CLI0022</td><td>Indústria Calçados Couro</td><td>15.914.909/0001-71</td><td>ME</td><td>Indústria</td><td>Tangará da Serra</td><td>MT</td><td>2023-05-20</td></tr><tr><td>CLI0023</td><td>Transportadora Logística Integrada</td><td>46.400.974/0001-49</td><td>ME</td><td>Construção</td><td>Várzea Grande</td><td>MT</td><td>2024-10-17</td></tr><tr><td>CLI0024</td><td>Atacado Produtos Agrícolas</td><td>48.106.874/0001-77</td><td>EPP</td><td>Indústria</td><td>Várzea Grande</td><td>MT</td><td>2023-02-15</td></tr><tr><td>CLI0025</td><td>Indústria Embalagens Papel</td><td>56.145.459/0001-47</td><td>Grande</td><td>Agronegócio</td><td>Várzea Grande</td><td>MT</td><td>2023-05-08</td></tr><tr><td>CLI0026</td><td>Rede Farmácias Popular</td><td>21.995.706/0001-62</td><td>EPP</td><td>Construção</td><td>Rondonópolis</td><td>MT</td><td>2024-04-24</td></tr><tr><td>CLI0027</td><td>Empresa Consultoria Empresarial</td><td>85.560.262/0001-64</td><td>EPP</td><td>Serviços</td><td>Sinop</td><td>MT</td><td>2023-04-25</td></tr><tr><td>CLI0028</td><td>Indústria Ração Animal</td><td>10.306.146/0001-30</td><td>ME</td><td>Agronegócio</td><td>Cuiabá</td><td>MT</td><td>2023-02-11</td></tr><tr><td>CLI0029</td><td>Distribuidora Autopeças MT</td><td>54.659.450/0001-81</td><td>EPP</td><td>Indústria</td><td>Cuiabá</td><td>MT</td><td>2023-05-22</td></tr><tr><td>CLI0030</td><td>Comércio Materiais Elétricos</td><td>62.652.938/0001-45</td><td>Médio</td><td>Agronegócio</td><td>Rondonópolis</td><td>MT</td><td>2023-07-04</td></tr><tr><td>CLI0031</td><td>Distribuidora Alimentos MT Ltda</td><td>46.613.923/0001-94</td><td>EPP</td><td>Serviços</td><td>Cuiabá</td><td>MT</td><td>2023-07-20</td></tr><tr><td>CLI0032</td><td>Indústria Metalúrgica Centro-Oeste</td><td>91.436.730/0001-24</td><td>ME</td><td>Indústria</td><td>Várzea Grande</td><td>MT</td><td>2024-08-07</td></tr><tr><td>CLI0033</td><td>Transportadora Rodoviária Nacional</td><td>66.733.103/0001-33</td><td>Médio</td><td>Agronegócio</td><td>Tangará da Serra</td><td>MT</td><td>2023-02-15</td></tr><tr><td>CLI0034</td><td>Comércio Atacadista Grãos SA</td><td>54.416.829/0001-80</td><td>Grande</td><td>Construção</td><td>Várzea Grande</td><td>MT</td><td>2024-11-12</td></tr><tr><td>CLI0035</td><td>Indústria Têxtil Algodão</td><td>70.447.434/0001-45</td><td>ME</td><td>Agronegócio</td><td>Rondonópolis</td><td>MT</td><td>2024-02-08</td></tr><tr><td>CLI0036</td><td>Frigorífico Boi Gordo Ltda</td><td>33.764.883/0001-98</td><td>Médio</td><td>Comércio</td><td>Várzea Grande</td><td>MT</td><td>2023-09-02</td></tr><tr><td>CLI0037</td><td>Empresa Construção Civil Premium</td><td>88.430.888/0001-88</td><td>EPP</td><td>Comércio</td><td>Rondonópolis</td><td>MT</td><td>2023-01-16</td></tr><tr><td>CLI0038</td><td>Atacado Medicamentos Saúde</td><td>40.233.229/0001-42</td><td>ME</td><td>Indústria</td><td>Rondonópolis</td><td>MT</td><td>2023-12-09</td></tr><tr><td>CLI0039</td><td>Indústria Móveis Madeira Nobre</td><td>22.917.953/0001-28</td><td>Grande</td><td>Construção</td><td>Rondonópolis</td><td>MT</td><td>2023-07-11</td></tr><tr><td>CLI0040</td><td>Rede Supermercados Regional</td><td>11.752.547/0001-82</td><td>MEI</td><td>Indústria</td><td>Rondonópolis</td><td>MT</td><td>2023-12-02</td></tr><tr><td>CLI0041</td><td>Distribuidora Bebidas MT</td><td>12.211.359/0001-67</td><td>MEI</td><td>Comércio</td><td>Várzea Grande</td><td>MT</td><td>2023-02-14</td></tr><tr><td>CLI0042</td><td>Indústria Plásticos Recicláveis</td><td>46.651.923/0001-77</td><td>EPP</td><td>Indústria</td><td>Sinop</td><td>MT</td><td>2023-11-12</td></tr><tr><td>CLI0043</td><td>Transportes Cargas Pesadas</td><td>18.534.925/0001-21</td><td>EPP</td><td>Comércio</td><td>Cuiabá</td><td>MT</td><td>2023-10-17</td></tr><tr><td>CLI0044</td><td>Comércio Eletrônicos Varejo</td><td>29.718.911/0001-12</td><td>Grande</td><td>Comércio</td><td>Tangará da Serra</td><td>MT</td><td>2024-01-26</td></tr><tr><td>CLI0045</td><td>Indústria Alimentos Orgânicos</td><td>90.716.569/0001-28</td><td>Médio</td><td>Comércio</td><td>Várzea Grande</td><td>MT</td><td>2023-03-11</td></tr><tr><td>CLI0046</td><td>Atacado Material Construção</td><td>29.629.289/0001-84</td><td>EPP</td><td>Serviços</td><td>Várzea Grande</td><td>MT</td><td>2024-05-07</td></tr><tr><td>CLI0047</td><td>Empresa Tecnologia Software</td><td>57.346.118/0001-91</td><td>ME</td><td>Agronegócio</td><td>Várzea Grande</td><td>MT</td><td>2023-03-04</td></tr><tr><td>CLI0048</td><td>Clínica Médica Especializada</td><td>76.843.560/0001-94</td><td>MEI</td><td>Indústria</td><td>Cuiabá</td><td>MT</td><td>2024-04-01</td></tr><tr><td>CLI0049</td><td>Indústria Cosméticos Naturais</td><td>55.915.684/0001-18</td><td>MEI</td><td>Construção</td><td>Cuiabá</td><td>MT</td><td>2024-08-27</td></tr><tr><td>CLI0050</td><td>Distribuidora Produtos Limpeza</td><td>24.882.468/0001-81</td><td>MEI</td><td>Indústria</td><td>Cuiabá</td><td>MT</td><td>2024-02-27</td></tr></tbody></table></div>"
      ]
     },
     "metadata": {
      "application/vnd.databricks.v1+output": {
       "addedWidgets": {},
       "aggData": [],
       "aggError": "",
       "aggOverflow": false,
       "aggSchema": [],
       "aggSeriesLimitReached": false,
       "aggType": "",
       "arguments": {},
       "columnCustomDisplayInfos": {},
       "data": [
        [
         "CLI0001",
         "Distribuidora Alimentos MT Ltda",
         "71.620.270/0001-11",
         "Médio",
         "Construção",
         "Tangará da Serra",
         "MT",
         "2023-06-17"
        ],
        [
         "CLI0002",
         "Indústria Metalúrgica Centro-Oeste",
         "90.616.356/0001-77",
         "Grande",
         "Serviços",
         "Várzea Grande",
         "MT",
         "2023-11-24"
        ],
        [
         "CLI0003",
         "Transportadora Rodoviária Nacional",
         "90.663.735/0001-15",
         "Grande",
         "Serviços",
         "Cuiabá",
         "MT",
         "2024-06-02"
        ],
        [
         "CLI0004",
         "Comércio Atacadista Grãos SA",
         "57.859.248/0001-42",
         "MEI",
         "Indústria",
         "Sinop",
         "MT",
         "2023-08-25"
        ],
        [
         "CLI0005",
         "Indústria Têxtil Algodão",
         "22.260.904/0001-85",
         "Grande",
         "Construção",
         "Tangará da Serra",
         "MT",
         "2023-01-16"
        ],
        [
         "CLI0006",
         "Frigorífico Boi Gordo Ltda",
         "26.591.187/0001-33",
         "ME",
         "Construção",
         "Cuiabá",
         "MT",
         "2023-07-21"
        ],
        [
         "CLI0007",
         "Empresa Construção Civil Premium",
         "14.115.374/0001-24",
         "EPP",
         "Indústria",
         "Várzea Grande",
         "MT",
         "2023-12-30"
        ],
        [
         "CLI0008",
         "Atacado Medicamentos Saúde",
         "55.183.997/0001-56",
         "Médio",
         "Agronegócio",
         "Cuiabá",
         "MT",
         "2023-12-10"
        ],
        [
         "CLI0009",
         "Indústria Móveis Madeira Nobre",
         "17.314.790/0001-26",
         "EPP",
         "Agronegócio",
         "Rondonópolis",
         "MT",
         "2024-03-22"
        ],
        [
         "CLI0010",
         "Rede Supermercados Regional",
         "57.107.247/0001-19",
         "ME",
         "Comércio",
         "Várzea Grande",
         "MT",
         "2023-01-11"
        ],
        [
         "CLI0011",
         "Distribuidora Bebidas MT",
         "36.476.118/0001-92",
         "EPP",
         "Comércio",
         "Tangará da Serra",
         "MT",
         "2023-09-30"
        ],
        [
         "CLI0012",
         "Indústria Plásticos Recicláveis",
         "94.561.637/0001-71",
         "Grande",
         "Comércio",
         "Várzea Grande",
         "MT",
         "2024-04-22"
        ],
        [
         "CLI0013",
         "Transportes Cargas Pesadas",
         "12.496.129/0001-67",
         "Médio",
         "Indústria",
         "Rondonópolis",
         "MT",
         "2024-07-28"
        ],
        [
         "CLI0014",
         "Comércio Eletrônicos Varejo",
         "15.520.842/0001-66",
         "Grande",
         "Construção",
         "Rondonópolis",
         "MT",
         "2023-06-18"
        ],
        [
         "CLI0015",
         "Indústria Alimentos Orgânicos",
         "27.960.281/0001-94",
         "ME",
         "Agronegócio",
         "Cuiabá",
         "MT",
         "2024-04-27"
        ],
        [
         "CLI0016",
         "Atacado Material Construção",
         "21.372.108/0001-50",
         "Médio",
         "Comércio",
         "Várzea Grande",
         "MT",
         "2024-01-07"
        ],
        [
         "CLI0017",
         "Empresa Tecnologia Software",
         "32.445.428/0001-95",
         "MEI",
         "Agronegócio",
         "Sinop",
         "MT",
         "2023-02-02"
        ],
        [
         "CLI0018",
         "Clínica Médica Especializada",
         "43.857.118/0001-15",
         "Grande",
         "Indústria",
         "Várzea Grande",
         "MT",
         "2024-09-28"
        ],
        [
         "CLI0019",
         "Indústria Cosméticos Naturais",
         "79.163.525/0001-90",
         "Médio",
         "Agronegócio",
         "Rondonópolis",
         "MT",
         "2024-02-05"
        ],
        [
         "CLI0020",
         "Distribuidora Produtos Limpeza",
         "20.983.272/0001-94",
         "Grande",
         "Serviços",
         "Rondonópolis",
         "MT",
         "2023-03-07"
        ],
        [
         "CLI0021",
         "Comércio Vestuário Fashion",
         "94.563.843/0001-71",
         "ME",
         "Comércio",
         "Sinop",
         "MT",
         "2024-03-20"
        ],
        [
         "CLI0022",
         "Indústria Calçados Couro",
         "15.914.909/0001-71",
         "ME",
         "Indústria",
         "Tangará da Serra",
         "MT",
         "2023-05-20"
        ],
        [
         "CLI0023",
         "Transportadora Logística Integrada",
         "46.400.974/0001-49",
         "ME",
         "Construção",
         "Várzea Grande",
         "MT",
         "2024-10-17"
        ],
        [
         "CLI0024",
         "Atacado Produtos Agrícolas",
         "48.106.874/0001-77",
         "EPP",
         "Indústria",
         "Várzea Grande",
         "MT",
         "2023-02-15"
        ],
        [
         "CLI0025",
         "Indústria Embalagens Papel",
         "56.145.459/0001-47",
         "Grande",
         "Agronegócio",
         "Várzea Grande",
         "MT",
         "2023-05-08"
        ],
        [
         "CLI0026",
         "Rede Farmácias Popular",
         "21.995.706/0001-62",
         "EPP",
         "Construção",
         "Rondonópolis",
         "MT",
         "2024-04-24"
        ],
        [
         "CLI0027",
         "Empresa Consultoria Empresarial",
         "85.560.262/0001-64",
         "EPP",
         "Serviços",
         "Sinop",
         "MT",
         "2023-04-25"
        ],
        [
         "CLI0028",
         "Indústria Ração Animal",
         "10.306.146/0001-30",
         "ME",
         "Agronegócio",
         "Cuiabá",
         "MT",
         "2023-02-11"
        ],
        [
         "CLI0029",
         "Distribuidora Autopeças MT",
         "54.659.450/0001-81",
         "EPP",
         "Indústria",
         "Cuiabá",
         "MT",
         "2023-05-22"
        ],
        [
         "CLI0030",
         "Comércio Materiais Elétricos",
         "62.652.938/0001-45",
         "Médio",
         "Agronegócio",
         "Rondonópolis",
         "MT",
         "2023-07-04"
        ],
        [
         "CLI0031",
         "Distribuidora Alimentos MT Ltda",
         "46.613.923/0001-94",
         "EPP",
         "Serviços",
         "Cuiabá",
         "MT",
         "2023-07-20"
        ],
        [
         "CLI0032",
         "Indústria Metalúrgica Centro-Oeste",
         "91.436.730/0001-24",
         "ME",
         "Indústria",
         "Várzea Grande",
         "MT",
         "2024-08-07"
        ],
        [
         "CLI0033",
         "Transportadora Rodoviária Nacional",
         "66.733.103/0001-33",
         "Médio",
         "Agronegócio",
         "Tangará da Serra",
         "MT",
         "2023-02-15"
        ],
        [
         "CLI0034",
         "Comércio Atacadista Grãos SA",
         "54.416.829/0001-80",
         "Grande",
         "Construção",
         "Várzea Grande",
         "MT",
         "2024-11-12"
        ],
        [
         "CLI0035",
         "Indústria Têxtil Algodão",
         "70.447.434/0001-45",
         "ME",
         "Agronegócio",
         "Rondonópolis",
         "MT",
         "2024-02-08"
        ],
        [
         "CLI0036",
         "Frigorífico Boi Gordo Ltda",
         "33.764.883/0001-98",
         "Médio",
         "Comércio",
         "Várzea Grande",
         "MT",
         "2023-09-02"
        ],
        [
         "CLI0037",
         "Empresa Construção Civil Premium",
         "88.430.888/0001-88",
         "EPP",
         "Comércio",
         "Rondonópolis",
         "MT",
         "2023-01-16"
        ],
        [
         "CLI0038",
         "Atacado Medicamentos Saúde",
         "40.233.229/0001-42",
         "ME",
         "Indústria",
         "Rondonópolis",
         "MT",
         "2023-12-09"
        ],
        [
         "CLI0039",
         "Indústria Móveis Madeira Nobre",
         "22.917.953/0001-28",
         "Grande",
         "Construção",
         "Rondonópolis",
         "MT",
         "2023-07-11"
        ],
        [
         "CLI0040",
         "Rede Supermercados Regional",
         "11.752.547/0001-82",
         "MEI",
         "Indústria",
         "Rondonópolis",
         "MT",
         "2023-12-02"
        ],
        [
         "CLI0041",
         "Distribuidora Bebidas MT",
         "12.211.359/0001-67",
         "MEI",
         "Comércio",
         "Várzea Grande",
         "MT",
         "2023-02-14"
        ],
        [
         "CLI0042",
         "Indústria Plásticos Recicláveis",
         "46.651.923/0001-77",
         "EPP",
         "Indústria",
         "Sinop",
         "MT",
         "2023-11-12"
        ],
        [
         "CLI0043",
         "Transportes Cargas Pesadas",
         "18.534.925/0001-21",
         "EPP",
         "Comércio",
         "Cuiabá",
         "MT",
         "2023-10-17"
        ],
        [
         "CLI0044",
         "Comércio Eletrônicos Varejo",
         "29.718.911/0001-12",
         "Grande",
         "Comércio",
         "Tangará da Serra",
         "MT",
         "2024-01-26"
        ],
        [
         "CLI0045",
         "Indústria Alimentos Orgânicos",
         "90.716.569/0001-28",
         "Médio",
         "Comércio",
         "Várzea Grande",
         "MT",
         "2023-03-11"
        ],
        [
         "CLI0046",
         "Atacado Material Construção",
         "29.629.289/0001-84",
         "EPP",
         "Serviços",
         "Várzea Grande",
         "MT",
         "2024-05-07"
        ],
        [
         "CLI0047",
         "Empresa Tecnologia Software",
         "57.346.118/0001-91",
         "ME",
         "Agronegócio",
         "Várzea Grande",
         "MT",
         "2023-03-04"
        ],
        [
         "CLI0048",
         "Clínica Médica Especializada",
         "76.843.560/0001-94",
         "MEI",
         "Indústria",
         "Cuiabá",
         "MT",
         "2024-04-01"
        ],
        [
         "CLI0049",
         "Indústria Cosméticos Naturais",
         "55.915.684/0001-18",
         "MEI",
         "Construção",
         "Cuiabá",
         "MT",
         "2024-08-27"
        ],
        [
         "CLI0050",
         "Distribuidora Produtos Limpeza",
         "24.882.468/0001-81",
         "MEI",
         "Indústria",
         "Cuiabá",
         "MT",
         "2024-02-27"
        ]
       ],
       "datasetInfos": [
        {
         "name": "_sqldf",
         "schema": {
          "fields": [
           {
            "metadata": {},
            "name": "id_cliente",
            "nullable": true,
            "type": "string"
           },
           {
            "metadata": {},
            "name": "razao_social",
            "nullable": true,
            "type": "string"
           },
           {
            "metadata": {},
            "name": "cnpj",
            "nullable": true,
            "type": "string"
           },
           {
            "metadata": {},
            "name": "porte_empresa",
            "nullable": true,
            "type": "string"
           },
           {
            "metadata": {},
            "name": "setor",
            "nullable": true,
            "type": "string"
           },
           {
            "metadata": {},
            "name": "cidade",
            "nullable": true,
            "type": "string"
           },
           {
            "metadata": {},
            "name": "estado",
            "nullable": true,
            "type": "string"
           },
           {
            "metadata": {
             "__detected_date_formats": "yyyy-M-d"
            },
            "name": "data_cadastro",
            "nullable": true,
            "type": "date"
           }
          ],
          "type": "struct"
         },
         "tableIdentifier": null,
         "typeStr": "pyspark.sql.connect.dataframe.DataFrame"
        }
       ],
       "dbfsResultPath": null,
       "isJsonSchema": true,
       "metadata": {
        "createTempViewForImplicitDf": true,
        "dataframeName": "_sqldf",
        "executionCount": 138
       },
       "overflow": false,
       "plotOptions": {
        "customPlotOptions": {},
        "displayType": "table",
        "pivotAggregation": null,
        "pivotColumns": null,
        "xColumns": null,
        "yColumns": null
       },
       "removedWidgets": [],
       "schema": [
        {
         "metadata": "{}",
         "name": "id_cliente",
         "type": "\"string\""
        },
        {
         "metadata": "{}",
         "name": "razao_social",
         "type": "\"string\""
        },
        {
         "metadata": "{}",
         "name": "cnpj",
         "type": "\"string\""
        },
        {
         "metadata": "{}",
         "name": "porte_empresa",
         "type": "\"string\""
        },
        {
         "metadata": "{}",
         "name": "setor",
         "type": "\"string\""
        },
        {
         "metadata": "{}",
         "name": "cidade",
         "type": "\"string\""
        },
        {
         "metadata": "{}",
         "name": "estado",
         "type": "\"string\""
        },
        {
         "metadata": "{\"__detected_date_formats\": \"yyyy-M-d\"}",
         "name": "data_cadastro",
         "type": "\"date\""
        }
       ],
       "type": "table"
      }
     },
     "output_type": "display_data"
    }
   ],
   "source": [
    "%sql\n",
    "SELECT * FROM\n",
    "psa.bronze.dados_clientes"
   ]
  },
  {
   "cell_type": "code",
   "execution_count": 0,
   "metadata": {
    "application/vnd.databricks.v1+cell": {
     "cellMetadata": {
      "byteLimit": 2048000,
      "rowLimit": 10000
     },
     "inputWidgets": {},
     "nuid": "7497652c-47bc-4dac-b79c-c664d5b4dfa1",
     "showTitle": false,
     "tableResultSettingsMap": {},
     "title": ""
    }
   },
   "outputs": [],
   "source": [
    "#ESTABELECENDO DATAFRAME \n",
    "df = spark.table('psa.bronze.dados_clientes')"
   ]
  },
  {
   "cell_type": "code",
   "execution_count": 0,
   "metadata": {
    "application/vnd.databricks.v1+cell": {
     "cellMetadata": {
      "byteLimit": 2048000,
      "rowLimit": 10000
     },
     "inputWidgets": {},
     "nuid": "4af60328-5e12-4e74-bfbd-0c89742c82a4",
     "showTitle": false,
     "tableResultSettingsMap": {},
     "title": ""
    }
   },
   "outputs": [],
   "source": [
    "#incluir colunas de controle para saber a carga \n",
    "df = df.withColumn('data_carga',current_date())\n",
    "df = df.withColumn('data_hora_carga',expr('current_timestamp()- interval 3 hours'))"
   ]
  },
  {
   "cell_type": "code",
   "execution_count": 0,
   "metadata": {
    "application/vnd.databricks.v1+cell": {
     "cellMetadata": {
      "byteLimit": 2048000,
      "rowLimit": 10000
     },
     "inputWidgets": {},
     "nuid": "044e4432-3ff1-4aa7-84a1-971fd46880fc",
     "showTitle": false,
     "tableResultSettingsMap": {},
     "title": ""
    }
   },
   "outputs": [
    {
     "output_type": "display_data",
     "data": {
      "text/html": [
       "<style scoped>\n",
       "  .table-result-container {\n",
       "    max-height: 300px;\n",
       "    overflow: auto;\n",
       "  }\n",
       "  table, th, td {\n",
       "    border: 1px solid black;\n",
       "    border-collapse: collapse;\n",
       "  }\n",
       "  th, td {\n",
       "    padding: 5px;\n",
       "  }\n",
       "  th {\n",
       "    text-align: left;\n",
       "  }\n",
       "</style><div class='table-result-container'><table class='table-result'><thead style='background-color: white'><tr><th>id_cliente</th><th>razao_social</th><th>cnpj</th><th>porte_empresa</th><th>setor</th><th>cidade</th><th>estado</th><th>data_cadastro</th><th>data_carga</th><th>data_hora_carga</th></tr></thead><tbody><tr><td>CLI0001</td><td>Distribuidora Alimentos MT Ltda</td><td>71.620.270/0001-11</td><td>Médio</td><td>Construção</td><td>Tangará da Serra</td><td>MT</td><td>2023-06-17</td><td>2025-10-29</td><td>2025-10-28T22:31:48.561Z</td></tr><tr><td>CLI0002</td><td>Indústria Metalúrgica Centro-Oeste</td><td>90.616.356/0001-77</td><td>Grande</td><td>Serviços</td><td>Várzea Grande</td><td>MT</td><td>2023-11-24</td><td>2025-10-29</td><td>2025-10-28T22:31:48.561Z</td></tr><tr><td>CLI0003</td><td>Transportadora Rodoviária Nacional</td><td>90.663.735/0001-15</td><td>Grande</td><td>Serviços</td><td>Cuiabá</td><td>MT</td><td>2024-06-02</td><td>2025-10-29</td><td>2025-10-28T22:31:48.561Z</td></tr><tr><td>CLI0004</td><td>Comércio Atacadista Grãos SA</td><td>57.859.248/0001-42</td><td>MEI</td><td>Indústria</td><td>Sinop</td><td>MT</td><td>2023-08-25</td><td>2025-10-29</td><td>2025-10-28T22:31:48.561Z</td></tr><tr><td>CLI0005</td><td>Indústria Têxtil Algodão</td><td>22.260.904/0001-85</td><td>Grande</td><td>Construção</td><td>Tangará da Serra</td><td>MT</td><td>2023-01-16</td><td>2025-10-29</td><td>2025-10-28T22:31:48.561Z</td></tr><tr><td>CLI0006</td><td>Frigorífico Boi Gordo Ltda</td><td>26.591.187/0001-33</td><td>ME</td><td>Construção</td><td>Cuiabá</td><td>MT</td><td>2023-07-21</td><td>2025-10-29</td><td>2025-10-28T22:31:48.561Z</td></tr><tr><td>CLI0007</td><td>Empresa Construção Civil Premium</td><td>14.115.374/0001-24</td><td>EPP</td><td>Indústria</td><td>Várzea Grande</td><td>MT</td><td>2023-12-30</td><td>2025-10-29</td><td>2025-10-28T22:31:48.561Z</td></tr><tr><td>CLI0008</td><td>Atacado Medicamentos Saúde</td><td>55.183.997/0001-56</td><td>Médio</td><td>Agronegócio</td><td>Cuiabá</td><td>MT</td><td>2023-12-10</td><td>2025-10-29</td><td>2025-10-28T22:31:48.561Z</td></tr><tr><td>CLI0009</td><td>Indústria Móveis Madeira Nobre</td><td>17.314.790/0001-26</td><td>EPP</td><td>Agronegócio</td><td>Rondonópolis</td><td>MT</td><td>2024-03-22</td><td>2025-10-29</td><td>2025-10-28T22:31:48.561Z</td></tr><tr><td>CLI0010</td><td>Rede Supermercados Regional</td><td>57.107.247/0001-19</td><td>ME</td><td>Comércio</td><td>Várzea Grande</td><td>MT</td><td>2023-01-11</td><td>2025-10-29</td><td>2025-10-28T22:31:48.561Z</td></tr><tr><td>CLI0011</td><td>Distribuidora Bebidas MT</td><td>36.476.118/0001-92</td><td>EPP</td><td>Comércio</td><td>Tangará da Serra</td><td>MT</td><td>2023-09-30</td><td>2025-10-29</td><td>2025-10-28T22:31:48.561Z</td></tr><tr><td>CLI0012</td><td>Indústria Plásticos Recicláveis</td><td>94.561.637/0001-71</td><td>Grande</td><td>Comércio</td><td>Várzea Grande</td><td>MT</td><td>2024-04-22</td><td>2025-10-29</td><td>2025-10-28T22:31:48.561Z</td></tr><tr><td>CLI0013</td><td>Transportes Cargas Pesadas</td><td>12.496.129/0001-67</td><td>Médio</td><td>Indústria</td><td>Rondonópolis</td><td>MT</td><td>2024-07-28</td><td>2025-10-29</td><td>2025-10-28T22:31:48.561Z</td></tr><tr><td>CLI0014</td><td>Comércio Eletrônicos Varejo</td><td>15.520.842/0001-66</td><td>Grande</td><td>Construção</td><td>Rondonópolis</td><td>MT</td><td>2023-06-18</td><td>2025-10-29</td><td>2025-10-28T22:31:48.561Z</td></tr><tr><td>CLI0015</td><td>Indústria Alimentos Orgânicos</td><td>27.960.281/0001-94</td><td>ME</td><td>Agronegócio</td><td>Cuiabá</td><td>MT</td><td>2024-04-27</td><td>2025-10-29</td><td>2025-10-28T22:31:48.561Z</td></tr><tr><td>CLI0016</td><td>Atacado Material Construção</td><td>21.372.108/0001-50</td><td>Médio</td><td>Comércio</td><td>Várzea Grande</td><td>MT</td><td>2024-01-07</td><td>2025-10-29</td><td>2025-10-28T22:31:48.561Z</td></tr><tr><td>CLI0017</td><td>Empresa Tecnologia Software</td><td>32.445.428/0001-95</td><td>MEI</td><td>Agronegócio</td><td>Sinop</td><td>MT</td><td>2023-02-02</td><td>2025-10-29</td><td>2025-10-28T22:31:48.561Z</td></tr><tr><td>CLI0018</td><td>Clínica Médica Especializada</td><td>43.857.118/0001-15</td><td>Grande</td><td>Indústria</td><td>Várzea Grande</td><td>MT</td><td>2024-09-28</td><td>2025-10-29</td><td>2025-10-28T22:31:48.561Z</td></tr><tr><td>CLI0019</td><td>Indústria Cosméticos Naturais</td><td>79.163.525/0001-90</td><td>Médio</td><td>Agronegócio</td><td>Rondonópolis</td><td>MT</td><td>2024-02-05</td><td>2025-10-29</td><td>2025-10-28T22:31:48.561Z</td></tr><tr><td>CLI0020</td><td>Distribuidora Produtos Limpeza</td><td>20.983.272/0001-94</td><td>Grande</td><td>Serviços</td><td>Rondonópolis</td><td>MT</td><td>2023-03-07</td><td>2025-10-29</td><td>2025-10-28T22:31:48.561Z</td></tr><tr><td>CLI0021</td><td>Comércio Vestuário Fashion</td><td>94.563.843/0001-71</td><td>ME</td><td>Comércio</td><td>Sinop</td><td>MT</td><td>2024-03-20</td><td>2025-10-29</td><td>2025-10-28T22:31:48.561Z</td></tr><tr><td>CLI0022</td><td>Indústria Calçados Couro</td><td>15.914.909/0001-71</td><td>ME</td><td>Indústria</td><td>Tangará da Serra</td><td>MT</td><td>2023-05-20</td><td>2025-10-29</td><td>2025-10-28T22:31:48.561Z</td></tr><tr><td>CLI0023</td><td>Transportadora Logística Integrada</td><td>46.400.974/0001-49</td><td>ME</td><td>Construção</td><td>Várzea Grande</td><td>MT</td><td>2024-10-17</td><td>2025-10-29</td><td>2025-10-28T22:31:48.561Z</td></tr><tr><td>CLI0024</td><td>Atacado Produtos Agrícolas</td><td>48.106.874/0001-77</td><td>EPP</td><td>Indústria</td><td>Várzea Grande</td><td>MT</td><td>2023-02-15</td><td>2025-10-29</td><td>2025-10-28T22:31:48.561Z</td></tr><tr><td>CLI0025</td><td>Indústria Embalagens Papel</td><td>56.145.459/0001-47</td><td>Grande</td><td>Agronegócio</td><td>Várzea Grande</td><td>MT</td><td>2023-05-08</td><td>2025-10-29</td><td>2025-10-28T22:31:48.561Z</td></tr><tr><td>CLI0026</td><td>Rede Farmácias Popular</td><td>21.995.706/0001-62</td><td>EPP</td><td>Construção</td><td>Rondonópolis</td><td>MT</td><td>2024-04-24</td><td>2025-10-29</td><td>2025-10-28T22:31:48.561Z</td></tr><tr><td>CLI0027</td><td>Empresa Consultoria Empresarial</td><td>85.560.262/0001-64</td><td>EPP</td><td>Serviços</td><td>Sinop</td><td>MT</td><td>2023-04-25</td><td>2025-10-29</td><td>2025-10-28T22:31:48.561Z</td></tr><tr><td>CLI0028</td><td>Indústria Ração Animal</td><td>10.306.146/0001-30</td><td>ME</td><td>Agronegócio</td><td>Cuiabá</td><td>MT</td><td>2023-02-11</td><td>2025-10-29</td><td>2025-10-28T22:31:48.561Z</td></tr><tr><td>CLI0029</td><td>Distribuidora Autopeças MT</td><td>54.659.450/0001-81</td><td>EPP</td><td>Indústria</td><td>Cuiabá</td><td>MT</td><td>2023-05-22</td><td>2025-10-29</td><td>2025-10-28T22:31:48.561Z</td></tr><tr><td>CLI0030</td><td>Comércio Materiais Elétricos</td><td>62.652.938/0001-45</td><td>Médio</td><td>Agronegócio</td><td>Rondonópolis</td><td>MT</td><td>2023-07-04</td><td>2025-10-29</td><td>2025-10-28T22:31:48.561Z</td></tr><tr><td>CLI0031</td><td>Distribuidora Alimentos MT Ltda</td><td>46.613.923/0001-94</td><td>EPP</td><td>Serviços</td><td>Cuiabá</td><td>MT</td><td>2023-07-20</td><td>2025-10-29</td><td>2025-10-28T22:31:48.561Z</td></tr><tr><td>CLI0032</td><td>Indústria Metalúrgica Centro-Oeste</td><td>91.436.730/0001-24</td><td>ME</td><td>Indústria</td><td>Várzea Grande</td><td>MT</td><td>2024-08-07</td><td>2025-10-29</td><td>2025-10-28T22:31:48.561Z</td></tr><tr><td>CLI0033</td><td>Transportadora Rodoviária Nacional</td><td>66.733.103/0001-33</td><td>Médio</td><td>Agronegócio</td><td>Tangará da Serra</td><td>MT</td><td>2023-02-15</td><td>2025-10-29</td><td>2025-10-28T22:31:48.561Z</td></tr><tr><td>CLI0034</td><td>Comércio Atacadista Grãos SA</td><td>54.416.829/0001-80</td><td>Grande</td><td>Construção</td><td>Várzea Grande</td><td>MT</td><td>2024-11-12</td><td>2025-10-29</td><td>2025-10-28T22:31:48.561Z</td></tr><tr><td>CLI0035</td><td>Indústria Têxtil Algodão</td><td>70.447.434/0001-45</td><td>ME</td><td>Agronegócio</td><td>Rondonópolis</td><td>MT</td><td>2024-02-08</td><td>2025-10-29</td><td>2025-10-28T22:31:48.561Z</td></tr><tr><td>CLI0036</td><td>Frigorífico Boi Gordo Ltda</td><td>33.764.883/0001-98</td><td>Médio</td><td>Comércio</td><td>Várzea Grande</td><td>MT</td><td>2023-09-02</td><td>2025-10-29</td><td>2025-10-28T22:31:48.561Z</td></tr><tr><td>CLI0037</td><td>Empresa Construção Civil Premium</td><td>88.430.888/0001-88</td><td>EPP</td><td>Comércio</td><td>Rondonópolis</td><td>MT</td><td>2023-01-16</td><td>2025-10-29</td><td>2025-10-28T22:31:48.561Z</td></tr><tr><td>CLI0038</td><td>Atacado Medicamentos Saúde</td><td>40.233.229/0001-42</td><td>ME</td><td>Indústria</td><td>Rondonópolis</td><td>MT</td><td>2023-12-09</td><td>2025-10-29</td><td>2025-10-28T22:31:48.561Z</td></tr><tr><td>CLI0039</td><td>Indústria Móveis Madeira Nobre</td><td>22.917.953/0001-28</td><td>Grande</td><td>Construção</td><td>Rondonópolis</td><td>MT</td><td>2023-07-11</td><td>2025-10-29</td><td>2025-10-28T22:31:48.561Z</td></tr><tr><td>CLI0040</td><td>Rede Supermercados Regional</td><td>11.752.547/0001-82</td><td>MEI</td><td>Indústria</td><td>Rondonópolis</td><td>MT</td><td>2023-12-02</td><td>2025-10-29</td><td>2025-10-28T22:31:48.561Z</td></tr><tr><td>CLI0041</td><td>Distribuidora Bebidas MT</td><td>12.211.359/0001-67</td><td>MEI</td><td>Comércio</td><td>Várzea Grande</td><td>MT</td><td>2023-02-14</td><td>2025-10-29</td><td>2025-10-28T22:31:48.561Z</td></tr><tr><td>CLI0042</td><td>Indústria Plásticos Recicláveis</td><td>46.651.923/0001-77</td><td>EPP</td><td>Indústria</td><td>Sinop</td><td>MT</td><td>2023-11-12</td><td>2025-10-29</td><td>2025-10-28T22:31:48.561Z</td></tr><tr><td>CLI0043</td><td>Transportes Cargas Pesadas</td><td>18.534.925/0001-21</td><td>EPP</td><td>Comércio</td><td>Cuiabá</td><td>MT</td><td>2023-10-17</td><td>2025-10-29</td><td>2025-10-28T22:31:48.561Z</td></tr><tr><td>CLI0044</td><td>Comércio Eletrônicos Varejo</td><td>29.718.911/0001-12</td><td>Grande</td><td>Comércio</td><td>Tangará da Serra</td><td>MT</td><td>2024-01-26</td><td>2025-10-29</td><td>2025-10-28T22:31:48.561Z</td></tr><tr><td>CLI0045</td><td>Indústria Alimentos Orgânicos</td><td>90.716.569/0001-28</td><td>Médio</td><td>Comércio</td><td>Várzea Grande</td><td>MT</td><td>2023-03-11</td><td>2025-10-29</td><td>2025-10-28T22:31:48.561Z</td></tr><tr><td>CLI0046</td><td>Atacado Material Construção</td><td>29.629.289/0001-84</td><td>EPP</td><td>Serviços</td><td>Várzea Grande</td><td>MT</td><td>2024-05-07</td><td>2025-10-29</td><td>2025-10-28T22:31:48.561Z</td></tr><tr><td>CLI0047</td><td>Empresa Tecnologia Software</td><td>57.346.118/0001-91</td><td>ME</td><td>Agronegócio</td><td>Várzea Grande</td><td>MT</td><td>2023-03-04</td><td>2025-10-29</td><td>2025-10-28T22:31:48.561Z</td></tr><tr><td>CLI0048</td><td>Clínica Médica Especializada</td><td>76.843.560/0001-94</td><td>MEI</td><td>Indústria</td><td>Cuiabá</td><td>MT</td><td>2024-04-01</td><td>2025-10-29</td><td>2025-10-28T22:31:48.561Z</td></tr><tr><td>CLI0049</td><td>Indústria Cosméticos Naturais</td><td>55.915.684/0001-18</td><td>MEI</td><td>Construção</td><td>Cuiabá</td><td>MT</td><td>2024-08-27</td><td>2025-10-29</td><td>2025-10-28T22:31:48.561Z</td></tr><tr><td>CLI0050</td><td>Distribuidora Produtos Limpeza</td><td>24.882.468/0001-81</td><td>MEI</td><td>Indústria</td><td>Cuiabá</td><td>MT</td><td>2024-02-27</td><td>2025-10-29</td><td>2025-10-28T22:31:48.561Z</td></tr></tbody></table></div>"
      ]
     },
     "metadata": {
      "application/vnd.databricks.v1+output": {
       "addedWidgets": {},
       "aggData": [],
       "aggError": "",
       "aggOverflow": false,
       "aggSchema": [],
       "aggSeriesLimitReached": false,
       "aggType": "",
       "arguments": {},
       "columnCustomDisplayInfos": {},
       "data": [
        [
         "CLI0001",
         "Distribuidora Alimentos MT Ltda",
         "71.620.270/0001-11",
         "Médio",
         "Construção",
         "Tangará da Serra",
         "MT",
         "2023-06-17",
         "2025-10-29",
         "2025-10-28T22:31:48.561Z"
        ],
        [
         "CLI0002",
         "Indústria Metalúrgica Centro-Oeste",
         "90.616.356/0001-77",
         "Grande",
         "Serviços",
         "Várzea Grande",
         "MT",
         "2023-11-24",
         "2025-10-29",
         "2025-10-28T22:31:48.561Z"
        ],
        [
         "CLI0003",
         "Transportadora Rodoviária Nacional",
         "90.663.735/0001-15",
         "Grande",
         "Serviços",
         "Cuiabá",
         "MT",
         "2024-06-02",
         "2025-10-29",
         "2025-10-28T22:31:48.561Z"
        ],
        [
         "CLI0004",
         "Comércio Atacadista Grãos SA",
         "57.859.248/0001-42",
         "MEI",
         "Indústria",
         "Sinop",
         "MT",
         "2023-08-25",
         "2025-10-29",
         "2025-10-28T22:31:48.561Z"
        ],
        [
         "CLI0005",
         "Indústria Têxtil Algodão",
         "22.260.904/0001-85",
         "Grande",
         "Construção",
         "Tangará da Serra",
         "MT",
         "2023-01-16",
         "2025-10-29",
         "2025-10-28T22:31:48.561Z"
        ],
        [
         "CLI0006",
         "Frigorífico Boi Gordo Ltda",
         "26.591.187/0001-33",
         "ME",
         "Construção",
         "Cuiabá",
         "MT",
         "2023-07-21",
         "2025-10-29",
         "2025-10-28T22:31:48.561Z"
        ],
        [
         "CLI0007",
         "Empresa Construção Civil Premium",
         "14.115.374/0001-24",
         "EPP",
         "Indústria",
         "Várzea Grande",
         "MT",
         "2023-12-30",
         "2025-10-29",
         "2025-10-28T22:31:48.561Z"
        ],
        [
         "CLI0008",
         "Atacado Medicamentos Saúde",
         "55.183.997/0001-56",
         "Médio",
         "Agronegócio",
         "Cuiabá",
         "MT",
         "2023-12-10",
         "2025-10-29",
         "2025-10-28T22:31:48.561Z"
        ],
        [
         "CLI0009",
         "Indústria Móveis Madeira Nobre",
         "17.314.790/0001-26",
         "EPP",
         "Agronegócio",
         "Rondonópolis",
         "MT",
         "2024-03-22",
         "2025-10-29",
         "2025-10-28T22:31:48.561Z"
        ],
        [
         "CLI0010",
         "Rede Supermercados Regional",
         "57.107.247/0001-19",
         "ME",
         "Comércio",
         "Várzea Grande",
         "MT",
         "2023-01-11",
         "2025-10-29",
         "2025-10-28T22:31:48.561Z"
        ],
        [
         "CLI0011",
         "Distribuidora Bebidas MT",
         "36.476.118/0001-92",
         "EPP",
         "Comércio",
         "Tangará da Serra",
         "MT",
         "2023-09-30",
         "2025-10-29",
         "2025-10-28T22:31:48.561Z"
        ],
        [
         "CLI0012",
         "Indústria Plásticos Recicláveis",
         "94.561.637/0001-71",
         "Grande",
         "Comércio",
         "Várzea Grande",
         "MT",
         "2024-04-22",
         "2025-10-29",
         "2025-10-28T22:31:48.561Z"
        ],
        [
         "CLI0013",
         "Transportes Cargas Pesadas",
         "12.496.129/0001-67",
         "Médio",
         "Indústria",
         "Rondonópolis",
         "MT",
         "2024-07-28",
         "2025-10-29",
         "2025-10-28T22:31:48.561Z"
        ],
        [
         "CLI0014",
         "Comércio Eletrônicos Varejo",
         "15.520.842/0001-66",
         "Grande",
         "Construção",
         "Rondonópolis",
         "MT",
         "2023-06-18",
         "2025-10-29",
         "2025-10-28T22:31:48.561Z"
        ],
        [
         "CLI0015",
         "Indústria Alimentos Orgânicos",
         "27.960.281/0001-94",
         "ME",
         "Agronegócio",
         "Cuiabá",
         "MT",
         "2024-04-27",
         "2025-10-29",
         "2025-10-28T22:31:48.561Z"
        ],
        [
         "CLI0016",
         "Atacado Material Construção",
         "21.372.108/0001-50",
         "Médio",
         "Comércio",
         "Várzea Grande",
         "MT",
         "2024-01-07",
         "2025-10-29",
         "2025-10-28T22:31:48.561Z"
        ],
        [
         "CLI0017",
         "Empresa Tecnologia Software",
         "32.445.428/0001-95",
         "MEI",
         "Agronegócio",
         "Sinop",
         "MT",
         "2023-02-02",
         "2025-10-29",
         "2025-10-28T22:31:48.561Z"
        ],
        [
         "CLI0018",
         "Clínica Médica Especializada",
         "43.857.118/0001-15",
         "Grande",
         "Indústria",
         "Várzea Grande",
         "MT",
         "2024-09-28",
         "2025-10-29",
         "2025-10-28T22:31:48.561Z"
        ],
        [
         "CLI0019",
         "Indústria Cosméticos Naturais",
         "79.163.525/0001-90",
         "Médio",
         "Agronegócio",
         "Rondonópolis",
         "MT",
         "2024-02-05",
         "2025-10-29",
         "2025-10-28T22:31:48.561Z"
        ],
        [
         "CLI0020",
         "Distribuidora Produtos Limpeza",
         "20.983.272/0001-94",
         "Grande",
         "Serviços",
         "Rondonópolis",
         "MT",
         "2023-03-07",
         "2025-10-29",
         "2025-10-28T22:31:48.561Z"
        ],
        [
         "CLI0021",
         "Comércio Vestuário Fashion",
         "94.563.843/0001-71",
         "ME",
         "Comércio",
         "Sinop",
         "MT",
         "2024-03-20",
         "2025-10-29",
         "2025-10-28T22:31:48.561Z"
        ],
        [
         "CLI0022",
         "Indústria Calçados Couro",
         "15.914.909/0001-71",
         "ME",
         "Indústria",
         "Tangará da Serra",
         "MT",
         "2023-05-20",
         "2025-10-29",
         "2025-10-28T22:31:48.561Z"
        ],
        [
         "CLI0023",
         "Transportadora Logística Integrada",
         "46.400.974/0001-49",
         "ME",
         "Construção",
         "Várzea Grande",
         "MT",
         "2024-10-17",
         "2025-10-29",
         "2025-10-28T22:31:48.561Z"
        ],
        [
         "CLI0024",
         "Atacado Produtos Agrícolas",
         "48.106.874/0001-77",
         "EPP",
         "Indústria",
         "Várzea Grande",
         "MT",
         "2023-02-15",
         "2025-10-29",
         "2025-10-28T22:31:48.561Z"
        ],
        [
         "CLI0025",
         "Indústria Embalagens Papel",
         "56.145.459/0001-47",
         "Grande",
         "Agronegócio",
         "Várzea Grande",
         "MT",
         "2023-05-08",
         "2025-10-29",
         "2025-10-28T22:31:48.561Z"
        ],
        [
         "CLI0026",
         "Rede Farmácias Popular",
         "21.995.706/0001-62",
         "EPP",
         "Construção",
         "Rondonópolis",
         "MT",
         "2024-04-24",
         "2025-10-29",
         "2025-10-28T22:31:48.561Z"
        ],
        [
         "CLI0027",
         "Empresa Consultoria Empresarial",
         "85.560.262/0001-64",
         "EPP",
         "Serviços",
         "Sinop",
         "MT",
         "2023-04-25",
         "2025-10-29",
         "2025-10-28T22:31:48.561Z"
        ],
        [
         "CLI0028",
         "Indústria Ração Animal",
         "10.306.146/0001-30",
         "ME",
         "Agronegócio",
         "Cuiabá",
         "MT",
         "2023-02-11",
         "2025-10-29",
         "2025-10-28T22:31:48.561Z"
        ],
        [
         "CLI0029",
         "Distribuidora Autopeças MT",
         "54.659.450/0001-81",
         "EPP",
         "Indústria",
         "Cuiabá",
         "MT",
         "2023-05-22",
         "2025-10-29",
         "2025-10-28T22:31:48.561Z"
        ],
        [
         "CLI0030",
         "Comércio Materiais Elétricos",
         "62.652.938/0001-45",
         "Médio",
         "Agronegócio",
         "Rondonópolis",
         "MT",
         "2023-07-04",
         "2025-10-29",
         "2025-10-28T22:31:48.561Z"
        ],
        [
         "CLI0031",
         "Distribuidora Alimentos MT Ltda",
         "46.613.923/0001-94",
         "EPP",
         "Serviços",
         "Cuiabá",
         "MT",
         "2023-07-20",
         "2025-10-29",
         "2025-10-28T22:31:48.561Z"
        ],
        [
         "CLI0032",
         "Indústria Metalúrgica Centro-Oeste",
         "91.436.730/0001-24",
         "ME",
         "Indústria",
         "Várzea Grande",
         "MT",
         "2024-08-07",
         "2025-10-29",
         "2025-10-28T22:31:48.561Z"
        ],
        [
         "CLI0033",
         "Transportadora Rodoviária Nacional",
         "66.733.103/0001-33",
         "Médio",
         "Agronegócio",
         "Tangará da Serra",
         "MT",
         "2023-02-15",
         "2025-10-29",
         "2025-10-28T22:31:48.561Z"
        ],
        [
         "CLI0034",
         "Comércio Atacadista Grãos SA",
         "54.416.829/0001-80",
         "Grande",
         "Construção",
         "Várzea Grande",
         "MT",
         "2024-11-12",
         "2025-10-29",
         "2025-10-28T22:31:48.561Z"
        ],
        [
         "CLI0035",
         "Indústria Têxtil Algodão",
         "70.447.434/0001-45",
         "ME",
         "Agronegócio",
         "Rondonópolis",
         "MT",
         "2024-02-08",
         "2025-10-29",
         "2025-10-28T22:31:48.561Z"
        ],
        [
         "CLI0036",
         "Frigorífico Boi Gordo Ltda",
         "33.764.883/0001-98",
         "Médio",
         "Comércio",
         "Várzea Grande",
         "MT",
         "2023-09-02",
         "2025-10-29",
         "2025-10-28T22:31:48.561Z"
        ],
        [
         "CLI0037",
         "Empresa Construção Civil Premium",
         "88.430.888/0001-88",
         "EPP",
         "Comércio",
         "Rondonópolis",
         "MT",
         "2023-01-16",
         "2025-10-29",
         "2025-10-28T22:31:48.561Z"
        ],
        [
         "CLI0038",
         "Atacado Medicamentos Saúde",
         "40.233.229/0001-42",
         "ME",
         "Indústria",
         "Rondonópolis",
         "MT",
         "2023-12-09",
         "2025-10-29",
         "2025-10-28T22:31:48.561Z"
        ],
        [
         "CLI0039",
         "Indústria Móveis Madeira Nobre",
         "22.917.953/0001-28",
         "Grande",
         "Construção",
         "Rondonópolis",
         "MT",
         "2023-07-11",
         "2025-10-29",
         "2025-10-28T22:31:48.561Z"
        ],
        [
         "CLI0040",
         "Rede Supermercados Regional",
         "11.752.547/0001-82",
         "MEI",
         "Indústria",
         "Rondonópolis",
         "MT",
         "2023-12-02",
         "2025-10-29",
         "2025-10-28T22:31:48.561Z"
        ],
        [
         "CLI0041",
         "Distribuidora Bebidas MT",
         "12.211.359/0001-67",
         "MEI",
         "Comércio",
         "Várzea Grande",
         "MT",
         "2023-02-14",
         "2025-10-29",
         "2025-10-28T22:31:48.561Z"
        ],
        [
         "CLI0042",
         "Indústria Plásticos Recicláveis",
         "46.651.923/0001-77",
         "EPP",
         "Indústria",
         "Sinop",
         "MT",
         "2023-11-12",
         "2025-10-29",
         "2025-10-28T22:31:48.561Z"
        ],
        [
         "CLI0043",
         "Transportes Cargas Pesadas",
         "18.534.925/0001-21",
         "EPP",
         "Comércio",
         "Cuiabá",
         "MT",
         "2023-10-17",
         "2025-10-29",
         "2025-10-28T22:31:48.561Z"
        ],
        [
         "CLI0044",
         "Comércio Eletrônicos Varejo",
         "29.718.911/0001-12",
         "Grande",
         "Comércio",
         "Tangará da Serra",
         "MT",
         "2024-01-26",
         "2025-10-29",
         "2025-10-28T22:31:48.561Z"
        ],
        [
         "CLI0045",
         "Indústria Alimentos Orgânicos",
         "90.716.569/0001-28",
         "Médio",
         "Comércio",
         "Várzea Grande",
         "MT",
         "2023-03-11",
         "2025-10-29",
         "2025-10-28T22:31:48.561Z"
        ],
        [
         "CLI0046",
         "Atacado Material Construção",
         "29.629.289/0001-84",
         "EPP",
         "Serviços",
         "Várzea Grande",
         "MT",
         "2024-05-07",
         "2025-10-29",
         "2025-10-28T22:31:48.561Z"
        ],
        [
         "CLI0047",
         "Empresa Tecnologia Software",
         "57.346.118/0001-91",
         "ME",
         "Agronegócio",
         "Várzea Grande",
         "MT",
         "2023-03-04",
         "2025-10-29",
         "2025-10-28T22:31:48.561Z"
        ],
        [
         "CLI0048",
         "Clínica Médica Especializada",
         "76.843.560/0001-94",
         "MEI",
         "Indústria",
         "Cuiabá",
         "MT",
         "2024-04-01",
         "2025-10-29",
         "2025-10-28T22:31:48.561Z"
        ],
        [
         "CLI0049",
         "Indústria Cosméticos Naturais",
         "55.915.684/0001-18",
         "MEI",
         "Construção",
         "Cuiabá",
         "MT",
         "2024-08-27",
         "2025-10-29",
         "2025-10-28T22:31:48.561Z"
        ],
        [
         "CLI0050",
         "Distribuidora Produtos Limpeza",
         "24.882.468/0001-81",
         "MEI",
         "Indústria",
         "Cuiabá",
         "MT",
         "2024-02-27",
         "2025-10-29",
         "2025-10-28T22:31:48.561Z"
        ]
       ],
       "datasetInfos": [],
       "dbfsResultPath": null,
       "isJsonSchema": true,
       "metadata": {},
       "overflow": false,
       "plotOptions": {
        "customPlotOptions": {},
        "displayType": "table",
        "pivotAggregation": null,
        "pivotColumns": null,
        "xColumns": null,
        "yColumns": null
       },
       "removedWidgets": [],
       "schema": [
        {
         "metadata": "{}",
         "name": "id_cliente",
         "type": "\"string\""
        },
        {
         "metadata": "{}",
         "name": "razao_social",
         "type": "\"string\""
        },
        {
         "metadata": "{}",
         "name": "cnpj",
         "type": "\"string\""
        },
        {
         "metadata": "{}",
         "name": "porte_empresa",
         "type": "\"string\""
        },
        {
         "metadata": "{}",
         "name": "setor",
         "type": "\"string\""
        },
        {
         "metadata": "{}",
         "name": "cidade",
         "type": "\"string\""
        },
        {
         "metadata": "{}",
         "name": "estado",
         "type": "\"string\""
        },
        {
         "metadata": "{\"__detected_date_formats\": \"yyyy-M-d\"}",
         "name": "data_cadastro",
         "type": "\"date\""
        },
        {
         "metadata": "{}",
         "name": "data_carga",
         "type": "\"date\""
        },
        {
         "metadata": "{}",
         "name": "data_hora_carga",
         "type": "\"timestamp\""
        }
       ],
       "type": "table"
      }
     },
     "output_type": "display_data"
    }
   ],
   "source": [
    "display(df)"
   ]
  },
  {
   "cell_type": "code",
   "execution_count": 0,
   "metadata": {
    "application/vnd.databricks.v1+cell": {
     "cellMetadata": {
      "byteLimit": 2048000,
      "rowLimit": 10000
     },
     "inputWidgets": {},
     "nuid": "b9f34563-164d-413c-b6e9-17a5f388241a",
     "showTitle": false,
     "tableResultSettingsMap": {},
     "title": ""
    }
   },
   "outputs": [
    {
     "output_type": "execute_result",
     "data": {
      "text/plain": [
       "DataFrame[]"
      ]
     },
     "execution_count": 135,
     "metadata": {},
     "output_type": "execute_result"
    }
   ],
   "source": [
    "#tive que criar pois estava aparecendo schema not found\n",
    "\n",
    "spark.sql(\"create database if not exists bronze\")"
   ]
  },
  {
   "cell_type": "code",
   "execution_count": 0,
   "metadata": {
    "application/vnd.databricks.v1+cell": {
     "cellMetadata": {
      "byteLimit": 2048000,
      "rowLimit": 10000
     },
     "inputWidgets": {},
     "nuid": "51fd7463-c55f-4330-b48a-9c32ae0ede63",
     "showTitle": false,
     "tableResultSettingsMap": {},
     "title": ""
    }
   },
   "outputs": [
    {
     "output_type": "stream",
     "name": "stdout",
     "output_type": "stream",
     "text": [
      "Dados gravados com sucesso!\n"
     ]
    }
   ],
   "source": [
    "#gravar os dados no formato delta\n",
    "df.write \\\n",
    "    .format('delta') \\\n",
    "    .mode('overwrite') \\\n",
    "    .option('mergeSchema', 'true') \\\n",
    "    .option('overwriteSchema', 'true') \\\n",
    "    .saveAsTable(f'{database}.{tabela}')\n",
    "print('Dados gravados com sucesso!')"
   ]
  },
  {
   "cell_type": "code",
   "execution_count": 0,
   "metadata": {
    "application/vnd.databricks.v1+cell": {
     "cellMetadata": {
      "byteLimit": 2048000,
      "implicitDf": true,
      "rowLimit": 10000
     },
     "inputWidgets": {},
     "nuid": "180d679b-6c9c-4e8c-88a5-1f372fa82387",
     "showTitle": false,
     "tableResultSettingsMap": {},
     "title": ""
    }
   },
   "outputs": [
    {
     "output_type": "display_data",
     "data": {
      "text/html": [
       "<style scoped>\n",
       "  .table-result-container {\n",
       "    max-height: 300px;\n",
       "    overflow: auto;\n",
       "  }\n",
       "  table, th, td {\n",
       "    border: 1px solid black;\n",
       "    border-collapse: collapse;\n",
       "  }\n",
       "  th, td {\n",
       "    padding: 5px;\n",
       "  }\n",
       "  th {\n",
       "    text-align: left;\n",
       "  }\n",
       "</style><div class='table-result-container'><table class='table-result'><thead style='background-color: white'><tr><th>format</th><th>id</th><th>name</th><th>description</th><th>location</th><th>createdAt</th><th>lastModified</th><th>partitionColumns</th><th>clusteringColumns</th><th>numFiles</th><th>sizeInBytes</th><th>properties</th><th>minReaderVersion</th><th>minWriterVersion</th><th>tableFeatures</th><th>statistics</th><th>clusterByAuto</th></tr></thead><tbody><tr><td>delta</td><td>49c116d7-0b01-4c74-8920-e8744b4d466b</td><td>psa.bronze.dados_clientes</td><td>Created by the file upload UI</td><td></td><td>2025-10-28T21:08:01.695Z</td><td>2025-10-28T21:08:04.000Z</td><td>List()</td><td>List()</td><td>1</td><td>3959</td><td>Map(delta.checkpoint.writeStatsAsJson -> false, delta.checkpoint.writeStatsAsStruct -> true, delta.parquet.compression.codec -> zstd, delta.enableDeletionVectors -> true)</td><td>3</td><td>7</td><td>List(appendOnly, deletionVectors, invariants)</td><td>Map(numRowsDeletedByDeletionVectors -> 0, numDeletionVectors -> 0)</td><td>false</td></tr></tbody></table></div>"
      ]
     },
     "metadata": {
      "application/vnd.databricks.v1+output": {
       "addedWidgets": {},
       "aggData": [],
       "aggError": "",
       "aggOverflow": false,
       "aggSchema": [],
       "aggSeriesLimitReached": false,
       "aggType": "",
       "arguments": {},
       "columnCustomDisplayInfos": {},
       "data": [
        [
         "delta",
         "49c116d7-0b01-4c74-8920-e8744b4d466b",
         "psa.bronze.dados_clientes",
         "Created by the file upload UI",
         "",
         "2025-10-28T21:08:01.695Z",
         "2025-10-28T21:08:04.000Z",
         [],
         [],
         1,
         3959,
         {
          "delta.checkpoint.writeStatsAsJson": "false",
          "delta.checkpoint.writeStatsAsStruct": "true",
          "delta.enableDeletionVectors": "true",
          "delta.parquet.compression.codec": "zstd"
         },
         3,
         7,
         [
          "appendOnly",
          "deletionVectors",
          "invariants"
         ],
         {
          "numDeletionVectors": 0,
          "numRowsDeletedByDeletionVectors": 0
         },
         false
        ]
       ],
       "datasetInfos": [
        {
         "name": "_sqldf",
         "schema": {
          "fields": [
           {
            "metadata": {},
            "name": "format",
            "nullable": true,
            "type": "string"
           },
           {
            "metadata": {},
            "name": "id",
            "nullable": true,
            "type": "string"
           },
           {
            "metadata": {},
            "name": "name",
            "nullable": true,
            "type": "string"
           },
           {
            "metadata": {},
            "name": "description",
            "nullable": true,
            "type": "string"
           },
           {
            "metadata": {},
            "name": "location",
            "nullable": true,
            "type": "string"
           },
           {
            "metadata": {},
            "name": "createdAt",
            "nullable": true,
            "type": "timestamp"
           },
           {
            "metadata": {},
            "name": "lastModified",
            "nullable": true,
            "type": "timestamp"
           },
           {
            "metadata": {},
            "name": "partitionColumns",
            "nullable": true,
            "type": {
             "containsNull": true,
             "elementType": "string",
             "type": "array"
            }
           },
           {
            "metadata": {},
            "name": "clusteringColumns",
            "nullable": true,
            "type": {
             "containsNull": true,
             "elementType": "string",
             "type": "array"
            }
           },
           {
            "metadata": {},
            "name": "numFiles",
            "nullable": true,
            "type": "long"
           },
           {
            "metadata": {},
            "name": "sizeInBytes",
            "nullable": true,
            "type": "long"
           },
           {
            "metadata": {},
            "name": "properties",
            "nullable": true,
            "type": {
             "keyType": "string",
             "type": "map",
             "valueContainsNull": true,
             "valueType": "string"
            }
           },
           {
            "metadata": {},
            "name": "minReaderVersion",
            "nullable": true,
            "type": "integer"
           },
           {
            "metadata": {},
            "name": "minWriterVersion",
            "nullable": true,
            "type": "integer"
           },
           {
            "metadata": {},
            "name": "tableFeatures",
            "nullable": true,
            "type": {
             "containsNull": true,
             "elementType": "string",
             "type": "array"
            }
           },
           {
            "metadata": {},
            "name": "statistics",
            "nullable": true,
            "type": {
             "keyType": "string",
             "type": "map",
             "valueContainsNull": true,
             "valueType": "long"
            }
           },
           {
            "metadata": {},
            "name": "clusterByAuto",
            "nullable": false,
            "type": "boolean"
           }
          ],
          "type": "struct"
         },
         "tableIdentifier": null,
         "typeStr": "pyspark.sql.connect.dataframe.DataFrame"
        }
       ],
       "dbfsResultPath": null,
       "isJsonSchema": true,
       "metadata": {
        "createTempViewForImplicitDf": true,
        "dataframeName": "_sqldf",
        "executionCount": 10
       },
       "overflow": false,
       "plotOptions": {
        "customPlotOptions": {},
        "displayType": "table",
        "pivotAggregation": null,
        "pivotColumns": null,
        "xColumns": null,
        "yColumns": null
       },
       "removedWidgets": [],
       "schema": [
        {
         "metadata": "{}",
         "name": "format",
         "type": "\"string\""
        },
        {
         "metadata": "{}",
         "name": "id",
         "type": "\"string\""
        },
        {
         "metadata": "{}",
         "name": "name",
         "type": "\"string\""
        },
        {
         "metadata": "{}",
         "name": "description",
         "type": "\"string\""
        },
        {
         "metadata": "{}",
         "name": "location",
         "type": "\"string\""
        },
        {
         "metadata": "{}",
         "name": "createdAt",
         "type": "\"timestamp\""
        },
        {
         "metadata": "{}",
         "name": "lastModified",
         "type": "\"timestamp\""
        },
        {
         "metadata": "{}",
         "name": "partitionColumns",
         "type": "{\"containsNull\":true,\"elementType\":\"string\",\"type\":\"array\"}"
        },
        {
         "metadata": "{}",
         "name": "clusteringColumns",
         "type": "{\"containsNull\":true,\"elementType\":\"string\",\"type\":\"array\"}"
        },
        {
         "metadata": "{}",
         "name": "numFiles",
         "type": "\"long\""
        },
        {
         "metadata": "{}",
         "name": "sizeInBytes",
         "type": "\"long\""
        },
        {
         "metadata": "{}",
         "name": "properties",
         "type": "{\"keyType\":\"string\",\"type\":\"map\",\"valueContainsNull\":true,\"valueType\":\"string\"}"
        },
        {
         "metadata": "{}",
         "name": "minReaderVersion",
         "type": "\"integer\""
        },
        {
         "metadata": "{}",
         "name": "minWriterVersion",
         "type": "\"integer\""
        },
        {
         "metadata": "{}",
         "name": "tableFeatures",
         "type": "{\"containsNull\":true,\"elementType\":\"string\",\"type\":\"array\"}"
        },
        {
         "metadata": "{}",
         "name": "statistics",
         "type": "{\"keyType\":\"string\",\"type\":\"map\",\"valueContainsNull\":true,\"valueType\":\"long\"}"
        },
        {
         "metadata": "{}",
         "name": "clusterByAuto",
         "type": "\"boolean\""
        }
       ],
       "type": "table"
      }
     },
     "output_type": "display_data"
    }
   ],
   "source": [
    "%sql\n",
    "describe detail psa.bronze.dados_clientes"
   ]
  }
 ],
 "metadata": {
  "application/vnd.databricks.v1+notebook": {
   "computePreferences": null,
   "dashboards": [],
   "environmentMetadata": {
    "base_environment": "",
    "environment_version": "4"
   },
   "inputWidgetPreferences": null,
   "language": "python",
   "notebookMetadata": {
    "mostRecentlyExecutedCommandWithImplicitDF": {
     "commandId": 6035319366776608,
     "dataframes": [
      "_sqldf"
     ]
    },
    "pythonIndentUnit": 4
   },
   "notebookName": "bronze_clientes",
   "widgets": {}
  },
  "language_info": {
   "name": "python"
  }
 },
 "nbformat": 4,
 "nbformat_minor": 0
}
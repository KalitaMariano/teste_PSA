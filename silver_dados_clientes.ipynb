{
 "cells": [
  {
   "cell_type": "markdown",
   "metadata": {
    "application/vnd.databricks.v1+cell": {
     "cellMetadata": {
      "byteLimit": 2048000,
      "rowLimit": 10000
     },
     "inputWidgets": {},
     "nuid": "767f3b87-464a-4469-8527-855ecc17e2de",
     "showTitle": false,
     "tableResultSettingsMap": {},
     "title": ""
    }
   },
   "source": [
    "## Informações Gerais\n",
    " | Informações | Detalhes |\n",
    " |------------|-------------|\n",
    " |Nome Tabela | silver.psa |\n",
    " |Origem | bronze.dados_clientes / bronze.notas_fiscais /bronze.analises_tributarias/ bronze.tarefas_projetos / bronze.logs_sistema |\n",
    "\n",
    "## Histórico de Atualizações\n",
    " | Data | Desenvolvido por | Motivo |\n",
    " |:----:|--------------|--------|\n",
    " |27/10/2025 | Kálita Boni | Criação do notebook |\n"
   ]
  },
  {
   "cell_type": "code",
   "execution_count": 0,
   "metadata": {
    "application/vnd.databricks.v1+cell": {
     "cellMetadata": {
      "byteLimit": 2048000,
      "rowLimit": 10000
     },
     "inputWidgets": {},
     "nuid": "c100e1a2-cd42-443b-9a79-d9caba7bf741",
     "showTitle": false,
     "tableResultSettingsMap": {},
     "title": ""
    }
   },
   "outputs": [],
   "source": [
    "# Importações\n",
    "from pyspark.sql.functions import current_date, current_timestamp, expr"
   ]
  },
  {
   "cell_type": "code",
   "execution_count": 0,
   "metadata": {
    "application/vnd.databricks.v1+cell": {
     "cellMetadata": {
      "byteLimit": 2048000,
      "rowLimit": 10000
     },
     "inputWidgets": {},
     "nuid": "9a35a787-11a9-44c1-88cd-c6d2d8e2d159",
     "showTitle": false,
     "tableResultSettingsMap": {},
     "title": ""
    }
   },
   "outputs": [],
   "source": [
    "# Funções\n",
    "#Função que aplica os comentários na tabela\n",
    "def adicionaComentariosTabela(a,b,c,d):\n",
    "    spark.sql(f\"COMMENT ON TABLE {a}.{b} IS '{c}'\")\n",
    "    for key,value in d.items():\n",
    "        sqlaux = f\"ALTER TABLE {a}.{b} CHANGE COLUMN {key} COMMENT '{value}'\"\n",
    "        spark.sql(sqlaux)"
   ]
  },
  {
   "cell_type": "code",
   "execution_count": 0,
   "metadata": {
    "application/vnd.databricks.v1+cell": {
     "cellMetadata": {
      "byteLimit": 2048000,
      "rowLimit": 10000
     },
     "inputWidgets": {},
     "nuid": "134825af-1680-4b10-82d2-c7f436f0c9e3",
     "showTitle": false,
     "tableResultSettingsMap": {},
     "title": ""
    }
   },
   "outputs": [],
   "source": [
    "database = \"silver\"\n",
    "tabela = \"psa_curated.clientes\""
   ]
  },
  {
   "cell_type": "code",
   "execution_count": 0,
   "metadata": {
    "application/vnd.databricks.v1+cell": {
     "cellMetadata": {
      "byteLimit": 2048000,
      "rowLimit": 10000
     },
     "inputWidgets": {},
     "nuid": "bd50aae3-22c3-427e-b28c-419d35f1cee5",
     "showTitle": false,
     "tableResultSettingsMap": {},
     "title": ""
    }
   },
   "outputs": [
    {
     "output_type": "stream",
     "name": "stdout",
     "output_type": "stream",
     "text": [
      "✅ Camada Silver criada: psa_curated.clientes\n"
     ]
    }
   ],
   "source": [
    "df_clientes_silver = spark.sql(\"\"\"\n",
    "WITH bronze AS (\n",
    "    SELECT\n",
    "        TRIM(id_cliente)                  AS id_cliente,\n",
    "        TRIM(razao_social)                AS razao_social,\n",
    "        TRIM(cnpj)                        AS cnpj_raw,\n",
    "        TRIM(porte_empresa)               AS porte_empresa,\n",
    "        TRIM(setor)                       AS setor,\n",
    "        TRIM(cidade)                      AS cidade,\n",
    "        UPPER(TRIM(estado))               AS estado,\n",
    "        CAST(data_cadastro AS DATE)       AS data_cadastro\n",
    "    FROM psa.bronze.dados_clientes\n",
    "),\n",
    "\n",
    "curated AS (\n",
    "    SELECT\n",
    "        id_cliente,\n",
    "        -- Padroniza o nome (capitalização e substituição de “Ltda”)\n",
    "        REGEXP_REPLACE(INITCAP(razao_social), 'Ltda', 'LTDA') AS razao_social,\n",
    "        \n",
    "        -- Limpa CNPJ (mantém apenas números)\n",
    "        LPAD(REGEXP_REPLACE(cnpj_raw, '[^0-9]', ''), 14, '0') AS cnpj,\n",
    "        \n",
    "        -- Padroniza os textos\n",
    "        INITCAP(porte_empresa) AS porte_empresa,\n",
    "        INITCAP(setor)         AS setor,\n",
    "        INITCAP(cidade)        AS cidade,\n",
    "        estado,\n",
    "        data_cadastro\n",
    "    FROM bronze\n",
    "    WHERE id_cliente IS NOT NULL\n",
    "),\n",
    "\n",
    "deduplicado AS (\n",
    "    SELECT * EXCEPT(rn)\n",
    "    FROM (\n",
    "        SELECT\n",
    "            c.*,\n",
    "            ROW_NUMBER() OVER (\n",
    "                PARTITION BY id_cliente\n",
    "                ORDER BY data_cadastro DESC NULLS LAST\n",
    "            ) AS rn\n",
    "        FROM curated c\n",
    "    )\n",
    "    WHERE rn = 1\n",
    ")\n",
    "\n",
    "SELECT\n",
    "    id_cliente,\n",
    "    razao_social,\n",
    "    cnpj,\n",
    "    porte_empresa,\n",
    "    setor,\n",
    "    cidade,\n",
    "    estado,\n",
    "    data_cadastro\n",
    "FROM deduplicado\n",
    "\"\"\")\n",
    "\n",
    "# Salva como tabela Silver\n",
    "(df_clientes_silver.write\n",
    "   .format(\"delta\")\n",
    "   .mode(\"overwrite\")\n",
    "   .option(\"overwriteSchema\", \"true\")\n",
    "   .saveAsTable(\"psa_curated.clientes\"))\n",
    "\n",
    "print(\"✅ Camada Silver criada: psa_curated.clientes\")\n"
   ]
  }
 ],
 "metadata": {
  "application/vnd.databricks.v1+notebook": {
   "computePreferences": null,
   "dashboards": [],
   "environmentMetadata": {
    "base_environment": "",
    "environment_version": "4"
   },
   "inputWidgetPreferences": null,
   "language": "python",
   "notebookMetadata": {
    "pythonIndentUnit": 4
   },
   "notebookName": "silver_dados_clientes",
   "widgets": {}
  },
  "language_info": {
   "name": "python"
  }
 },
 "nbformat": 4,
 "nbformat_minor": 0
}
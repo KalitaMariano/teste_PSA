{
 "cells": [
  {
   "cell_type": "code",
   "execution_count": 0,
   "metadata": {
    "application/vnd.databricks.v1+cell": {
     "cellMetadata": {
      "byteLimit": 2048000,
      "rowLimit": 10000
     },
     "inputWidgets": {},
     "nuid": "e2eb9d42-74ae-48a1-81cb-ade4183ab60e",
     "showTitle": false,
     "tableResultSettingsMap": {},
     "title": ""
    }
   },
   "outputs": [],
   "source": [
    "%python\n",
    "#import o controle de de data\n",
    "from pyspark.sql.functions import current_date,current_timestamp, expr"
   ]
  },
  {
   "cell_type": "code",
   "execution_count": 0,
   "metadata": {
    "application/vnd.databricks.v1+cell": {
     "cellMetadata": {
      "byteLimit": 2048000,
      "rowLimit": 10000
     },
     "inputWidgets": {},
     "nuid": "6bd5e209-f6a2-43c1-8a09-38bd82fc1c72",
     "showTitle": false,
     "tableResultSettingsMap": {},
     "title": ""
    }
   },
   "outputs": [],
   "source": [
    " #criação de variavel \n",
    " database =\"bronze\"\n",
    " tabela = \" analises_tributarias\""
   ]
  },
  {
   "cell_type": "code",
   "execution_count": 0,
   "metadata": {
    "application/vnd.databricks.v1+cell": {
     "cellMetadata": {
      "byteLimit": 2048000,
      "rowLimit": 10000
     },
     "inputWidgets": {},
     "nuid": "a6ab53c0-a6ab-4a63-892f-5f08b2f913df",
     "showTitle": false,
     "tableResultSettingsMap": {},
     "title": ""
    }
   },
   "outputs": [],
   "source": [
    "#ESTABELECENDO DATAFRAME \n",
    "df = spark.table('psa.bronze.analises_tributarias')"
   ]
  },
  {
   "cell_type": "code",
   "execution_count": 0,
   "metadata": {
    "application/vnd.databricks.v1+cell": {
     "cellMetadata": {
      "byteLimit": 2048000,
      "rowLimit": 10000
     },
     "inputWidgets": {},
     "nuid": "e08e476a-e1dd-46af-bffc-4b4e516489d1",
     "showTitle": false,
     "tableResultSettingsMap": {},
     "title": ""
    }
   },
   "outputs": [
    {
     "output_type": "display_data",
     "data": {
      "text/html": [
       "<style scoped>\n",
       "  .table-result-container {\n",
       "    max-height: 300px;\n",
       "    overflow: auto;\n",
       "  }\n",
       "  table, th, td {\n",
       "    border: 1px solid black;\n",
       "    border-collapse: collapse;\n",
       "  }\n",
       "  th, td {\n",
       "    padding: 5px;\n",
       "  }\n",
       "  th {\n",
       "    text-align: left;\n",
       "  }\n",
       "</style><div class='table-result-container'><table class='table-result'><thead style='background-color: white'><tr><th>value</th></tr></thead><tbody><tr><td>id_analise|cliente_id|tipo_tributo|periodo_analise|valor_identificado|observacoes</td></tr><tr><td>ANLS00001|CLI0005|PIS|2024-S2|452665.37|Possível recuperação através de compensação</td></tr><tr><td>ANLS00002|CLI0040|COFINS|2023-S1|138370.88|Necessário ajuste nas próximas declarações</td></tr><tr><td>ANLS00003|CLI0034|IPI|2024-S2|106391.01|Crédito confirmado após auditoria</td></tr><tr><td>ANLS00004|CLI0036|COFINS|2024-Q4|215060.2|Oportunidade de redução de carga tributária</td></tr><tr><td>ANLS00005|CLI0038|ICMS|2024-09|471870.95|Benefício fiscal não aplicado corretamente</td></tr><tr><td>ANLS00006|CLI0048|ISS|2023-Q1|307974.59|Necessário ajuste nas próximas declarações</td></tr><tr><td>ANLS00007|CLI0004|ISS|2024-S2|63849.45|Oportunidade de redução de carga tributária</td></tr><tr><td>ANLS00008|CLI0015|IPI|2024-S1|236870.86|Possível recuperação através de compensação</td></tr><tr><td>ANLS00009|CLI0013|IRPJ|2024-02|218884.6|Crédito confirmado após auditoria</td></tr><tr><td>ANLS00010|CLI0005|ICMS|2023-05|216787.62|Oportunidade de redução de carga tributária</td></tr><tr><td>ANLS00011|CLI0045|ICMS|2023-Q1|278635.55|Divergência entre declarado e devido</td></tr><tr><td>ANLS00012|CLI0028|ICMS|2023-04|193714.53|Requer análise mais detalhada da documentação</td></tr><tr><td>ANLS00013|CLI0031|PIS|2023-10|469399.73|Possível recuperação através de compensação</td></tr><tr><td>ANLS00014|CLI0021|PIS|2023-Q2|444282.76|Identificado crédito não aproveitado</td></tr><tr><td>ANLS00015|CLI0013|PIS|2023-Q3|174317.89|Divergência entre declarado e devido</td></tr><tr><td>ANLS00016|CLI0001|IPI|2024-S1|213923.61|Identificado crédito não aproveitado</td></tr><tr><td>ANLS00017|CLI0039|PIS|2023-S1|459661.41|Possível recuperação através de compensação</td></tr><tr><td>ANLS00018|CLI0038|PIS|2023-07|80075.83|Oportunidade de redução de carga tributária</td></tr><tr><td>ANLS00019|CLI0008|ISS|2024-S2|212463.47|Necessário ajuste nas próximas declarações</td></tr><tr><td>ANLS00020|CLI0039|COFINS|2023-06|369602.05|Possível recuperação através de compensação</td></tr><tr><td>ANLS00021|CLI0039|IPI|2024-Q3|92261.88|Necessário ajuste nas próximas declarações</td></tr><tr><td>ANLS00022|CLI0022|PIS|2024-08|456902.74|Necessário ajuste nas próximas declarações</td></tr><tr><td>ANLS00023|CLI0027|COFINS|2024-Q2|11640.57|Crédito confirmado após auditoria</td></tr><tr><td>ANLS00024|CLI0002|COFINS|2024-Q1|174298.71|Oportunidade de redução de carga tributária</td></tr><tr><td>ANLS00025|CLI0041|ISS|2024-06|207925.5|Benefício fiscal não aplicado corretamente</td></tr><tr><td>ANLS00026|CLI0047|IRPJ|2024-03|311841.13|Identificado crédito não aproveitado</td></tr><tr><td>ANLS00027|CLI0038|PIS|2023-Q4|228833.31|Benefício fiscal não aplicado corretamente</td></tr><tr><td>ANLS00028|CLI0016|IPI|2023-02|251936.3|Possível recuperação através de compensação</td></tr><tr><td>ANLS00029|CLI0004|IPI|2024-09|301675.58|Benefício fiscal não aplicado corretamente</td></tr><tr><td>ANLS00030|CLI0009|IPI|2023-S2|451068.29|Oportunidade de redução de carga tributária</td></tr><tr><td>ANLS00031|CLI0042|IPI|2023-Q4|424891.18|Identificado crédito não aproveitado</td></tr><tr><td>ANLS00032|CLI0042|CSLL|2024-S2|295120.72|Divergência entre declarado e devido</td></tr><tr><td>ANLS00033|CLI0049|ISS|2024-S2|421526.18|Benefício fiscal não aplicado corretamente</td></tr><tr><td>ANLS00034|CLI0002|ICMS|2024-08|235544.72|Requer análise mais detalhada da documentação</td></tr><tr><td>ANLS00035|CLI0019|ISS|2023-08|49893.3|Necessário ajuste nas próximas declarações</td></tr><tr><td>ANLS00036|CLI0048|IRPJ|2023-S1|31398.96|Oportunidade de redução de carga tributária</td></tr><tr><td>ANLS00037|CLI0010|ISS|2023-10|71929.46|Oportunidade de redução de carga tributária</td></tr><tr><td>ANLS00038|CLI0040|IRPJ|2023-S2|301163.68|Divergência entre declarado e devido</td></tr><tr><td>ANLS00039|CLI0041|IRPJ|2024-10|294414.34|Identificado crédito não aproveitado</td></tr><tr><td>ANLS00040|CLI0011|PIS|2024-S2|354173.82|Requer análise mais detalhada da documentação</td></tr><tr><td>ANLS00041|CLI0036|IRPJ|2024-08|22871.88|Possível recuperação através de compensação</td></tr><tr><td>ANLS00042|CLI0043|PIS|2024-10|425969.71|Crédito confirmado após auditoria</td></tr><tr><td>ANLS00043|CLI0021|IRPJ|2023-10|257665.51|Benefício fiscal não aplicado corretamente</td></tr><tr><td>ANLS00044|CLI0003|IPI|2023-11|112879.63|Requer análise mais detalhada da documentação</td></tr><tr><td>ANLS00045|CLI0020|COFINS|2023-12|63215.94|Divergência entre declarado e devido</td></tr><tr><td>ANLS00046|CLI0049|IRPJ|2023-11|171628.15|Necessário ajuste nas próximas declarações</td></tr><tr><td>ANLS00047|CLI0018|CSLL|2023-S1|365371.81|Divergência entre declarado e devido</td></tr><tr><td>ANLS00048|CLI0018|IPI|2023-Q4|342645.63|Necessário ajuste nas próximas declarações</td></tr><tr><td>ANLS00049|CLI0007|ICMS|2023-S1|131315.71|Necessário ajuste nas próximas declarações</td></tr><tr><td>ANLS00050|CLI0007|PIS|2023-Q4|63308.85|Requer análise mais detalhada da documentação</td></tr><tr><td>ANLS00051|CLI0002|ICMS|2023-09|440926.59|Divergência entre declarado e devido</td></tr><tr><td>ANLS00052|CLI0022|COFINS|2024-S1|210254.57|Possível recuperação através de compensação</td></tr><tr><td>ANLS00053|CLI0005|ICMS|2023-07|324157.09|Requer análise mais detalhada da documentação</td></tr><tr><td>ANLS00054|CLI0002|PIS|2024-02|285734.48|Oportunidade de redução de carga tributária</td></tr><tr><td>ANLS00055|CLI0004|ISS|2023-02|347815.77|Requer análise mais detalhada da documentação</td></tr><tr><td>ANLS00056|CLI0021|COFINS|2023-09|295535.42|Oportunidade de redução de carga tributária</td></tr><tr><td>ANLS00057|CLI0016|CSLL|2024-Q2|64129.95|Possível recuperação através de compensação</td></tr><tr><td>ANLS00058|CLI0025|PIS|2024-S1|438462.85|Divergência entre declarado e devido</td></tr><tr><td>ANLS00059|CLI0002|IPI|2024-10|25592.1|Divergência entre declarado e devido</td></tr><tr><td>ANLS00060|CLI0025|ICMS|2023-S1|84936.74|Identificado crédito não aproveitado</td></tr><tr><td>ANLS00061|CLI0041|CSLL|2024-Q3|252842.3|Divergência entre declarado e devido</td></tr><tr><td>ANLS00062|CLI0024|ISS|2023-Q4|123690.75|Identificado crédito não aproveitado</td></tr><tr><td>ANLS00063|CLI0028|CSLL|2024-Q1|263637.28|Divergência entre declarado e devido</td></tr><tr><td>ANLS00064|CLI0031|PIS|2024-S2|155564.32|Requer análise mais detalhada da documentação</td></tr><tr><td>ANLS00065|CLI0011|IRPJ|2024-Q1|142060.79|Requer análise mais detalhada da documentação</td></tr><tr><td>ANLS00066|CLI0007|CSLL|2023-12|455185.78|Divergência entre declarado e devido</td></tr><tr><td>ANLS00067|CLI0027|IPI|2024-S1|309662.02|Necessário ajuste nas próximas declarações</td></tr><tr><td>ANLS00068|CLI0008|COFINS|2024-03|92225.88|Necessário ajuste nas próximas declarações</td></tr><tr><td>ANLS00069|CLI0034|IPI|2023-09|398595.15|Necessário ajuste nas próximas declarações</td></tr><tr><td>ANLS00070|CLI0044|PIS|2024-03|201981.49|Identificado crédito não aproveitado</td></tr><tr><td>ANLS00071|CLI0009|ISS|2023-S1|224685.47|Possível recuperação através de compensação</td></tr><tr><td>ANLS00072|CLI0019|PIS|2023-02|340253.4|Possível recuperação através de compensação</td></tr><tr><td>ANLS00073|CLI0006|IRPJ|2023-11|462750.08|Crédito confirmado após auditoria</td></tr><tr><td>ANLS00074|CLI0034|PIS|2023-S1|114376.21|Possível recuperação através de compensação</td></tr><tr><td>ANLS00075|CLI0014|IRPJ|2024-Q2|287501.92|Identificado crédito não aproveitado</td></tr><tr><td>ANLS00076|CLI0037|PIS|2023-S2|416958.41|Benefício fiscal não aplicado corretamente</td></tr><tr><td>ANLS00077|CLI0017|IRPJ|2023-Q4|257468.74|Necessário ajuste nas próximas declarações</td></tr><tr><td>ANLS00078|CLI0042|ICMS|2024-05|355390.63|Crédito confirmado após auditoria</td></tr><tr><td>ANLS00079|CLI0045|CSLL|2024-10|37471.72|Possível recuperação através de compensação</td></tr><tr><td>ANLS00080|CLI0040|COFINS|2024-Q1|79282.63|Requer análise mais detalhada da documentação</td></tr><tr><td>ANLS00081|CLI0006|ISS|2023-02|135350.28|Divergência entre declarado e devido</td></tr><tr><td>ANLS00082|CLI0027|IPI|2024-S1|224214.25|Necessário ajuste nas próximas declarações</td></tr><tr><td>ANLS00083|CLI0012|ISS|2023-04|34395.06|Necessário ajuste nas próximas declarações</td></tr><tr><td>ANLS00084|CLI0003|IRPJ|2023-11|238310.97|Crédito confirmado após auditoria</td></tr><tr><td>ANLS00085|CLI0003|IPI|2024-Q4|30761.42|Benefício fiscal não aplicado corretamente</td></tr><tr><td>ANLS00086|CLI0018|IRPJ|2023-S2|145392.48|Requer análise mais detalhada da documentação</td></tr><tr><td>ANLS00087|CLI0004|ISS|2024-S2|267694.33|Oportunidade de redução de carga tributária</td></tr><tr><td>ANLS00088|CLI0040|ICMS|2023-10|190736.9|Oportunidade de redução de carga tributária</td></tr><tr><td>ANLS00089|CLI0036|PIS|2024-S2|307615.71|Requer análise mais detalhada da documentação</td></tr><tr><td>ANLS00090|CLI0009|ICMS|2023-S1|324241.79|Requer análise mais detalhada da documentação</td></tr><tr><td>ANLS00091|CLI0031|PIS|2023-S2|417843.67|Oportunidade de redução de carga tributária</td></tr><tr><td>ANLS00092|CLI0004|CSLL|2024-02|167972.14|Identificado crédito não aproveitado</td></tr><tr><td>ANLS00093|CLI0036|COFINS|2024-S1|304575.56|Requer análise mais detalhada da documentação</td></tr><tr><td>ANLS00094|CLI0045|ISS|2024-06|166043.21|Necessário ajuste nas próximas declarações</td></tr><tr><td>ANLS00095|CLI0046|PIS|2023-Q3|28287.25|Crédito confirmado após auditoria</td></tr><tr><td>ANLS00096|CLI0043|ISS|2024-S2|87317.36|Necessário ajuste nas próximas declarações</td></tr><tr><td>ANLS00097|CLI0016|IRPJ|2023-08|436408.66|Oportunidade de redução de carga tributária</td></tr><tr><td>ANLS00098|CLI0014|CSLL|2024-S2|142917.44|Necessário ajuste nas próximas declarações</td></tr><tr><td>ANLS00099|CLI0013|ICMS|2023-S2|12378.92|Possível recuperação através de compensação</td></tr><tr><td>ANLS00100|CLI0035|CSLL|2023-S1|224989.68|Benefício fiscal não aplicado corretamente</td></tr></tbody></table></div>"
      ]
     },
     "metadata": {
      "application/vnd.databricks.v1+output": {
       "addedWidgets": {},
       "aggData": [],
       "aggError": "",
       "aggOverflow": false,
       "aggSchema": [],
       "aggSeriesLimitReached": false,
       "aggType": "",
       "arguments": {},
       "columnCustomDisplayInfos": {},
       "data": [
        [
         "id_analise|cliente_id|tipo_tributo|periodo_analise|valor_identificado|observacoes"
        ],
        [
         "ANLS00001|CLI0005|PIS|2024-S2|452665.37|Possível recuperação através de compensação"
        ],
        [
         "ANLS00002|CLI0040|COFINS|2023-S1|138370.88|Necessário ajuste nas próximas declarações"
        ],
        [
         "ANLS00003|CLI0034|IPI|2024-S2|106391.01|Crédito confirmado após auditoria"
        ],
        [
         "ANLS00004|CLI0036|COFINS|2024-Q4|215060.2|Oportunidade de redução de carga tributária"
        ],
        [
         "ANLS00005|CLI0038|ICMS|2024-09|471870.95|Benefício fiscal não aplicado corretamente"
        ],
        [
         "ANLS00006|CLI0048|ISS|2023-Q1|307974.59|Necessário ajuste nas próximas declarações"
        ],
        [
         "ANLS00007|CLI0004|ISS|2024-S2|63849.45|Oportunidade de redução de carga tributária"
        ],
        [
         "ANLS00008|CLI0015|IPI|2024-S1|236870.86|Possível recuperação através de compensação"
        ],
        [
         "ANLS00009|CLI0013|IRPJ|2024-02|218884.6|Crédito confirmado após auditoria"
        ],
        [
         "ANLS00010|CLI0005|ICMS|2023-05|216787.62|Oportunidade de redução de carga tributária"
        ],
        [
         "ANLS00011|CLI0045|ICMS|2023-Q1|278635.55|Divergência entre declarado e devido"
        ],
        [
         "ANLS00012|CLI0028|ICMS|2023-04|193714.53|Requer análise mais detalhada da documentação"
        ],
        [
         "ANLS00013|CLI0031|PIS|2023-10|469399.73|Possível recuperação através de compensação"
        ],
        [
         "ANLS00014|CLI0021|PIS|2023-Q2|444282.76|Identificado crédito não aproveitado"
        ],
        [
         "ANLS00015|CLI0013|PIS|2023-Q3|174317.89|Divergência entre declarado e devido"
        ],
        [
         "ANLS00016|CLI0001|IPI|2024-S1|213923.61|Identificado crédito não aproveitado"
        ],
        [
         "ANLS00017|CLI0039|PIS|2023-S1|459661.41|Possível recuperação através de compensação"
        ],
        [
         "ANLS00018|CLI0038|PIS|2023-07|80075.83|Oportunidade de redução de carga tributária"
        ],
        [
         "ANLS00019|CLI0008|ISS|2024-S2|212463.47|Necessário ajuste nas próximas declarações"
        ],
        [
         "ANLS00020|CLI0039|COFINS|2023-06|369602.05|Possível recuperação através de compensação"
        ],
        [
         "ANLS00021|CLI0039|IPI|2024-Q3|92261.88|Necessário ajuste nas próximas declarações"
        ],
        [
         "ANLS00022|CLI0022|PIS|2024-08|456902.74|Necessário ajuste nas próximas declarações"
        ],
        [
         "ANLS00023|CLI0027|COFINS|2024-Q2|11640.57|Crédito confirmado após auditoria"
        ],
        [
         "ANLS00024|CLI0002|COFINS|2024-Q1|174298.71|Oportunidade de redução de carga tributária"
        ],
        [
         "ANLS00025|CLI0041|ISS|2024-06|207925.5|Benefício fiscal não aplicado corretamente"
        ],
        [
         "ANLS00026|CLI0047|IRPJ|2024-03|311841.13|Identificado crédito não aproveitado"
        ],
        [
         "ANLS00027|CLI0038|PIS|2023-Q4|228833.31|Benefício fiscal não aplicado corretamente"
        ],
        [
         "ANLS00028|CLI0016|IPI|2023-02|251936.3|Possível recuperação através de compensação"
        ],
        [
         "ANLS00029|CLI0004|IPI|2024-09|301675.58|Benefício fiscal não aplicado corretamente"
        ],
        [
         "ANLS00030|CLI0009|IPI|2023-S2|451068.29|Oportunidade de redução de carga tributária"
        ],
        [
         "ANLS00031|CLI0042|IPI|2023-Q4|424891.18|Identificado crédito não aproveitado"
        ],
        [
         "ANLS00032|CLI0042|CSLL|2024-S2|295120.72|Divergência entre declarado e devido"
        ],
        [
         "ANLS00033|CLI0049|ISS|2024-S2|421526.18|Benefício fiscal não aplicado corretamente"
        ],
        [
         "ANLS00034|CLI0002|ICMS|2024-08|235544.72|Requer análise mais detalhada da documentação"
        ],
        [
         "ANLS00035|CLI0019|ISS|2023-08|49893.3|Necessário ajuste nas próximas declarações"
        ],
        [
         "ANLS00036|CLI0048|IRPJ|2023-S1|31398.96|Oportunidade de redução de carga tributária"
        ],
        [
         "ANLS00037|CLI0010|ISS|2023-10|71929.46|Oportunidade de redução de carga tributária"
        ],
        [
         "ANLS00038|CLI0040|IRPJ|2023-S2|301163.68|Divergência entre declarado e devido"
        ],
        [
         "ANLS00039|CLI0041|IRPJ|2024-10|294414.34|Identificado crédito não aproveitado"
        ],
        [
         "ANLS00040|CLI0011|PIS|2024-S2|354173.82|Requer análise mais detalhada da documentação"
        ],
        [
         "ANLS00041|CLI0036|IRPJ|2024-08|22871.88|Possível recuperação através de compensação"
        ],
        [
         "ANLS00042|CLI0043|PIS|2024-10|425969.71|Crédito confirmado após auditoria"
        ],
        [
         "ANLS00043|CLI0021|IRPJ|2023-10|257665.51|Benefício fiscal não aplicado corretamente"
        ],
        [
         "ANLS00044|CLI0003|IPI|2023-11|112879.63|Requer análise mais detalhada da documentação"
        ],
        [
         "ANLS00045|CLI0020|COFINS|2023-12|63215.94|Divergência entre declarado e devido"
        ],
        [
         "ANLS00046|CLI0049|IRPJ|2023-11|171628.15|Necessário ajuste nas próximas declarações"
        ],
        [
         "ANLS00047|CLI0018|CSLL|2023-S1|365371.81|Divergência entre declarado e devido"
        ],
        [
         "ANLS00048|CLI0018|IPI|2023-Q4|342645.63|Necessário ajuste nas próximas declarações"
        ],
        [
         "ANLS00049|CLI0007|ICMS|2023-S1|131315.71|Necessário ajuste nas próximas declarações"
        ],
        [
         "ANLS00050|CLI0007|PIS|2023-Q4|63308.85|Requer análise mais detalhada da documentação"
        ],
        [
         "ANLS00051|CLI0002|ICMS|2023-09|440926.59|Divergência entre declarado e devido"
        ],
        [
         "ANLS00052|CLI0022|COFINS|2024-S1|210254.57|Possível recuperação através de compensação"
        ],
        [
         "ANLS00053|CLI0005|ICMS|2023-07|324157.09|Requer análise mais detalhada da documentação"
        ],
        [
         "ANLS00054|CLI0002|PIS|2024-02|285734.48|Oportunidade de redução de carga tributária"
        ],
        [
         "ANLS00055|CLI0004|ISS|2023-02|347815.77|Requer análise mais detalhada da documentação"
        ],
        [
         "ANLS00056|CLI0021|COFINS|2023-09|295535.42|Oportunidade de redução de carga tributária"
        ],
        [
         "ANLS00057|CLI0016|CSLL|2024-Q2|64129.95|Possível recuperação através de compensação"
        ],
        [
         "ANLS00058|CLI0025|PIS|2024-S1|438462.85|Divergência entre declarado e devido"
        ],
        [
         "ANLS00059|CLI0002|IPI|2024-10|25592.1|Divergência entre declarado e devido"
        ],
        [
         "ANLS00060|CLI0025|ICMS|2023-S1|84936.74|Identificado crédito não aproveitado"
        ],
        [
         "ANLS00061|CLI0041|CSLL|2024-Q3|252842.3|Divergência entre declarado e devido"
        ],
        [
         "ANLS00062|CLI0024|ISS|2023-Q4|123690.75|Identificado crédito não aproveitado"
        ],
        [
         "ANLS00063|CLI0028|CSLL|2024-Q1|263637.28|Divergência entre declarado e devido"
        ],
        [
         "ANLS00064|CLI0031|PIS|2024-S2|155564.32|Requer análise mais detalhada da documentação"
        ],
        [
         "ANLS00065|CLI0011|IRPJ|2024-Q1|142060.79|Requer análise mais detalhada da documentação"
        ],
        [
         "ANLS00066|CLI0007|CSLL|2023-12|455185.78|Divergência entre declarado e devido"
        ],
        [
         "ANLS00067|CLI0027|IPI|2024-S1|309662.02|Necessário ajuste nas próximas declarações"
        ],
        [
         "ANLS00068|CLI0008|COFINS|2024-03|92225.88|Necessário ajuste nas próximas declarações"
        ],
        [
         "ANLS00069|CLI0034|IPI|2023-09|398595.15|Necessário ajuste nas próximas declarações"
        ],
        [
         "ANLS00070|CLI0044|PIS|2024-03|201981.49|Identificado crédito não aproveitado"
        ],
        [
         "ANLS00071|CLI0009|ISS|2023-S1|224685.47|Possível recuperação através de compensação"
        ],
        [
         "ANLS00072|CLI0019|PIS|2023-02|340253.4|Possível recuperação através de compensação"
        ],
        [
         "ANLS00073|CLI0006|IRPJ|2023-11|462750.08|Crédito confirmado após auditoria"
        ],
        [
         "ANLS00074|CLI0034|PIS|2023-S1|114376.21|Possível recuperação através de compensação"
        ],
        [
         "ANLS00075|CLI0014|IRPJ|2024-Q2|287501.92|Identificado crédito não aproveitado"
        ],
        [
         "ANLS00076|CLI0037|PIS|2023-S2|416958.41|Benefício fiscal não aplicado corretamente"
        ],
        [
         "ANLS00077|CLI0017|IRPJ|2023-Q4|257468.74|Necessário ajuste nas próximas declarações"
        ],
        [
         "ANLS00078|CLI0042|ICMS|2024-05|355390.63|Crédito confirmado após auditoria"
        ],
        [
         "ANLS00079|CLI0045|CSLL|2024-10|37471.72|Possível recuperação através de compensação"
        ],
        [
         "ANLS00080|CLI0040|COFINS|2024-Q1|79282.63|Requer análise mais detalhada da documentação"
        ],
        [
         "ANLS00081|CLI0006|ISS|2023-02|135350.28|Divergência entre declarado e devido"
        ],
        [
         "ANLS00082|CLI0027|IPI|2024-S1|224214.25|Necessário ajuste nas próximas declarações"
        ],
        [
         "ANLS00083|CLI0012|ISS|2023-04|34395.06|Necessário ajuste nas próximas declarações"
        ],
        [
         "ANLS00084|CLI0003|IRPJ|2023-11|238310.97|Crédito confirmado após auditoria"
        ],
        [
         "ANLS00085|CLI0003|IPI|2024-Q4|30761.42|Benefício fiscal não aplicado corretamente"
        ],
        [
         "ANLS00086|CLI0018|IRPJ|2023-S2|145392.48|Requer análise mais detalhada da documentação"
        ],
        [
         "ANLS00087|CLI0004|ISS|2024-S2|267694.33|Oportunidade de redução de carga tributária"
        ],
        [
         "ANLS00088|CLI0040|ICMS|2023-10|190736.9|Oportunidade de redução de carga tributária"
        ],
        [
         "ANLS00089|CLI0036|PIS|2024-S2|307615.71|Requer análise mais detalhada da documentação"
        ],
        [
         "ANLS00090|CLI0009|ICMS|2023-S1|324241.79|Requer análise mais detalhada da documentação"
        ],
        [
         "ANLS00091|CLI0031|PIS|2023-S2|417843.67|Oportunidade de redução de carga tributária"
        ],
        [
         "ANLS00092|CLI0004|CSLL|2024-02|167972.14|Identificado crédito não aproveitado"
        ],
        [
         "ANLS00093|CLI0036|COFINS|2024-S1|304575.56|Requer análise mais detalhada da documentação"
        ],
        [
         "ANLS00094|CLI0045|ISS|2024-06|166043.21|Necessário ajuste nas próximas declarações"
        ],
        [
         "ANLS00095|CLI0046|PIS|2023-Q3|28287.25|Crédito confirmado após auditoria"
        ],
        [
         "ANLS00096|CLI0043|ISS|2024-S2|87317.36|Necessário ajuste nas próximas declarações"
        ],
        [
         "ANLS00097|CLI0016|IRPJ|2023-08|436408.66|Oportunidade de redução de carga tributária"
        ],
        [
         "ANLS00098|CLI0014|CSLL|2024-S2|142917.44|Necessário ajuste nas próximas declarações"
        ],
        [
         "ANLS00099|CLI0013|ICMS|2023-S2|12378.92|Possível recuperação através de compensação"
        ],
        [
         "ANLS00100|CLI0035|CSLL|2023-S1|224989.68|Benefício fiscal não aplicado corretamente"
        ]
       ],
       "datasetInfos": [],
       "dbfsResultPath": null,
       "isJsonSchema": true,
       "metadata": {},
       "overflow": false,
       "plotOptions": {
        "customPlotOptions": {},
        "displayType": "table",
        "pivotAggregation": null,
        "pivotColumns": null,
        "xColumns": null,
        "yColumns": null
       },
       "removedWidgets": [],
       "schema": [
        {
         "metadata": "{}",
         "name": "value",
         "type": "\"string\""
        }
       ],
       "type": "table"
      }
     },
     "output_type": "display_data"
    }
   ],
   "source": [
    "display(df)"
   ]
  },
  {
   "cell_type": "code",
   "execution_count": 0,
   "metadata": {
    "application/vnd.databricks.v1+cell": {
     "cellMetadata": {
      "byteLimit": 2048000,
      "rowLimit": 10000
     },
     "inputWidgets": {},
     "nuid": "f8e7d7cf-8538-46fb-b8c5-6be656cd12e9",
     "showTitle": false,
     "tableResultSettingsMap": {},
     "title": ""
    }
   },
   "outputs": [],
   "source": [
    "#incluir colunas de controle para saber a carga \n",
    "df = df.withColumn('data_carga',current_date())\n",
    "df = df.withColumn('data_hora_carga',expr('current_timestamp()- interval 3 hours'))"
   ]
  },
  {
   "cell_type": "code",
   "execution_count": 0,
   "metadata": {
    "application/vnd.databricks.v1+cell": {
     "cellMetadata": {
      "byteLimit": 2048000,
      "rowLimit": 10000
     },
     "inputWidgets": {},
     "nuid": "421a5785-76c6-4c57-a25d-c0dbf394c882",
     "showTitle": false,
     "tableResultSettingsMap": {},
     "title": ""
    }
   },
   "outputs": [
    {
     "output_type": "stream",
     "name": "stdout",
     "output_type": "stream",
     "text": [
      "Dados gravados com sucesso!\n"
     ]
    }
   ],
   "source": [
    "#gravar os dados no formato delta\n",
    "df.write \\\n",
    "    .format('delta') \\\n",
    "    .mode('overwrite') \\\n",
    "    .option('mergeSchema', 'true') \\\n",
    "    .option('overwriteSchema', 'true') \\\n",
    "    .saveAsTable(f'{database}.{tabela}')\n",
    "print('Dados gravados com sucesso!')"
   ]
  },
  {
   "cell_type": "code",
   "execution_count": 0,
   "metadata": {
    "application/vnd.databricks.v1+cell": {
     "cellMetadata": {
      "byteLimit": 2048000,
      "implicitDf": true,
      "rowLimit": 10000
     },
     "inputWidgets": {},
     "nuid": "e869038e-9955-482b-af9a-5836a4fbe3a2",
     "showTitle": false,
     "tableResultSettingsMap": {},
     "title": ""
    }
   },
   "outputs": [
    {
     "output_type": "display_data",
     "data": {
      "text/html": [
       "<style scoped>\n",
       "  .table-result-container {\n",
       "    max-height: 300px;\n",
       "    overflow: auto;\n",
       "  }\n",
       "  table, th, td {\n",
       "    border: 1px solid black;\n",
       "    border-collapse: collapse;\n",
       "  }\n",
       "  th, td {\n",
       "    padding: 5px;\n",
       "  }\n",
       "  th {\n",
       "    text-align: left;\n",
       "  }\n",
       "</style><div class='table-result-container'><table class='table-result'><thead style='background-color: white'><tr><th>format</th><th>id</th><th>name</th><th>description</th><th>location</th><th>createdAt</th><th>lastModified</th><th>partitionColumns</th><th>clusteringColumns</th><th>numFiles</th><th>sizeInBytes</th><th>properties</th><th>minReaderVersion</th><th>minWriterVersion</th><th>tableFeatures</th><th>statistics</th><th>clusterByAuto</th></tr></thead><tbody><tr><td>delta</td><td>674adb16-2127-42c0-b03c-1b464738be71</td><td>psa.bronze.analises_tributarias</td><td>Created by the file upload UI</td><td></td><td>2025-10-28T21:06:40.730Z</td><td>2025-10-28T21:06:45.000Z</td><td>List()</td><td>List()</td><td>1</td><td>3033</td><td>Map(delta.checkpoint.writeStatsAsJson -> false, delta.checkpoint.writeStatsAsStruct -> true, delta.parquet.compression.codec -> zstd, delta.enableDeletionVectors -> true)</td><td>3</td><td>7</td><td>List(appendOnly, deletionVectors, invariants)</td><td>Map(numRowsDeletedByDeletionVectors -> 0, numDeletionVectors -> 0)</td><td>false</td></tr></tbody></table></div>"
      ]
     },
     "metadata": {
      "application/vnd.databricks.v1+output": {
       "addedWidgets": {},
       "aggData": [],
       "aggError": "",
       "aggOverflow": false,
       "aggSchema": [],
       "aggSeriesLimitReached": false,
       "aggType": "",
       "arguments": {},
       "columnCustomDisplayInfos": {},
       "data": [
        [
         "delta",
         "674adb16-2127-42c0-b03c-1b464738be71",
         "psa.bronze.analises_tributarias",
         "Created by the file upload UI",
         "",
         "2025-10-28T21:06:40.730Z",
         "2025-10-28T21:06:45.000Z",
         [],
         [],
         1,
         3033,
         {
          "delta.checkpoint.writeStatsAsJson": "false",
          "delta.checkpoint.writeStatsAsStruct": "true",
          "delta.enableDeletionVectors": "true",
          "delta.parquet.compression.codec": "zstd"
         },
         3,
         7,
         [
          "appendOnly",
          "deletionVectors",
          "invariants"
         ],
         {
          "numDeletionVectors": 0,
          "numRowsDeletedByDeletionVectors": 0
         },
         false
        ]
       ],
       "datasetInfos": [
        {
         "name": "_sqldf",
         "schema": {
          "fields": [
           {
            "metadata": {},
            "name": "format",
            "nullable": true,
            "type": "string"
           },
           {
            "metadata": {},
            "name": "id",
            "nullable": true,
            "type": "string"
           },
           {
            "metadata": {},
            "name": "name",
            "nullable": true,
            "type": "string"
           },
           {
            "metadata": {},
            "name": "description",
            "nullable": true,
            "type": "string"
           },
           {
            "metadata": {},
            "name": "location",
            "nullable": true,
            "type": "string"
           },
           {
            "metadata": {},
            "name": "createdAt",
            "nullable": true,
            "type": "timestamp"
           },
           {
            "metadata": {},
            "name": "lastModified",
            "nullable": true,
            "type": "timestamp"
           },
           {
            "metadata": {},
            "name": "partitionColumns",
            "nullable": true,
            "type": {
             "containsNull": true,
             "elementType": "string",
             "type": "array"
            }
           },
           {
            "metadata": {},
            "name": "clusteringColumns",
            "nullable": true,
            "type": {
             "containsNull": true,
             "elementType": "string",
             "type": "array"
            }
           },
           {
            "metadata": {},
            "name": "numFiles",
            "nullable": true,
            "type": "long"
           },
           {
            "metadata": {},
            "name": "sizeInBytes",
            "nullable": true,
            "type": "long"
           },
           {
            "metadata": {},
            "name": "properties",
            "nullable": true,
            "type": {
             "keyType": "string",
             "type": "map",
             "valueContainsNull": true,
             "valueType": "string"
            }
           },
           {
            "metadata": {},
            "name": "minReaderVersion",
            "nullable": true,
            "type": "integer"
           },
           {
            "metadata": {},
            "name": "minWriterVersion",
            "nullable": true,
            "type": "integer"
           },
           {
            "metadata": {},
            "name": "tableFeatures",
            "nullable": true,
            "type": {
             "containsNull": true,
             "elementType": "string",
             "type": "array"
            }
           },
           {
            "metadata": {},
            "name": "statistics",
            "nullable": true,
            "type": {
             "keyType": "string",
             "type": "map",
             "valueContainsNull": true,
             "valueType": "long"
            }
           },
           {
            "metadata": {},
            "name": "clusterByAuto",
            "nullable": false,
            "type": "boolean"
           }
          ],
          "type": "struct"
         },
         "tableIdentifier": null,
         "typeStr": "pyspark.sql.connect.dataframe.DataFrame"
        }
       ],
       "dbfsResultPath": null,
       "isJsonSchema": true,
       "metadata": {
        "createTempViewForImplicitDf": true,
        "dataframeName": "_sqldf",
        "executionCount": 10
       },
       "overflow": false,
       "plotOptions": {
        "customPlotOptions": {},
        "displayType": "table",
        "pivotAggregation": null,
        "pivotColumns": null,
        "xColumns": null,
        "yColumns": null
       },
       "removedWidgets": [],
       "schema": [
        {
         "metadata": "{}",
         "name": "format",
         "type": "\"string\""
        },
        {
         "metadata": "{}",
         "name": "id",
         "type": "\"string\""
        },
        {
         "metadata": "{}",
         "name": "name",
         "type": "\"string\""
        },
        {
         "metadata": "{}",
         "name": "description",
         "type": "\"string\""
        },
        {
         "metadata": "{}",
         "name": "location",
         "type": "\"string\""
        },
        {
         "metadata": "{}",
         "name": "createdAt",
         "type": "\"timestamp\""
        },
        {
         "metadata": "{}",
         "name": "lastModified",
         "type": "\"timestamp\""
        },
        {
         "metadata": "{}",
         "name": "partitionColumns",
         "type": "{\"containsNull\":true,\"elementType\":\"string\",\"type\":\"array\"}"
        },
        {
         "metadata": "{}",
         "name": "clusteringColumns",
         "type": "{\"containsNull\":true,\"elementType\":\"string\",\"type\":\"array\"}"
        },
        {
         "metadata": "{}",
         "name": "numFiles",
         "type": "\"long\""
        },
        {
         "metadata": "{}",
         "name": "sizeInBytes",
         "type": "\"long\""
        },
        {
         "metadata": "{}",
         "name": "properties",
         "type": "{\"keyType\":\"string\",\"type\":\"map\",\"valueContainsNull\":true,\"valueType\":\"string\"}"
        },
        {
         "metadata": "{}",
         "name": "minReaderVersion",
         "type": "\"integer\""
        },
        {
         "metadata": "{}",
         "name": "minWriterVersion",
         "type": "\"integer\""
        },
        {
         "metadata": "{}",
         "name": "tableFeatures",
         "type": "{\"containsNull\":true,\"elementType\":\"string\",\"type\":\"array\"}"
        },
        {
         "metadata": "{}",
         "name": "statistics",
         "type": "{\"keyType\":\"string\",\"type\":\"map\",\"valueContainsNull\":true,\"valueType\":\"long\"}"
        },
        {
         "metadata": "{}",
         "name": "clusterByAuto",
         "type": "\"boolean\""
        }
       ],
       "type": "table"
      }
     },
     "output_type": "display_data"
    }
   ],
   "source": [
    "%sql\n",
    "describe detail psa.bronze.analises_tributarias"
   ]
  }
 ],
 "metadata": {
  "application/vnd.databricks.v1+notebook": {
   "computePreferences": null,
   "dashboards": [],
   "environmentMetadata": {
    "base_environment": "",
    "environment_version": "4"
   },
   "inputWidgetPreferences": null,
   "language": "python",
   "notebookMetadata": {
    "mostRecentlyExecutedCommandWithImplicitDF": {
     "commandId": 7392041806137378,
     "dataframes": [
      "_sqldf"
     ]
    },
    "pythonIndentUnit": 4
   },
   "notebookName": "bronze_ analises_tributarias",
   "widgets": {}
  },
  "language_info": {
   "name": "python"
  }
 },
 "nbformat": 4,
 "nbformat_minor": 0
}
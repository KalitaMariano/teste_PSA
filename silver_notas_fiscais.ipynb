{
 "cells": [
  {
   "cell_type": "markdown",
   "metadata": {
    "application/vnd.databricks.v1+cell": {
     "cellMetadata": {},
     "inputWidgets": {},
     "nuid": "8c914671-00f1-4ea7-9580-741aef01591e",
     "showTitle": false,
     "tableResultSettingsMap": {},
     "title": ""
    }
   },
   "source": [
    "%md\n",
    "## Informações Gerais\n",
    " | Informações | Detalhes |\n",
    " |------------|-------------|\n",
    " |Nome Tabela | silver.psa |\n",
    " |Origem | bronze.dados_clientes / bronze.notas_fiscais /bronze.analises_tributarias/ bronze.tarefas_projetos / bronze.logs_sistema |\n",
    "\n",
    "## Histórico de Atualizações\n",
    " | Data | Desenvolvido por | Motivo |\n",
    " |:----:|--------------|--------|\n",
    " |27/10/2025 | Kálita Boni | Criação do notebook |\n"
   ]
  },
  {
   "cell_type": "code",
   "execution_count": 0,
   "metadata": {
    "application/vnd.databricks.v1+cell": {
     "cellMetadata": {
      "byteLimit": 2048000,
      "implicitDf": true,
      "rowLimit": 10000
     },
     "inputWidgets": {},
     "nuid": "c9d5ab43-79ac-40b7-b828-7dc0092a73e3",
     "showTitle": false,
     "tableResultSettingsMap": {},
     "title": ""
    }
   },
   "outputs": [
    {
     "output_type": "display_data",
     "data": {
      "text/html": [
       "<style scoped>\n",
       "  .table-result-container {\n",
       "    max-height: 300px;\n",
       "    overflow: auto;\n",
       "  }\n",
       "  table, th, td {\n",
       "    border: 1px solid black;\n",
       "    border-collapse: collapse;\n",
       "  }\n",
       "  th, td {\n",
       "    padding: 5px;\n",
       "  }\n",
       "  th {\n",
       "    text-align: left;\n",
       "  }\n",
       "</style><div class='table-result-container'><table class='table-result'><thead style='background-color: white'><tr><th>databaseName</th></tr></thead><tbody><tr><td>bronze</td></tr><tr><td>default</td></tr><tr><td>gold</td></tr><tr><td>information_schema</td></tr><tr><td>psa_curated</td></tr><tr><td>silver</td></tr></tbody></table></div>"
      ]
     },
     "metadata": {
      "application/vnd.databricks.v1+output": {
       "addedWidgets": {},
       "aggData": [],
       "aggError": "",
       "aggOverflow": false,
       "aggSchema": [],
       "aggSeriesLimitReached": false,
       "aggType": "",
       "arguments": {},
       "columnCustomDisplayInfos": {},
       "data": [
        [
         "bronze"
        ],
        [
         "default"
        ],
        [
         "gold"
        ],
        [
         "information_schema"
        ],
        [
         "psa_curated"
        ],
        [
         "silver"
        ]
       ],
       "datasetInfos": [
        {
         "name": "_sqldf",
         "schema": {
          "fields": [
           {
            "metadata": {},
            "name": "databaseName",
            "nullable": false,
            "type": "string"
           }
          ],
          "type": "struct"
         },
         "tableIdentifier": null,
         "typeStr": "pyspark.sql.connect.dataframe.DataFrame"
        }
       ],
       "dbfsResultPath": null,
       "isJsonSchema": true,
       "metadata": {
        "createTempViewForImplicitDf": true,
        "dataframeName": "_sqldf",
        "executionCount": 27
       },
       "overflow": false,
       "plotOptions": {
        "customPlotOptions": {},
        "displayType": "table",
        "pivotAggregation": null,
        "pivotColumns": null,
        "xColumns": null,
        "yColumns": null
       },
       "removedWidgets": [],
       "schema": [
        {
         "metadata": "{}",
         "name": "databaseName",
         "type": "\"string\""
        }
       ],
       "type": "table"
      }
     },
     "output_type": "display_data"
    }
   ],
   "source": [
    "%sql\n",
    "-- 1) Fixar o catálogo\n",
    "USE CATALOG psa;\n",
    "\n",
    "-- 2) Criar/usar o schema (sem repetir o catálogo aqui)\n",
    "CREATE SCHEMA IF NOT EXISTS psa_curated;\n",
    "USE SCHEMA psa_curated;\n",
    "\n",
    "-- 3) Conferir\n",
    "SELECT current_catalog() AS catalog, current_schema() AS schema;\n",
    "\n",
    "-- (opcional) ver todos os schemas do catálogo\n",
    "SHOW SCHEMAS IN psa;\n",
    "\n"
   ]
  },
  {
   "cell_type": "code",
   "execution_count": 0,
   "metadata": {
    "application/vnd.databricks.v1+cell": {
     "cellMetadata": {
      "byteLimit": 2048000,
      "implicitDf": true,
      "rowLimit": 10000
     },
     "inputWidgets": {},
     "nuid": "2e5f4710-397b-4b65-b767-5ee9fb2b1741",
     "showTitle": false,
     "tableResultSettingsMap": {},
     "title": ""
    }
   },
   "outputs": [
    {
     "output_type": "display_data",
     "data": {
      "text/html": [
       "<style scoped>\n",
       "  .table-result-container {\n",
       "    max-height: 300px;\n",
       "    overflow: auto;\n",
       "  }\n",
       "  table, th, td {\n",
       "    border: 1px solid black;\n",
       "    border-collapse: collapse;\n",
       "  }\n",
       "  th, td {\n",
       "    padding: 5px;\n",
       "  }\n",
       "  th {\n",
       "    text-align: left;\n",
       "  }\n",
       "</style><div class='table-result-container'><table class='table-result'><thead style='background-color: white'><tr><th>num_affected_rows</th><th>num_inserted_rows</th></tr></thead><tbody></tbody></table></div>"
      ]
     },
     "metadata": {
      "application/vnd.databricks.v1+output": {
       "addedWidgets": {},
       "aggData": [],
       "aggError": "",
       "aggOverflow": false,
       "aggSchema": [],
       "aggSeriesLimitReached": false,
       "aggType": "",
       "arguments": {},
       "columnCustomDisplayInfos": {},
       "data": [],
       "datasetInfos": [
        {
         "name": "_sqldf",
         "schema": {
          "fields": [
           {
            "metadata": {},
            "name": "num_affected_rows",
            "nullable": true,
            "type": "long"
           },
           {
            "metadata": {},
            "name": "num_inserted_rows",
            "nullable": true,
            "type": "long"
           }
          ],
          "type": "struct"
         },
         "tableIdentifier": null,
         "typeStr": "pyspark.sql.connect.dataframe.DataFrame"
        }
       ],
       "dbfsResultPath": null,
       "isJsonSchema": true,
       "metadata": {
        "createTempViewForImplicitDf": true,
        "dataframeName": "_sqldf",
        "executionCount": 11
       },
       "overflow": false,
       "plotOptions": {
        "customPlotOptions": {},
        "displayType": "table",
        "pivotAggregation": null,
        "pivotColumns": null,
        "xColumns": null,
        "yColumns": null
       },
       "removedWidgets": [],
       "schema": [
        {
         "metadata": "{}",
         "name": "num_affected_rows",
         "type": "\"long\""
        },
        {
         "metadata": "{}",
         "name": "num_inserted_rows",
         "type": "\"long\""
        }
       ],
       "type": "table"
      }
     },
     "output_type": "display_data"
    }
   ],
   "source": [
    "%sql\n",
    "CREATE OR REPLACE TABLE psa_curated.notas_fiscais AS\n",
    "WITH bronze AS (\n",
    "  SELECT\n",
    "    TRIM(NumeroNota)                                   AS numero_nota,\n",
    "    CAST(TO_DATE(TO_TIMESTAMP(DataEmissao)) AS DATE)   AS data_emissao,\n",
    "    TRIM(ClienteID)                                    AS cliente_id,\n",
    "    CAST(ValorTotal AS DECIMAL(18,2))                  AS valor_total,\n",
    "    Impostos                                           AS impostos_raw,  -- STRING\n",
    "    Itens                                              AS itens_raw      -- pode ser STRING/JSON\n",
    "  FROM psa.bronze.notas_fiscais\n",
    "  WHERE TRIM(NumeroNota) IS NOT NULL\n",
    "),\n",
    "\n",
    "/* tenta ler Impostos como JSON; se não for JSON, vai dar NULL (e tratamos depois) */\n",
    "json_try AS (\n",
    "  SELECT\n",
    "    numero_nota, data_emissao, cliente_id, valor_total, itens_raw, impostos_raw,\n",
    "    CAST(get_json_object(impostos_raw, '$.ISS')    AS DECIMAL(18,2)) AS iss_json,\n",
    "    CAST(get_json_object(impostos_raw, '$.PIS')    AS DECIMAL(18,2)) AS pis_json,\n",
    "    CAST(get_json_object(impostos_raw, '$.COFINS') AS DECIMAL(18,2)) AS cofins_json\n",
    "  FROM bronze\n",
    "),\n",
    "\n",
    "/* fallback por REGEX quando Impostos não for JSON (ex.: XML/texto) */\n",
    "impostos_ok AS (\n",
    "  SELECT\n",
    "    numero_nota, data_emissao, cliente_id, valor_total, itens_raw, impostos_raw,\n",
    "    COALESCE(\n",
    "      iss_json,\n",
    "      CAST(REPLACE(REGEXP_EXTRACT(impostos_raw, '(?i)ISS[^0-9]*([0-9]+[\\\\.,]?[0-9]*)', 1), ',', '.') AS DECIMAL(18,2))\n",
    "    ) AS iss,\n",
    "    COALESCE(\n",
    "      pis_json,\n",
    "      CAST(REPLACE(REGEXP_EXTRACT(impostos_raw, '(?i)PIS[^0-9]*([0-9]+[\\\\.,]?[0-9]*)', 1), ',', '.') AS DECIMAL(18,2))\n",
    "    ) AS pis,\n",
    "    COALESCE(\n",
    "      cofins_json,\n",
    "      CAST(REPLACE(REGEXP_EXTRACT(impostos_raw, '(?i)COFINS[^0-9]*([0-9]+[\\\\.,]?[0-9]*)', 1), ',', '.') AS DECIMAL(18,2))\n",
    "    ) AS cofins\n",
    "  FROM json_try\n",
    "),\n",
    "\n",
    "curated AS (\n",
    "  SELECT\n",
    "    numero_nota,\n",
    "    data_emissao,\n",
    "    cliente_id,\n",
    "    COALESCE(valor_total, CAST(0 AS DECIMAL(18,2))) AS valor_total,\n",
    "    named_struct(\n",
    "      'iss',   COALESCE(iss,    CAST(0 AS DECIMAL(18,2))),\n",
    "      'pis',   COALESCE(pis,    CAST(0 AS DECIMAL(18,2))),\n",
    "      'cofins',COALESCE(cofins, CAST(0 AS DECIMAL(18,2)))\n",
    "    ) AS impostos_detalhados,\n",
    "    itens_raw AS itens\n",
    "  FROM impostos_ok\n",
    "),\n",
    "\n",
    "-- remove duplicatas por número da nota (mantém a mais recente por data)\n",
    "dedup AS (\n",
    "  SELECT * EXCEPT(rn) FROM (\n",
    "    SELECT c.*,\n",
    "           ROW_NUMBER() OVER (PARTITION BY numero_nota ORDER BY data_emissao DESC NULLS LAST) rn\n",
    "    FROM curated c\n",
    "  ) WHERE rn = 1\n",
    ")\n",
    "\n",
    "SELECT\n",
    "  numero_nota,\n",
    "  data_emissao,\n",
    "  valor_total,\n",
    "  impostos_detalhados,\n",
    "  cliente_id,\n",
    "  itens\n",
    "FROM dedup;\n",
    "\n"
   ]
  },
  {
   "cell_type": "code",
   "execution_count": 0,
   "metadata": {
    "application/vnd.databricks.v1+cell": {
     "cellMetadata": {
      "byteLimit": 2048000,
      "implicitDf": true,
      "rowLimit": 10000
     },
     "inputWidgets": {},
     "nuid": "ab526e12-0660-447e-b4de-7bc2c542b591",
     "showTitle": false,
     "tableResultSettingsMap": {},
     "title": ""
    }
   },
   "outputs": [
    {
     "output_type": "display_data",
     "data": {
      "text/html": [
       "<style scoped>\n",
       "  .table-result-container {\n",
       "    max-height: 300px;\n",
       "    overflow: auto;\n",
       "  }\n",
       "  table, th, td {\n",
       "    border: 1px solid black;\n",
       "    border-collapse: collapse;\n",
       "  }\n",
       "  th, td {\n",
       "    padding: 5px;\n",
       "  }\n",
       "  th {\n",
       "    text-align: left;\n",
       "  }\n",
       "</style><div class='table-result-container'><table class='table-result'><thead style='background-color: white'><tr><th>num_affected_rows</th><th>num_inserted_rows</th></tr></thead><tbody></tbody></table></div>"
      ]
     },
     "metadata": {
      "application/vnd.databricks.v1+output": {
       "addedWidgets": {},
       "aggData": [],
       "aggError": "",
       "aggOverflow": false,
       "aggSchema": [],
       "aggSeriesLimitReached": false,
       "aggType": "",
       "arguments": {},
       "columnCustomDisplayInfos": {},
       "data": [],
       "datasetInfos": [
        {
         "name": "_sqldf",
         "schema": {
          "fields": [
           {
            "metadata": {},
            "name": "num_affected_rows",
            "nullable": true,
            "type": "long"
           },
           {
            "metadata": {},
            "name": "num_inserted_rows",
            "nullable": true,
            "type": "long"
           }
          ],
          "type": "struct"
         },
         "tableIdentifier": null,
         "typeStr": "pyspark.sql.connect.dataframe.DataFrame"
        }
       ],
       "dbfsResultPath": null,
       "isJsonSchema": true,
       "metadata": {
        "createTempViewForImplicitDf": true,
        "dataframeName": "_sqldf",
        "executionCount": 17
       },
       "overflow": false,
       "plotOptions": {
        "customPlotOptions": {},
        "displayType": "table",
        "pivotAggregation": null,
        "pivotColumns": null,
        "xColumns": null,
        "yColumns": null
       },
       "removedWidgets": [],
       "schema": [
        {
         "metadata": "{}",
         "name": "num_affected_rows",
         "type": "\"long\""
        },
        {
         "metadata": "{}",
         "name": "num_inserted_rows",
         "type": "\"long\""
        }
       ],
       "type": "table"
      }
     },
     "output_type": "display_data"
    }
   ],
   "source": [
    "%sql\n",
    "CREATE OR REPLACE TABLE psa_curated.notas_fiscais_itens AS\n",
    "WITH base AS (\n",
    "  SELECT\n",
    "    TRIM(NumeroNota)                                   AS numero_nota,\n",
    "    CAST(TO_DATE(TO_TIMESTAMP(DataEmissao)) AS DATE)   AS data_emissao,\n",
    "    TRIM(ClienteID)                                    AS cliente_id,\n",
    "    Itens                                              AS itens_raw\n",
    "  FROM psa.bronze.notas_fiscais\n",
    "  WHERE TRIM(NumeroNota) IS NOT NULL\n",
    "),\n",
    "\n",
    "parsed AS (\n",
    "  SELECT\n",
    "    numero_nota, data_emissao, cliente_id,\n",
    "    FROM_JSON(\n",
    "      itens_raw,\n",
    "      'STRUCT<Item:ARRAY<STRUCT<Descricao:STRING,Quantidade:INT,ValorUnitario:DECIMAL(18,2)>>>'\n",
    "    ) AS itens_json\n",
    "  FROM base\n",
    "),\n",
    "\n",
    "exploded AS (\n",
    "  SELECT\n",
    "    numero_nota, data_emissao, cliente_id,\n",
    "    EXPLODE(itens_json.Item) AS item\n",
    "  FROM parsed\n",
    "  WHERE itens_json IS NOT NULL\n",
    ")\n",
    "\n",
    "SELECT\n",
    "  numero_nota,\n",
    "  data_emissao,\n",
    "  cliente_id,\n",
    "  TRIM(item.Descricao)                                    AS descricao_item,\n",
    "  COALESCE(CAST(item.Quantidade AS INT), 0)               AS quantidade,\n",
    "  COALESCE(CAST(item.ValorUnitario AS DECIMAL(18,2)), CAST(0 AS DECIMAL(18,2))) AS valor_unitario,\n",
    "  COALESCE(CAST(item.Quantidade AS INT), 0) *\n",
    "  COALESCE(CAST(item.ValorUnitario AS DECIMAL(18,2)), CAST(0 AS DECIMAL(18,2))) AS valor_total_item\n",
    "FROM exploded;\n"
   ]
  },
  {
   "cell_type": "code",
   "execution_count": 0,
   "metadata": {
    "application/vnd.databricks.v1+cell": {
     "cellMetadata": {
      "byteLimit": 2048000,
      "implicitDf": true,
      "rowLimit": 10000
     },
     "inputWidgets": {},
     "nuid": "27ff59a4-e40e-46aa-8bdd-ee3da620918d",
     "showTitle": false,
     "tableResultSettingsMap": {},
     "title": ""
    }
   },
   "outputs": [
    {
     "output_type": "display_data",
     "data": {
      "text/html": [
       "<style scoped>\n",
       "  .table-result-container {\n",
       "    max-height: 300px;\n",
       "    overflow: auto;\n",
       "  }\n",
       "  table, th, td {\n",
       "    border: 1px solid black;\n",
       "    border-collapse: collapse;\n",
       "  }\n",
       "  th, td {\n",
       "    padding: 5px;\n",
       "  }\n",
       "  th {\n",
       "    text-align: left;\n",
       "  }\n",
       "</style><div class='table-result-container'><table class='table-result'><thead style='background-color: white'><tr><th>NumeroNota</th><th>DataEmissao</th><th>ClienteID</th><th>ValorTotal</th><th>Impostos</th><th>Itens</th></tr></thead><tbody><tr><td>NF-5839/2024</td><td>2024-09-06</td><td>CLI0033</td><td>34598.52</td><td><ISS>1592.2</ISS>\n",
       "      <PIS>206.99</PIS>\n",
       "      <COFINS>955.32</COFINS></td><td><Item>\n",
       "        <Descricao>Planejamento Tributário Anual</Descricao>\n",
       "        <Quantidade>4</Quantidade>\n",
       "        <ValorUnitario>15922.0</ValorUnitario>\n",
       "      </Item>\n",
       "      <Item>\n",
       "        <Descricao>Planejamento Tributário Anual</Descricao>\n",
       "        <Quantidade>3</Quantidade>\n",
       "        <ValorUnitario>15922.0</ValorUnitario>\n",
       "      </Item></td></tr><tr><td>NF-6154/2024</td><td>2024-10-03</td><td>CLI0006</td><td>36120.57</td><td><ISS>1662.24</ISS>\n",
       "      <PIS>216.09</PIS>\n",
       "      <COFINS>997.35</COFINS></td><td><Item>\n",
       "        <Descricao>Consultoria ISS Serviços</Descricao>\n",
       "        <Quantidade>7</Quantidade>\n",
       "        <ValorUnitario>33244.89</ValorUnitario>\n",
       "      </Item></td></tr><tr><td>NF-8423/2024</td><td>2024-09-19</td><td>CLI0026</td><td>10020.1</td><td><ISS>461.12</ISS>\n",
       "      <PIS>59.95</PIS>\n",
       "      <COFINS>276.67</COFINS></td><td><Item>\n",
       "        <Descricao>Auditoria Fiscal Completa</Descricao>\n",
       "        <Quantidade>2</Quantidade>\n",
       "        <ValorUnitario>4611.18</ValorUnitario>\n",
       "      </Item>\n",
       "      <Item>\n",
       "        <Descricao>Consultoria ISS Serviços</Descricao>\n",
       "        <Quantidade>10</Quantidade>\n",
       "        <ValorUnitario>4611.18</ValorUnitario>\n",
       "      </Item></td></tr><tr><td>NF-9331/2024</td><td>2024-02-04</td><td>CLI0039</td><td>14188.99</td><td><ISS>652.97</ISS>\n",
       "      <PIS>84.89</PIS>\n",
       "      <COFINS>391.78</COFINS></td><td><Item>\n",
       "        <Descricao>Serviços de Consultoria Tributária</Descricao>\n",
       "        <Quantidade>2</Quantidade>\n",
       "        <ValorUnitario>6529.68</ValorUnitario>\n",
       "      </Item>\n",
       "      <Item>\n",
       "        <Descricao>Planejamento Tributário Anual</Descricao>\n",
       "        <Quantidade>7</Quantidade>\n",
       "        <ValorUnitario>6529.68</ValorUnitario>\n",
       "      </Item></td></tr><tr><td>NF-2592/2024</td><td>2024-07-22</td><td>CLI0001</td><td>31505.24</td><td><ISS>1449.85</ISS>\n",
       "      <PIS>188.48</PIS>\n",
       "      <COFINS>869.91</COFINS></td><td><Item>\n",
       "        <Descricao>Revisão Declarações Fiscais</Descricao>\n",
       "        <Quantidade>1</Quantidade>\n",
       "        <ValorUnitario>14498.5</ValorUnitario>\n",
       "      </Item>\n",
       "      <Item>\n",
       "        <Descricao>Análise Fiscal PIS/COFINS</Descricao>\n",
       "        <Quantidade>7</Quantidade>\n",
       "        <ValorUnitario>14498.5</ValorUnitario>\n",
       "      </Item></td></tr></tbody></table></div>"
      ]
     },
     "metadata": {
      "application/vnd.databricks.v1+output": {
       "addedWidgets": {},
       "aggData": [],
       "aggError": "",
       "aggOverflow": false,
       "aggSchema": [],
       "aggSeriesLimitReached": false,
       "aggType": "",
       "arguments": {},
       "columnCustomDisplayInfos": {},
       "data": [
        [
         "NF-5839/2024",
         "2024-09-06",
         "CLI0033",
         "34598.52",
         "<ISS>1592.2</ISS>\n      <PIS>206.99</PIS>\n      <COFINS>955.32</COFINS>",
         "<Item>\n        <Descricao>Planejamento Tributário Anual</Descricao>\n        <Quantidade>4</Quantidade>\n        <ValorUnitario>15922.0</ValorUnitario>\n      </Item>\n      <Item>\n        <Descricao>Planejamento Tributário Anual</Descricao>\n        <Quantidade>3</Quantidade>\n        <ValorUnitario>15922.0</ValorUnitario>\n      </Item>"
        ],
        [
         "NF-6154/2024",
         "2024-10-03",
         "CLI0006",
         "36120.57",
         "<ISS>1662.24</ISS>\n      <PIS>216.09</PIS>\n      <COFINS>997.35</COFINS>",
         "<Item>\n        <Descricao>Consultoria ISS Serviços</Descricao>\n        <Quantidade>7</Quantidade>\n        <ValorUnitario>33244.89</ValorUnitario>\n      </Item>"
        ],
        [
         "NF-8423/2024",
         "2024-09-19",
         "CLI0026",
         "10020.1",
         "<ISS>461.12</ISS>\n      <PIS>59.95</PIS>\n      <COFINS>276.67</COFINS>",
         "<Item>\n        <Descricao>Auditoria Fiscal Completa</Descricao>\n        <Quantidade>2</Quantidade>\n        <ValorUnitario>4611.18</ValorUnitario>\n      </Item>\n      <Item>\n        <Descricao>Consultoria ISS Serviços</Descricao>\n        <Quantidade>10</Quantidade>\n        <ValorUnitario>4611.18</ValorUnitario>\n      </Item>"
        ],
        [
         "NF-9331/2024",
         "2024-02-04",
         "CLI0039",
         "14188.99",
         "<ISS>652.97</ISS>\n      <PIS>84.89</PIS>\n      <COFINS>391.78</COFINS>",
         "<Item>\n        <Descricao>Serviços de Consultoria Tributária</Descricao>\n        <Quantidade>2</Quantidade>\n        <ValorUnitario>6529.68</ValorUnitario>\n      </Item>\n      <Item>\n        <Descricao>Planejamento Tributário Anual</Descricao>\n        <Quantidade>7</Quantidade>\n        <ValorUnitario>6529.68</ValorUnitario>\n      </Item>"
        ],
        [
         "NF-2592/2024",
         "2024-07-22",
         "CLI0001",
         "31505.24",
         "<ISS>1449.85</ISS>\n      <PIS>188.48</PIS>\n      <COFINS>869.91</COFINS>",
         "<Item>\n        <Descricao>Revisão Declarações Fiscais</Descricao>\n        <Quantidade>1</Quantidade>\n        <ValorUnitario>14498.5</ValorUnitario>\n      </Item>\n      <Item>\n        <Descricao>Análise Fiscal PIS/COFINS</Descricao>\n        <Quantidade>7</Quantidade>\n        <ValorUnitario>14498.5</ValorUnitario>\n      </Item>"
        ]
       ],
       "datasetInfos": [
        {
         "name": "_sqldf",
         "schema": {
          "fields": [
           {
            "metadata": {},
            "name": "NumeroNota",
            "nullable": true,
            "type": "string"
           },
           {
            "metadata": {},
            "name": "DataEmissao",
            "nullable": true,
            "type": "string"
           },
           {
            "metadata": {},
            "name": "ClienteID",
            "nullable": true,
            "type": "string"
           },
           {
            "metadata": {},
            "name": "ValorTotal",
            "nullable": true,
            "type": "string"
           },
           {
            "metadata": {
             "format": "XML",
             "format_options": "{\"usestrictglobber\":\"true\",\"attributeprefix\":\"_\",\"excludeattribute\":\"false\",\"mergeSchema\":\"true\",\"rowtag\":\"NotaFiscal\",\"infercolumntypes\":\"true\"}"
            },
            "name": "Impostos",
            "nullable": true,
            "type": "string"
           },
           {
            "metadata": {
             "format": "XML",
             "format_options": "{\"usestrictglobber\":\"true\",\"attributeprefix\":\"_\",\"excludeattribute\":\"false\",\"mergeSchema\":\"true\",\"rowtag\":\"NotaFiscal\",\"infercolumntypes\":\"true\"}"
            },
            "name": "Itens",
            "nullable": true,
            "type": "string"
           }
          ],
          "type": "struct"
         },
         "tableIdentifier": null,
         "typeStr": "pyspark.sql.connect.dataframe.DataFrame"
        }
       ],
       "dbfsResultPath": null,
       "isJsonSchema": true,
       "metadata": {
        "createTempViewForImplicitDf": true,
        "dataframeName": "_sqldf",
        "executionCount": 18
       },
       "overflow": false,
       "plotOptions": {
        "customPlotOptions": {},
        "displayType": "table",
        "pivotAggregation": null,
        "pivotColumns": null,
        "xColumns": null,
        "yColumns": null
       },
       "removedWidgets": [],
       "schema": [
        {
         "metadata": "{}",
         "name": "NumeroNota",
         "type": "\"string\""
        },
        {
         "metadata": "{}",
         "name": "DataEmissao",
         "type": "\"string\""
        },
        {
         "metadata": "{}",
         "name": "ClienteID",
         "type": "\"string\""
        },
        {
         "metadata": "{}",
         "name": "ValorTotal",
         "type": "\"string\""
        },
        {
         "metadata": "{\"format_options\": \"{\\\"usestrictglobber\\\":\\\"true\\\",\\\"attributeprefix\\\":\\\"_\\\",\\\"excludeattribute\\\":\\\"false\\\",\\\"mergeSchema\\\":\\\"true\\\",\\\"rowtag\\\":\\\"NotaFiscal\\\",\\\"infercolumntypes\\\":\\\"true\\\"}\", \"format\": \"XML\"}",
         "name": "Impostos",
         "type": "\"string\""
        },
        {
         "metadata": "{\"format_options\": \"{\\\"usestrictglobber\\\":\\\"true\\\",\\\"attributeprefix\\\":\\\"_\\\",\\\"excludeattribute\\\":\\\"false\\\",\\\"mergeSchema\\\":\\\"true\\\",\\\"rowtag\\\":\\\"NotaFiscal\\\",\\\"infercolumntypes\\\":\\\"true\\\"}\", \"format\": \"XML\"}",
         "name": "Itens",
         "type": "\"string\""
        }
       ],
       "type": "table"
      }
     },
     "output_type": "display_data"
    }
   ],
   "source": [
    "%sql\n",
    "-- 0. Quais colunas existem e tipos?\n",
    "DESCRIBE TABLE psa.bronze.notas_fiscais;\n",
    "\n",
    "-- 1. Total na Bronze\n",
    "SELECT COUNT(*) FROM psa.bronze.notas_fiscais;\n",
    "\n",
    "-- 2. Quantas têm NumeroNota preenchido?\n",
    "SELECT COUNT(*) \n",
    "FROM psa.bronze.notas_fiscais \n",
    "WHERE TRIM(NumeroNota) IS NOT NULL;\n",
    "\n",
    "-- 3. Prévia simples da Bronze (confirme nomes exatamente iguais)\n",
    "SELECT NumeroNota, DataEmissao, ClienteID, ValorTotal, Impostos, Itens\n",
    "FROM psa.bronze.notas_fiscais\n",
    "LIMIT 5;\n"
   ]
  },
  {
   "cell_type": "code",
   "execution_count": 0,
   "metadata": {
    "application/vnd.databricks.v1+cell": {
     "cellMetadata": {
      "byteLimit": 2048000,
      "implicitDf": true,
      "rowLimit": 10000
     },
     "inputWidgets": {},
     "nuid": "ded3413d-dd07-46cc-a2ee-b7c2a92b2508",
     "showTitle": false,
     "tableResultSettingsMap": {},
     "title": ""
    }
   },
   "outputs": [
    {
     "output_type": "display_data",
     "data": {
      "text/html": [
       "<style scoped>\n",
       "  .table-result-container {\n",
       "    max-height: 300px;\n",
       "    overflow: auto;\n",
       "  }\n",
       "  table, th, td {\n",
       "    border: 1px solid black;\n",
       "    border-collapse: collapse;\n",
       "  }\n",
       "  th, td {\n",
       "    padding: 5px;\n",
       "  }\n",
       "  th {\n",
       "    text-align: left;\n",
       "  }\n",
       "</style><div class='table-result-container'><table class='table-result'><thead style='background-color: white'><tr><th>current_catalog()</th><th>current_schema()</th></tr></thead><tbody><tr><td>workspace</td><td>default</td></tr></tbody></table></div>"
      ]
     },
     "metadata": {
      "application/vnd.databricks.v1+output": {
       "addedWidgets": {},
       "aggData": [],
       "aggError": "",
       "aggOverflow": false,
       "aggSchema": [],
       "aggSeriesLimitReached": false,
       "aggType": "",
       "arguments": {},
       "columnCustomDisplayInfos": {},
       "data": [
        [
         "workspace",
         "default"
        ]
       ],
       "datasetInfos": [
        {
         "name": "_sqldf",
         "schema": {
          "fields": [
           {
            "metadata": {},
            "name": "current_catalog()",
            "nullable": false,
            "type": "string"
           },
           {
            "metadata": {},
            "name": "current_schema()",
            "nullable": false,
            "type": "string"
           }
          ],
          "type": "struct"
         },
         "tableIdentifier": null,
         "typeStr": "pyspark.sql.connect.dataframe.DataFrame"
        }
       ],
       "dbfsResultPath": null,
       "isJsonSchema": true,
       "metadata": {
        "createTempViewForImplicitDf": true,
        "dataframeName": "_sqldf",
        "executionCount": 21
       },
       "overflow": false,
       "plotOptions": {
        "customPlotOptions": {},
        "displayType": "table",
        "pivotAggregation": null,
        "pivotColumns": null,
        "xColumns": null,
        "yColumns": null
       },
       "removedWidgets": [],
       "schema": [
        {
         "metadata": "{}",
         "name": "current_catalog()",
         "type": "\"string\""
        },
        {
         "metadata": "{}",
         "name": "current_schema()",
         "type": "\"string\""
        }
       ],
       "type": "table"
      }
     },
     "output_type": "display_data"
    }
   ],
   "source": [
    "%sql\n",
    "SELECT current_catalog(), current_schema();\n"
   ]
  }
 ],
 "metadata": {
  "application/vnd.databricks.v1+notebook": {
   "computePreferences": null,
   "dashboards": [],
   "environmentMetadata": {
    "base_environment": "",
    "environment_version": "4"
   },
   "inputWidgetPreferences": null,
   "language": "python",
   "notebookMetadata": {
    "mostRecentlyExecutedCommandWithImplicitDF": {
     "commandId": 5041836947336751,
     "dataframes": [
      "_sqldf"
     ]
    },
    "pythonIndentUnit": 4
   },
   "notebookName": "silver_notas_fiscais",
   "widgets": {}
  },
  "language_info": {
   "name": "python"
  }
 },
 "nbformat": 4,
 "nbformat_minor": 0
}
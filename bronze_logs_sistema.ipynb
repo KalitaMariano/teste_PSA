{
 "cells": [
  {
   "cell_type": "code",
   "execution_count": 0,
   "metadata": {
    "application/vnd.databricks.v1+cell": {
     "cellMetadata": {
      "byteLimit": 2048000,
      "rowLimit": 10000
     },
     "inputWidgets": {},
     "nuid": "f1c1351a-f00e-4d0d-8ccd-f625b4d28449",
     "showTitle": false,
     "tableResultSettingsMap": {},
     "title": ""
    }
   },
   "outputs": [],
   "source": [
    "%python\n",
    "#import o controle de de data\n",
    "from pyspark.sql.functions import current_date,current_timestamp, expr"
   ]
  },
  {
   "cell_type": "code",
   "execution_count": 0,
   "metadata": {
    "application/vnd.databricks.v1+cell": {
     "cellMetadata": {
      "byteLimit": 2048000,
      "rowLimit": 10000
     },
     "inputWidgets": {},
     "nuid": "98a8eb88-df4d-45ae-bf22-554766c4e5e0",
     "showTitle": false,
     "tableResultSettingsMap": {},
     "title": ""
    }
   },
   "outputs": [
    {
     "output_type": "stream",
     "name": "stdout",
     "output_type": "stream",
     "text": [
      "Requirement already satisfied: lxml in /local_disk0/.ephemeral_nfs/envs/pythonEnv-67a00b3e-d07d-49b8-8601-894f84e5274d/lib/python3.12/site-packages (6.0.2)\n\u001B[43mNote: you may need to restart the kernel using %restart_python or dbutils.library.restartPython() to use updated packages.\u001B[0m\n"
     ]
    }
   ],
   "source": [
    "%pip install lxml"
   ]
  },
  {
   "cell_type": "code",
   "execution_count": 0,
   "metadata": {
    "application/vnd.databricks.v1+cell": {
     "cellMetadata": {
      "byteLimit": 2048000,
      "rowLimit": 10000
     },
     "inputWidgets": {},
     "nuid": "7f63017c-5322-4968-aee7-a390a8bb4ee7",
     "showTitle": false,
     "tableResultSettingsMap": {},
     "title": ""
    }
   },
   "outputs": [],
   "source": [
    " #criação de variavel \n",
    " database =\"bronze\"\n",
    " tabela = \"logs_sistema\""
   ]
  },
  {
   "cell_type": "code",
   "execution_count": 0,
   "metadata": {
    "application/vnd.databricks.v1+cell": {
     "cellMetadata": {
      "byteLimit": 2048000,
      "rowLimit": 10000
     },
     "inputWidgets": {},
     "nuid": "23c2271e-8806-49d3-a37c-4af520653ed0",
     "showTitle": false,
     "tableResultSettingsMap": {},
     "title": ""
    }
   },
   "outputs": [
    {
     "output_type": "display_data",
     "data": {
      "text/html": [
       "<style scoped>\n",
       "  .table-result-container {\n",
       "    max-height: 300px;\n",
       "    overflow: auto;\n",
       "  }\n",
       "  table, th, td {\n",
       "    border: 1px solid black;\n",
       "    border-collapse: collapse;\n",
       "  }\n",
       "  th, td {\n",
       "    padding: 5px;\n",
       "  }\n",
       "  th {\n",
       "    text-align: left;\n",
       "  }\n",
       "</style><div class='table-result-container'><table class='table-result'><thead style='background-color: white'><tr><th>ID Log</th><th>Timestamp</th><th>Usuário</th><th>Ação</th><th>Entidade Afetada</th><th>Resultado</th><th>IP</th></tr></thead><tbody><tr><td>LOG000001</td><td>2025-09-04 21:44:47</td><td>mariana.costa@psa.com</td><td>Logout</td><td>Análise ANLS00234</td><td>Sucesso</td><td>192.168.149.214</td></tr><tr><td>LOG000002</td><td>2025-08-05 05:58:51</td><td>carlos.santos@psa.com</td><td>Baixou Documento</td><td>Backup Dados</td><td>Falha</td><td>192.168.21.220</td></tr><tr><td>LOG000003</td><td>2025-08-25 00:21:14</td><td>roberto.ferreira@psa.com</td><td>Deletou Projeto</td><td>Integração BigQuery</td><td>Pendente</td><td>192.168.209.54</td></tr><tr><td>LOG000004</td><td>2025-09-07 03:58:25</td><td>juliana.oliveira@psa.com</td><td>Login</td><td>Relatório REL-2024-045</td><td>Sucesso</td><td>192.168.231.118</td></tr><tr><td>LOG000005</td><td>2025-09-19 05:52:19</td><td>ana.silva@psa.com</td><td>Atualizou Projeto</td><td>API Externa</td><td>Pendente</td><td>192.168.193.207</td></tr><tr><td>LOG000006</td><td>2025-09-07 04:37:48</td><td>roberto.ferreira@psa.com</td><td>Deletou Projeto</td><td>API Externa</td><td>Sucesso</td><td>192.168.228.83</td></tr><tr><td>LOG000007</td><td>2025-09-12 03:47:00</td><td>pedro.henrique@psa.com</td><td>Gerou Dashboard</td><td>Dashboard Analytics</td><td>Falha</td><td>192.168.154.242</td></tr><tr><td>LOG000008</td><td>2025-10-10 23:50:59</td><td>ana.silva@psa.com</td><td>Exportou Dados</td><td>Backup Dados</td><td>Sucesso</td><td>192.168.111.177</td></tr><tr><td>LOG000009</td><td>2025-09-25 04:57:44</td><td>pedro.henrique@psa.com</td><td>Enviou Relatório</td><td>Sistema</td><td>Sucesso</td><td>192.168.113.155</td></tr><tr><td>LOG000010</td><td>2025-10-06 07:57:18</td><td>roberto.ferreira@psa.com</td><td>Atualizou Projeto</td><td>Relatório REL-2024-045</td><td>Sucesso</td><td>192.168.71.189</td></tr><tr><td>LOG000011</td><td>2025-07-25 03:28:48</td><td>carlos.santos@psa.com</td><td>Criou Análise</td><td>Backup Dados</td><td>Sucesso</td><td>192.168.247.75</td></tr><tr><td>LOG000012</td><td>2025-10-02 00:13:21</td><td>ana.silva@psa.com</td><td>Baixou Documento</td><td>Análise ANLS00234</td><td>Pendente</td><td>192.168.64.82</td></tr><tr><td>LOG000013</td><td>2025-09-23 00:23:03</td><td>mariana.costa@psa.com</td><td>Deletou Projeto</td><td>Relatório REL-2024-045</td><td>Pendente</td><td>192.168.208.8</td></tr><tr><td>LOG000014</td><td>2025-09-15 00:02:06</td><td>ana.silva@psa.com</td><td>Atualizou Projeto</td><td>Documento DOC-789</td><td>Falha</td><td>192.168.108.214</td></tr><tr><td>LOG000015</td><td>2025-10-12 06:42:59</td><td>roberto.ferreira@psa.com</td><td>Criou Projeto</td><td>API Externa</td><td>Falha</td><td>192.168.235.144</td></tr><tr><td>LOG000016</td><td>2025-09-27 07:26:07</td><td>roberto.ferreira@psa.com</td><td>Compartilhou Arquivo</td><td>Integração BigQuery</td><td>Sucesso</td><td>192.168.174.227</td></tr><tr><td>LOG000017</td><td>2025-07-29 22:59:01</td><td>ana.silva@psa.com</td><td>Criou Análise</td><td>API Externa</td><td>Pendente</td><td>192.168.63.90</td></tr><tr><td>LOG000018</td><td>2025-09-21 06:45:15</td><td>mariana.costa@psa.com</td><td>Enviou Relatório</td><td>Integração BigQuery</td><td>Sucesso</td><td>192.168.139.247</td></tr><tr><td>LOG000019</td><td>2025-10-04 07:06:36</td><td>carlos.santos@psa.com</td><td>Enviou Relatório</td><td>Documento DOC-789</td><td>Sucesso</td><td>192.168.255.141</td></tr><tr><td>LOG000020</td><td>2025-08-31 02:59:31</td><td>carlos.santos@psa.com</td><td>Compartilhou Arquivo</td><td>Documento DOC-789</td><td>Pendente</td><td>192.168.48.146</td></tr><tr><td>LOG000021</td><td>2025-07-27 00:56:57</td><td>ana.silva@psa.com</td><td>Compartilhou Arquivo</td><td>Backup Dados</td><td>Sucesso</td><td>192.168.205.194</td></tr><tr><td>LOG000022</td><td>2025-10-13 05:28:14</td><td>juliana.oliveira@psa.com</td><td>Enviou Relatório</td><td>API Externa</td><td>Sucesso</td><td>192.168.216.169</td></tr><tr><td>LOG000023</td><td>2025-09-20 06:29:45</td><td>pedro.henrique@psa.com</td><td>Compartilhou Arquivo</td><td>Projeto PROJ0023</td><td>Falha</td><td>192.168.10.210</td></tr><tr><td>LOG000024</td><td>2025-10-02 01:16:59</td><td>mariana.costa@psa.com</td><td>Importou Dados</td><td>Sistema</td><td>Pendente</td><td>192.168.138.19</td></tr><tr><td>LOG000025</td><td>2025-07-30 02:40:37</td><td>pedro.henrique@psa.com</td><td>Logout</td><td>Integração BigQuery</td><td>Sucesso</td><td>192.168.228.155</td></tr><tr><td>LOG000026</td><td>2025-10-03 21:09:32</td><td>carlos.santos@psa.com</td><td>Importou Dados</td><td>API Externa</td><td>Sucesso</td><td>192.168.92.161</td></tr><tr><td>LOG000027</td><td>2025-09-11 04:42:37</td><td>ana.silva@psa.com</td><td>Criou Projeto</td><td>Relatório REL-2024-045</td><td>Sucesso</td><td>192.168.80.117</td></tr><tr><td>LOG000028</td><td>2025-08-03 05:10:38</td><td>juliana.oliveira@psa.com</td><td>Gerou Dashboard</td><td>Cliente CLI0015</td><td>Sucesso</td><td>192.168.76.231</td></tr><tr><td>LOG000029</td><td>2025-10-08 23:12:02</td><td>ana.silva@psa.com</td><td>Enviou Relatório</td><td>Dashboard Analytics</td><td>Pendente</td><td>192.168.130.197</td></tr><tr><td>LOG000030</td><td>2025-09-18 00:21:28</td><td>juliana.oliveira@psa.com</td><td>Baixou Documento</td><td>Backup Dados</td><td>Sucesso</td><td>192.168.239.28</td></tr><tr><td>LOG000031</td><td>2025-08-21 06:07:30</td><td>pedro.henrique@psa.com</td><td>Baixou Documento</td><td>Documento DOC-789</td><td>Pendente</td><td>192.168.133.246</td></tr><tr><td>LOG000032</td><td>2025-09-02 01:54:24</td><td>carlos.santos@psa.com</td><td>Gerou Dashboard</td><td>Sistema</td><td>Falha</td><td>192.168.175.165</td></tr><tr><td>LOG000033</td><td>2025-09-17 23:08:31</td><td>carlos.santos@psa.com</td><td>Gerou Dashboard</td><td>Sistema</td><td>Sucesso</td><td>192.168.103.64</td></tr><tr><td>LOG000034</td><td>2025-07-29 22:04:43</td><td>carlos.santos@psa.com</td><td>Logout</td><td>API Externa</td><td>Sucesso</td><td>192.168.187.252</td></tr><tr><td>LOG000035</td><td>2025-10-15 04:13:10</td><td>roberto.ferreira@psa.com</td><td>Compartilhou Arquivo</td><td>Integração BigQuery</td><td>Sucesso</td><td>192.168.3.163</td></tr><tr><td>LOG000036</td><td>2025-08-05 06:12:41</td><td>roberto.ferreira@psa.com</td><td>Criou Análise</td><td>Sistema</td><td>Sucesso</td><td>192.168.30.188</td></tr><tr><td>LOG000037</td><td>2025-07-24 22:29:10</td><td>mariana.costa@psa.com</td><td>Atualizou Projeto</td><td>Cliente CLI0015</td><td>Falha</td><td>192.168.89.164</td></tr><tr><td>LOG000038</td><td>2025-10-09 03:15:28</td><td>pedro.henrique@psa.com</td><td>Atualizou Cliente</td><td>API Externa</td><td>Pendente</td><td>192.168.163.140</td></tr><tr><td>LOG000039</td><td>2025-09-14 01:10:37</td><td>mariana.costa@psa.com</td><td>Deletou Projeto</td><td>Análise ANLS00234</td><td>Sucesso</td><td>192.168.113.138</td></tr><tr><td>LOG000040</td><td>2025-10-04 00:31:09</td><td>carlos.santos@psa.com</td><td>Exportou Dados</td><td>Cliente CLI0015</td><td>Falha</td><td>192.168.19.51</td></tr><tr><td>LOG000041</td><td>2025-10-05 03:50:33</td><td>roberto.ferreira@psa.com</td><td>Compartilhou Arquivo</td><td>API Externa</td><td>Sucesso</td><td>192.168.41.68</td></tr><tr><td>LOG000042</td><td>2025-08-16 07:08:49</td><td>ana.silva@psa.com</td><td>Logout</td><td>Integração BigQuery</td><td>Pendente</td><td>192.168.51.5</td></tr><tr><td>LOG000043</td><td>2025-09-01 00:27:22</td><td>mariana.costa@psa.com</td><td>Deletou Projeto</td><td>Integração BigQuery</td><td>Pendente</td><td>192.168.43.91</td></tr><tr><td>LOG000044</td><td>2025-10-11 03:29:02</td><td>ana.silva@psa.com</td><td>Exportou Dados</td><td>Backup Dados</td><td>Sucesso</td><td>192.168.154.143</td></tr><tr><td>LOG000045</td><td>2025-09-10 01:59:48</td><td>juliana.oliveira@psa.com</td><td>Logout</td><td>Projeto PROJ0023</td><td>Sucesso</td><td>192.168.17.218</td></tr><tr><td>LOG000046</td><td>2025-08-09 23:19:05</td><td>roberto.ferreira@psa.com</td><td>Criou Análise</td><td>Projeto PROJ0023</td><td>Falha</td><td>192.168.247.187</td></tr><tr><td>LOG000047</td><td>2025-07-26 07:26:49</td><td>juliana.oliveira@psa.com</td><td>Importou Dados</td><td>Relatório REL-2024-045</td><td>Falha</td><td>192.168.158.228</td></tr><tr><td>LOG000048</td><td>2025-09-12 02:51:55</td><td>pedro.henrique@psa.com</td><td>Compartilhou Arquivo</td><td>Projeto PROJ0023</td><td>Sucesso</td><td>192.168.243.32</td></tr><tr><td>LOG000049</td><td>2025-08-07 23:24:39</td><td>juliana.oliveira@psa.com</td><td>Importou Dados</td><td>Backup Dados</td><td>Sucesso</td><td>192.168.220.72</td></tr><tr><td>LOG000050</td><td>2025-07-29 03:37:27</td><td>ana.silva@psa.com</td><td>Deletou Projeto</td><td>API Externa</td><td>Sucesso</td><td>192.168.204.225</td></tr><tr><td>LOG000051</td><td>2025-07-27 00:22:42</td><td>mariana.costa@psa.com</td><td>Enviou Relatório</td><td>Projeto PROJ0023</td><td>Sucesso</td><td>192.168.44.5</td></tr><tr><td>LOG000052</td><td>2025-09-22 21:26:09</td><td>carlos.santos@psa.com</td><td>Gerou Dashboard</td><td>API Externa</td><td>Sucesso</td><td>192.168.35.200</td></tr><tr><td>LOG000053</td><td>2025-09-12 22:05:10</td><td>ana.silva@psa.com</td><td>Criou Projeto</td><td>Análise ANLS00234</td><td>Sucesso</td><td>192.168.74.86</td></tr><tr><td>LOG000054</td><td>2025-08-29 00:53:58</td><td>mariana.costa@psa.com</td><td>Importou Dados</td><td>Dashboard Analytics</td><td>Sucesso</td><td>192.168.205.254</td></tr><tr><td>LOG000055</td><td>2025-08-05 03:29:42</td><td>ana.silva@psa.com</td><td>Gerou Dashboard</td><td>Backup Dados</td><td>Sucesso</td><td>192.168.185.15</td></tr><tr><td>LOG000056</td><td>2025-08-10 06:02:28</td><td>juliana.oliveira@psa.com</td><td>Login</td><td>Relatório REL-2024-045</td><td>Sucesso</td><td>192.168.146.86</td></tr><tr><td>LOG000057</td><td>2025-07-27 02:45:27</td><td>pedro.henrique@psa.com</td><td>Atualizou Cliente</td><td>Análise ANLS00234</td><td>Sucesso</td><td>192.168.115.23</td></tr><tr><td>LOG000058</td><td>2025-09-29 01:40:06</td><td>carlos.santos@psa.com</td><td>Baixou Documento</td><td>Integração BigQuery</td><td>Sucesso</td><td>192.168.41.17</td></tr><tr><td>LOG000059</td><td>2025-08-14 23:57:09</td><td>mariana.costa@psa.com</td><td>Enviou Relatório</td><td>Relatório REL-2024-045</td><td>Falha</td><td>192.168.65.186</td></tr><tr><td>LOG000060</td><td>2025-09-01 21:45:56</td><td>ana.silva@psa.com</td><td>Criou Análise</td><td>Sistema</td><td>Sucesso</td><td>192.168.131.43</td></tr><tr><td>LOG000061</td><td>2025-10-17 07:31:14</td><td>ana.silva@psa.com</td><td>Baixou Documento</td><td>Sistema</td><td>Sucesso</td><td>192.168.102.136</td></tr><tr><td>LOG000062</td><td>2025-08-04 05:05:43</td><td>roberto.ferreira@psa.com</td><td>Logout</td><td>Backup Dados</td><td>Sucesso</td><td>192.168.198.99</td></tr><tr><td>LOG000063</td><td>2025-08-08 23:34:37</td><td>ana.silva@psa.com</td><td>Importou Dados</td><td>Dashboard Analytics</td><td>Falha</td><td>192.168.80.1</td></tr><tr><td>LOG000064</td><td>2025-08-18 04:39:17</td><td>ana.silva@psa.com</td><td>Exportou Dados</td><td>API Externa</td><td>Sucesso</td><td>192.168.37.133</td></tr><tr><td>LOG000065</td><td>2025-10-16 04:26:53</td><td>mariana.costa@psa.com</td><td>Importou Dados</td><td>Cliente CLI0015</td><td>Sucesso</td><td>192.168.182.24</td></tr><tr><td>LOG000066</td><td>2025-09-27 00:12:36</td><td>juliana.oliveira@psa.com</td><td>Baixou Documento</td><td>Documento DOC-789</td><td>Sucesso</td><td>192.168.207.131</td></tr><tr><td>LOG000067</td><td>2025-09-08 21:19:11</td><td>ana.silva@psa.com</td><td>Deletou Projeto</td><td>Cliente CLI0015</td><td>Sucesso</td><td>192.168.34.108</td></tr><tr><td>LOG000068</td><td>2025-10-23 07:53:43</td><td>ana.silva@psa.com</td><td>Gerou Dashboard</td><td>Documento DOC-789</td><td>Pendente</td><td>192.168.158.32</td></tr><tr><td>LOG000069</td><td>2025-10-03 00:27:33</td><td>mariana.costa@psa.com</td><td>Atualizou Cliente</td><td>Projeto PROJ0023</td><td>Sucesso</td><td>192.168.205.86</td></tr><tr><td>LOG000070</td><td>2025-10-10 00:21:08</td><td>mariana.costa@psa.com</td><td>Logout</td><td>Sistema</td><td>Sucesso</td><td>192.168.124.209</td></tr><tr><td>LOG000071</td><td>2025-10-08 23:43:53</td><td>roberto.ferreira@psa.com</td><td>Criou Projeto</td><td>Backup Dados</td><td>Sucesso</td><td>192.168.114.80</td></tr><tr><td>LOG000072</td><td>2025-08-14 02:17:23</td><td>pedro.henrique@psa.com</td><td>Enviou Relatório</td><td>Projeto PROJ0023</td><td>Pendente</td><td>192.168.98.211</td></tr><tr><td>LOG000073</td><td>2025-10-04 07:03:18</td><td>roberto.ferreira@psa.com</td><td>Exportou Dados</td><td>Cliente CLI0015</td><td>Sucesso</td><td>192.168.53.162</td></tr><tr><td>LOG000074</td><td>2025-08-17 04:07:26</td><td>juliana.oliveira@psa.com</td><td>Enviou Relatório</td><td>Documento DOC-789</td><td>Falha</td><td>192.168.190.139</td></tr><tr><td>LOG000075</td><td>2025-08-30 22:49:47</td><td>ana.silva@psa.com</td><td>Importou Dados</td><td>Documento DOC-789</td><td>Sucesso</td><td>192.168.242.156</td></tr><tr><td>LOG000076</td><td>2025-09-11 07:43:47</td><td>juliana.oliveira@psa.com</td><td>Exportou Dados</td><td>Integração BigQuery</td><td>Falha</td><td>192.168.131.158</td></tr><tr><td>LOG000077</td><td>2025-10-05 01:58:15</td><td>mariana.costa@psa.com</td><td>Atualizou Cliente</td><td>Projeto PROJ0023</td><td>Sucesso</td><td>192.168.255.162</td></tr><tr><td>LOG000078</td><td>2025-09-12 06:07:57</td><td>mariana.costa@psa.com</td><td>Importou Dados</td><td>Dashboard Analytics</td><td>Sucesso</td><td>192.168.60.229</td></tr><tr><td>LOG000079</td><td>2025-10-08 23:59:29</td><td>pedro.henrique@psa.com</td><td>Compartilhou Arquivo</td><td>Relatório REL-2024-045</td><td>Sucesso</td><td>192.168.205.84</td></tr><tr><td>LOG000080</td><td>2025-10-08 03:26:26</td><td>ana.silva@psa.com</td><td>Login</td><td>API Externa</td><td>Sucesso</td><td>192.168.225.1</td></tr><tr><td>LOG000081</td><td>2025-10-15 08:01:12</td><td>carlos.santos@psa.com</td><td>Criou Análise</td><td>Dashboard Analytics</td><td>Falha</td><td>192.168.50.106</td></tr><tr><td>LOG000082</td><td>2025-08-14 23:40:32</td><td>pedro.henrique@psa.com</td><td>Criou Projeto</td><td>Relatório REL-2024-045</td><td>Sucesso</td><td>192.168.48.237</td></tr><tr><td>LOG000083</td><td>2025-09-23 00:10:22</td><td>juliana.oliveira@psa.com</td><td>Gerou Dashboard</td><td>Projeto PROJ0023</td><td>Sucesso</td><td>192.168.221.223</td></tr><tr><td>LOG000084</td><td>2025-08-02 07:12:00</td><td>ana.silva@psa.com</td><td>Importou Dados</td><td>Sistema</td><td>Sucesso</td><td>192.168.95.181</td></tr><tr><td>LOG000085</td><td>2025-09-21 03:52:00</td><td>juliana.oliveira@psa.com</td><td>Atualizou Cliente</td><td>Sistema</td><td>Sucesso</td><td>192.168.22.250</td></tr><tr><td>LOG000086</td><td>2025-09-29 00:16:21</td><td>pedro.henrique@psa.com</td><td>Gerou Dashboard</td><td>Cliente CLI0015</td><td>Falha</td><td>192.168.66.107</td></tr><tr><td>LOG000087</td><td>2025-07-31 03:52:41</td><td>mariana.costa@psa.com</td><td>Compartilhou Arquivo</td><td>API Externa</td><td>Falha</td><td>192.168.105.142</td></tr><tr><td>LOG000088</td><td>2025-10-20 21:22:22</td><td>juliana.oliveira@psa.com</td><td>Atualizou Cliente</td><td>Dashboard Analytics</td><td>Sucesso</td><td>192.168.242.27</td></tr><tr><td>LOG000089</td><td>2025-08-07 01:33:29</td><td>pedro.henrique@psa.com</td><td>Deletou Projeto</td><td>Análise ANLS00234</td><td>Sucesso</td><td>192.168.166.131</td></tr><tr><td>LOG000090</td><td>2025-10-06 06:07:09</td><td>juliana.oliveira@psa.com</td><td>Deletou Projeto</td><td>Análise ANLS00234</td><td>Falha</td><td>192.168.48.148</td></tr><tr><td>LOG000091</td><td>2025-09-22 03:48:55</td><td>juliana.oliveira@psa.com</td><td>Atualizou Projeto</td><td>API Externa</td><td>Sucesso</td><td>192.168.65.89</td></tr><tr><td>LOG000092</td><td>2025-08-09 23:45:47</td><td>ana.silva@psa.com</td><td>Atualizou Cliente</td><td>Integração BigQuery</td><td>Pendente</td><td>192.168.85.9</td></tr><tr><td>LOG000093</td><td>2025-10-12 05:40:10</td><td>ana.silva@psa.com</td><td>Deletou Projeto</td><td>API Externa</td><td>Falha</td><td>192.168.150.216</td></tr><tr><td>LOG000094</td><td>2025-07-30 06:45:39</td><td>juliana.oliveira@psa.com</td><td>Baixou Documento</td><td>Backup Dados</td><td>Sucesso</td><td>192.168.103.117</td></tr><tr><td>LOG000095</td><td>2025-08-25 05:40:13</td><td>roberto.ferreira@psa.com</td><td>Criou Projeto</td><td>Backup Dados</td><td>Sucesso</td><td>192.168.35.3</td></tr><tr><td>LOG000096</td><td>2025-09-14 03:05:27</td><td>carlos.santos@psa.com</td><td>Compartilhou Arquivo</td><td>Análise ANLS00234</td><td>Pendente</td><td>192.168.228.82</td></tr><tr><td>LOG000097</td><td>2025-07-25 02:48:42</td><td>roberto.ferreira@psa.com</td><td>Gerou Dashboard</td><td>Cliente CLI0015</td><td>Sucesso</td><td>192.168.53.235</td></tr><tr><td>LOG000098</td><td>2025-08-06 04:41:09</td><td>juliana.oliveira@psa.com</td><td>Atualizou Cliente</td><td>Integração BigQuery</td><td>Sucesso</td><td>192.168.114.55</td></tr><tr><td>LOG000099</td><td>2025-08-07 06:09:26</td><td>mariana.costa@psa.com</td><td>Compartilhou Arquivo</td><td>Cliente CLI0015</td><td>Falha</td><td>192.168.239.217</td></tr><tr><td>LOG000100</td><td>2025-09-19 07:47:28</td><td>juliana.oliveira@psa.com</td><td>Compartilhou Arquivo</td><td>Documento DOC-789</td><td>Sucesso</td><td>192.168.112.126</td></tr><tr><td>LOG000101</td><td>2025-10-17 02:46:20</td><td>mariana.costa@psa.com</td><td>Criou Projeto</td><td>Backup Dados</td><td>Sucesso</td><td>192.168.48.88</td></tr><tr><td>LOG000102</td><td>2025-08-01 06:53:30</td><td>ana.silva@psa.com</td><td>Criou Projeto</td><td>Relatório REL-2024-045</td><td>Sucesso</td><td>192.168.81.66</td></tr><tr><td>LOG000103</td><td>2025-10-09 07:50:13</td><td>juliana.oliveira@psa.com</td><td>Importou Dados</td><td>API Externa</td><td>Falha</td><td>192.168.201.136</td></tr><tr><td>LOG000104</td><td>2025-10-23 05:58:33</td><td>pedro.henrique@psa.com</td><td>Atualizou Projeto</td><td>Sistema</td><td>Sucesso</td><td>192.168.180.99</td></tr><tr><td>LOG000105</td><td>2025-09-16 01:54:30</td><td>juliana.oliveira@psa.com</td><td>Atualizou Projeto</td><td>Análise ANLS00234</td><td>Pendente</td><td>192.168.184.78</td></tr><tr><td>LOG000106</td><td>2025-09-01 21:24:57</td><td>mariana.costa@psa.com</td><td>Deletou Projeto</td><td>Projeto PROJ0023</td><td>Sucesso</td><td>192.168.31.110</td></tr><tr><td>LOG000107</td><td>2025-09-04 05:58:48</td><td>pedro.henrique@psa.com</td><td>Compartilhou Arquivo</td><td>Documento DOC-789</td><td>Sucesso</td><td>192.168.181.228</td></tr><tr><td>LOG000108</td><td>2025-10-12 00:45:55</td><td>carlos.santos@psa.com</td><td>Criou Análise</td><td>Integração BigQuery</td><td>Sucesso</td><td>192.168.109.58</td></tr><tr><td>LOG000109</td><td>2025-09-19 04:57:14</td><td>carlos.santos@psa.com</td><td>Criou Projeto</td><td>API Externa</td><td>Sucesso</td><td>192.168.253.138</td></tr><tr><td>LOG000110</td><td>2025-08-21 02:58:06</td><td>juliana.oliveira@psa.com</td><td>Exportou Dados</td><td>Documento DOC-789</td><td>Sucesso</td><td>192.168.53.215</td></tr><tr><td>LOG000111</td><td>2025-08-17 03:05:59</td><td>ana.silva@psa.com</td><td>Login</td><td>Relatório REL-2024-045</td><td>Sucesso</td><td>192.168.191.149</td></tr><tr><td>LOG000112</td><td>2025-10-23 02:13:35</td><td>juliana.oliveira@psa.com</td><td>Exportou Dados</td><td>Relatório REL-2024-045</td><td>Sucesso</td><td>192.168.198.241</td></tr><tr><td>LOG000113</td><td>2025-08-31 07:26:51</td><td>pedro.henrique@psa.com</td><td>Criou Análise</td><td>Projeto PROJ0023</td><td>Pendente</td><td>192.168.116.109</td></tr><tr><td>LOG000114</td><td>2025-09-18 02:25:28</td><td>ana.silva@psa.com</td><td>Criou Projeto</td><td>Documento DOC-789</td><td>Sucesso</td><td>192.168.50.245</td></tr><tr><td>LOG000115</td><td>2025-09-10 01:31:25</td><td>mariana.costa@psa.com</td><td>Atualizou Projeto</td><td>Dashboard Analytics</td><td>Sucesso</td><td>192.168.231.161</td></tr><tr><td>LOG000116</td><td>2025-09-03 07:29:42</td><td>carlos.santos@psa.com</td><td>Criou Análise</td><td>Integração BigQuery</td><td>Falha</td><td>192.168.189.70</td></tr><tr><td>LOG000117</td><td>2025-09-17 00:57:32</td><td>mariana.costa@psa.com</td><td>Gerou Dashboard</td><td>Backup Dados</td><td>Falha</td><td>192.168.124.176</td></tr><tr><td>LOG000118</td><td>2025-09-15 02:59:34</td><td>juliana.oliveira@psa.com</td><td>Enviou Relatório</td><td>Sistema</td><td>Sucesso</td><td>192.168.33.232</td></tr><tr><td>LOG000119</td><td>2025-09-22 05:02:19</td><td>ana.silva@psa.com</td><td>Gerou Dashboard</td><td>Dashboard Analytics</td><td>Sucesso</td><td>192.168.60.184</td></tr><tr><td>LOG000120</td><td>2025-08-26 00:14:07</td><td>mariana.costa@psa.com</td><td>Login</td><td>Cliente CLI0015</td><td>Sucesso</td><td>192.168.204.176</td></tr><tr><td>LOG000121</td><td>2025-09-15 01:26:16</td><td>pedro.henrique@psa.com</td><td>Criou Análise</td><td>Relatório REL-2024-045</td><td>Pendente</td><td>192.168.98.115</td></tr><tr><td>LOG000122</td><td>2025-08-05 06:58:19</td><td>ana.silva@psa.com</td><td>Importou Dados</td><td>Documento DOC-789</td><td>Pendente</td><td>192.168.218.228</td></tr><tr><td>LOG000123</td><td>2025-08-04 22:13:41</td><td>ana.silva@psa.com</td><td>Baixou Documento</td><td>API Externa</td><td>Falha</td><td>192.168.186.42</td></tr><tr><td>LOG000124</td><td>2025-09-17 02:11:22</td><td>ana.silva@psa.com</td><td>Compartilhou Arquivo</td><td>Projeto PROJ0023</td><td>Sucesso</td><td>192.168.49.45</td></tr><tr><td>LOG000125</td><td>2025-08-08 01:04:52</td><td>roberto.ferreira@psa.com</td><td>Exportou Dados</td><td>Projeto PROJ0023</td><td>Falha</td><td>192.168.13.197</td></tr><tr><td>LOG000126</td><td>2025-08-27 03:38:00</td><td>juliana.oliveira@psa.com</td><td>Criou Análise</td><td>Backup Dados</td><td>Sucesso</td><td>192.168.160.34</td></tr><tr><td>LOG000127</td><td>2025-10-05 21:12:23</td><td>ana.silva@psa.com</td><td>Logout</td><td>Sistema</td><td>Sucesso</td><td>192.168.233.136</td></tr><tr><td>LOG000128</td><td>2025-08-30 21:12:20</td><td>ana.silva@psa.com</td><td>Criou Análise</td><td>Backup Dados</td><td>Falha</td><td>192.168.142.60</td></tr><tr><td>LOG000129</td><td>2025-10-13 05:55:51</td><td>pedro.henrique@psa.com</td><td>Gerou Dashboard</td><td>Projeto PROJ0023</td><td>Sucesso</td><td>192.168.220.224</td></tr><tr><td>LOG000130</td><td>2025-09-11 00:58:51</td><td>mariana.costa@psa.com</td><td>Criou Análise</td><td>API Externa</td><td>Sucesso</td><td>192.168.136.42</td></tr><tr><td>LOG000131</td><td>2025-09-17 06:16:36</td><td>juliana.oliveira@psa.com</td><td>Importou Dados</td><td>Relatório REL-2024-045</td><td>Sucesso</td><td>192.168.254.215</td></tr><tr><td>LOG000132</td><td>2025-08-14 00:15:03</td><td>mariana.costa@psa.com</td><td>Criou Análise</td><td>Análise ANLS00234</td><td>Sucesso</td><td>192.168.76.80</td></tr><tr><td>LOG000133</td><td>2025-10-16 06:55:35</td><td>pedro.henrique@psa.com</td><td>Atualizou Cliente</td><td>Dashboard Analytics</td><td>Pendente</td><td>192.168.150.207</td></tr><tr><td>LOG000134</td><td>2025-10-01 21:10:30</td><td>juliana.oliveira@psa.com</td><td>Enviou Relatório</td><td>Dashboard Analytics</td><td>Falha</td><td>192.168.195.202</td></tr><tr><td>LOG000135</td><td>2025-10-10 04:47:47</td><td>mariana.costa@psa.com</td><td>Compartilhou Arquivo</td><td>Sistema</td><td>Sucesso</td><td>192.168.57.183</td></tr><tr><td>LOG000136</td><td>2025-08-15 02:03:52</td><td>roberto.ferreira@psa.com</td><td>Enviou Relatório</td><td>Projeto PROJ0023</td><td>Sucesso</td><td>192.168.74.246</td></tr><tr><td>LOG000137</td><td>2025-09-19 23:30:47</td><td>juliana.oliveira@psa.com</td><td>Criou Análise</td><td>Sistema</td><td>Sucesso</td><td>192.168.162.154</td></tr><tr><td>LOG000138</td><td>2025-07-29 04:18:54</td><td>carlos.santos@psa.com</td><td>Login</td><td>Documento DOC-789</td><td>Sucesso</td><td>192.168.117.207</td></tr><tr><td>LOG000139</td><td>2025-07-30 04:28:15</td><td>carlos.santos@psa.com</td><td>Criou Análise</td><td>Dashboard Analytics</td><td>Sucesso</td><td>192.168.21.116</td></tr><tr><td>LOG000140</td><td>2025-07-27 22:43:18</td><td>pedro.henrique@psa.com</td><td>Criou Análise</td><td>Análise ANLS00234</td><td>Falha</td><td>192.168.130.146</td></tr><tr><td>LOG000141</td><td>2025-08-26 03:16:32</td><td>juliana.oliveira@psa.com</td><td>Compartilhou Arquivo</td><td>Backup Dados</td><td>Pendente</td><td>192.168.4.228</td></tr><tr><td>LOG000142</td><td>2025-07-26 02:43:56</td><td>carlos.santos@psa.com</td><td>Login</td><td>Documento DOC-789</td><td>Sucesso</td><td>192.168.52.130</td></tr><tr><td>LOG000143</td><td>2025-08-13 01:01:19</td><td>carlos.santos@psa.com</td><td>Exportou Dados</td><td>Integração BigQuery</td><td>Sucesso</td><td>192.168.5.117</td></tr><tr><td>LOG000144</td><td>2025-08-04 21:20:18</td><td>mariana.costa@psa.com</td><td>Enviou Relatório</td><td>Backup Dados</td><td>Falha</td><td>192.168.156.183</td></tr><tr><td>LOG000145</td><td>2025-08-05 22:14:20</td><td>ana.silva@psa.com</td><td>Criou Análise</td><td>Documento DOC-789</td><td>Sucesso</td><td>192.168.187.250</td></tr><tr><td>LOG000146</td><td>2025-10-12 03:35:27</td><td>roberto.ferreira@psa.com</td><td>Atualizou Cliente</td><td>Cliente CLI0015</td><td>Pendente</td><td>192.168.117.12</td></tr><tr><td>LOG000147</td><td>2025-10-06 05:24:13</td><td>mariana.costa@psa.com</td><td>Compartilhou Arquivo</td><td>Documento DOC-789</td><td>Sucesso</td><td>192.168.234.180</td></tr><tr><td>LOG000148</td><td>2025-08-27 00:06:32</td><td>juliana.oliveira@psa.com</td><td>Atualizou Projeto</td><td>Documento DOC-789</td><td>Sucesso</td><td>192.168.22.190</td></tr><tr><td>LOG000149</td><td>2025-09-09 07:58:59</td><td>mariana.costa@psa.com</td><td>Compartilhou Arquivo</td><td>Projeto PROJ0023</td><td>Sucesso</td><td>192.168.240.129</td></tr><tr><td>LOG000150</td><td>2025-07-31 07:47:13</td><td>carlos.santos@psa.com</td><td>Login</td><td>Análise ANLS00234</td><td>Sucesso</td><td>192.168.82.39</td></tr></tbody></table></div>"
      ]
     },
     "metadata": {
      "application/vnd.databricks.v1+output": {
       "addedWidgets": {},
       "aggData": [],
       "aggError": "",
       "aggOverflow": false,
       "aggSchema": [],
       "aggSeriesLimitReached": false,
       "aggType": "",
       "arguments": {},
       "columnCustomDisplayInfos": {},
       "data": [
        [
         "LOG000001",
         "2025-09-04 21:44:47",
         "mariana.costa@psa.com",
         "Logout",
         "Análise ANLS00234",
         "Sucesso",
         "192.168.149.214"
        ],
        [
         "LOG000002",
         "2025-08-05 05:58:51",
         "carlos.santos@psa.com",
         "Baixou Documento",
         "Backup Dados",
         "Falha",
         "192.168.21.220"
        ],
        [
         "LOG000003",
         "2025-08-25 00:21:14",
         "roberto.ferreira@psa.com",
         "Deletou Projeto",
         "Integração BigQuery",
         "Pendente",
         "192.168.209.54"
        ],
        [
         "LOG000004",
         "2025-09-07 03:58:25",
         "juliana.oliveira@psa.com",
         "Login",
         "Relatório REL-2024-045",
         "Sucesso",
         "192.168.231.118"
        ],
        [
         "LOG000005",
         "2025-09-19 05:52:19",
         "ana.silva@psa.com",
         "Atualizou Projeto",
         "API Externa",
         "Pendente",
         "192.168.193.207"
        ],
        [
         "LOG000006",
         "2025-09-07 04:37:48",
         "roberto.ferreira@psa.com",
         "Deletou Projeto",
         "API Externa",
         "Sucesso",
         "192.168.228.83"
        ],
        [
         "LOG000007",
         "2025-09-12 03:47:00",
         "pedro.henrique@psa.com",
         "Gerou Dashboard",
         "Dashboard Analytics",
         "Falha",
         "192.168.154.242"
        ],
        [
         "LOG000008",
         "2025-10-10 23:50:59",
         "ana.silva@psa.com",
         "Exportou Dados",
         "Backup Dados",
         "Sucesso",
         "192.168.111.177"
        ],
        [
         "LOG000009",
         "2025-09-25 04:57:44",
         "pedro.henrique@psa.com",
         "Enviou Relatório",
         "Sistema",
         "Sucesso",
         "192.168.113.155"
        ],
        [
         "LOG000010",
         "2025-10-06 07:57:18",
         "roberto.ferreira@psa.com",
         "Atualizou Projeto",
         "Relatório REL-2024-045",
         "Sucesso",
         "192.168.71.189"
        ],
        [
         "LOG000011",
         "2025-07-25 03:28:48",
         "carlos.santos@psa.com",
         "Criou Análise",
         "Backup Dados",
         "Sucesso",
         "192.168.247.75"
        ],
        [
         "LOG000012",
         "2025-10-02 00:13:21",
         "ana.silva@psa.com",
         "Baixou Documento",
         "Análise ANLS00234",
         "Pendente",
         "192.168.64.82"
        ],
        [
         "LOG000013",
         "2025-09-23 00:23:03",
         "mariana.costa@psa.com",
         "Deletou Projeto",
         "Relatório REL-2024-045",
         "Pendente",
         "192.168.208.8"
        ],
        [
         "LOG000014",
         "2025-09-15 00:02:06",
         "ana.silva@psa.com",
         "Atualizou Projeto",
         "Documento DOC-789",
         "Falha",
         "192.168.108.214"
        ],
        [
         "LOG000015",
         "2025-10-12 06:42:59",
         "roberto.ferreira@psa.com",
         "Criou Projeto",
         "API Externa",
         "Falha",
         "192.168.235.144"
        ],
        [
         "LOG000016",
         "2025-09-27 07:26:07",
         "roberto.ferreira@psa.com",
         "Compartilhou Arquivo",
         "Integração BigQuery",
         "Sucesso",
         "192.168.174.227"
        ],
        [
         "LOG000017",
         "2025-07-29 22:59:01",
         "ana.silva@psa.com",
         "Criou Análise",
         "API Externa",
         "Pendente",
         "192.168.63.90"
        ],
        [
         "LOG000018",
         "2025-09-21 06:45:15",
         "mariana.costa@psa.com",
         "Enviou Relatório",
         "Integração BigQuery",
         "Sucesso",
         "192.168.139.247"
        ],
        [
         "LOG000019",
         "2025-10-04 07:06:36",
         "carlos.santos@psa.com",
         "Enviou Relatório",
         "Documento DOC-789",
         "Sucesso",
         "192.168.255.141"
        ],
        [
         "LOG000020",
         "2025-08-31 02:59:31",
         "carlos.santos@psa.com",
         "Compartilhou Arquivo",
         "Documento DOC-789",
         "Pendente",
         "192.168.48.146"
        ],
        [
         "LOG000021",
         "2025-07-27 00:56:57",
         "ana.silva@psa.com",
         "Compartilhou Arquivo",
         "Backup Dados",
         "Sucesso",
         "192.168.205.194"
        ],
        [
         "LOG000022",
         "2025-10-13 05:28:14",
         "juliana.oliveira@psa.com",
         "Enviou Relatório",
         "API Externa",
         "Sucesso",
         "192.168.216.169"
        ],
        [
         "LOG000023",
         "2025-09-20 06:29:45",
         "pedro.henrique@psa.com",
         "Compartilhou Arquivo",
         "Projeto PROJ0023",
         "Falha",
         "192.168.10.210"
        ],
        [
         "LOG000024",
         "2025-10-02 01:16:59",
         "mariana.costa@psa.com",
         "Importou Dados",
         "Sistema",
         "Pendente",
         "192.168.138.19"
        ],
        [
         "LOG000025",
         "2025-07-30 02:40:37",
         "pedro.henrique@psa.com",
         "Logout",
         "Integração BigQuery",
         "Sucesso",
         "192.168.228.155"
        ],
        [
         "LOG000026",
         "2025-10-03 21:09:32",
         "carlos.santos@psa.com",
         "Importou Dados",
         "API Externa",
         "Sucesso",
         "192.168.92.161"
        ],
        [
         "LOG000027",
         "2025-09-11 04:42:37",
         "ana.silva@psa.com",
         "Criou Projeto",
         "Relatório REL-2024-045",
         "Sucesso",
         "192.168.80.117"
        ],
        [
         "LOG000028",
         "2025-08-03 05:10:38",
         "juliana.oliveira@psa.com",
         "Gerou Dashboard",
         "Cliente CLI0015",
         "Sucesso",
         "192.168.76.231"
        ],
        [
         "LOG000029",
         "2025-10-08 23:12:02",
         "ana.silva@psa.com",
         "Enviou Relatório",
         "Dashboard Analytics",
         "Pendente",
         "192.168.130.197"
        ],
        [
         "LOG000030",
         "2025-09-18 00:21:28",
         "juliana.oliveira@psa.com",
         "Baixou Documento",
         "Backup Dados",
         "Sucesso",
         "192.168.239.28"
        ],
        [
         "LOG000031",
         "2025-08-21 06:07:30",
         "pedro.henrique@psa.com",
         "Baixou Documento",
         "Documento DOC-789",
         "Pendente",
         "192.168.133.246"
        ],
        [
         "LOG000032",
         "2025-09-02 01:54:24",
         "carlos.santos@psa.com",
         "Gerou Dashboard",
         "Sistema",
         "Falha",
         "192.168.175.165"
        ],
        [
         "LOG000033",
         "2025-09-17 23:08:31",
         "carlos.santos@psa.com",
         "Gerou Dashboard",
         "Sistema",
         "Sucesso",
         "192.168.103.64"
        ],
        [
         "LOG000034",
         "2025-07-29 22:04:43",
         "carlos.santos@psa.com",
         "Logout",
         "API Externa",
         "Sucesso",
         "192.168.187.252"
        ],
        [
         "LOG000035",
         "2025-10-15 04:13:10",
         "roberto.ferreira@psa.com",
         "Compartilhou Arquivo",
         "Integração BigQuery",
         "Sucesso",
         "192.168.3.163"
        ],
        [
         "LOG000036",
         "2025-08-05 06:12:41",
         "roberto.ferreira@psa.com",
         "Criou Análise",
         "Sistema",
         "Sucesso",
         "192.168.30.188"
        ],
        [
         "LOG000037",
         "2025-07-24 22:29:10",
         "mariana.costa@psa.com",
         "Atualizou Projeto",
         "Cliente CLI0015",
         "Falha",
         "192.168.89.164"
        ],
        [
         "LOG000038",
         "2025-10-09 03:15:28",
         "pedro.henrique@psa.com",
         "Atualizou Cliente",
         "API Externa",
         "Pendente",
         "192.168.163.140"
        ],
        [
         "LOG000039",
         "2025-09-14 01:10:37",
         "mariana.costa@psa.com",
         "Deletou Projeto",
         "Análise ANLS00234",
         "Sucesso",
         "192.168.113.138"
        ],
        [
         "LOG000040",
         "2025-10-04 00:31:09",
         "carlos.santos@psa.com",
         "Exportou Dados",
         "Cliente CLI0015",
         "Falha",
         "192.168.19.51"
        ],
        [
         "LOG000041",
         "2025-10-05 03:50:33",
         "roberto.ferreira@psa.com",
         "Compartilhou Arquivo",
         "API Externa",
         "Sucesso",
         "192.168.41.68"
        ],
        [
         "LOG000042",
         "2025-08-16 07:08:49",
         "ana.silva@psa.com",
         "Logout",
         "Integração BigQuery",
         "Pendente",
         "192.168.51.5"
        ],
        [
         "LOG000043",
         "2025-09-01 00:27:22",
         "mariana.costa@psa.com",
         "Deletou Projeto",
         "Integração BigQuery",
         "Pendente",
         "192.168.43.91"
        ],
        [
         "LOG000044",
         "2025-10-11 03:29:02",
         "ana.silva@psa.com",
         "Exportou Dados",
         "Backup Dados",
         "Sucesso",
         "192.168.154.143"
        ],
        [
         "LOG000045",
         "2025-09-10 01:59:48",
         "juliana.oliveira@psa.com",
         "Logout",
         "Projeto PROJ0023",
         "Sucesso",
         "192.168.17.218"
        ],
        [
         "LOG000046",
         "2025-08-09 23:19:05",
         "roberto.ferreira@psa.com",
         "Criou Análise",
         "Projeto PROJ0023",
         "Falha",
         "192.168.247.187"
        ],
        [
         "LOG000047",
         "2025-07-26 07:26:49",
         "juliana.oliveira@psa.com",
         "Importou Dados",
         "Relatório REL-2024-045",
         "Falha",
         "192.168.158.228"
        ],
        [
         "LOG000048",
         "2025-09-12 02:51:55",
         "pedro.henrique@psa.com",
         "Compartilhou Arquivo",
         "Projeto PROJ0023",
         "Sucesso",
         "192.168.243.32"
        ],
        [
         "LOG000049",
         "2025-08-07 23:24:39",
         "juliana.oliveira@psa.com",
         "Importou Dados",
         "Backup Dados",
         "Sucesso",
         "192.168.220.72"
        ],
        [
         "LOG000050",
         "2025-07-29 03:37:27",
         "ana.silva@psa.com",
         "Deletou Projeto",
         "API Externa",
         "Sucesso",
         "192.168.204.225"
        ],
        [
         "LOG000051",
         "2025-07-27 00:22:42",
         "mariana.costa@psa.com",
         "Enviou Relatório",
         "Projeto PROJ0023",
         "Sucesso",
         "192.168.44.5"
        ],
        [
         "LOG000052",
         "2025-09-22 21:26:09",
         "carlos.santos@psa.com",
         "Gerou Dashboard",
         "API Externa",
         "Sucesso",
         "192.168.35.200"
        ],
        [
         "LOG000053",
         "2025-09-12 22:05:10",
         "ana.silva@psa.com",
         "Criou Projeto",
         "Análise ANLS00234",
         "Sucesso",
         "192.168.74.86"
        ],
        [
         "LOG000054",
         "2025-08-29 00:53:58",
         "mariana.costa@psa.com",
         "Importou Dados",
         "Dashboard Analytics",
         "Sucesso",
         "192.168.205.254"
        ],
        [
         "LOG000055",
         "2025-08-05 03:29:42",
         "ana.silva@psa.com",
         "Gerou Dashboard",
         "Backup Dados",
         "Sucesso",
         "192.168.185.15"
        ],
        [
         "LOG000056",
         "2025-08-10 06:02:28",
         "juliana.oliveira@psa.com",
         "Login",
         "Relatório REL-2024-045",
         "Sucesso",
         "192.168.146.86"
        ],
        [
         "LOG000057",
         "2025-07-27 02:45:27",
         "pedro.henrique@psa.com",
         "Atualizou Cliente",
         "Análise ANLS00234",
         "Sucesso",
         "192.168.115.23"
        ],
        [
         "LOG000058",
         "2025-09-29 01:40:06",
         "carlos.santos@psa.com",
         "Baixou Documento",
         "Integração BigQuery",
         "Sucesso",
         "192.168.41.17"
        ],
        [
         "LOG000059",
         "2025-08-14 23:57:09",
         "mariana.costa@psa.com",
         "Enviou Relatório",
         "Relatório REL-2024-045",
         "Falha",
         "192.168.65.186"
        ],
        [
         "LOG000060",
         "2025-09-01 21:45:56",
         "ana.silva@psa.com",
         "Criou Análise",
         "Sistema",
         "Sucesso",
         "192.168.131.43"
        ],
        [
         "LOG000061",
         "2025-10-17 07:31:14",
         "ana.silva@psa.com",
         "Baixou Documento",
         "Sistema",
         "Sucesso",
         "192.168.102.136"
        ],
        [
         "LOG000062",
         "2025-08-04 05:05:43",
         "roberto.ferreira@psa.com",
         "Logout",
         "Backup Dados",
         "Sucesso",
         "192.168.198.99"
        ],
        [
         "LOG000063",
         "2025-08-08 23:34:37",
         "ana.silva@psa.com",
         "Importou Dados",
         "Dashboard Analytics",
         "Falha",
         "192.168.80.1"
        ],
        [
         "LOG000064",
         "2025-08-18 04:39:17",
         "ana.silva@psa.com",
         "Exportou Dados",
         "API Externa",
         "Sucesso",
         "192.168.37.133"
        ],
        [
         "LOG000065",
         "2025-10-16 04:26:53",
         "mariana.costa@psa.com",
         "Importou Dados",
         "Cliente CLI0015",
         "Sucesso",
         "192.168.182.24"
        ],
        [
         "LOG000066",
         "2025-09-27 00:12:36",
         "juliana.oliveira@psa.com",
         "Baixou Documento",
         "Documento DOC-789",
         "Sucesso",
         "192.168.207.131"
        ],
        [
         "LOG000067",
         "2025-09-08 21:19:11",
         "ana.silva@psa.com",
         "Deletou Projeto",
         "Cliente CLI0015",
         "Sucesso",
         "192.168.34.108"
        ],
        [
         "LOG000068",
         "2025-10-23 07:53:43",
         "ana.silva@psa.com",
         "Gerou Dashboard",
         "Documento DOC-789",
         "Pendente",
         "192.168.158.32"
        ],
        [
         "LOG000069",
         "2025-10-03 00:27:33",
         "mariana.costa@psa.com",
         "Atualizou Cliente",
         "Projeto PROJ0023",
         "Sucesso",
         "192.168.205.86"
        ],
        [
         "LOG000070",
         "2025-10-10 00:21:08",
         "mariana.costa@psa.com",
         "Logout",
         "Sistema",
         "Sucesso",
         "192.168.124.209"
        ],
        [
         "LOG000071",
         "2025-10-08 23:43:53",
         "roberto.ferreira@psa.com",
         "Criou Projeto",
         "Backup Dados",
         "Sucesso",
         "192.168.114.80"
        ],
        [
         "LOG000072",
         "2025-08-14 02:17:23",
         "pedro.henrique@psa.com",
         "Enviou Relatório",
         "Projeto PROJ0023",
         "Pendente",
         "192.168.98.211"
        ],
        [
         "LOG000073",
         "2025-10-04 07:03:18",
         "roberto.ferreira@psa.com",
         "Exportou Dados",
         "Cliente CLI0015",
         "Sucesso",
         "192.168.53.162"
        ],
        [
         "LOG000074",
         "2025-08-17 04:07:26",
         "juliana.oliveira@psa.com",
         "Enviou Relatório",
         "Documento DOC-789",
         "Falha",
         "192.168.190.139"
        ],
        [
         "LOG000075",
         "2025-08-30 22:49:47",
         "ana.silva@psa.com",
         "Importou Dados",
         "Documento DOC-789",
         "Sucesso",
         "192.168.242.156"
        ],
        [
         "LOG000076",
         "2025-09-11 07:43:47",
         "juliana.oliveira@psa.com",
         "Exportou Dados",
         "Integração BigQuery",
         "Falha",
         "192.168.131.158"
        ],
        [
         "LOG000077",
         "2025-10-05 01:58:15",
         "mariana.costa@psa.com",
         "Atualizou Cliente",
         "Projeto PROJ0023",
         "Sucesso",
         "192.168.255.162"
        ],
        [
         "LOG000078",
         "2025-09-12 06:07:57",
         "mariana.costa@psa.com",
         "Importou Dados",
         "Dashboard Analytics",
         "Sucesso",
         "192.168.60.229"
        ],
        [
         "LOG000079",
         "2025-10-08 23:59:29",
         "pedro.henrique@psa.com",
         "Compartilhou Arquivo",
         "Relatório REL-2024-045",
         "Sucesso",
         "192.168.205.84"
        ],
        [
         "LOG000080",
         "2025-10-08 03:26:26",
         "ana.silva@psa.com",
         "Login",
         "API Externa",
         "Sucesso",
         "192.168.225.1"
        ],
        [
         "LOG000081",
         "2025-10-15 08:01:12",
         "carlos.santos@psa.com",
         "Criou Análise",
         "Dashboard Analytics",
         "Falha",
         "192.168.50.106"
        ],
        [
         "LOG000082",
         "2025-08-14 23:40:32",
         "pedro.henrique@psa.com",
         "Criou Projeto",
         "Relatório REL-2024-045",
         "Sucesso",
         "192.168.48.237"
        ],
        [
         "LOG000083",
         "2025-09-23 00:10:22",
         "juliana.oliveira@psa.com",
         "Gerou Dashboard",
         "Projeto PROJ0023",
         "Sucesso",
         "192.168.221.223"
        ],
        [
         "LOG000084",
         "2025-08-02 07:12:00",
         "ana.silva@psa.com",
         "Importou Dados",
         "Sistema",
         "Sucesso",
         "192.168.95.181"
        ],
        [
         "LOG000085",
         "2025-09-21 03:52:00",
         "juliana.oliveira@psa.com",
         "Atualizou Cliente",
         "Sistema",
         "Sucesso",
         "192.168.22.250"
        ],
        [
         "LOG000086",
         "2025-09-29 00:16:21",
         "pedro.henrique@psa.com",
         "Gerou Dashboard",
         "Cliente CLI0015",
         "Falha",
         "192.168.66.107"
        ],
        [
         "LOG000087",
         "2025-07-31 03:52:41",
         "mariana.costa@psa.com",
         "Compartilhou Arquivo",
         "API Externa",
         "Falha",
         "192.168.105.142"
        ],
        [
         "LOG000088",
         "2025-10-20 21:22:22",
         "juliana.oliveira@psa.com",
         "Atualizou Cliente",
         "Dashboard Analytics",
         "Sucesso",
         "192.168.242.27"
        ],
        [
         "LOG000089",
         "2025-08-07 01:33:29",
         "pedro.henrique@psa.com",
         "Deletou Projeto",
         "Análise ANLS00234",
         "Sucesso",
         "192.168.166.131"
        ],
        [
         "LOG000090",
         "2025-10-06 06:07:09",
         "juliana.oliveira@psa.com",
         "Deletou Projeto",
         "Análise ANLS00234",
         "Falha",
         "192.168.48.148"
        ],
        [
         "LOG000091",
         "2025-09-22 03:48:55",
         "juliana.oliveira@psa.com",
         "Atualizou Projeto",
         "API Externa",
         "Sucesso",
         "192.168.65.89"
        ],
        [
         "LOG000092",
         "2025-08-09 23:45:47",
         "ana.silva@psa.com",
         "Atualizou Cliente",
         "Integração BigQuery",
         "Pendente",
         "192.168.85.9"
        ],
        [
         "LOG000093",
         "2025-10-12 05:40:10",
         "ana.silva@psa.com",
         "Deletou Projeto",
         "API Externa",
         "Falha",
         "192.168.150.216"
        ],
        [
         "LOG000094",
         "2025-07-30 06:45:39",
         "juliana.oliveira@psa.com",
         "Baixou Documento",
         "Backup Dados",
         "Sucesso",
         "192.168.103.117"
        ],
        [
         "LOG000095",
         "2025-08-25 05:40:13",
         "roberto.ferreira@psa.com",
         "Criou Projeto",
         "Backup Dados",
         "Sucesso",
         "192.168.35.3"
        ],
        [
         "LOG000096",
         "2025-09-14 03:05:27",
         "carlos.santos@psa.com",
         "Compartilhou Arquivo",
         "Análise ANLS00234",
         "Pendente",
         "192.168.228.82"
        ],
        [
         "LOG000097",
         "2025-07-25 02:48:42",
         "roberto.ferreira@psa.com",
         "Gerou Dashboard",
         "Cliente CLI0015",
         "Sucesso",
         "192.168.53.235"
        ],
        [
         "LOG000098",
         "2025-08-06 04:41:09",
         "juliana.oliveira@psa.com",
         "Atualizou Cliente",
         "Integração BigQuery",
         "Sucesso",
         "192.168.114.55"
        ],
        [
         "LOG000099",
         "2025-08-07 06:09:26",
         "mariana.costa@psa.com",
         "Compartilhou Arquivo",
         "Cliente CLI0015",
         "Falha",
         "192.168.239.217"
        ],
        [
         "LOG000100",
         "2025-09-19 07:47:28",
         "juliana.oliveira@psa.com",
         "Compartilhou Arquivo",
         "Documento DOC-789",
         "Sucesso",
         "192.168.112.126"
        ],
        [
         "LOG000101",
         "2025-10-17 02:46:20",
         "mariana.costa@psa.com",
         "Criou Projeto",
         "Backup Dados",
         "Sucesso",
         "192.168.48.88"
        ],
        [
         "LOG000102",
         "2025-08-01 06:53:30",
         "ana.silva@psa.com",
         "Criou Projeto",
         "Relatório REL-2024-045",
         "Sucesso",
         "192.168.81.66"
        ],
        [
         "LOG000103",
         "2025-10-09 07:50:13",
         "juliana.oliveira@psa.com",
         "Importou Dados",
         "API Externa",
         "Falha",
         "192.168.201.136"
        ],
        [
         "LOG000104",
         "2025-10-23 05:58:33",
         "pedro.henrique@psa.com",
         "Atualizou Projeto",
         "Sistema",
         "Sucesso",
         "192.168.180.99"
        ],
        [
         "LOG000105",
         "2025-09-16 01:54:30",
         "juliana.oliveira@psa.com",
         "Atualizou Projeto",
         "Análise ANLS00234",
         "Pendente",
         "192.168.184.78"
        ],
        [
         "LOG000106",
         "2025-09-01 21:24:57",
         "mariana.costa@psa.com",
         "Deletou Projeto",
         "Projeto PROJ0023",
         "Sucesso",
         "192.168.31.110"
        ],
        [
         "LOG000107",
         "2025-09-04 05:58:48",
         "pedro.henrique@psa.com",
         "Compartilhou Arquivo",
         "Documento DOC-789",
         "Sucesso",
         "192.168.181.228"
        ],
        [
         "LOG000108",
         "2025-10-12 00:45:55",
         "carlos.santos@psa.com",
         "Criou Análise",
         "Integração BigQuery",
         "Sucesso",
         "192.168.109.58"
        ],
        [
         "LOG000109",
         "2025-09-19 04:57:14",
         "carlos.santos@psa.com",
         "Criou Projeto",
         "API Externa",
         "Sucesso",
         "192.168.253.138"
        ],
        [
         "LOG000110",
         "2025-08-21 02:58:06",
         "juliana.oliveira@psa.com",
         "Exportou Dados",
         "Documento DOC-789",
         "Sucesso",
         "192.168.53.215"
        ],
        [
         "LOG000111",
         "2025-08-17 03:05:59",
         "ana.silva@psa.com",
         "Login",
         "Relatório REL-2024-045",
         "Sucesso",
         "192.168.191.149"
        ],
        [
         "LOG000112",
         "2025-10-23 02:13:35",
         "juliana.oliveira@psa.com",
         "Exportou Dados",
         "Relatório REL-2024-045",
         "Sucesso",
         "192.168.198.241"
        ],
        [
         "LOG000113",
         "2025-08-31 07:26:51",
         "pedro.henrique@psa.com",
         "Criou Análise",
         "Projeto PROJ0023",
         "Pendente",
         "192.168.116.109"
        ],
        [
         "LOG000114",
         "2025-09-18 02:25:28",
         "ana.silva@psa.com",
         "Criou Projeto",
         "Documento DOC-789",
         "Sucesso",
         "192.168.50.245"
        ],
        [
         "LOG000115",
         "2025-09-10 01:31:25",
         "mariana.costa@psa.com",
         "Atualizou Projeto",
         "Dashboard Analytics",
         "Sucesso",
         "192.168.231.161"
        ],
        [
         "LOG000116",
         "2025-09-03 07:29:42",
         "carlos.santos@psa.com",
         "Criou Análise",
         "Integração BigQuery",
         "Falha",
         "192.168.189.70"
        ],
        [
         "LOG000117",
         "2025-09-17 00:57:32",
         "mariana.costa@psa.com",
         "Gerou Dashboard",
         "Backup Dados",
         "Falha",
         "192.168.124.176"
        ],
        [
         "LOG000118",
         "2025-09-15 02:59:34",
         "juliana.oliveira@psa.com",
         "Enviou Relatório",
         "Sistema",
         "Sucesso",
         "192.168.33.232"
        ],
        [
         "LOG000119",
         "2025-09-22 05:02:19",
         "ana.silva@psa.com",
         "Gerou Dashboard",
         "Dashboard Analytics",
         "Sucesso",
         "192.168.60.184"
        ],
        [
         "LOG000120",
         "2025-08-26 00:14:07",
         "mariana.costa@psa.com",
         "Login",
         "Cliente CLI0015",
         "Sucesso",
         "192.168.204.176"
        ],
        [
         "LOG000121",
         "2025-09-15 01:26:16",
         "pedro.henrique@psa.com",
         "Criou Análise",
         "Relatório REL-2024-045",
         "Pendente",
         "192.168.98.115"
        ],
        [
         "LOG000122",
         "2025-08-05 06:58:19",
         "ana.silva@psa.com",
         "Importou Dados",
         "Documento DOC-789",
         "Pendente",
         "192.168.218.228"
        ],
        [
         "LOG000123",
         "2025-08-04 22:13:41",
         "ana.silva@psa.com",
         "Baixou Documento",
         "API Externa",
         "Falha",
         "192.168.186.42"
        ],
        [
         "LOG000124",
         "2025-09-17 02:11:22",
         "ana.silva@psa.com",
         "Compartilhou Arquivo",
         "Projeto PROJ0023",
         "Sucesso",
         "192.168.49.45"
        ],
        [
         "LOG000125",
         "2025-08-08 01:04:52",
         "roberto.ferreira@psa.com",
         "Exportou Dados",
         "Projeto PROJ0023",
         "Falha",
         "192.168.13.197"
        ],
        [
         "LOG000126",
         "2025-08-27 03:38:00",
         "juliana.oliveira@psa.com",
         "Criou Análise",
         "Backup Dados",
         "Sucesso",
         "192.168.160.34"
        ],
        [
         "LOG000127",
         "2025-10-05 21:12:23",
         "ana.silva@psa.com",
         "Logout",
         "Sistema",
         "Sucesso",
         "192.168.233.136"
        ],
        [
         "LOG000128",
         "2025-08-30 21:12:20",
         "ana.silva@psa.com",
         "Criou Análise",
         "Backup Dados",
         "Falha",
         "192.168.142.60"
        ],
        [
         "LOG000129",
         "2025-10-13 05:55:51",
         "pedro.henrique@psa.com",
         "Gerou Dashboard",
         "Projeto PROJ0023",
         "Sucesso",
         "192.168.220.224"
        ],
        [
         "LOG000130",
         "2025-09-11 00:58:51",
         "mariana.costa@psa.com",
         "Criou Análise",
         "API Externa",
         "Sucesso",
         "192.168.136.42"
        ],
        [
         "LOG000131",
         "2025-09-17 06:16:36",
         "juliana.oliveira@psa.com",
         "Importou Dados",
         "Relatório REL-2024-045",
         "Sucesso",
         "192.168.254.215"
        ],
        [
         "LOG000132",
         "2025-08-14 00:15:03",
         "mariana.costa@psa.com",
         "Criou Análise",
         "Análise ANLS00234",
         "Sucesso",
         "192.168.76.80"
        ],
        [
         "LOG000133",
         "2025-10-16 06:55:35",
         "pedro.henrique@psa.com",
         "Atualizou Cliente",
         "Dashboard Analytics",
         "Pendente",
         "192.168.150.207"
        ],
        [
         "LOG000134",
         "2025-10-01 21:10:30",
         "juliana.oliveira@psa.com",
         "Enviou Relatório",
         "Dashboard Analytics",
         "Falha",
         "192.168.195.202"
        ],
        [
         "LOG000135",
         "2025-10-10 04:47:47",
         "mariana.costa@psa.com",
         "Compartilhou Arquivo",
         "Sistema",
         "Sucesso",
         "192.168.57.183"
        ],
        [
         "LOG000136",
         "2025-08-15 02:03:52",
         "roberto.ferreira@psa.com",
         "Enviou Relatório",
         "Projeto PROJ0023",
         "Sucesso",
         "192.168.74.246"
        ],
        [
         "LOG000137",
         "2025-09-19 23:30:47",
         "juliana.oliveira@psa.com",
         "Criou Análise",
         "Sistema",
         "Sucesso",
         "192.168.162.154"
        ],
        [
         "LOG000138",
         "2025-07-29 04:18:54",
         "carlos.santos@psa.com",
         "Login",
         "Documento DOC-789",
         "Sucesso",
         "192.168.117.207"
        ],
        [
         "LOG000139",
         "2025-07-30 04:28:15",
         "carlos.santos@psa.com",
         "Criou Análise",
         "Dashboard Analytics",
         "Sucesso",
         "192.168.21.116"
        ],
        [
         "LOG000140",
         "2025-07-27 22:43:18",
         "pedro.henrique@psa.com",
         "Criou Análise",
         "Análise ANLS00234",
         "Falha",
         "192.168.130.146"
        ],
        [
         "LOG000141",
         "2025-08-26 03:16:32",
         "juliana.oliveira@psa.com",
         "Compartilhou Arquivo",
         "Backup Dados",
         "Pendente",
         "192.168.4.228"
        ],
        [
         "LOG000142",
         "2025-07-26 02:43:56",
         "carlos.santos@psa.com",
         "Login",
         "Documento DOC-789",
         "Sucesso",
         "192.168.52.130"
        ],
        [
         "LOG000143",
         "2025-08-13 01:01:19",
         "carlos.santos@psa.com",
         "Exportou Dados",
         "Integração BigQuery",
         "Sucesso",
         "192.168.5.117"
        ],
        [
         "LOG000144",
         "2025-08-04 21:20:18",
         "mariana.costa@psa.com",
         "Enviou Relatório",
         "Backup Dados",
         "Falha",
         "192.168.156.183"
        ],
        [
         "LOG000145",
         "2025-08-05 22:14:20",
         "ana.silva@psa.com",
         "Criou Análise",
         "Documento DOC-789",
         "Sucesso",
         "192.168.187.250"
        ],
        [
         "LOG000146",
         "2025-10-12 03:35:27",
         "roberto.ferreira@psa.com",
         "Atualizou Cliente",
         "Cliente CLI0015",
         "Pendente",
         "192.168.117.12"
        ],
        [
         "LOG000147",
         "2025-10-06 05:24:13",
         "mariana.costa@psa.com",
         "Compartilhou Arquivo",
         "Documento DOC-789",
         "Sucesso",
         "192.168.234.180"
        ],
        [
         "LOG000148",
         "2025-08-27 00:06:32",
         "juliana.oliveira@psa.com",
         "Atualizou Projeto",
         "Documento DOC-789",
         "Sucesso",
         "192.168.22.190"
        ],
        [
         "LOG000149",
         "2025-09-09 07:58:59",
         "mariana.costa@psa.com",
         "Compartilhou Arquivo",
         "Projeto PROJ0023",
         "Sucesso",
         "192.168.240.129"
        ],
        [
         "LOG000150",
         "2025-07-31 07:47:13",
         "carlos.santos@psa.com",
         "Login",
         "Análise ANLS00234",
         "Sucesso",
         "192.168.82.39"
        ]
       ],
       "datasetInfos": [],
       "dbfsResultPath": null,
       "isJsonSchema": true,
       "metadata": {},
       "overflow": false,
       "plotOptions": {
        "customPlotOptions": {},
        "displayType": "table",
        "pivotAggregation": null,
        "pivotColumns": null,
        "xColumns": null,
        "yColumns": null
       },
       "removedWidgets": [],
       "schema": [
        {
         "metadata": "{}",
         "name": "ID Log",
         "type": "\"string\""
        },
        {
         "metadata": "{}",
         "name": "Timestamp",
         "type": "\"string\""
        },
        {
         "metadata": "{}",
         "name": "Usuário",
         "type": "\"string\""
        },
        {
         "metadata": "{}",
         "name": "Ação",
         "type": "\"string\""
        },
        {
         "metadata": "{}",
         "name": "Entidade Afetada",
         "type": "\"string\""
        },
        {
         "metadata": "{}",
         "name": "Resultado",
         "type": "\"string\""
        },
        {
         "metadata": "{}",
         "name": "IP",
         "type": "\"string\""
        }
       ],
       "type": "table"
      }
     },
     "output_type": "display_data"
    }
   ],
   "source": [
    "import pandas as pd\n",
    "\n",
    "# Caminho do arquivo no volume\n",
    "path = \"/Volumes/psa/bronze/logs/logs_sistema.html\"\n",
    "\n",
    "# Ler a(s) tabela(s) HTML\n",
    "tables = pd.read_html(path)   # requer lxml instalado\n",
    "df_html = tables[0]           # pega a primeira tabela\n",
    "\n",
    "# Conferir dados\n",
    "display(df_html)\n"
   ]
  },
  {
   "cell_type": "code",
   "execution_count": 0,
   "metadata": {
    "application/vnd.databricks.v1+cell": {
     "cellMetadata": {
      "byteLimit": 2048000,
      "rowLimit": 10000
     },
     "inputWidgets": {},
     "nuid": "663a0dca-039d-4c08-a236-f7547fc24417",
     "showTitle": false,
     "tableResultSettingsMap": {},
     "title": ""
    }
   },
   "outputs": [
    {
     "output_type": "execute_result",
     "data": {
      "text/plain": [
       "DataFrame[]"
      ]
     },
     "execution_count": 32,
     "metadata": {},
     "output_type": "execute_result"
    }
   ],
   "source": [
    "# Converter pandas → Spark\n",
    "df = spark.createDataFrame(df_html)\n",
    "\n",
    "#tive que criar pois estava aparecendo schema not found\n",
    "\n",
    "spark.sql(\"create database if not exists bronze\")"
   ]
  },
  {
   "cell_type": "code",
   "execution_count": 0,
   "metadata": {
    "application/vnd.databricks.v1+cell": {
     "cellMetadata": {
      "byteLimit": 2048000,
      "rowLimit": 10000
     },
     "inputWidgets": {},
     "nuid": "8529b3fd-ed05-4eb0-af8a-fe3465345b9e",
     "showTitle": false,
     "tableResultSettingsMap": {},
     "title": ""
    }
   },
   "outputs": [
    {
     "output_type": "stream",
     "name": "stdout",
     "output_type": "stream",
     "text": [
      "✅ Nomes de colunas limpos: ['id_log', 'timestamp', 'usuario', 'acao', 'entidade_afetada', 'resultado', 'ip']\n"
     ]
    }
   ],
   "source": [
    "#tive que fazer no bronze pois não savava na tabela\n",
    "\n",
    "import unicodedata\n",
    "\n",
    "def limpar_nome(col):\n",
    "    col = ''.join(c for c in unicodedata.normalize('NFD', col)\n",
    "                  if unicodedata.category(c) != 'Mn')  # remove acentos\n",
    "    col = col.strip().replace(\" \", \"_\").lower()        # troca espaços por _\n",
    "    return col\n",
    "\n",
    "df = df.toDF(*[limpar_nome(c) for c in df.columns])\n",
    "\n",
    "print(\"✅ Nomes de colunas limpos:\", df.columns)"
   ]
  },
  {
   "cell_type": "code",
   "execution_count": 0,
   "metadata": {
    "application/vnd.databricks.v1+cell": {
     "cellMetadata": {
      "byteLimit": 2048000,
      "rowLimit": 10000
     },
     "inputWidgets": {},
     "nuid": "55377ac1-aaa5-4f3b-8627-35303bf3cb42",
     "showTitle": false,
     "tableResultSettingsMap": {},
     "title": ""
    }
   },
   "outputs": [
    {
     "output_type": "stream",
     "name": "stdout",
     "output_type": "stream",
     "text": [
      "✅ Dados gravados com sucesso em: psa.bronze.logs_sistema\n"
     ]
    }
   ],
   "source": [
    "catalog = \"psa\"   # catálogo do seu projeto\n",
    "database = \"bronze\"\n",
    "tabela = \"logs_sistema\"\n",
    "\n",
    "df.write \\\n",
    "    .format(\"delta\") \\\n",
    "    .mode(\"overwrite\") \\\n",
    "    .option(\"mergeSchema\", \"true\") \\\n",
    "    .option(\"overwriteSchema\", \"true\") \\\n",
    "    .saveAsTable(f\"{catalog}.{database}.{tabela}\")\n",
    "\n",
    "print(\"✅ Dados gravados com sucesso em:\", f\"{catalog}.{database}.{tabela}\")\n"
   ]
  },
  {
   "cell_type": "code",
   "execution_count": 0,
   "metadata": {
    "application/vnd.databricks.v1+cell": {
     "cellMetadata": {
      "byteLimit": 2048000,
      "implicitDf": true,
      "rowLimit": 10000
     },
     "inputWidgets": {},
     "nuid": "d1661a0f-c111-4c59-974d-0015253f30dd",
     "showTitle": false,
     "tableResultSettingsMap": {},
     "title": ""
    }
   },
   "outputs": [
    {
     "output_type": "display_data",
     "data": {
      "text/html": [
       "<style scoped>\n",
       "  .table-result-container {\n",
       "    max-height: 300px;\n",
       "    overflow: auto;\n",
       "  }\n",
       "  table, th, td {\n",
       "    border: 1px solid black;\n",
       "    border-collapse: collapse;\n",
       "  }\n",
       "  th, td {\n",
       "    padding: 5px;\n",
       "  }\n",
       "  th {\n",
       "    text-align: left;\n",
       "  }\n",
       "</style><div class='table-result-container'><table class='table-result'><thead style='background-color: white'><tr><th>format</th><th>id</th><th>name</th><th>description</th><th>location</th><th>createdAt</th><th>lastModified</th><th>partitionColumns</th><th>clusteringColumns</th><th>numFiles</th><th>sizeInBytes</th><th>properties</th><th>minReaderVersion</th><th>minWriterVersion</th><th>tableFeatures</th><th>statistics</th><th>clusterByAuto</th></tr></thead><tbody><tr><td>delta</td><td>a9432f6c-6074-462c-a31e-b60d33880e0b</td><td>psa.bronze.logs_sistema</td><td>null</td><td></td><td>2025-10-29T02:40:19.968Z</td><td>2025-10-29T02:40:22.000Z</td><td>List()</td><td>List()</td><td>1</td><td>4800</td><td>Map(delta.parquet.compression.codec -> zstd, delta.enableDeletionVectors -> true)</td><td>3</td><td>7</td><td>List(appendOnly, deletionVectors, invariants)</td><td>Map(numRowsDeletedByDeletionVectors -> 0, numDeletionVectors -> 0)</td><td>false</td></tr></tbody></table></div>"
      ]
     },
     "metadata": {
      "application/vnd.databricks.v1+output": {
       "addedWidgets": {},
       "aggData": [],
       "aggError": "",
       "aggOverflow": false,
       "aggSchema": [],
       "aggSeriesLimitReached": false,
       "aggType": "",
       "arguments": {},
       "columnCustomDisplayInfos": {},
       "data": [
        [
         "delta",
         "a9432f6c-6074-462c-a31e-b60d33880e0b",
         "psa.bronze.logs_sistema",
         null,
         "",
         "2025-10-29T02:40:19.968Z",
         "2025-10-29T02:40:22.000Z",
         [],
         [],
         1,
         4800,
         {
          "delta.enableDeletionVectors": "true",
          "delta.parquet.compression.codec": "zstd"
         },
         3,
         7,
         [
          "appendOnly",
          "deletionVectors",
          "invariants"
         ],
         {
          "numDeletionVectors": 0,
          "numRowsDeletedByDeletionVectors": 0
         },
         false
        ]
       ],
       "datasetInfos": [
        {
         "name": "_sqldf",
         "schema": {
          "fields": [
           {
            "metadata": {},
            "name": "format",
            "nullable": true,
            "type": "string"
           },
           {
            "metadata": {},
            "name": "id",
            "nullable": true,
            "type": "string"
           },
           {
            "metadata": {},
            "name": "name",
            "nullable": true,
            "type": "string"
           },
           {
            "metadata": {},
            "name": "description",
            "nullable": true,
            "type": "string"
           },
           {
            "metadata": {},
            "name": "location",
            "nullable": true,
            "type": "string"
           },
           {
            "metadata": {},
            "name": "createdAt",
            "nullable": true,
            "type": "timestamp"
           },
           {
            "metadata": {},
            "name": "lastModified",
            "nullable": true,
            "type": "timestamp"
           },
           {
            "metadata": {},
            "name": "partitionColumns",
            "nullable": true,
            "type": {
             "containsNull": true,
             "elementType": "string",
             "type": "array"
            }
           },
           {
            "metadata": {},
            "name": "clusteringColumns",
            "nullable": true,
            "type": {
             "containsNull": true,
             "elementType": "string",
             "type": "array"
            }
           },
           {
            "metadata": {},
            "name": "numFiles",
            "nullable": true,
            "type": "long"
           },
           {
            "metadata": {},
            "name": "sizeInBytes",
            "nullable": true,
            "type": "long"
           },
           {
            "metadata": {},
            "name": "properties",
            "nullable": true,
            "type": {
             "keyType": "string",
             "type": "map",
             "valueContainsNull": true,
             "valueType": "string"
            }
           },
           {
            "metadata": {},
            "name": "minReaderVersion",
            "nullable": true,
            "type": "integer"
           },
           {
            "metadata": {},
            "name": "minWriterVersion",
            "nullable": true,
            "type": "integer"
           },
           {
            "metadata": {},
            "name": "tableFeatures",
            "nullable": true,
            "type": {
             "containsNull": true,
             "elementType": "string",
             "type": "array"
            }
           },
           {
            "metadata": {},
            "name": "statistics",
            "nullable": true,
            "type": {
             "keyType": "string",
             "type": "map",
             "valueContainsNull": true,
             "valueType": "long"
            }
           },
           {
            "metadata": {},
            "name": "clusterByAuto",
            "nullable": false,
            "type": "boolean"
           }
          ],
          "type": "struct"
         },
         "tableIdentifier": null,
         "typeStr": "pyspark.sql.connect.dataframe.DataFrame"
        }
       ],
       "dbfsResultPath": null,
       "isJsonSchema": true,
       "metadata": {
        "createTempViewForImplicitDf": true,
        "dataframeName": "_sqldf",
        "executionCount": 45
       },
       "overflow": false,
       "plotOptions": {
        "customPlotOptions": {},
        "displayType": "table",
        "pivotAggregation": null,
        "pivotColumns": null,
        "xColumns": null,
        "yColumns": null
       },
       "removedWidgets": [],
       "schema": [
        {
         "metadata": "{}",
         "name": "format",
         "type": "\"string\""
        },
        {
         "metadata": "{}",
         "name": "id",
         "type": "\"string\""
        },
        {
         "metadata": "{}",
         "name": "name",
         "type": "\"string\""
        },
        {
         "metadata": "{}",
         "name": "description",
         "type": "\"string\""
        },
        {
         "metadata": "{}",
         "name": "location",
         "type": "\"string\""
        },
        {
         "metadata": "{}",
         "name": "createdAt",
         "type": "\"timestamp\""
        },
        {
         "metadata": "{}",
         "name": "lastModified",
         "type": "\"timestamp\""
        },
        {
         "metadata": "{}",
         "name": "partitionColumns",
         "type": "{\"containsNull\":true,\"elementType\":\"string\",\"type\":\"array\"}"
        },
        {
         "metadata": "{}",
         "name": "clusteringColumns",
         "type": "{\"containsNull\":true,\"elementType\":\"string\",\"type\":\"array\"}"
        },
        {
         "metadata": "{}",
         "name": "numFiles",
         "type": "\"long\""
        },
        {
         "metadata": "{}",
         "name": "sizeInBytes",
         "type": "\"long\""
        },
        {
         "metadata": "{}",
         "name": "properties",
         "type": "{\"keyType\":\"string\",\"type\":\"map\",\"valueContainsNull\":true,\"valueType\":\"string\"}"
        },
        {
         "metadata": "{}",
         "name": "minReaderVersion",
         "type": "\"integer\""
        },
        {
         "metadata": "{}",
         "name": "minWriterVersion",
         "type": "\"integer\""
        },
        {
         "metadata": "{}",
         "name": "tableFeatures",
         "type": "{\"containsNull\":true,\"elementType\":\"string\",\"type\":\"array\"}"
        },
        {
         "metadata": "{}",
         "name": "statistics",
         "type": "{\"keyType\":\"string\",\"type\":\"map\",\"valueContainsNull\":true,\"valueType\":\"long\"}"
        },
        {
         "metadata": "{}",
         "name": "clusterByAuto",
         "type": "\"boolean\""
        }
       ],
       "type": "table"
      }
     },
     "output_type": "display_data"
    }
   ],
   "source": [
    "%sql\n",
    "describe detail psa.bronze.logs_sistema"
   ]
  }
 ],
 "metadata": {
  "application/vnd.databricks.v1+notebook": {
   "computePreferences": null,
   "dashboards": [],
   "environmentMetadata": {
    "base_environment": "",
    "environment_version": "4"
   },
   "inputWidgetPreferences": null,
   "language": "python",
   "notebookMetadata": {
    "mostRecentlyExecutedCommandWithImplicitDF": {
     "commandId": 7392041806137396,
     "dataframes": [
      "_sqldf"
     ]
    },
    "pythonIndentUnit": 4
   },
   "notebookName": "bronze_logs_sistema",
   "widgets": {}
  },
  "language_info": {
   "name": "python"
  }
 },
 "nbformat": 4,
 "nbformat_minor": 0
}